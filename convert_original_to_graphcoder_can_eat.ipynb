{
 "cells": [
  {
   "cell_type": "code",
   "execution_count": 2,
   "metadata": {},
   "outputs": [
    {
     "name": "stdout",
     "output_type": "stream",
     "text": [
      "x.dtype: torch.bfloat16\n",
      "tensor([[-1.,  1.],\n",
      "        [-1.,  1.]], dtype=torch.bfloat16, grad_fn=<NativeLayerNormBackward0>)\n"
     ]
    }
   ],
   "source": [
    "import torch\n",
    "import torch.nn as nn\n",
    "\n",
    "class LayerNorm(nn.LayerNorm):\n",
    "    \"\"\"Subclass torch's LayerNorm to handle fp16.\"\"\"\n",
    "\n",
    "    def forward(self, x: torch.Tensor, mask=None):\n",
    "        orig_type = x.dtype\n",
    "        # x = x.float()\n",
    "        # x = x.type(torch.float)\n",
    "        print(\"x.dtype:\", x.dtype)\n",
    "        ret = super().forward(x)\n",
    "        return ret.type(orig_type)\n",
    "\n",
    "layer_norm = nn.LayerNorm(2)\n",
    "x = torch.tensor([[1, 2], [3, 4]], dtype=torch.bfloat16)\n",
    "print(\"x.dtype:\", x.dtype)\n",
    "print(layer_norm(x))\n"
   ]
  }
 ],
 "metadata": {
  "kernelspec": {
   "display_name": "graphgpt",
   "language": "python",
   "name": "python3"
  },
  "language_info": {
   "codemirror_mode": {
    "name": "ipython",
    "version": 3
   },
   "file_extension": ".py",
   "mimetype": "text/x-python",
   "name": "python",
   "nbconvert_exporter": "python",
   "pygments_lexer": "ipython3",
   "version": "3.9.21"
  }
 },
 "nbformat": 4,
 "nbformat_minor": 2
}
