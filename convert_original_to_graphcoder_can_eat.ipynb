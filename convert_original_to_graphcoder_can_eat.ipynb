{
 "cells": [
  {
   "cell_type": "code",
   "execution_count": 1,
   "metadata": {},
   "outputs": [],
   "source": [
    "import json\n",
    "import pandas as pd"
   ]
  },
  {
   "cell_type": "code",
   "execution_count": 8,
   "metadata": {},
   "outputs": [
    {
     "name": "stdout",
     "output_type": "stream",
     "text": [
      "元素已成功删除\n"
     ]
    }
   ],
   "source": [
    "# 读取 JSON 文件\n",
    "with open('/data/LPJ/ICML25/graphgpt_dataset/gpt_dataset_construction/rtlcoder_gpt4_v1/import_for_graphgpt/conversations.json', 'r', encoding='utf-8') as file:\n",
    "    data = json.load(file)\n",
    "\n",
    "# 指定要删除的元素位置\n",
    "index_to_remove = 321  # 例如，删除索引为 2 的元素\n",
    "\n",
    "# 检查索引是否在范围内\n",
    "if 0 <= index_to_remove < len(data):\n",
    "    data.pop(index_to_remove)\n",
    "else:\n",
    "    print(\"索引超出范围\")\n",
    "\n",
    "# 将修改后的数据写回 JSON 文件\n",
    "with open('/data/LPJ/ICML25/graphgpt_dataset/gpt_dataset_construction/rtlcoder_gpt4_v1/import_for_graphgpt/conversations.json', 'w', encoding='utf-8') as file:\n",
    "    json.dump(data, file, ensure_ascii=False, indent=4)\n",
    "\n",
    "print(\"元素已成功删除\")"
   ]
  },
  {
   "cell_type": "code",
   "execution_count": 9,
   "metadata": {},
   "outputs": [],
   "source": [
    "conversation_json_path = \"/data/LPJ/ICML25/graphgpt_dataset/gpt_dataset_construction/rtlcoder_gpt4_v1/import_for_graphgpt/conversations.json\"\n",
    "graph_json_path = '/data/LPJ/ICML25/graphgpt_dataset/gpt_dataset_construction/rtlcoder_gpt4_v1/import_for_graphgpt/graph.jsonl'\n",
    "# conversations = pd.read_json(conversation_json_path, lines=True)\n",
    "# cpnversations = json.load(open(conversation_json_path, \"r\"))\n",
    "graph = pd.read_json(graph_json_path, lines=True)\n",
    "conversation = json.load(open(conversation_json_path, \"r\"))"
   ]
  },
  {
   "cell_type": "code",
   "execution_count": 11,
   "metadata": {},
   "outputs": [
    {
     "name": "stdout",
     "output_type": "stream",
     "text": [
      "[{'id': 0, 'content': 'clk', 'type': 'input port'}, {'id': 1, 'content': 'reset', 'type': 'input port'}, {'id': 2, 'content': 'ena', 'type': 'input port'}, {'id': 3, 'content': 'q', 'type': 'output port'}, {'id': 4, 'content': 'counter', 'type': 'submodule'}]\n",
      "Given a submodules interconnection graph: \n",
      "<graph>\n",
      ", \n",
      "nodes: [{'id': 0, 'content': 'clk', 'type': 'input port'}, {'id': 1, 'content': 'reset', 'type': 'input port'}, {'id': 2, 'content': 'ena', 'type': 'input port'}, {'id': 3, 'content': 'q', 'type': 'output port'}, {'id': 4, 'content': 'counter', 'type': 'submodule'}], \n",
      "edge_attrs: [], \n",
      "connectivity: [[0, 2, 1, 4], [4, 4, 4, 3]]\n",
      ", Design a 4-digit binary up-counter using Verilog. The module should have a clock input and a reset input. The output should be a 16-bit binary number that counts up from 0 to 15,535. In addition, the module should include a synchronous enable input that allows the user to increment the counter by 2 instead of 1. The counter should be implemented using a finite state machine.\n"
     ]
    }
   ],
   "source": [
    "print(graph.iloc[322]['nodes'])\n",
    "print(conversation[322]['conversations'][0]['value'])"
   ]
  },
  {
   "cell_type": "code",
   "execution_count": null,
   "metadata": {},
   "outputs": [],
   "source": [
    "conversation_json_path = \"/data/LPJ/ICML25/graphgpt_dataset/test_pretraining_dataset/embedding_text/conversations.json\"\n",
    "graph_json_path = '/data/LPJ/ICML25/graphgpt_dataset/test_pretraining_dataset/embedding_text/graph.jsonl'\n",
    "# conversations = pd.read_json(conversation_json_path, lines=True)\n",
    "# cpnversations = json.load(open(conversation_json_path, \"r\"))\n",
    "graph = pd.read_json(graph_json_path, lines=True)\n",
    "conversation = json.load(open(conversation_json_path, \"r\"))"
   ]
  },
  {
   "cell_type": "code",
   "execution_count": 13,
   "metadata": {},
   "outputs": [
    {
     "data": {
      "text/plain": [
       "nodes           [{'id': 0, 'content': 'data_a'}, {'id': 1, 'co...\n",
       "edge_attrs                                                     []\n",
       "connectivity                                     [[1, 4], [5, 4]]\n",
       "Name: 0, dtype: object"
      ]
     },
     "execution_count": 13,
     "metadata": {},
     "output_type": "execute_result"
    }
   ],
   "source": [
    "graph.iloc[0:2].iloc[0]"
   ]
  },
  {
   "cell_type": "code",
   "execution_count": 15,
   "metadata": {},
   "outputs": [
    {
     "name": "stdout",
     "output_type": "stream",
     "text": [
      "(0, nodes           [{'id': 0, 'content': 'data_a'}, {'id': 1, 'co...\n",
      "edge_attrs                                                     []\n",
      "connectivity                                     [[1, 4], [5, 4]]\n",
      "Name: 0, dtype: object)\n"
     ]
    }
   ],
   "source": [
    "for item in graph.iterrows():\n",
    "    print(item)\n",
    "    break"
   ]
  },
  {
   "cell_type": "code",
   "execution_count": 3,
   "metadata": {},
   "outputs": [
    {
     "data": {
      "text/html": [
       "<div>\n",
       "<style scoped>\n",
       "    .dataframe tbody tr th:only-of-type {\n",
       "        vertical-align: middle;\n",
       "    }\n",
       "\n",
       "    .dataframe tbody tr th {\n",
       "        vertical-align: top;\n",
       "    }\n",
       "\n",
       "    .dataframe thead th {\n",
       "        text-align: right;\n",
       "    }\n",
       "</style>\n",
       "<table border=\"1\" class=\"dataframe\">\n",
       "  <thead>\n",
       "    <tr style=\"text-align: right;\">\n",
       "      <th></th>\n",
       "      <th>nodes</th>\n",
       "      <th>edge_attrs</th>\n",
       "      <th>connectivity</th>\n",
       "    </tr>\n",
       "  </thead>\n",
       "  <tbody>\n",
       "    <tr>\n",
       "      <th>0</th>\n",
       "      <td>[{'id': 0, 'content': 'data_a'}, {'id': 1, 'co...</td>\n",
       "      <td>[]</td>\n",
       "      <td>[[1, 4], [5, 4]]</td>\n",
       "    </tr>\n",
       "    <tr>\n",
       "      <th>1</th>\n",
       "      <td>[{'id': 0, 'content': 'data_a'}, {'id': 1, 'co...</td>\n",
       "      <td>[]</td>\n",
       "      <td>[[4, 4, 4], [0, 4, 1]]</td>\n",
       "    </tr>\n",
       "    <tr>\n",
       "      <th>2</th>\n",
       "      <td>[{'id': 0, 'content': 'data_a'}, {'id': 1, 'co...</td>\n",
       "      <td>[]</td>\n",
       "      <td>[[2, 1, 0, 1], [4, 0, 5, 3]]</td>\n",
       "    </tr>\n",
       "    <tr>\n",
       "      <th>3</th>\n",
       "      <td>[{'id': 0, 'content': 'data_a'}, {'id': 1, 'co...</td>\n",
       "      <td>[]</td>\n",
       "      <td>[[2, 3, 3, 0, 3], [4, 2, 2, 3, 2]]</td>\n",
       "    </tr>\n",
       "    <tr>\n",
       "      <th>4</th>\n",
       "      <td>[{'id': 0, 'content': 'vpb'}, {'id': 1, 'conte...</td>\n",
       "      <td>[]</td>\n",
       "      <td>[[3, 3], [1, 5]]</td>\n",
       "    </tr>\n",
       "    <tr>\n",
       "      <th>...</th>\n",
       "      <td>...</td>\n",
       "      <td>...</td>\n",
       "      <td>...</td>\n",
       "    </tr>\n",
       "    <tr>\n",
       "      <th>134995</th>\n",
       "      <td>[{'id': 0, 'content': 'INPUT_2'}, {'id': 1, 'c...</td>\n",
       "      <td>[]</td>\n",
       "      <td>[[8, 11, 9, 0, 5, 4, 4, 2], [0, 10, 11, 11, 12...</td>\n",
       "    </tr>\n",
       "    <tr>\n",
       "      <th>134996</th>\n",
       "      <td>[{'id': 0, 'content': 'INPUT_2'}, {'id': 1, 'c...</td>\n",
       "      <td>[]</td>\n",
       "      <td>[[2, 8, 10, 0, 1, 4, 12, 0, 9], [3, 6, 7, 12, ...</td>\n",
       "    </tr>\n",
       "    <tr>\n",
       "      <th>134997</th>\n",
       "      <td>[{'id': 0, 'content': 'INPUT_2'}, {'id': 1, 'c...</td>\n",
       "      <td>[]</td>\n",
       "      <td>[[0, 4, 9, 1, 4, 0, 1, 12, 4, 1], [4, 2, 4, 9,...</td>\n",
       "    </tr>\n",
       "    <tr>\n",
       "      <th>134998</th>\n",
       "      <td>[{'id': 0, 'content': 'INPUT_2'}, {'id': 1, 'c...</td>\n",
       "      <td>[]</td>\n",
       "      <td>[[5, 1, 5, 9, 3, 12, 6, 9, 6, 7, 6], [2, 3, 11...</td>\n",
       "    </tr>\n",
       "    <tr>\n",
       "      <th>134999</th>\n",
       "      <td>[{'id': 0, 'content': 'INPUT_2'}, {'id': 1, 'c...</td>\n",
       "      <td>[]</td>\n",
       "      <td>[[12, 11, 0, 6, 10, 2, 12, 5, 1, 11, 8, 11], [...</td>\n",
       "    </tr>\n",
       "  </tbody>\n",
       "</table>\n",
       "<p>135000 rows × 3 columns</p>\n",
       "</div>"
      ],
      "text/plain": [
       "                                                    nodes edge_attrs  \\\n",
       "0       [{'id': 0, 'content': 'data_a'}, {'id': 1, 'co...         []   \n",
       "1       [{'id': 0, 'content': 'data_a'}, {'id': 1, 'co...         []   \n",
       "2       [{'id': 0, 'content': 'data_a'}, {'id': 1, 'co...         []   \n",
       "3       [{'id': 0, 'content': 'data_a'}, {'id': 1, 'co...         []   \n",
       "4       [{'id': 0, 'content': 'vpb'}, {'id': 1, 'conte...         []   \n",
       "...                                                   ...        ...   \n",
       "134995  [{'id': 0, 'content': 'INPUT_2'}, {'id': 1, 'c...         []   \n",
       "134996  [{'id': 0, 'content': 'INPUT_2'}, {'id': 1, 'c...         []   \n",
       "134997  [{'id': 0, 'content': 'INPUT_2'}, {'id': 1, 'c...         []   \n",
       "134998  [{'id': 0, 'content': 'INPUT_2'}, {'id': 1, 'c...         []   \n",
       "134999  [{'id': 0, 'content': 'INPUT_2'}, {'id': 1, 'c...         []   \n",
       "\n",
       "                                             connectivity  \n",
       "0                                        [[1, 4], [5, 4]]  \n",
       "1                                  [[4, 4, 4], [0, 4, 1]]  \n",
       "2                            [[2, 1, 0, 1], [4, 0, 5, 3]]  \n",
       "3                      [[2, 3, 3, 0, 3], [4, 2, 2, 3, 2]]  \n",
       "4                                        [[3, 3], [1, 5]]  \n",
       "...                                                   ...  \n",
       "134995  [[8, 11, 9, 0, 5, 4, 4, 2], [0, 10, 11, 11, 12...  \n",
       "134996  [[2, 8, 10, 0, 1, 4, 12, 0, 9], [3, 6, 7, 12, ...  \n",
       "134997  [[0, 4, 9, 1, 4, 0, 1, 12, 4, 1], [4, 2, 4, 9,...  \n",
       "134998  [[5, 1, 5, 9, 3, 12, 6, 9, 6, 7, 6], [2, 3, 11...  \n",
       "134999  [[12, 11, 0, 6, 10, 2, 12, 5, 1, 11, 8, 11], [...  \n",
       "\n",
       "[135000 rows x 3 columns]"
      ]
     },
     "execution_count": 3,
     "metadata": {},
     "output_type": "execute_result"
    }
   ],
   "source": [
    "graph"
   ]
  },
  {
   "cell_type": "code",
   "execution_count": 6,
   "metadata": {},
   "outputs": [
    {
     "data": {
      "text/plain": [
       "[[1, 4], [5, 4]]"
      ]
     },
     "execution_count": 6,
     "metadata": {},
     "output_type": "execute_result"
    }
   ],
   "source": [
    "graph.iloc[0]['connectivity']"
   ]
  }
 ],
 "metadata": {
  "kernelspec": {
   "display_name": "graphgpt",
   "language": "python",
   "name": "python3"
  },
  "language_info": {
   "codemirror_mode": {
    "name": "ipython",
    "version": 3
   },
   "file_extension": ".py",
   "mimetype": "text/x-python",
   "name": "python",
   "nbconvert_exporter": "python",
   "pygments_lexer": "ipython3",
   "version": "3.9.21"
  }
 },
 "nbformat": 4,
 "nbformat_minor": 2
}
