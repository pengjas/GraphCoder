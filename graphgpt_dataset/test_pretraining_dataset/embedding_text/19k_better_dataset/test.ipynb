{
 "cells": [
  {
   "cell_type": "code",
   "execution_count": 1,
   "metadata": {},
   "outputs": [],
   "source": [
    "import json\n",
    "\n",
    "import pandas as pd"
   ]
  },
  {
   "cell_type": "code",
   "execution_count": 2,
   "metadata": {},
   "outputs": [],
   "source": [
    "conv_path = './conversations_5k.json'\n",
    "graph_path = './graph_5k.jsonl'\n",
    "with open(conv_path, 'r') as f:\n",
    "    conv = json.load(f)\n",
    "graph = pd.read_json(graph_path, lines=True)"
   ]
  },
  {
   "cell_type": "code",
   "execution_count": 3,
   "metadata": {},
   "outputs": [
    {
     "data": {
      "text/plain": [
       "\"Given a submodules interconnection graph: \\n<graph>\\n, \\nnodes: [{'id': 0, 'content': 'data_a'}, {'id': 1, 'content': 'iSAOUT'}, {'id': 2, 'content': 'out8'}, {'id': 3, 'content': 'led_0'}, {'id': 4, 'content': 'op1'}, {'id': 5, 'content': 'ripple_adder_32'}], \\nedge_attrs: [], \\nconnectivity: [[2, 3, 3, 0, 3], [4, 2, 2, 3, 2]]\\n, please find which nodes point to led_0 node, and led_0 node points to which nodes\""
      ]
     },
     "execution_count": 3,
     "metadata": {},
     "output_type": "execute_result"
    }
   ],
   "source": [
    "conv[0]['conversations'][0]['value']"
   ]
  }
 ],
 "metadata": {
  "kernelspec": {
   "display_name": "graphgpt",
   "language": "python",
   "name": "python3"
  },
  "language_info": {
   "codemirror_mode": {
    "name": "ipython",
    "version": 3
   },
   "file_extension": ".py",
   "mimetype": "text/x-python",
   "name": "python",
   "nbconvert_exporter": "python",
   "pygments_lexer": "ipython3",
   "version": "3.9.21"
  }
 },
 "nbformat": 4,
 "nbformat_minor": 2
}
