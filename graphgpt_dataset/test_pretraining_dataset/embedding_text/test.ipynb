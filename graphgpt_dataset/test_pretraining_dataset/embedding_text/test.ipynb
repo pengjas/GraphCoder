{
 "cells": [
  {
   "cell_type": "code",
   "execution_count": 1,
   "metadata": {},
   "outputs": [],
   "source": [
    "import json\n",
    "import pandas as pd"
   ]
  },
  {
   "cell_type": "code",
   "execution_count": 2,
   "metadata": {},
   "outputs": [],
   "source": [
    "conv_path = '/data/LPJ/ICML25/GraphCoder/graphgpt_dataset/test_pretraining_dataset/embedding_text/10k_conversations.json'\n",
    "graph_path = '/data/LPJ/ICML25/GraphCoder/graphgpt_dataset/test_pretraining_dataset/embedding_text/10k_graph.jsonl'\n",
    "with open(conv_path) as f:\n",
    "    convs = json.load(f)\n",
    "\n",
    "graph = pd.read_json(graph_path, lines=True)"
   ]
  },
  {
   "cell_type": "code",
   "execution_count": 7,
   "metadata": {},
   "outputs": [
    {
     "name": "stdout",
     "output_type": "stream",
     "text": [
      "Given a submodules interconnection graph: \n",
      "<graph>\n",
      ", \n",
      "nodes: [{'id': 0, 'content': 'data_a'}, {'id': 1, 'content': 'iSAOUT'}, {'id': 2, 'content': 'out8'}, {'id': 3, 'content': 'led_0'}, {'id': 4, 'content': 'op1'}, {'id': 5, 'content': 'ripple_adder_32'}], \n",
      "edge_attrs: [], \n",
      "connectivity: [[1, 4], [5, 4]]\n",
      ", please find which nodes point to ripple_adder_32 node, and ripple_adder_32 node points to which nodes\n"
     ]
    }
   ],
   "source": [
    "print(convs[0]['conversations'][0]['value'])"
   ]
  },
  {
   "cell_type": "code",
   "execution_count": 8,
   "metadata": {},
   "outputs": [],
   "source": [
    "graph_path = '/data/LPJ/ICML25/GraphCoder/graphgpt_dataset/gpt_dataset_construction/less30_acl25_gpt4/with_module_head/graph.jsonl'\n",
    "graph = pd.read_json(graph_path, lines=True)"
   ]
  },
  {
   "cell_type": "code",
   "execution_count": 10,
   "metadata": {},
   "outputs": [
    {
     "data": {
      "text/plain": [
       "[{'id': 0, 'content': 'CLK_in', 'type': 'input port'},\n",
       " {'id': 1, 'content': 'RST', 'type': 'input port'},\n",
       " {'id': 2, 'content': 'CLK_15', 'type': 'output port'},\n",
       " {'id': 3, 'content': 'CLK_3', 'type': 'output port'},\n",
       " {'id': 4, 'content': 'div_15', 'type': 'submodule'},\n",
       " {'id': 5, 'content': 'div_3', 'type': 'submodule'}]"
      ]
     },
     "execution_count": 10,
     "metadata": {},
     "output_type": "execute_result"
    }
   ],
   "source": [
    "graph.iloc[0]['nodes']"
   ]
  }
 ],
 "metadata": {
  "kernelspec": {
   "display_name": "graphgpt",
   "language": "python",
   "name": "python3"
  },
  "language_info": {
   "codemirror_mode": {
    "name": "ipython",
    "version": 3
   },
   "file_extension": ".py",
   "mimetype": "text/x-python",
   "name": "python",
   "nbconvert_exporter": "python",
   "pygments_lexer": "ipython3",
   "version": "3.9.21"
  }
 },
 "nbformat": 4,
 "nbformat_minor": 2
}
