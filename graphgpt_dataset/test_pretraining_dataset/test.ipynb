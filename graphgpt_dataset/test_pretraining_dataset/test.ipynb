{
 "cells": [
  {
   "cell_type": "code",
   "execution_count": 1,
   "metadata": {},
   "outputs": [],
   "source": [
    "import pandas as pd\n",
    "import json\n",
    "\n",
    "# 读取 JSONL 文件\n",
    "# df_text = pd.read_json('pretraining_text.jsonl', lines=True)\n",
    "# df_mm = pd.read_json('pretraining_mm.jsonl', lines=True)\n",
    "\n",
    "# # 显示 DataFrame\n",
    "# print(df)"
   ]
  },
  {
   "cell_type": "code",
   "execution_count": 2,
   "metadata": {},
   "outputs": [],
   "source": [
    "conv_path = '/data/LPJ/ICML25/GraphCoder/graphgpt_dataset/test_pretraining_dataset/embedding_text/conversations.json'\n",
    "graph_path = '/data/LPJ/ICML25/GraphCoder/graphgpt_dataset/test_pretraining_dataset/embedding_text/graph.jsonl'\n",
    "\n",
    "with open(conv_path, 'r') as f:\n",
    "    conv = json.load(f)\n",
    "\n",
    "graph = pd.read_json(graph_path, lines=True) "
   ]
  },
  {
   "cell_type": "code",
   "execution_count": 3,
   "metadata": {},
   "outputs": [
    {
     "data": {
      "text/plain": [
       "'iSAOUT point to ripple_adder_32, ripple_adder_32 point to none.'"
      ]
     },
     "execution_count": 3,
     "metadata": {},
     "output_type": "execute_result"
    }
   ],
   "source": [
    "conv[0]['conversations'][1]['value']"
   ]
  },
  {
   "cell_type": "code",
   "execution_count": 4,
   "metadata": {},
   "outputs": [
    {
     "data": {
      "text/plain": [
       "135000"
      ]
     },
     "execution_count": 4,
     "metadata": {},
     "output_type": "execute_result"
    }
   ],
   "source": [
    "len(conv)"
   ]
  },
  {
   "cell_type": "code",
   "execution_count": 5,
   "metadata": {},
   "outputs": [
    {
     "name": "stderr",
     "output_type": "stream",
     "text": [
      "  0%|          | 0/135000 [00:00<?, ?it/s]"
     ]
    },
    {
     "name": "stderr",
     "output_type": "stream",
     "text": [
      "100%|██████████| 135000/135000 [00:00<00:00, 1300637.05it/s]\n"
     ]
    }
   ],
   "source": [
    "from tqdm import tqdm\n",
    "\n",
    "none_cnt = 0\n",
    "no_node = 0\n",
    "indices_to_drop = []\n",
    "\n",
    "for i in tqdm(range(len(conv))):\n",
    "    ans = conv[i]['conversations'][1]['value']\n",
    "    # print(i)\n",
    "    if \"none\" in ans:\n",
    "        # none_cnt += 1\n",
    "    \n",
    "        # if none_cnt < 100000:\n",
    "        indices_to_drop.append(i)\n",
    "    \n",
    "    if \"No nodes\" in ans:\n",
    "        # no_node += 1\n",
    "    \n",
    "        # if no_node < 100000:\n",
    "        indices_to_drop.append(i)\n"
   ]
  },
  {
   "cell_type": "code",
   "execution_count": 6,
   "metadata": {},
   "outputs": [
    {
     "name": "stderr",
     "output_type": "stream",
     "text": [
      "100%|██████████| 108173/108173 [23:06<00:00, 78.00it/s] \n"
     ]
    }
   ],
   "source": [
    "\n",
    "# Drop indices outside the loop to avoid modifying the list while iterating\n",
    "for i in tqdm(sorted(set(indices_to_drop), reverse=True)):\n",
    "    del conv[i]\n",
    "    graph.drop(index=i, inplace=True)\n",
    "        \n",
    "    "
   ]
  },
  {
   "cell_type": "code",
   "execution_count": 7,
   "metadata": {},
   "outputs": [
    {
     "data": {
      "text/plain": [
       "26827"
      ]
     },
     "execution_count": 7,
     "metadata": {},
     "output_type": "execute_result"
    }
   ],
   "source": [
    "len(conv)"
   ]
  },
  {
   "cell_type": "code",
   "execution_count": 8,
   "metadata": {},
   "outputs": [],
   "source": [
    "new_conv_path = '/data/LPJ/ICML25/GraphCoder/graphgpt_dataset/test_pretraining_dataset/embedding_text/20k_balanced_dataset/conversations.json'\n",
    "new_graph_path = '/data/LPJ/ICML25/GraphCoder/graphgpt_dataset/test_pretraining_dataset/embedding_text/20k_balanced_dataset/graph.jsonl'"
   ]
  },
  {
   "cell_type": "code",
   "execution_count": 9,
   "metadata": {},
   "outputs": [],
   "source": [
    "with open(new_conv_path, 'w') as f:\n",
    "    json.dump(conv, f)\n",
    "\n",
    "graph.to_json(new_graph_path, orient='records', lines=True)"
   ]
  },
  {
   "cell_type": "code",
   "execution_count": 10,
   "metadata": {},
   "outputs": [],
   "source": [
    "with open(new_conv_path, 'r') as f:\n",
    "    conv = json.load(f)\n",
    "\n",
    "graph = pd.read_json(new_graph_path, lines=True)\n"
   ]
  },
  {
   "cell_type": "code",
   "execution_count": 12,
   "metadata": {},
   "outputs": [
    {
     "data": {
      "text/plain": [
       "\"Given a submodules interconnection graph: \\n<graph>\\n, \\nnodes: [{'id': 0, 'content': 'pixel_data'}, {'id': 1, 'content': 'data_s1'}, {'id': 2, 'content': 'led_3'}, {'id': 3, 'content': 'p1'}, {'id': 4, 'content': 'om'}, {'id': 5, 'content': 'encoder1'}], \\nedge_attrs: [], \\nconnectivity: [[1, 5, 3, 5, 4], [3, 4, 3, 2, 5]]\\n, please find which nodes point to encoder1 node, and encoder1 node points to which nodes\""
      ]
     },
     "execution_count": 12,
     "metadata": {},
     "output_type": "execute_result"
    }
   ],
   "source": [
    "conv[100]['conversations'][0]['value']"
   ]
  },
  {
   "cell_type": "code",
   "execution_count": 14,
   "metadata": {},
   "outputs": [
    {
     "data": {
      "text/plain": [
       "[{'id': 0, 'content': 'pixel_data'},\n",
       " {'id': 1, 'content': 'data_s1'},\n",
       " {'id': 2, 'content': 'led_3'},\n",
       " {'id': 3, 'content': 'p1'},\n",
       " {'id': 4, 'content': 'om'},\n",
       " {'id': 5, 'content': 'encoder1'}]"
      ]
     },
     "execution_count": 14,
     "metadata": {},
     "output_type": "execute_result"
    }
   ],
   "source": [
    "graph.iloc[100]['nodes']"
   ]
  },
  {
   "cell_type": "code",
   "execution_count": 15,
   "metadata": {},
   "outputs": [],
   "source": [
    "conv = conv[:5000]\n",
    "graph = graph[:5000]"
   ]
  },
  {
   "cell_type": "code",
   "execution_count": 17,
   "metadata": {},
   "outputs": [],
   "source": [
    "new_conv_path = '/data/LPJ/ICML25/GraphCoder/graphgpt_dataset/test_pretraining_dataset/embedding_text/20k_balanced_dataset/5k_conversations.json'\n",
    "new_graph_path = '/data/LPJ/ICML25/GraphCoder/graphgpt_dataset/test_pretraining_dataset/embedding_text/20k_balanced_dataset/5k_graph.jsonl' \n",
    "with open(new_conv_path, 'w') as f:\n",
    "    json.dump(conv, f)\n",
    "\n",
    "graph.to_json(new_graph_path, orient='records', lines=True)"
   ]
  },
  {
   "cell_type": "code",
   "execution_count": 2,
   "metadata": {},
   "outputs": [],
   "source": [
    "conv_path = '/data/LPJ/ICML25/GraphCoder/graphgpt_dataset/test_pretraining_dataset/embedding_text/conversations.json'\n",
    "graph_path = '/data/LPJ/ICML25/GraphCoder/graphgpt_dataset/test_pretraining_dataset/embedding_text/graph.jsonl'\n",
    "with open(conv_path, 'r') as f:\n",
    "    conv = json.load(f)\n",
    "\n",
    "graph = pd.read_json(graph_path, lines=True)"
   ]
  },
  {
   "cell_type": "code",
   "execution_count": 4,
   "metadata": {},
   "outputs": [],
   "source": [
    "new_conv_path = '/data/LPJ/ICML25/GraphCoder/graphgpt_dataset/test_pretraining_dataset/embedding_text/10k_conversations.json'\n",
    "new_graph_path = '/data/LPJ/ICML25/GraphCoder/graphgpt_dataset/test_pretraining_dataset/embedding_text/10k_graph.jsonl'"
   ]
  },
  {
   "cell_type": "code",
   "execution_count": 5,
   "metadata": {},
   "outputs": [],
   "source": [
    "conv = conv[:10000]\n",
    "graph = graph[:10000]"
   ]
  },
  {
   "cell_type": "code",
   "execution_count": 7,
   "metadata": {},
   "outputs": [],
   "source": [
    "with open(new_conv_path, 'w') as f:\n",
    "    json.dump(conv, f)\n",
    "\n",
    "graph.to_json(new_graph_path, orient='records', lines=True)"
   ]
  },
  {
   "cell_type": "code",
   "execution_count": 8,
   "metadata": {},
   "outputs": [],
   "source": [
    "with open(new_conv_path, 'r') as f:\n",
    "    conv = json.load(f)\n",
    "\n",
    "graph = pd.read_json(new_graph_path, lines=True)"
   ]
  },
  {
   "cell_type": "code",
   "execution_count": 13,
   "metadata": {},
   "outputs": [
    {
     "data": {
      "text/plain": [
       "\"Given a submodules interconnection graph: \\n<graph>\\n, \\nnodes: [{'id': 0, 'content': 'ram_douta'}, {'id': 1, 'content': 'full_adder_sum'}, {'id': 2, 'content': 'v64879c'}, {'id': 3, 'content': 'dp_h_sync'}, {'id': 4, 'content': 'bcd_converter_inst'}, {'id': 5, 'content': 'byte7'}], \\nedge_attrs: [], \\nconnectivity: [[1, 5, 4, 0, 5], [1, 5, 1, 0, 1]]\\n, please find which nodes point to ram_douta node, and ram_douta node points to which nodes\""
      ]
     },
     "execution_count": 13,
     "metadata": {},
     "output_type": "execute_result"
    }
   ],
   "source": [
    "conv[999]['conversations'][0]['value']"
   ]
  },
  {
   "cell_type": "code",
   "execution_count": 14,
   "metadata": {},
   "outputs": [
    {
     "data": {
      "text/plain": [
       "[{'id': 0, 'content': 'ram_douta'},\n",
       " {'id': 1, 'content': 'full_adder_sum'},\n",
       " {'id': 2, 'content': 'v64879c'},\n",
       " {'id': 3, 'content': 'dp_h_sync'},\n",
       " {'id': 4, 'content': 'bcd_converter_inst'},\n",
       " {'id': 5, 'content': 'byte7'}]"
      ]
     },
     "execution_count": 14,
     "metadata": {},
     "output_type": "execute_result"
    }
   ],
   "source": [
    "graph.iloc[999]['nodes']"
   ]
  },
  {
   "cell_type": "code",
   "execution_count": 2,
   "metadata": {},
   "outputs": [],
   "source": [
    "num_lines = len(df_text)"
   ]
  },
  {
   "cell_type": "code",
   "execution_count": 3,
   "metadata": {},
   "outputs": [],
   "source": [
    "template = \"Given a submodules interconnection graph: \\n<graph>\\n, \"\n",
    "# text_graph = '\\n{}\\n,'.format(graph)"
   ]
  },
  {
   "cell_type": "code",
   "execution_count": 4,
   "metadata": {},
   "outputs": [],
   "source": [
    "new_text = []\n",
    "for i in range(num_lines):\n",
    "# for i in range(3):\n",
    "    new_line = []\n",
    "    graph = \"nodes: {}, \\nedge_attrs: {}, \\nconnectivity: {}\".format(df_mm['nodes'][i], df_mm['edge_attrs'][i], df_mm['connectivity'][i])\n",
    "    text_graph = \"\\n{}\\n, \".format(graph)\n",
    "    human_instruction = template + text_graph + df_text['Instruction'][i]\n",
    "    human_instruction = {\"from\": \"human\", \"value\": human_instruction}\n",
    "    gpt_response = df_text['Response'][i]\n",
    "    gpt_response = {\"from\": \"gpt\", \"value\": gpt_response}\n",
    "    new_line.append(human_instruction)\n",
    "    new_line.append(gpt_response)\n",
    "    new_line = {\"conversations\": new_line}\n",
    "    new_text.append(new_line)\n",
    "    # print(json.dumps(new_line))\n"
   ]
  },
  {
   "cell_type": "code",
   "execution_count": 5,
   "metadata": {},
   "outputs": [],
   "source": [
    "with open('./embedding_text/conversations.json', 'w') as f:\n",
    "    # for line in new_text:\n",
    "    #     f.write(json.dumps(line) + '\\n')\n",
    "    json.dump(new_text, f)"
   ]
  },
  {
   "cell_type": "code",
   "execution_count": 6,
   "metadata": {},
   "outputs": [
    {
     "data": {
      "text/html": [
       "<div>\n",
       "<style scoped>\n",
       "    .dataframe tbody tr th:only-of-type {\n",
       "        vertical-align: middle;\n",
       "    }\n",
       "\n",
       "    .dataframe tbody tr th {\n",
       "        vertical-align: top;\n",
       "    }\n",
       "\n",
       "    .dataframe thead th {\n",
       "        text-align: right;\n",
       "    }\n",
       "</style>\n",
       "<table border=\"1\" class=\"dataframe\">\n",
       "  <thead>\n",
       "    <tr style=\"text-align: right;\">\n",
       "      <th></th>\n",
       "      <th>nodes</th>\n",
       "      <th>edge_attrs</th>\n",
       "      <th>connectivity</th>\n",
       "    </tr>\n",
       "  </thead>\n",
       "  <tbody>\n",
       "    <tr>\n",
       "      <th>0</th>\n",
       "      <td>[{'id': 0, 'content': 'data_a'}, {'id': 1, 'co...</td>\n",
       "      <td>[]</td>\n",
       "      <td>[[1, 4], [5, 4]]</td>\n",
       "    </tr>\n",
       "    <tr>\n",
       "      <th>1</th>\n",
       "      <td>[{'id': 0, 'content': 'data_a'}, {'id': 1, 'co...</td>\n",
       "      <td>[]</td>\n",
       "      <td>[[4, 4, 4], [0, 4, 1]]</td>\n",
       "    </tr>\n",
       "    <tr>\n",
       "      <th>2</th>\n",
       "      <td>[{'id': 0, 'content': 'data_a'}, {'id': 1, 'co...</td>\n",
       "      <td>[]</td>\n",
       "      <td>[[2, 1, 0, 1], [4, 0, 5, 3]]</td>\n",
       "    </tr>\n",
       "    <tr>\n",
       "      <th>3</th>\n",
       "      <td>[{'id': 0, 'content': 'data_a'}, {'id': 1, 'co...</td>\n",
       "      <td>[]</td>\n",
       "      <td>[[2, 3, 3, 0, 3], [4, 2, 2, 3, 2]]</td>\n",
       "    </tr>\n",
       "    <tr>\n",
       "      <th>4</th>\n",
       "      <td>[{'id': 0, 'content': 'vpb'}, {'id': 1, 'conte...</td>\n",
       "      <td>[]</td>\n",
       "      <td>[[3, 3], [1, 5]]</td>\n",
       "    </tr>\n",
       "    <tr>\n",
       "      <th>...</th>\n",
       "      <td>...</td>\n",
       "      <td>...</td>\n",
       "      <td>...</td>\n",
       "    </tr>\n",
       "    <tr>\n",
       "      <th>134995</th>\n",
       "      <td>[{'id': 0, 'content': 'INPUT_2'}, {'id': 1, 'c...</td>\n",
       "      <td>[]</td>\n",
       "      <td>[[8, 11, 9, 0, 5, 4, 4, 2], [0, 10, 11, 11, 12...</td>\n",
       "    </tr>\n",
       "    <tr>\n",
       "      <th>134996</th>\n",
       "      <td>[{'id': 0, 'content': 'INPUT_2'}, {'id': 1, 'c...</td>\n",
       "      <td>[]</td>\n",
       "      <td>[[2, 8, 10, 0, 1, 4, 12, 0, 9], [3, 6, 7, 12, ...</td>\n",
       "    </tr>\n",
       "    <tr>\n",
       "      <th>134997</th>\n",
       "      <td>[{'id': 0, 'content': 'INPUT_2'}, {'id': 1, 'c...</td>\n",
       "      <td>[]</td>\n",
       "      <td>[[0, 4, 9, 1, 4, 0, 1, 12, 4, 1], [4, 2, 4, 9,...</td>\n",
       "    </tr>\n",
       "    <tr>\n",
       "      <th>134998</th>\n",
       "      <td>[{'id': 0, 'content': 'INPUT_2'}, {'id': 1, 'c...</td>\n",
       "      <td>[]</td>\n",
       "      <td>[[5, 1, 5, 9, 3, 12, 6, 9, 6, 7, 6], [2, 3, 11...</td>\n",
       "    </tr>\n",
       "    <tr>\n",
       "      <th>134999</th>\n",
       "      <td>[{'id': 0, 'content': 'INPUT_2'}, {'id': 1, 'c...</td>\n",
       "      <td>[]</td>\n",
       "      <td>[[12, 11, 0, 6, 10, 2, 12, 5, 1, 11, 8, 11], [...</td>\n",
       "    </tr>\n",
       "  </tbody>\n",
       "</table>\n",
       "<p>135000 rows × 3 columns</p>\n",
       "</div>"
      ],
      "text/plain": [
       "                                                    nodes edge_attrs  \\\n",
       "0       [{'id': 0, 'content': 'data_a'}, {'id': 1, 'co...         []   \n",
       "1       [{'id': 0, 'content': 'data_a'}, {'id': 1, 'co...         []   \n",
       "2       [{'id': 0, 'content': 'data_a'}, {'id': 1, 'co...         []   \n",
       "3       [{'id': 0, 'content': 'data_a'}, {'id': 1, 'co...         []   \n",
       "4       [{'id': 0, 'content': 'vpb'}, {'id': 1, 'conte...         []   \n",
       "...                                                   ...        ...   \n",
       "134995  [{'id': 0, 'content': 'INPUT_2'}, {'id': 1, 'c...         []   \n",
       "134996  [{'id': 0, 'content': 'INPUT_2'}, {'id': 1, 'c...         []   \n",
       "134997  [{'id': 0, 'content': 'INPUT_2'}, {'id': 1, 'c...         []   \n",
       "134998  [{'id': 0, 'content': 'INPUT_2'}, {'id': 1, 'c...         []   \n",
       "134999  [{'id': 0, 'content': 'INPUT_2'}, {'id': 1, 'c...         []   \n",
       "\n",
       "                                             connectivity  \n",
       "0                                        [[1, 4], [5, 4]]  \n",
       "1                                  [[4, 4, 4], [0, 4, 1]]  \n",
       "2                            [[2, 1, 0, 1], [4, 0, 5, 3]]  \n",
       "3                      [[2, 3, 3, 0, 3], [4, 2, 2, 3, 2]]  \n",
       "4                                        [[3, 3], [1, 5]]  \n",
       "...                                                   ...  \n",
       "134995  [[8, 11, 9, 0, 5, 4, 4, 2], [0, 10, 11, 11, 12...  \n",
       "134996  [[2, 8, 10, 0, 1, 4, 12, 0, 9], [3, 6, 7, 12, ...  \n",
       "134997  [[0, 4, 9, 1, 4, 0, 1, 12, 4, 1], [4, 2, 4, 9,...  \n",
       "134998  [[5, 1, 5, 9, 3, 12, 6, 9, 6, 7, 6], [2, 3, 11...  \n",
       "134999  [[12, 11, 0, 6, 10, 2, 12, 5, 1, 11, 8, 11], [...  \n",
       "\n",
       "[135000 rows x 3 columns]"
      ]
     },
     "execution_count": 6,
     "metadata": {},
     "output_type": "execute_result"
    }
   ],
   "source": [
    "new_graph_df = df_mm[['nodes', 'edge_attrs', 'connectivity']]\n",
    "new_graph_df\n",
    "new_graph_df.to_json('./embedding_text/graph.jsonl', orient='records', lines=True)"
   ]
  }
 ],
 "metadata": {
  "kernelspec": {
   "display_name": "graphgpt",
   "language": "python",
   "name": "python3"
  },
  "language_info": {
   "codemirror_mode": {
    "name": "ipython",
    "version": 3
   },
   "file_extension": ".py",
   "mimetype": "text/x-python",
   "name": "python",
   "nbconvert_exporter": "python",
   "pygments_lexer": "ipython3",
   "version": "3.9.21"
  }
 },
 "nbformat": 4,
 "nbformat_minor": 2
}
