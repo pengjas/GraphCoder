{
 "cells": [
  {
   "cell_type": "code",
   "execution_count": 4,
   "metadata": {},
   "outputs": [],
   "source": [
    "import pandas as pd\n",
    "import json"
   ]
  },
  {
   "cell_type": "code",
   "execution_count": 5,
   "metadata": {},
   "outputs": [],
   "source": [
    "conv_path = '/data/LPJ/ICML25/GraphCoder/graphgpt_dataset/less_acl25_480_eval/eval/conversations_30.json'\n",
    "graph_path = '/data/LPJ/ICML25/GraphCoder/graphgpt_dataset/less_acl25_480_eval/eval/graph_30.jsonl'\n"
   ]
  },
  {
   "cell_type": "code",
   "execution_count": 6,
   "metadata": {},
   "outputs": [],
   "source": [
    "with open(conv_path, 'r') as f:\n",
    "    conv = json.load(f)\n",
    "\n",
    "graph = pd.read_json(graph_path, lines=True)\n"
   ]
  },
  {
   "cell_type": "code",
   "execution_count": 9,
   "metadata": {},
   "outputs": [
    {
     "data": {
      "text/plain": [
       "{'conversations': [{'from': 'human',\n",
       "   'value': \"Given a submodules interconnection graph: \\n<graph>\\n, \\nnodes: [{'id': 0, 'content': 'clk', 'type': 'input port'}, {'id': 1, 'content': 'reset', 'type': 'input port'}, {'id': 2, 'content': 'load', 'type': 'input port'}, {'id': 3, 'content': 'shift_dir', 'type': 'input port'}, {'id': 4, 'content': 'data_in', 'type': 'input port'}, {'id': 5, 'content': 'count_out', 'type': 'output port'}, {'id': 6, 'content': 'u_shift_logic', 'type': 'submodule'}, {'id': 7, 'content': 'u_shift_register', 'type': 'submodule'}], \\nedge_attrs: [], \\nconnectivity: [[3, 7, 4, 0, 2, 1, 6, 7], [6, 6, 7, 7, 7, 7, 7, 5]]\\n, Design a Verilog module for a 4-bit circular shift register counter with a dynamic shift direction based on control inputs.\\n\\nModule name:\\n    dynamic_shift_counter\\n\\nFunction:\\nA 4-bit counter that shifts either left or right based on control signals. Additionally, the counter can load a specific value to start with, making it versatile for different initial conditions.\\n\\nInput ports:\\n    - clk: Clock signal (1-bit), used for synchronization.\\n    - reset: Reset signal (1-bit), resets the counter to the initial value.\\n    - load: Load signal (1-bit), loads a new value when high.\\n    - shift_dir: Shift direction signal (1-bit), determines the direction of shift (0 for left, 1 for right).\\n    - data_in: 4-bit input used to load new values into the counter.\\n\\nOutput ports:\\n    - count_out: 4-bit output representing the current counter value.\\n\\nImplementation:\\nThe module is structured into two submodules: shift_logic and shift_register.\\n- The shift_logic module determines the next count value either by shifting left or right based on the current count and control signals.\\n- The shift_register module updates the current count on the rising edge of the clock signal, resets it based on the reset condition, or loads a new value as per the load signal.\\nThe count_out will reflect the circular shifted values or loaded values based on control signals.\\nGive me the complete code.\\nmodule dynamic_shift_counter (\\n    input wire clk,\\n    input wire reset,\\n    input wire load,\\n    input wire shift_dir,\\n    input wire [3:0] data_in,\\n    output wire [3:0] count_out\\n);\"},\n",
       "  {'from': 'gpt',\n",
       "   'value': \"module dynamic_shift_counter (\\n    input wire clk,\\n    input wire reset,\\n    input wire load,\\n    input wire shift_dir,\\n    input wire [3:0] data_in,\\n    output wire [3:0] count_out\\n);\\n\\n    wire [3:0] next_count;\\n\\n    // Instantiate the shift logic\\n    shift_logic u_shift_logic (\\n        .shift_dir(shift_dir),\\n        .current_count(count_out),\\n        .next_count(next_count)\\n    );\\n\\n    // Instantiate the register to hold the count value\\n    shift_register u_shift_register (\\n        .clk(clk),\\n        .reset(reset),\\n        .load(load),\\n        .data_in(data_in),\\n        .next_count(next_count),\\n        .current_count(count_out)\\n    );\\n\\nendmodule\\n\\nmodule shift_logic (\\n    input wire shift_dir,\\n    input wire [3:0] current_count,\\n    output reg [3:0] next_count\\n);\\n\\n    always @(*) begin\\n        if (shift_dir) begin\\n            next_count = {current_count[0], current_count[3:1]};  // Shift right\\n        end else begin\\n            next_count = {current_count[2:0], current_count[3]};  // Shift left\\n        end\\n    end\\n\\nendmodule\\n\\nmodule shift_register (\\n    input wire clk,\\n    input wire reset,\\n    input wire load,\\n    input wire [3:0] data_in,\\n    input wire [3:0] next_count,\\n    output reg [3:0] current_count\\n);\\n\\n    always @(posedge clk or posedge reset) begin\\n        if (reset) begin\\n            current_count <= 4'b0000; \\n        end else if (load) begin\\n            current_count <= data_in; \\n        end else begin\\n            current_count <= next_count;\\n        end\\n    end\\n\\nendmodule\"}],\n",
       " 'task_id': 12}"
      ]
     },
     "execution_count": 9,
     "metadata": {},
     "output_type": "execute_result"
    }
   ],
   "source": [
    "conv[12]"
   ]
  },
  {
   "cell_type": "code",
   "execution_count": 11,
   "metadata": {},
   "outputs": [
    {
     "name": "stdout",
     "output_type": "stream",
     "text": [
      "module dynamic_shift_counter (\n",
      "    input wire clk,\n",
      "    input wire reset,\n",
      "    input wire load,\n",
      "    input wire shift_dir,\n",
      "    input wire [3:0] data_in,\n",
      "    output wire [3:0] count_out\n",
      ");\n",
      "\n",
      "    wire [3:0] next_count;\n",
      "\n",
      "    // Instantiate the shift logic\n",
      "    shift_logic u_shift_logic (\n",
      "        .shift_dir(shift_dir),\n",
      "        .current_count(count_out),\n",
      "        .next_count(next_count)\n",
      "    );\n",
      "\n",
      "    // Instantiate the register to hold the count value\n",
      "    shift_register u_shift_register (\n",
      "        .clk(clk),\n",
      "        .reset(reset),\n",
      "        .load(load),\n",
      "        .data_in(data_in),\n",
      "        .next_count(next_count),\n",
      "        .current_count(count_out)\n",
      "    );\n",
      "\n",
      "endmodule\n",
      "\n",
      "module shift_logic (\n",
      "    input wire shift_dir,\n",
      "    input wire [3:0] current_count,\n",
      "    output reg [3:0] next_count\n",
      ");\n",
      "\n",
      "    always @(*) begin\n",
      "        if (shift_dir) begin\n",
      "            next_count = {current_count[0], current_count[3:1]};  // Shift right\n",
      "        end else begin\n",
      "            next_count = {current_count[2:0], current_count[3]};  // Shift left\n",
      "        end\n",
      "    end\n",
      "\n",
      "endmodule\n",
      "\n",
      "module shift_register (\n",
      "    input wire clk,\n",
      "    input wire reset,\n",
      "    input wire load,\n",
      "    input wire [3:0] data_in,\n",
      "    input wire [3:0] next_count,\n",
      "    output reg [3:0] current_count\n",
      ");\n",
      "\n",
      "    always @(posedge clk or posedge reset) begin\n",
      "        if (reset) begin\n",
      "            current_count <= 4'b0000; \n",
      "        end else if (load) begin\n",
      "            current_count <= data_in; \n",
      "        end else begin\n",
      "            current_count <= next_count;\n",
      "        end\n",
      "    end\n",
      "\n",
      "endmodule\n"
     ]
    }
   ],
   "source": [
    "print(conv[12]['conversations'][1]['value'])"
   ]
  },
  {
   "cell_type": "code",
   "execution_count": 6,
   "metadata": {},
   "outputs": [],
   "source": [
    "new_conv = conv[:30]\n",
    "new_graph = graph[:30]"
   ]
  },
  {
   "cell_type": "code",
   "execution_count": 7,
   "metadata": {},
   "outputs": [],
   "source": [
    "for i in range(30):\n",
    "    new_conv[i]['task_id'] = i"
   ]
  },
  {
   "cell_type": "code",
   "execution_count": 8,
   "metadata": {},
   "outputs": [],
   "source": [
    "new_conv_path = '/data/LPJ/ICML25/GraphCoder/graphgpt_dataset/gpt_dataset_construction/less30_acl25_gpt4/with_module_head/eval/conversations_30.json'\n",
    "new_graph_path = '/data/LPJ/ICML25/GraphCoder/graphgpt_dataset/gpt_dataset_construction/less30_acl25_gpt4/with_module_head/eval/graph_30.jsonl'"
   ]
  },
  {
   "cell_type": "code",
   "execution_count": 9,
   "metadata": {},
   "outputs": [],
   "source": [
    "with open(new_conv_path, 'w') as f:\n",
    "    json.dump(new_conv, f)\n",
    "\n",
    "new_graph.to_json(new_graph_path, orient='records', lines=True)"
   ]
  },
  {
   "cell_type": "code",
   "execution_count": 10,
   "metadata": {},
   "outputs": [],
   "source": [
    "with open(new_conv_path, 'r') as f:\n",
    "    conv = json.load(f)\n",
    "\n"
   ]
  },
  {
   "cell_type": "code",
   "execution_count": 11,
   "metadata": {},
   "outputs": [
    {
     "data": {
      "text/plain": [
       "{'conversations': [{'from': 'human',\n",
       "   'value': \"Given a submodules interconnection graph: \\n<graph>\\n, \\nnodes: [{'id': 0, 'content': 'CLK_in', 'type': 'input port'}, {'id': 1, 'content': 'RST', 'type': 'input port'}, {'id': 2, 'content': 'CLK_15', 'type': 'output port'}, {'id': 3, 'content': 'CLK_3', 'type': 'output port'}, {'id': 4, 'content': 'div_15', 'type': 'submodule'}, {'id': 5, 'content': 'div_3', 'type': 'submodule'}], \\nedge_attrs: [], \\nconnectivity: [[0, 1, 0, 1, 4, 5], [4, 4, 5, 5, 2, 3]]\\n, Design a hierarchical Verilog module for a frequency divider that accepts a 60MHz input clock and outputs two different clock signals: 15MHz and 3MHz.\\n\\nModule name:\\n    multi_freq_div\\n\\nInput ports:\\n    CLK_in: Input clock signal\\n    RST: Reset signal\\n\\nOutput ports:\\n    CLK_15: Output clock signal with a frequency of CLK_in divided by 4.\\n    CLK_3: Output clock signal with a frequency of CLK_in divided by 20.\\n\\nImplementation:\\nThe module uses two submodules:\\n- clk_div_4 to generate the 15MHz clock by counting to 1 and toggling the output.\\n- clk_div_20 to generate the 3MHz clock by counting to 9 and toggling the output.\\nThe system resets all outputs to 0 when the RST is asserted. Otherwise, each submodule operates independently to produce the required output frequency based on the input clock signal.\\nGive me the complete code.\\nmodule multi_freq_div (\\n    input CLK_in,\\n    input RST,\\n    output CLK_15,\\n    output CLK_3\\n);\"},\n",
       "  {'from': 'gpt',\n",
       "   'value': 'module multi_freq_div (\\n    input CLK_in,\\n    input RST,\\n    output CLK_15,\\n    output CLK_3\\n);\\n\\n    wire clk_15_out;\\n    wire clk_3_out;\\n\\n    clk_div_4 div_15 (\\n        .CLK_in(CLK_in),\\n        .RST(RST),\\n        .CLK_out(clk_15_out)\\n    );\\n\\n    clk_div_20 div_3 (\\n        .CLK_in(CLK_in),\\n        .RST(RST),\\n        .CLK_out(clk_3_out)\\n    );\\n\\n    assign CLK_15 = clk_15_out;\\n    assign CLK_3 = clk_3_out;\\n\\nendmodule\\n\\nmodule clk_div_4 (\\n    input CLK_in,\\n    input RST,\\n    output reg CLK_out\\n);\\n    reg cnt;\\n\\n    always @(posedge CLK_in or posedge RST) begin\\n        if (RST) begin\\n            CLK_out <= 0;\\n            cnt <= 0;\\n        end else if (cnt == 1) begin\\n            CLK_out <= ~CLK_out;\\n            cnt <= 0;\\n        end else begin\\n            cnt <= cnt + 1;\\n        end\\n    end\\nendmodule\\n\\nmodule clk_div_20 (\\n    input CLK_in,\\n    input RST,\\n    output reg CLK_out\\n);\\n    reg [4:0] cnt;\\n\\n    always @(posedge CLK_in or posedge RST) begin\\n        if (RST) begin\\n            CLK_out <= 0;\\n            cnt <= 0;\\n        end else if (cnt == 9) begin\\n            CLK_out <= ~CLK_out;\\n            cnt <= 0;\\n        end else begin\\n            cnt <= cnt + 1;\\n        end\\n    end\\nendmodule'}],\n",
       " 'task_id': 0}"
      ]
     },
     "execution_count": 11,
     "metadata": {},
     "output_type": "execute_result"
    }
   ],
   "source": [
    "conv[0]"
   ]
  }
 ],
 "metadata": {
  "kernelspec": {
   "display_name": "graphgpt",
   "language": "python",
   "name": "python3"
  },
  "language_info": {
   "codemirror_mode": {
    "name": "ipython",
    "version": 3
   },
   "file_extension": ".py",
   "mimetype": "text/x-python",
   "name": "python",
   "nbconvert_exporter": "python",
   "pygments_lexer": "ipython3",
   "version": "3.9.21"
  }
 },
 "nbformat": 4,
 "nbformat_minor": 2
}
