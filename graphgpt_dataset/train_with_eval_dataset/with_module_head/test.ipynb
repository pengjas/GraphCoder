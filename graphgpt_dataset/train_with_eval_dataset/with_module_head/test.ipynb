{
 "cells": [
  {
   "cell_type": "code",
   "execution_count": 1,
   "metadata": {},
   "outputs": [],
   "source": [
    "import json\n",
    "\n",
    "import pandas as pd"
   ]
  },
  {
   "cell_type": "code",
   "execution_count": 2,
   "metadata": {},
   "outputs": [],
   "source": [
    "conv_path = '/data/LPJ/ICML25/GraphCoder/graphgpt_dataset/train_with_eval_dataset/without_module_head/graph_as_prefix/verified_output.jsonl'\n",
    "graph_path = '/data/LPJ/ICML25/GraphCoder/graphgpt_dataset/train_with_eval_dataset/without_module_head/graph_as_prefix/graph_output.jsonl'"
   ]
  },
  {
   "cell_type": "code",
   "execution_count": 3,
   "metadata": {},
   "outputs": [],
   "source": [
    "conv = pd.read_json(conv_path, lines=True)\n",
    "graph = pd.read_json(graph_path, lines=True)"
   ]
  },
  {
   "cell_type": "code",
   "execution_count": 4,
   "metadata": {},
   "outputs": [],
   "source": [
    "import re\n",
    "\n",
    "def find_module_string(text):\n",
    "    # Regex pattern to find the string starting with \"module\" and ending with \";\"\n",
    "    # It uses non-greedy matching to find the shortest match\n",
    "    pattern = r\"module.*?;\"\n",
    "    \n",
    "    # Using re.DOTALL to make the dot match all characters including newline\n",
    "    match = re.search(pattern, text, re.DOTALL)\n",
    "    \n",
    "    if match:\n",
    "        return match.group()  # Returns the matched string\n",
    "    else:\n",
    "        return None  # No match found\n",
    "\n",
    "# # Example usage\n",
    "# input_text = \"\"\"\n",
    "# some initial text\n",
    "# module name=\"example1\" \\n   attribu\\nte=\"   value\";\n",
    "# some other text\n",
    "# module name=\"example2\" attribute=\"another value\";\n",
    "# \"\"\"\n",
    "\n",
    "# # Find the first occurrence\n",
    "# result = find_module_string(input_text)\n",
    "# print(\"Found substring:\", result)\n",
    "\n",
    "# # If you need to find all occurrences instead of just the first one, you can use re.findall\n",
    "# all_matches = re.findall(r\"module.*?;\", input_text, re.DOTALL)\n",
    "# print(\"All found substrings:\", all_matches)"
   ]
  },
  {
   "cell_type": "code",
   "execution_count": 5,
   "metadata": {},
   "outputs": [],
   "source": [
    "# prefix_conv = conv.copy()\n",
    "# suffix_conv = conv.copy()"
   ]
  },
  {
   "cell_type": "code",
   "execution_count": 6,
   "metadata": {},
   "outputs": [],
   "source": [
    "for i in range(len(conv)):\n",
    "    conv.iloc[i]['Instruction'] = conv.iloc[i]['Instruction'] + '\\n' + find_module_string(conv.iloc[i]['Response'])"
   ]
  },
  {
   "cell_type": "code",
   "execution_count": 7,
   "metadata": {},
   "outputs": [
    {
     "data": {
      "text/plain": [
       "'Implement a pipeline processor with 5 stages: Fetch, Decode, Execute, Memory, and Writeback.\\n\\nModule name:\\n    stagepipe5\\nInput ports:\\n    clk: Clock signal.\\n    rst: Reset signal, active high.\\n    instr_mem[31:0][0:31]: 32-element instruction memory with 32-bit instructions.\\n    reg_file[31:0][0:31]: 32-element register file with 32-bit registers.\\nOutput ports:\\n    res_reg_file[31:0][0:31]: 32-element result register file with 32-bit registers.\\n\\nImplementation:\\nIn the stagepipe5 module, five pipeline stages are instantiated: fetch_stage, decode_stage, execute_stage, memory_stage, and writeback_stage. The fetch_stage module fetches the next instruction from the instruction memory based on the program counter (pc). The decode_stage module decodes the instruction to identify the source registers (rs1, rs2), destination register (rd), and the operation (op). The execute_stage module performs the operation (addition or subtraction) on the values read from the register file and produces the result. The memory_stage module passes the ALU result to the next stage. Finally, the writeback_stage module writes the result back to the register file. The pc is updated in the fetch_stage to fetch the next instruction in the following cycle. The pipeline ensures continuous instruction processing by passing intermediate data between stages through pipeline registers.\\n\\nGive me the complete code.\\nmodule stagepipe5(\\n  input clk,\\n  input rst,\\n  input [31:0] instr_mem [0:31],\\n  input [31:0] reg_file [0:31],\\n  output [31:0] res_reg_file [0:31]\\n);'"
      ]
     },
     "execution_count": 7,
     "metadata": {},
     "output_type": "execute_result"
    }
   ],
   "source": [
    "conv.iloc[17]['Instruction']"
   ]
  },
  {
   "cell_type": "code",
   "execution_count": 8,
   "metadata": {},
   "outputs": [],
   "source": [
    "new_conv_path = '/data/LPJ/ICML25/GraphCoder/graphgpt_dataset/train_with_eval_dataset/with_module_head/graph_as_prefix/conversations.jsonl'"
   ]
  },
  {
   "cell_type": "code",
   "execution_count": 9,
   "metadata": {},
   "outputs": [],
   "source": [
    "conv.to_json(new_conv_path, orient='records', lines=True)"
   ]
  },
  {
   "cell_type": "code",
   "execution_count": 10,
   "metadata": {},
   "outputs": [],
   "source": [
    "new_conv = pd.read_json(new_conv_path, lines=True)"
   ]
  },
  {
   "cell_type": "code",
   "execution_count": 11,
   "metadata": {},
   "outputs": [
    {
     "data": {
      "text/plain": [
       "'Implement a pipeline processor with 5 stages: Fetch, Decode, Execute, Memory, and Writeback.\\n\\nModule name:\\n    stagepipe5\\nInput ports:\\n    clk: Clock signal.\\n    rst: Reset signal, active high.\\n    instr_mem[31:0][0:31]: 32-element instruction memory with 32-bit instructions.\\n    reg_file[31:0][0:31]: 32-element register file with 32-bit registers.\\nOutput ports:\\n    res_reg_file[31:0][0:31]: 32-element result register file with 32-bit registers.\\n\\nImplementation:\\nIn the stagepipe5 module, five pipeline stages are instantiated: fetch_stage, decode_stage, execute_stage, memory_stage, and writeback_stage. The fetch_stage module fetches the next instruction from the instruction memory based on the program counter (pc). The decode_stage module decodes the instruction to identify the source registers (rs1, rs2), destination register (rd), and the operation (op). The execute_stage module performs the operation (addition or subtraction) on the values read from the register file and produces the result. The memory_stage module passes the ALU result to the next stage. Finally, the writeback_stage module writes the result back to the register file. The pc is updated in the fetch_stage to fetch the next instruction in the following cycle. The pipeline ensures continuous instruction processing by passing intermediate data between stages through pipeline registers.\\n\\nGive me the complete code.\\nmodule stagepipe5(\\n  input clk,\\n  input rst,\\n  input [31:0] instr_mem [0:31],\\n  input [31:0] reg_file [0:31],\\n  output [31:0] res_reg_file [0:31]\\n);'"
      ]
     },
     "execution_count": 11,
     "metadata": {},
     "output_type": "execute_result"
    }
   ],
   "source": [
    "new_conv.iloc[17]['Instruction']"
   ]
  }
 ],
 "metadata": {
  "kernelspec": {
   "display_name": "graphgpt",
   "language": "python",
   "name": "python3"
  },
  "language_info": {
   "codemirror_mode": {
    "name": "ipython",
    "version": 3
   },
   "file_extension": ".py",
   "mimetype": "text/x-python",
   "name": "python",
   "nbconvert_exporter": "python",
   "pygments_lexer": "ipython3",
   "version": "3.9.21"
  }
 },
 "nbformat": 4,
 "nbformat_minor": 2
}
