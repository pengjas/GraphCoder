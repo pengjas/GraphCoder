{
 "cells": [
  {
   "cell_type": "code",
   "execution_count": 3,
   "metadata": {},
   "outputs": [],
   "source": [
    "import json\n",
    "import pandas as pd"
   ]
  },
  {
   "cell_type": "code",
   "execution_count": 13,
   "metadata": {},
   "outputs": [],
   "source": [
    "conv_path = '/data/LPJ/ICML25/GraphCoder/graphgpt_dataset/train_with_eval_dataset/without_module_head/avaliable_for_graphcoder/conversations.json'\n",
    "graph_path = '/data/LPJ/ICML25/GraphCoder/graphgpt_dataset/train_with_eval_dataset/without_module_head/avaliable_for_graphcoder/graph.jsonl'"
   ]
  },
  {
   "cell_type": "code",
   "execution_count": 14,
   "metadata": {},
   "outputs": [],
   "source": [
    "with open(conv_path, 'r') as f:\n",
    "    conv = json.load(f)\n",
    "\n",
    "graph = pd.read_json(graph_path, lines=True)"
   ]
  },
  {
   "cell_type": "code",
   "execution_count": 17,
   "metadata": {},
   "outputs": [
    {
     "data": {
      "text/plain": [
       "\"Given a submodules interconnection graph: \\n<graph>\\n, \\nnodes: [{'id': 0, 'content': 'clk', 'type': 'input port'}, {'id': 1, 'content': 'freq', 'type': 'input port'}, {'id': 2, 'content': 'wave_out', 'type': 'output port'}, {'id': 3, 'content': 'cnt', 'type': 'submodule'}, {'id': 4, 'content': 'wg', 'type': 'submodule'}], \\nedge_attrs: [], \\nconnectivity: [[0, 1, 3, 0, 1, 4], [3, 3, 4, 4, 4, 2]]\\n, The module is a modular square wave generator designed to produce square wave signals with variable frequency. It consists of submodules for counting clock cycles and generating the square wave output.\\n\\nModule Name:\\n    square_wave\\n\\nInput Ports:\\n    clk: Clock signal that drives the module.\\n    [7:0] freq: Frequency control, specifying how often the square wave toggles.\\n\\nOutput Ports:\\n    wave_out: Square wave output signal.\\n\\nInternal Modules:\\n    Counter Module (counter)\\n    Functionality: Counts clock cycles and resets based on the frequency value.\\n    Input Ports:\\n    clk: Clock signal.\\n    enable: Control signal to enable counting.\\n    [7:0] freq: Frequency value for toggling.\\n    Output Ports:\\n    [7:0] count: Current count value.\\n    Wave Generator Module (wave_generator)\\n    Functionality: Generates the square wave by toggling the output signal.\\n    Input Ports:\\n    clk: Clock signal.\\n    [7:0] count: Current count value from the counter.\\n    [7:0] freq: Frequency value for toggling.\\n    Output Ports:\\n    wave_out: Square wave output signal.\\n\\nImplementation:\\nCounter Operation: The counter module increments on each rising edge of clk. When the count reaches (freq - 1), it resets to 0. The count is enabled based on the frequency value.\\nSquare Wave Generation: The wave_generator module toggles the wave_out signal at the rate determined by freq. The output frequency is inversely proportional to the input frequency value.\\n    \\nGive me the complete code.\""
      ]
     },
     "execution_count": 17,
     "metadata": {},
     "output_type": "execute_result"
    }
   ],
   "source": [
    "conv[11]['conversations'][0]['value']"
   ]
  },
  {
   "cell_type": "code",
   "execution_count": 19,
   "metadata": {},
   "outputs": [
    {
     "data": {
      "text/plain": [
       "[{'id': 0, 'content': 'clk', 'type': 'input port'},\n",
       " {'id': 1, 'content': 'freq', 'type': 'input port'},\n",
       " {'id': 2, 'content': 'wave_out', 'type': 'output port'},\n",
       " {'id': 3, 'content': 'cnt', 'type': 'submodule'},\n",
       " {'id': 4, 'content': 'wg', 'type': 'submodule'}]"
      ]
     },
     "execution_count": 19,
     "metadata": {},
     "output_type": "execute_result"
    }
   ],
   "source": [
    "graph.iloc[11]['nodes']"
   ]
  },
  {
   "cell_type": "code",
   "execution_count": 1,
   "metadata": {},
   "outputs": [],
   "source": [
    "conv_path = '/data/LPJ/ICML25/GraphCoder/graphgpt_dataset/train_with_eval_dataset/without_module_head/output.jsonl'\n",
    "graph_path = '/data/LPJ/ICML25/GraphCoder/graphgpt_dataset/train_with_eval_dataset/without_module_head/graph_output.jsonl'"
   ]
  },
  {
   "cell_type": "code",
   "execution_count": 4,
   "metadata": {},
   "outputs": [],
   "source": [
    "conv = pd.read_json(conv_path, lines=True)\n",
    "graph = pd.read_json(graph_path, lines=True)"
   ]
  },
  {
   "cell_type": "code",
   "execution_count": 7,
   "metadata": {},
   "outputs": [
    {
     "name": "stdout",
     "output_type": "stream",
     "text": [
      "             task_id                                        Instruction  \\\n",
      "0    up_down_counter  Module name:\\n    up_down_counter\\n\\nFunction:...   \n",
      "1       ring_counter  Implement a modular version of an 8-bit ring c...   \n",
      "2         counter_12  Implement a module of a counter design that co...   \n",
      "3         JC_counter  Implement a modular 64-bit Johnson counter (to...   \n",
      "4           freq_div  Implement a modular frequency divider that tak...   \n",
      "5     freq_divbyfrac  Create a modular frequency divider that divide...   \n",
      "6      freq_divbyodd  A frequency divider that divides the input clo...   \n",
      "7     freq_divbyeven  Create a modular frequency divider that divide...   \n",
      "8                alu  Implement a modular ALU for a 32-bit MIPS-ISA ...   \n",
      "9                 pe  Implement a modular Multiplying Accumulator fo...   \n",
      "10         instr_reg  An instruction register module designed to hol...   \n",
      "11       square_wave  The module is a modular square wave generator ...   \n",
      "12  signal_generator  Implement a Triangle Wave signal generator mod...   \n",
      "13            shift8  A top-level module designed to instantiate thr...   \n",
      "14         shift_reg  You are to design a shift register module that...   \n",
      "15    barrel_shifter  Module name: \\n    barrel_shifter\\n\\nFunction:...   \n",
      "16       systolic1x2  Implement a module of a systolic array with 1x...   \n",
      "17        stagepipe5  Implement a pipeline processor with 5 stages: ...   \n",
      "18       systolic1x4  Implement a module of a systolic array with 1x...   \n",
      "19        stagepipe3  Implement a module of a 3-stage pipeline proce...   \n",
      "20              accu  Implement a modular design for a serial input ...   \n",
      "21        radix2_div  Implement a modular radix-2 divider for 8-bit ...   \n",
      "22         div_32bit  Implement a 32-bit divider module where the di...   \n",
      "23         div_16bit  Implement a modular 16-bit divider module, whe...   \n",
      "24          sub_8bit  Implement a module of an 8-bit subtractor that...   \n",
      "25         sub_32bit  Implement a module of a 32-bit subtractor that...   \n",
      "26         sub_64bit  Implement a module of a 64-bit subtractor that...   \n",
      "27         sub_16bit  Implement a module of a borrow-lookahead 16-bi...   \n",
      "28  comparator_32bit  Implement a module of a 32-bit comparator usin...   \n",
      "29       adder_32bit  Implement a module of a carry-lookahead 32-bit...   \n",
      "30   adder_16bit_csa  Implement a module of a 16-bit carry select ad...   \n",
      "31       adder_16bit  Implement a module of a 16-bit full adder in c...   \n",
      "32        adder_8bit  Implement a module of an 8-bit adder with mult...   \n",
      "33       multi_16bit  Implement a module of an unsigned 16-bit multi...   \n",
      "\n",
      "                                             Response  \n",
      "0   module verified_up_down_counter (\\n    input w...  \n",
      "1   module verified_ring_counter (\\n    input wire...  \n",
      "2   `timescale 1ns/1ps\\n\\n// Main counter module\\n...  \n",
      "3   `timescale 1ns/1ns\\n\\n// Main module for the J...  \n",
      "4   module verified_freq_div (\\n    input CLK_in,\\...  \n",
      "5   module verified_freq_divbyfrac(\\n    input    ...  \n",
      "6   module verified_freq_divbyodd(\\n    input clk,...  \n",
      "7   module verified_freq_divbyeven(\\n    input clk...  \n",
      "8   `timescale 1ns / 1ps\\n\\nmodule verified_alu(\\n...  \n",
      "9   module pe(\\n    input clk,\\n    input rst,\\n  ...  \n",
      "10  module verified_instr_reg (\\n    input clk,\\n ...  \n",
      "11  module verified_square_wave(\\n    input clk,\\n...  \n",
      "12  module verified_signal_generator (\\n    input ...  \n",
      "13  module verified_shift8 (\\n    input clk,\\n    ...  \n",
      "14  module verified_shift_reg (\\n    input clk,\\n ...  \n",
      "15  module barrel_shifter (in, ctrl, out);\\n  inpu...  \n",
      "16  module verified_systolic1x2 (\\n  input clk,\\n ...  \n",
      "17  // Instruction types\\n`define ADD_INST 2'b00\\n...  \n",
      "18  module verified_systolic1x4(\\n  input clk,\\n  ...  \n",
      "19  // Instruction types\\n`define ADD_INST 2'b00\\n...  \n",
      "20  `timescale 1ns/1ps\\n\\nmodule verified_accu (\\n...  \n",
      "21  `timescale 1ns/1ps\\n\\nmodule verified_radix2_d...  \n",
      "22  module verified_div_32bit(\\n    input wire [31...  \n",
      "23  module verified_div_16bit (\\n    input wire [1...  \n",
      "24  module verified_sub_8bit(A, B, D, B_out);\\n   ...  \n",
      "25  module verified_sub_32bit(A, B, Diff, B_out);\\...  \n",
      "26  module verified_sub_64bit(A, B, D, B_out);\\n  ...  \n",
      "27  module verified_sub_16bit(A, B, D, B_out);\\n  ...  \n",
      "28  module verified_comparator_32bit(\\n    input [...  \n",
      "29  module verified_adder_32bit(A,B,S,C32);\\n     ...  \n",
      "30  `timescale 1ns / 1ns\\n\\nmodule verified_adder_...  \n",
      "31  module verified_adder_16bit (\\n    input wire ...  \n",
      "32  module verified_adder_8bit(\\n    input [7:0] a...  \n",
      "33  module verified_multi_16bit (\\n    input clk, ...  \n"
     ]
    }
   ],
   "source": [
    "import os\n",
    "import pandas as pd\n",
    "\n",
    "# 假设df是你的DataFrame，包含'task_id'和'Instruction'列\n",
    "# df = pd.DataFrame({\n",
    "#     'task_id': [...],\n",
    "#     'Instruction': [...]\n",
    "# })\n",
    "\n",
    "# 目标目录\n",
    "base_directory = '/data/LPJ/ICML25/GraphCoder/HiVerilog'\n",
    "\n",
    "# 函数：查找并读取文件\n",
    "def find_verified_file(task_id_value):\n",
    "    for root, dirs, files in os.walk(base_directory):\n",
    "        # 检查当前目录名是否与task_id_value相等\n",
    "        if os.path.basename(root) == task_id_value:\n",
    "            for file in files:\n",
    "                if file.startswith('verified') and file.endswith('.v'):\n",
    "                    file_path = os.path.join(root, file)\n",
    "                    with open(file_path, 'r') as f:\n",
    "                        return f.read()  # 返回文件内容\n",
    "    return None  # 如果未找到，返回None\n",
    "\n",
    "# 遍历DataFrame并填充Response列\n",
    "conv['Response'] = conv['task_id'].apply(find_verified_file)\n",
    "\n",
    "# 打印结果\n",
    "print(conv)"
   ]
  },
  {
   "cell_type": "code",
   "execution_count": 9,
   "metadata": {},
   "outputs": [],
   "source": [
    "# 去掉Response中字符串的“verified_”\n",
    "conv['Response'] = conv['Response'].str.replace('verified_', '', regex=False)"
   ]
  },
  {
   "cell_type": "code",
   "execution_count": 12,
   "metadata": {},
   "outputs": [],
   "source": [
    "conv[['Instruction', 'Response']].to_json('/data/LPJ/ICML25/GraphCoder/graphgpt_dataset/train_with_eval_dataset/without_module_head/verified_output.jsonl', orient='records', lines=True)"
   ]
  }
 ],
 "metadata": {
  "kernelspec": {
   "display_name": "graphgpt",
   "language": "python",
   "name": "python3"
  },
  "language_info": {
   "codemirror_mode": {
    "name": "ipython",
    "version": 3
   },
   "file_extension": ".py",
   "mimetype": "text/x-python",
   "name": "python",
   "nbconvert_exporter": "python",
   "pygments_lexer": "ipython3",
   "version": "3.9.21"
  }
 },
 "nbformat": 4,
 "nbformat_minor": 2
}
