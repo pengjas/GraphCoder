{
 "cells": [
  {
   "cell_type": "code",
   "execution_count": 1,
   "metadata": {},
   "outputs": [],
   "source": [
    "import json\n",
    "import os\n",
    "\n",
    "import pandas as pd"
   ]
  },
  {
   "cell_type": "code",
   "execution_count": 2,
   "metadata": {},
   "outputs": [],
   "source": [
    "conv_path = '/data/LPJ/ICML25/GraphCoder/graphgpt_dataset/HiVerilog_Eval/graph_as_prefix/with_module_head/availiable_for_graphcoder/conversations.json'\n",
    "graph_path = '/data/LPJ/ICML25/GraphCoder/graphgpt_dataset/HiVerilog_Eval/graph_as_prefix/with_module_head/availiable_for_graphcoder/graph.jsonl'"
   ]
  },
  {
   "cell_type": "code",
   "execution_count": 3,
   "metadata": {},
   "outputs": [],
   "source": [
    "\n",
    "# 假设 conv_path 和 graph_path 已经定义\n",
    "with open(conv_path, 'r') as f:\n",
    "    convs = json.load(f)\n",
    "\n",
    "graph = pd.read_json(graph_path, lines=True)\n",
    "\n",
    "# 遍历 convs 列表\n",
    "for index, conv in enumerate(convs):\n",
    "    task_id = conv.get(\"task_id\")  # 获取 task_id\n",
    "    if task_id:  # 确保 task_id 存在\n",
    "        # 创建子文件夹\n",
    "        folder_path = os.path.join(os.getcwd(), task_id)\n",
    "        os.makedirs(folder_path, exist_ok=True)\n",
    "        \n",
    "        # 保存 conversation.json\n",
    "        conversation_file_path = os.path.join(folder_path, 'conversation.json')\n",
    "        with open(conversation_file_path, 'w') as conv_file:\n",
    "            json.dump([conv], conv_file, ensure_ascii=False, indent=4)\n",
    "        \n",
    "        # 保存 graph.jsonl\n",
    "        graph_file_path = os.path.join(folder_path, 'graph.jsonl')\n",
    "        # new_graph = {}\n",
    "        # new_graph['nodes'] = graph['nodes']\n",
    "        # new_graph['edge_attrs'] = graph['edge_attrs']\n",
    "        # new_graph['connectivity'] = graph['connectivity']\n",
    "        # with open(graph_file_path, 'w') as graph_file:\n",
    "        #     json_line = graph.iloc[index].to_json(orient='records')\n",
    "        #     graph_file.write(json_line + '\\n')\n",
    "        new_graph = graph.iloc[index].to_dict()\n",
    "        with open(graph_file_path, 'w') as graph_file:\n",
    "            graph_file.write(json.dumps(new_graph) + '\\n')\n",
    "        # new_graph.to_json(graph_file_path, orient='records', lines=True)\n",
    "        \n",
    "        # break"
   ]
  },
  {
   "cell_type": "code",
   "execution_count": 5,
   "metadata": {},
   "outputs": [
    {
     "name": "stdout",
     "output_type": "stream",
     "text": [
      "20\n",
      "nodes           [{'id': 0, 'content': 'clk', 'type': 'input po...\n",
      "edge_attrs                                                     []\n",
      "connectivity    [[0, 1, 3, 6, 0, 1, 3, 2, 6, 0, 1, 3, 6, 8, 7]...\n",
      "Name: 20, dtype: object\n"
     ]
    }
   ],
   "source": [
    "for i, conv in enumerate(convs):\n",
    "    if conv['task_id'] == 'accu':\n",
    "        print(i)\n",
    "        print(graph.iloc[i])\n",
    "        break"
   ]
  },
  {
   "cell_type": "code",
   "execution_count": 6,
   "metadata": {},
   "outputs": [
    {
     "data": {
      "text/plain": [
       "pandas.core.series.Series"
      ]
     },
     "execution_count": 6,
     "metadata": {},
     "output_type": "execute_result"
    }
   ],
   "source": [
    "type(graph.iloc[3])"
   ]
  },
  {
   "cell_type": "code",
   "execution_count": 4,
   "metadata": {},
   "outputs": [
    {
     "name": "stdout",
     "output_type": "stream",
     "text": [
      "nodes           [{'id': 0, 'content': 'clk', 'type': 'input po...\n",
      "edge_attrs                                                     []\n",
      "connectivity             [[0, 1, 0, 1, 3, 4], [3, 3, 4, 4, 4, 2]]\n",
      "Name: 3, dtype: object\n"
     ]
    }
   ],
   "source": [
    "print(graph.iloc[3])"
   ]
  },
  {
   "cell_type": "code",
   "execution_count": 4,
   "metadata": {},
   "outputs": [
    {
     "data": {
      "text/plain": [
       "nodes           [{'id': 0, 'content': 'clk', 'type': 'input po...\n",
       "edge_attrs                                                     []\n",
       "connectivity             [[0, 1, 0, 1, 3, 4], [3, 3, 4, 4, 4, 2]]\n",
       "Name: 3, dtype: object"
      ]
     },
     "execution_count": 4,
     "metadata": {},
     "output_type": "execute_result"
    }
   ],
   "source": [
    "graph.loc[3]"
   ]
  }
 ],
 "metadata": {
  "kernelspec": {
   "display_name": "graphgpt",
   "language": "python",
   "name": "python3"
  },
  "language_info": {
   "codemirror_mode": {
    "name": "ipython",
    "version": 3
   },
   "file_extension": ".py",
   "mimetype": "text/x-python",
   "name": "python",
   "nbconvert_exporter": "python",
   "pygments_lexer": "ipython3",
   "version": "3.9.21"
  }
 },
 "nbformat": 4,
 "nbformat_minor": 2
}
