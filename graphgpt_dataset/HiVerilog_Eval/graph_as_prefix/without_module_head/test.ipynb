{
 "cells": [
  {
   "cell_type": "code",
   "execution_count": 1,
   "metadata": {},
   "outputs": [],
   "source": [
    "import pandas as pd\n",
    "import json\n"
   ]
  },
  {
   "cell_type": "code",
   "execution_count": null,
   "metadata": {},
   "outputs": [],
   "source": [
    "\n",
    "# 读取 JSONL 文件\n",
    "df_text = pd.read_json('output.jsonl', lines=True)\n",
    "df_mm = pd.read_json('graph_output.jsonl', lines=True)\n",
    "\n",
    "# # 显示 DataFrame\n",
    "# print(df)"
   ]
  },
  {
   "cell_type": "code",
   "execution_count": 2,
   "metadata": {},
   "outputs": [],
   "source": [
    "num_lines = len(df_text)"
   ]
  },
  {
   "cell_type": "code",
   "execution_count": 3,
   "metadata": {},
   "outputs": [],
   "source": [
    "template = \"Given a submodules interconnection graph: \\n<graph>\\n, \"\n",
    "# text_graph = '\\n{}\\n,'.format(graph)"
   ]
  },
  {
   "cell_type": "code",
   "execution_count": 4,
   "metadata": {},
   "outputs": [],
   "source": [
    "new_text = []\n",
    "for i in range(num_lines):\n",
    "# for i in range(3):\n",
    "    new_line = []\n",
    "    graph = \"nodes: {}, \\nedge_attrs: {}, \\nconnectivity: {}\".format(df_mm['nodes'][i], df_mm['edge_attrs'][i], df_mm['connectivity'][i])\n",
    "    text_graph = \"\\n{}\\n, \".format(graph)\n",
    "    human_instruction = template + text_graph + df_text['Instruction'][i]\n",
    "    human_instruction = {\"from\": \"human\", \"value\": human_instruction}\n",
    "    # gpt_response = df_text['Response'][i]\n",
    "    # gpt_response = {\"from\": \"gpt\", \"value\": gpt_response}\n",
    "    # task_id = {\"task_id\": df_text['task_id'][i]}\n",
    "    # new_line.append(task_id)\n",
    "    new_line.append(human_instruction)\n",
    "    # new_line.append(gpt_response)\n",
    "    new_line = {\"conversations\": new_line, \"task_id\": df_text['task_id'][i]}\n",
    "    new_text.append(new_line)\n",
    "    # print(json.dumps(new_line))\n"
   ]
  },
  {
   "cell_type": "code",
   "execution_count": 5,
   "metadata": {},
   "outputs": [],
   "source": [
    "with open('./availiabe_for_graphcoder/conversations.json', 'w') as f:\n",
    "    # for line in new_text:\n",
    "    #     f.write(json.dumps(line) + '\\n')\n",
    "    json.dump(new_text, f)"
   ]
  },
  {
   "cell_type": "code",
   "execution_count": 6,
   "metadata": {},
   "outputs": [
    {
     "data": {
      "text/html": [
       "<div>\n",
       "<style scoped>\n",
       "    .dataframe tbody tr th:only-of-type {\n",
       "        vertical-align: middle;\n",
       "    }\n",
       "\n",
       "    .dataframe tbody tr th {\n",
       "        vertical-align: top;\n",
       "    }\n",
       "\n",
       "    .dataframe thead th {\n",
       "        text-align: right;\n",
       "    }\n",
       "</style>\n",
       "<table border=\"1\" class=\"dataframe\">\n",
       "  <thead>\n",
       "    <tr style=\"text-align: right;\">\n",
       "      <th></th>\n",
       "      <th>nodes</th>\n",
       "      <th>edge_attrs</th>\n",
       "      <th>connectivity</th>\n",
       "    </tr>\n",
       "  </thead>\n",
       "  <tbody>\n",
       "    <tr>\n",
       "      <th>0</th>\n",
       "      <td>[{'id': 0, 'content': 'data_a'}, {'id': 1, 'co...</td>\n",
       "      <td>[]</td>\n",
       "      <td>[[1, 4], [5, 4]]</td>\n",
       "    </tr>\n",
       "    <tr>\n",
       "      <th>1</th>\n",
       "      <td>[{'id': 0, 'content': 'data_a'}, {'id': 1, 'co...</td>\n",
       "      <td>[]</td>\n",
       "      <td>[[4, 4, 4], [0, 4, 1]]</td>\n",
       "    </tr>\n",
       "    <tr>\n",
       "      <th>2</th>\n",
       "      <td>[{'id': 0, 'content': 'data_a'}, {'id': 1, 'co...</td>\n",
       "      <td>[]</td>\n",
       "      <td>[[2, 1, 0, 1], [4, 0, 5, 3]]</td>\n",
       "    </tr>\n",
       "    <tr>\n",
       "      <th>3</th>\n",
       "      <td>[{'id': 0, 'content': 'data_a'}, {'id': 1, 'co...</td>\n",
       "      <td>[]</td>\n",
       "      <td>[[2, 3, 3, 0, 3], [4, 2, 2, 3, 2]]</td>\n",
       "    </tr>\n",
       "    <tr>\n",
       "      <th>4</th>\n",
       "      <td>[{'id': 0, 'content': 'vpb'}, {'id': 1, 'conte...</td>\n",
       "      <td>[]</td>\n",
       "      <td>[[3, 3], [1, 5]]</td>\n",
       "    </tr>\n",
       "    <tr>\n",
       "      <th>...</th>\n",
       "      <td>...</td>\n",
       "      <td>...</td>\n",
       "      <td>...</td>\n",
       "    </tr>\n",
       "    <tr>\n",
       "      <th>134995</th>\n",
       "      <td>[{'id': 0, 'content': 'INPUT_2'}, {'id': 1, 'c...</td>\n",
       "      <td>[]</td>\n",
       "      <td>[[8, 11, 9, 0, 5, 4, 4, 2], [0, 10, 11, 11, 12...</td>\n",
       "    </tr>\n",
       "    <tr>\n",
       "      <th>134996</th>\n",
       "      <td>[{'id': 0, 'content': 'INPUT_2'}, {'id': 1, 'c...</td>\n",
       "      <td>[]</td>\n",
       "      <td>[[2, 8, 10, 0, 1, 4, 12, 0, 9], [3, 6, 7, 12, ...</td>\n",
       "    </tr>\n",
       "    <tr>\n",
       "      <th>134997</th>\n",
       "      <td>[{'id': 0, 'content': 'INPUT_2'}, {'id': 1, 'c...</td>\n",
       "      <td>[]</td>\n",
       "      <td>[[0, 4, 9, 1, 4, 0, 1, 12, 4, 1], [4, 2, 4, 9,...</td>\n",
       "    </tr>\n",
       "    <tr>\n",
       "      <th>134998</th>\n",
       "      <td>[{'id': 0, 'content': 'INPUT_2'}, {'id': 1, 'c...</td>\n",
       "      <td>[]</td>\n",
       "      <td>[[5, 1, 5, 9, 3, 12, 6, 9, 6, 7, 6], [2, 3, 11...</td>\n",
       "    </tr>\n",
       "    <tr>\n",
       "      <th>134999</th>\n",
       "      <td>[{'id': 0, 'content': 'INPUT_2'}, {'id': 1, 'c...</td>\n",
       "      <td>[]</td>\n",
       "      <td>[[12, 11, 0, 6, 10, 2, 12, 5, 1, 11, 8, 11], [...</td>\n",
       "    </tr>\n",
       "  </tbody>\n",
       "</table>\n",
       "<p>135000 rows × 3 columns</p>\n",
       "</div>"
      ],
      "text/plain": [
       "                                                    nodes edge_attrs  \\\n",
       "0       [{'id': 0, 'content': 'data_a'}, {'id': 1, 'co...         []   \n",
       "1       [{'id': 0, 'content': 'data_a'}, {'id': 1, 'co...         []   \n",
       "2       [{'id': 0, 'content': 'data_a'}, {'id': 1, 'co...         []   \n",
       "3       [{'id': 0, 'content': 'data_a'}, {'id': 1, 'co...         []   \n",
       "4       [{'id': 0, 'content': 'vpb'}, {'id': 1, 'conte...         []   \n",
       "...                                                   ...        ...   \n",
       "134995  [{'id': 0, 'content': 'INPUT_2'}, {'id': 1, 'c...         []   \n",
       "134996  [{'id': 0, 'content': 'INPUT_2'}, {'id': 1, 'c...         []   \n",
       "134997  [{'id': 0, 'content': 'INPUT_2'}, {'id': 1, 'c...         []   \n",
       "134998  [{'id': 0, 'content': 'INPUT_2'}, {'id': 1, 'c...         []   \n",
       "134999  [{'id': 0, 'content': 'INPUT_2'}, {'id': 1, 'c...         []   \n",
       "\n",
       "                                             connectivity  \n",
       "0                                        [[1, 4], [5, 4]]  \n",
       "1                                  [[4, 4, 4], [0, 4, 1]]  \n",
       "2                            [[2, 1, 0, 1], [4, 0, 5, 3]]  \n",
       "3                      [[2, 3, 3, 0, 3], [4, 2, 2, 3, 2]]  \n",
       "4                                        [[3, 3], [1, 5]]  \n",
       "...                                                   ...  \n",
       "134995  [[8, 11, 9, 0, 5, 4, 4, 2], [0, 10, 11, 11, 12...  \n",
       "134996  [[2, 8, 10, 0, 1, 4, 12, 0, 9], [3, 6, 7, 12, ...  \n",
       "134997  [[0, 4, 9, 1, 4, 0, 1, 12, 4, 1], [4, 2, 4, 9,...  \n",
       "134998  [[5, 1, 5, 9, 3, 12, 6, 9, 6, 7, 6], [2, 3, 11...  \n",
       "134999  [[12, 11, 0, 6, 10, 2, 12, 5, 1, 11, 8, 11], [...  \n",
       "\n",
       "[135000 rows x 3 columns]"
      ]
     },
     "execution_count": 6,
     "metadata": {},
     "output_type": "execute_result"
    }
   ],
   "source": [
    "new_graph_df = df_mm[['nodes', 'edge_attrs', 'connectivity']]\n",
    "new_graph_df\n",
    "new_graph_df.to_json('./availiabe_for_graphcoder/graph.jsonl', orient='records', lines=True)"
   ]
  },
  {
   "cell_type": "code",
   "execution_count": 2,
   "metadata": {},
   "outputs": [],
   "source": [
    "con_path = '/data/LPJ/ICML25/graphgpt_dataset/HiVerilog_Eval/availiabe_for_graphcoder/conversations.json'\n",
    "graph_path = '/data/LPJ/ICML25/graphgpt_dataset/HiVerilog_Eval/availiabe_for_graphcoder/graph.jsonl'\n"
   ]
  },
  {
   "cell_type": "code",
   "execution_count": 4,
   "metadata": {},
   "outputs": [],
   "source": [
    "with open(con_path, 'r') as f:\n",
    "    data = json.load(f)\n",
    "\n",
    "graph = pd.read_json(graph_path, lines=True)\n"
   ]
  },
  {
   "cell_type": "code",
   "execution_count": 10,
   "metadata": {},
   "outputs": [
    {
     "data": {
      "text/plain": [
       "\"Given a submodules interconnection graph: \\n<graph>\\n, \\nnodes: [{'id': 0, 'content': 'clk', 'type': 'input port'}, {'id': 1, 'content': 'reset', 'type': 'input port'}, {'id': 2, 'content': 'out', 'type': 'output port'}, {'id': 3, 'content': 'init', 'type': 'submodule'}, {'id': 4, 'content': 'transition', 'type': 'submodule'}], \\nedge_attrs: [], \\nconnectivity: [[1, 0, 1, 0, 3, 4], [3, 3, 4, 4, 4, 2]]\\n, Implement a modular version of an 8-bit ring counter for cyclic state sequences.\\n\\nModule name:\\n    ring_counter\\n\\nInput ports:\\n    clk: Clock signal that drives the state transitions of the ring counter.\\n    reset: Reset signal to initialize the counter to its starting state.\\nOutput ports:\\n    out [7:0]: 8-bit output representing the current state of the ring counter. Only one bit is set high at any time, and the set bit cycles through the 8-bit output.\\n\\nInternal logic:\\nState Initialization: A submodule initializes the counter to its starting state when the reset signal is high, typically with the least significant bit (LSB) of out set to 1 (i.e., out = 8'b0000_0001).\\nState Transition: Another submodule handles the cyclic behavior of the ring counter, where the 1 shifts to the next bit in the sequence on each rising edge of the clock signal. After reaching the most significant bit (MSB), it wraps around to the LSB.\\nModularity: The design consists of separate submodules for initialization and state transition, promoting better organization and reusability of the code.\\nReset Behavior: When reset is high, the ring counter is reset to its initial state (out = 8'b0000_0001).\\n\\nGive me the complete code.\""
      ]
     },
     "execution_count": 10,
     "metadata": {},
     "output_type": "execute_result"
    }
   ],
   "source": [
    "data[1]['conversations'][0]['value']"
   ]
  },
  {
   "cell_type": "code",
   "execution_count": 9,
   "metadata": {},
   "outputs": [
    {
     "data": {
      "text/plain": [
       "[{'id': 0, 'content': 'clk', 'type': 'input port'},\n",
       " {'id': 1, 'content': 'reset', 'type': 'input port'},\n",
       " {'id': 2, 'content': 'out', 'type': 'output port'},\n",
       " {'id': 3, 'content': 'init', 'type': 'submodule'},\n",
       " {'id': 4, 'content': 'transition', 'type': 'submodule'}]"
      ]
     },
     "execution_count": 9,
     "metadata": {},
     "output_type": "execute_result"
    }
   ],
   "source": [
    "graph.iloc[1]['nodes']"
   ]
  }
 ],
 "metadata": {
  "kernelspec": {
   "display_name": "graphgpt",
   "language": "python",
   "name": "python3"
  },
  "language_info": {
   "codemirror_mode": {
    "name": "ipython",
    "version": 3
   },
   "file_extension": ".py",
   "mimetype": "text/x-python",
   "name": "python",
   "nbconvert_exporter": "python",
   "pygments_lexer": "ipython3",
   "version": "3.9.21"
  }
 },
 "nbformat": 4,
 "nbformat_minor": 2
}
