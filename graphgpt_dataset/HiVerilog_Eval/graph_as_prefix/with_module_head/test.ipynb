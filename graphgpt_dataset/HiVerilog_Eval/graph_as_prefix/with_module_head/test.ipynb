{
 "cells": [
  {
   "cell_type": "code",
   "execution_count": 1,
   "metadata": {},
   "outputs": [],
   "source": [
    "import json\n",
    "\n",
    "import pandas as pd\n"
   ]
  },
  {
   "cell_type": "code",
   "execution_count": 2,
   "metadata": {},
   "outputs": [],
   "source": [
    "conv_path = '/data/LPJ/ICML25/GraphCoder/graphgpt_dataset/train_with_eval_dataset/with_module_head/graph_as_prefix/availiable_for_graphcoder/conversations.json'\n",
    "graph_pth = '/data/LPJ/ICML25/GraphCoder/graphgpt_dataset/train_with_eval_dataset/with_module_head/graph_as_prefix/availiable_for_graphcoder/graph_output.jsonl'"
   ]
  },
  {
   "cell_type": "code",
   "execution_count": 3,
   "metadata": {},
   "outputs": [],
   "source": [
    "with open(conv_path, 'r') as f:\n",
    "    convs = json.load(f)\n",
    "\n"
   ]
  },
  {
   "cell_type": "code",
   "execution_count": 4,
   "metadata": {},
   "outputs": [
    {
     "data": {
      "text/plain": [
       "{'from': 'human',\n",
       " 'value': \"Given a submodules interconnection graph: \\n<graph>\\n, \\nnodes: [{'id': 0, 'content': 'clk', 'type': 'input port'}, {'id': 1, 'content': 'reset', 'type': 'input port'}, {'id': 2, 'content': 'up_down', 'type': 'input port'}, {'id': 3, 'content': 'count', 'type': 'output port'}, {'id': 4, 'content': 'u_counter_logic', 'type': 'submodule'}, {'id': 5, 'content': 'u_counter_register', 'type': 'submodule'}], \\nedge_attrs: [], \\nconnectivity: [[1, 2, 0, 5, 1, 0, 4, 5], [4, 4, 4, 4, 5, 5, 5, 3]]\\n, Module name:\\n    up_down_counter\\n\\nFunction:\\nA 16-bit counter that can increment or decrement based on control signals, implemented in a modular fashion.\\n\\nInput ports:\\n    - clk: Clock signal (1-bit), used to synchronize the counting process.\\n    - reset: Reset signal (1-bit), used to reset the counter to zero.\\n    - up_down: Control signal (1-bit), determines the counting direction.\\n    If up_down = 1, the counter increments; if up_down = 0, it decrements.\\n\\nOutput ports:\\n    - count [15:0]: 16-bit output representing the current counter value.\\n\\nImplementation:\\nThe module consists of two submodules: counter_logic and counter_register.\\n- The counter_logic module calculates the next count value based on the current count and control signals.\\n- The counter_register module updates the current count value on the rising edge of the clock signal or resets it based on the reset condition.\\nThe count output reflects the current value of the counter, which can range from 0 to 65535.\\n\\nGive me the complete code.\\nmodule up_down_counter (\\n    input wire clk,\\n    input wire reset,\\n    input wire up_down,\\n    output wire [15:0] count\\n);\"}"
      ]
     },
     "execution_count": 4,
     "metadata": {},
     "output_type": "execute_result"
    }
   ],
   "source": [
    "convs[0]['conversations'][0]"
   ]
  },
  {
   "cell_type": "code",
   "execution_count": 5,
   "metadata": {},
   "outputs": [],
   "source": [
    "for i in range(len(convs)):\n",
    "    convs[i]['conversations'] = [convs[i]['conversations'][0]]"
   ]
  },
  {
   "cell_type": "code",
   "execution_count": 7,
   "metadata": {},
   "outputs": [
    {
     "data": {
      "text/plain": [
       "{'from': 'human',\n",
       " 'value': \"Given a submodules interconnection graph: \\n<graph>\\n, \\nnodes: [{'id': 0, 'content': 'clk', 'type': 'input port'}, {'id': 1, 'content': 'rst', 'type': 'input port'}, {'id': 2, 'content': 'instr_mem', 'type': 'input port'}, {'id': 3, 'content': 'reg_file', 'type': 'input port'}, {'id': 4, 'content': 'res_reg_file', 'type': 'output port'}, {'id': 5, 'content': 'fetch', 'type': 'submodule'}, {'id': 6, 'content': 'decode', 'type': 'submodule'}, {'id': 7, 'content': 'execute', 'type': 'submodule'}, {'id': 8, 'content': 'memory', 'type': 'submodule'}, {'id': 9, 'content': 'writeback', 'type': 'submodule'}], \\nedge_attrs: [], \\nconnectivity: [[0, 2, 1, 5, 0, 0, 6, 3, 0, 7, 0, 8, 9], [5, 5, 5, 6, 6, 7, 7, 7, 8, 8, 9, 9, 4]]\\n, Implement a pipeline processor with 5 stages: Fetch, Decode, Execute, Memory, and Writeback.\\n\\nModule name:\\n    stagepipe5\\nInput ports:\\n    clk: Clock signal.\\n    rst: Reset signal, active high.\\n    instr_mem[31:0][0:31]: 32-element instruction memory with 32-bit instructions.\\n    reg_file[31:0][0:31]: 32-element register file with 32-bit registers.\\nOutput ports:\\n    res_reg_file[31:0][0:31]: 32-element result register file with 32-bit registers.\\n\\nImplementation:\\nIn the stagepipe5 module, five pipeline stages are instantiated: fetch_stage, decode_stage, execute_stage, memory_stage, and writeback_stage. The fetch_stage module fetches the next instruction from the instruction memory based on the program counter (pc). The decode_stage module decodes the instruction to identify the source registers (rs1, rs2), destination register (rd), and the operation (op). The execute_stage module performs the operation (addition or subtraction) on the values read from the register file and produces the result. The memory_stage module passes the ALU result to the next stage. Finally, the writeback_stage module writes the result back to the register file. The pc is updated in the fetch_stage to fetch the next instruction in the following cycle. The pipeline ensures continuous instruction processing by passing intermediate data between stages through pipeline registers.\\n\\nGive me the complete code.\\nmodule stagepipe5(\\n  input clk,\\n  input rst,\\n  input [31:0] instr_mem [0:31],\\n  input [31:0] reg_file [0:31],\\n  output [31:0] res_reg_file [0:31]\\n);\"}"
      ]
     },
     "execution_count": 7,
     "metadata": {},
     "output_type": "execute_result"
    }
   ],
   "source": [
    "convs[17]['conversations'][0]"
   ]
  },
  {
   "cell_type": "code",
   "execution_count": 8,
   "metadata": {},
   "outputs": [],
   "source": [
    "new_conv_path = '/data/LPJ/ICML25/GraphCoder/graphgpt_dataset/HiVerilog_Eval/graph_as_prefix/with_module_head/conversations.json'\n",
    "with open(new_conv_path, 'w') as f:\n",
    "    json.dump(convs, f)"
   ]
  },
  {
   "cell_type": "code",
   "execution_count": 9,
   "metadata": {},
   "outputs": [],
   "source": [
    "graph = pd.read_json(graph_pth, lines=True)\n"
   ]
  },
  {
   "cell_type": "code",
   "execution_count": 11,
   "metadata": {},
   "outputs": [],
   "source": [
    "graph.to_json('/data/LPJ/ICML25/GraphCoder/graphgpt_dataset/HiVerilog_Eval/graph_as_prefix/with_module_head/graph_output.jsonl', orient='records', lines=True)"
   ]
  }
 ],
 "metadata": {
  "kernelspec": {
   "display_name": "graphgpt",
   "language": "python",
   "name": "python3"
  },
  "language_info": {
   "codemirror_mode": {
    "name": "ipython",
    "version": 3
   },
   "file_extension": ".py",
   "mimetype": "text/x-python",
   "name": "python",
   "nbconvert_exporter": "python",
   "pygments_lexer": "ipython3",
   "version": "3.9.21"
  }
 },
 "nbformat": 4,
 "nbformat_minor": 2
}
