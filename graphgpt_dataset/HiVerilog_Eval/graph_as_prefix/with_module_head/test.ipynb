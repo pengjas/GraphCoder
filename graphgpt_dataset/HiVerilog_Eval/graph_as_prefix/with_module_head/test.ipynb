{
 "cells": [
  {
   "cell_type": "code",
   "execution_count": 1,
   "metadata": {},
   "outputs": [],
   "source": [
    "import json\n",
    "\n",
    "import pandas as pd\n"
   ]
  },
  {
   "cell_type": "code",
   "execution_count": 2,
   "metadata": {},
   "outputs": [],
   "source": [
    "conv_path = '/data/LPJ/ICML25/GraphCoder/graphgpt_dataset/HiVerilog_Eval/graph_as_prefix/without_module_head/availiabe_for_graphcoder/conversations.json'\n",
    "graph_pth = '/data/LPJ/ICML25/GraphCoder/graphgpt_dataset/HiVerilog_Eval/graph_as_prefix/without_module_head/availiabe_for_graphcoder/graph.jsonl'"
   ]
  },
  {
   "cell_type": "code",
   "execution_count": 3,
   "metadata": {},
   "outputs": [],
   "source": [
    "with open(conv_path, 'r') as f:\n",
    "    convs = json.load(f)\n",
    "\n"
   ]
  },
  {
   "cell_type": "code",
   "execution_count": 4,
   "metadata": {},
   "outputs": [],
   "source": [
    "import re\n",
    "\n",
    "def find_module_string(text):\n",
    "    # Regex pattern to find the string starting with \"module\" and ending with \";\"\n",
    "    # It uses non-greedy matching to find the shortest match\n",
    "    pattern = r\"module.*?;\"\n",
    "    \n",
    "    # Using re.DOTALL to make the dot match all characters including newline\n",
    "    match = re.search(pattern, text, re.DOTALL)\n",
    "    \n",
    "    if match:\n",
    "        return match.group()  # Returns the matched string\n",
    "    else:\n",
    "        return None  # No match found\n",
    "\n",
    "# # Example usage\n",
    "# input_text = \"\"\"\n",
    "# some initial text\n",
    "# module name=\"example1\" \\n   attribu\\nte=\"   value\";\n",
    "# some other text\n",
    "# module name=\"example2\" attribute=\"another value\";\n",
    "# \"\"\"\n",
    "\n",
    "# # Find the first occurrence\n",
    "# result = find_module_string(input_text)\n",
    "# print(\"Found substring:\", result)\n",
    "\n",
    "# # If you need to find all occurrences instead of just the first one, you can use re.findall\n",
    "# all_matches = re.findall(r\"module.*?;\", input_text, re.DOTALL)\n",
    "# print(\"All found substrings:\", all_matches)"
   ]
  },
  {
   "cell_type": "code",
   "execution_count": 5,
   "metadata": {},
   "outputs": [],
   "source": [
    "new_conv_path = '/data/LPJ/ICML25/GraphCoder/graphgpt_dataset/train_with_eval_dataset/with_module_head/graph_as_prefix/availiable_for_graphcoder/conversations.json'"
   ]
  },
  {
   "cell_type": "code",
   "execution_count": 6,
   "metadata": {},
   "outputs": [],
   "source": [
    "with open(new_conv_path, 'r') as f:\n",
    "    new_convs = json.load(f)\n"
   ]
  },
  {
   "cell_type": "code",
   "execution_count": 12,
   "metadata": {},
   "outputs": [
    {
     "data": {
      "text/plain": [
       "{'conversations': [{'from': 'human',\n",
       "   'value': \"Given a submodules interconnection graph: \\n<graph>\\n, \\nnodes: [{'id': 0, 'content': 'clk', 'type': 'input port'}, {'id': 1, 'content': 'rst', 'type': 'input port'}, {'id': 2, 'content': 'fetch', 'type': 'input port'}, {'id': 3, 'content': 'data', 'type': 'input port'}, {'id': 4, 'content': 'ins', 'type': 'output port'}, {'id': 5, 'content': 'ad1', 'type': 'output port'}, {'id': 6, 'content': 'ad2', 'type': 'output port'}, {'id': 7, 'content': 'ins1', 'type': 'submodule'}, {'id': 8, 'content': 'ins2', 'type': 'submodule'}], \\nedge_attrs: [], \\nconnectivity: [[0, 3, 2, 1, 0, 3, 2, 1, 7, 7, 8], [7, 7, 7, 7, 8, 8, 8, 8, 4, 5, 6]]\\n, An instruction register module designed to hold and process CPU instructions in a modular way. It captures incoming instructions from various sources and separates them into distinct fields for further processing using submodules.\\n\\nModule name:\\n    instr_reg\\n\\nInput ports:\\n    clk: Clock signal for synchronization.\\n    rst: Active low reset signal to initialize the register.\\n    fetch [1:0]: Control signal indicating the source of the instruction (1 for register, 2 for RAM/ROM).\\n    data [7:0]: 8-bit data input representing the instruction to be fetched.\\n\\nOutput ports:\\n    ins [2:0]: High 3 bits of the instruction, indicating the opcode or operation.\\n    ad1 [4:0]: Low 5 bits of the instruction, representing the register address.\\n    ad2 [7:0]: The full 8-bit data from the second source.\\n\\nImplementation:\\n    The instruction register is implemented using two submodules, each responsible for storing instructions from different sources.\\n    On the rising edge of the clock (clk), if the reset (rst) signal is low, both instruction outputs are initialized to zero.\\n    Based on the fetch signal:\\n    If fetch is 2'b01, the instruction is fetched from the data input into the first submodule (ins_p1).\\n    If fetch is 2'b10, the instruction is fetched from the data input into the second submodule (ins_p2).\\n    If neither condition is met, the previous values in both submodules are retained.\\n    The outputs ins, ad1, and ad2 are derived from the stored instructions in the respective submodules.\\n\\nGive me the complete code.\"}],\n",
       " 'task_id': 'instr_reg'}"
      ]
     },
     "execution_count": 12,
     "metadata": {},
     "output_type": "execute_result"
    }
   ],
   "source": [
    "convs[10]"
   ]
  },
  {
   "cell_type": "code",
   "execution_count": 13,
   "metadata": {},
   "outputs": [
    {
     "data": {
      "text/plain": [
       "{'conversations': [{'from': 'human',\n",
       "   'value': \"Given a submodules interconnection graph: \\n<graph>\\n, \\nnodes: [{'id': 0, 'content': 'clk', 'type': 'input port'}, {'id': 1, 'content': 'rst', 'type': 'input port'}, {'id': 2, 'content': 'fetch', 'type': 'input port'}, {'id': 3, 'content': 'data', 'type': 'input port'}, {'id': 4, 'content': 'ins', 'type': 'output port'}, {'id': 5, 'content': 'ad1', 'type': 'output port'}, {'id': 6, 'content': 'ad2', 'type': 'output port'}, {'id': 7, 'content': 'ins1', 'type': 'submodule'}, {'id': 8, 'content': 'ins2', 'type': 'submodule'}], \\nedge_attrs: [], \\nconnectivity: [[0, 3, 2, 1, 0, 3, 2, 1, 7, 7, 8], [7, 7, 7, 7, 8, 8, 8, 8, 4, 5, 6]]\\n, An instruction register module designed to hold and process CPU instructions in a modular way. It captures incoming instructions from various sources and separates them into distinct fields for further processing using submodules.\\n\\nModule name:\\n    instr_reg\\n\\nInput ports:\\n    clk: Clock signal for synchronization.\\n    rst: Active low reset signal to initialize the register.\\n    fetch [1:0]: Control signal indicating the source of the instruction (1 for register, 2 for RAM/ROM).\\n    data [7:0]: 8-bit data input representing the instruction to be fetched.\\n\\nOutput ports:\\n    ins [2:0]: High 3 bits of the instruction, indicating the opcode or operation.\\n    ad1 [4:0]: Low 5 bits of the instruction, representing the register address.\\n    ad2 [7:0]: The full 8-bit data from the second source.\\n\\nImplementation:\\n    The instruction register is implemented using two submodules, each responsible for storing instructions from different sources.\\n    On the rising edge of the clock (clk), if the reset (rst) signal is low, both instruction outputs are initialized to zero.\\n    Based on the fetch signal:\\n    If fetch is 2'b01, the instruction is fetched from the data input into the first submodule (ins_p1).\\n    If fetch is 2'b10, the instruction is fetched from the data input into the second submodule (ins_p2).\\n    If neither condition is met, the previous values in both submodules are retained.\\n    The outputs ins, ad1, and ad2 are derived from the stored instructions in the respective submodules.\\n\\nGive me the complete code.\\nmodule instr_reg (\\n    input clk,\\n    input rst,\\n    input [1:0] fetch,\\n    input [7:0] data,\\n    output [2:0] ins,\\n    output [4:0] ad1,\\n    output [7:0] ad2\\n);\"},\n",
       "  {'from': 'gpt',\n",
       "   'value': \"module instr_reg (\\n    input clk,\\n    input rst,\\n    input [1:0] fetch,\\n    input [7:0] data,\\n    output [2:0] ins,\\n    output [4:0] ad1,\\n    output [7:0] ad2\\n);\\n\\n    // Submodule for instruction storage\\n    wire [7:0] ins_p1_out, ins_p2_out;\\n\\n    instruction_storage ins1 (\\n        .clk(clk),\\n        .rst(rst),\\n        .fetch(fetch),\\n        .data(data),\\n        .ins_out(ins_p1_out),\\n        .fetch_code(2'b01) // Fetch from register\\n    );\\n\\n    instruction_storage ins2 (\\n        .clk(clk),\\n        .rst(rst),\\n        .fetch(fetch),\\n        .data(data),\\n        .ins_out(ins_p2_out),\\n        .fetch_code(2'b10) // Fetch from RAM/ROM\\n    );\\n\\n    // Output assignments\\n    assign ins = ins_p1_out[7:5]; // High 3 bits, instructions\\n    assign ad1 = ins_p1_out[4:0];  // Low 5 bits, register address\\n    assign ad2 = ins_p2_out;        // Full 8-bit data from second source\\n\\nendmodule\\n\\n// Submodule for instruction storage\\nmodule instruction_storage (\\n    input clk,\\n    input rst,\\n    input [1:0] fetch,\\n    input [7:0] data,\\n    output reg [7:0] ins_out,\\n    input [1:0] fetch_code // Code to distinguish fetch sources\\n);\\n\\n    always @(posedge clk or negedge rst) begin\\n        if (!rst) begin\\n            ins_out <= 8'd0; // Reset output\\n        end else begin\\n            if (fetch == fetch_code) begin\\n                ins_out <= data; // Capture data if fetch code matches\\n            end else begin\\n                ins_out <= ins_out; // Retain previous value\\n            end\\n        end\\n    end\\n\\nendmodule\"}]}"
      ]
     },
     "execution_count": 13,
     "metadata": {},
     "output_type": "execute_result"
    }
   ],
   "source": [
    "new_convs[10]"
   ]
  },
  {
   "cell_type": "code",
   "execution_count": 14,
   "metadata": {},
   "outputs": [],
   "source": [
    "for i in range(len(convs)):\n",
    "    convs[i]['conversations'] = [new_convs[i]['conversations'][0]]"
   ]
  },
  {
   "cell_type": "code",
   "execution_count": 16,
   "metadata": {},
   "outputs": [
    {
     "data": {
      "text/plain": [
       "{'conversations': [{'from': 'human',\n",
       "   'value': \"Given a submodules interconnection graph: \\n<graph>\\n, \\nnodes: [{'id': 0, 'content': 'clk', 'type': 'input port'}, {'id': 1, 'content': 'rst', 'type': 'input port'}, {'id': 2, 'content': 'fetch', 'type': 'input port'}, {'id': 3, 'content': 'data', 'type': 'input port'}, {'id': 4, 'content': 'ins', 'type': 'output port'}, {'id': 5, 'content': 'ad1', 'type': 'output port'}, {'id': 6, 'content': 'ad2', 'type': 'output port'}, {'id': 7, 'content': 'ins1', 'type': 'submodule'}, {'id': 8, 'content': 'ins2', 'type': 'submodule'}], \\nedge_attrs: [], \\nconnectivity: [[0, 3, 2, 1, 0, 3, 2, 1, 7, 7, 8], [7, 7, 7, 7, 8, 8, 8, 8, 4, 5, 6]]\\n, An instruction register module designed to hold and process CPU instructions in a modular way. It captures incoming instructions from various sources and separates them into distinct fields for further processing using submodules.\\n\\nModule name:\\n    instr_reg\\n\\nInput ports:\\n    clk: Clock signal for synchronization.\\n    rst: Active low reset signal to initialize the register.\\n    fetch [1:0]: Control signal indicating the source of the instruction (1 for register, 2 for RAM/ROM).\\n    data [7:0]: 8-bit data input representing the instruction to be fetched.\\n\\nOutput ports:\\n    ins [2:0]: High 3 bits of the instruction, indicating the opcode or operation.\\n    ad1 [4:0]: Low 5 bits of the instruction, representing the register address.\\n    ad2 [7:0]: The full 8-bit data from the second source.\\n\\nImplementation:\\n    The instruction register is implemented using two submodules, each responsible for storing instructions from different sources.\\n    On the rising edge of the clock (clk), if the reset (rst) signal is low, both instruction outputs are initialized to zero.\\n    Based on the fetch signal:\\n    If fetch is 2'b01, the instruction is fetched from the data input into the first submodule (ins_p1).\\n    If fetch is 2'b10, the instruction is fetched from the data input into the second submodule (ins_p2).\\n    If neither condition is met, the previous values in both submodules are retained.\\n    The outputs ins, ad1, and ad2 are derived from the stored instructions in the respective submodules.\\n\\nGive me the complete code.\\nmodule instr_reg (\\n    input clk,\\n    input rst,\\n    input [1:0] fetch,\\n    input [7:0] data,\\n    output [2:0] ins,\\n    output [4:0] ad1,\\n    output [7:0] ad2\\n);\"}],\n",
       " 'task_id': 'instr_reg'}"
      ]
     },
     "execution_count": 16,
     "metadata": {},
     "output_type": "execute_result"
    }
   ],
   "source": [
    "convs[10]"
   ]
  },
  {
   "cell_type": "code",
   "execution_count": 17,
   "metadata": {},
   "outputs": [],
   "source": [
    "graph = pd.read_json(graph_pth, lines=True)"
   ]
  },
  {
   "cell_type": "code",
   "execution_count": 18,
   "metadata": {},
   "outputs": [
    {
     "data": {
      "text/plain": [
       "nodes           [{'id': 0, 'content': 'clk', 'type': 'input po...\n",
       "edge_attrs                                                     []\n",
       "connectivity    [[0, 3, 2, 1, 0, 3, 2, 1, 7, 7, 8], [7, 7, 7, ...\n",
       "Name: 10, dtype: object"
      ]
     },
     "execution_count": 18,
     "metadata": {},
     "output_type": "execute_result"
    }
   ],
   "source": [
    "graph.iloc[10]"
   ]
  },
  {
   "cell_type": "code",
   "execution_count": 19,
   "metadata": {},
   "outputs": [],
   "source": [
    "conv_path = '/data/LPJ/ICML25/GraphCoder/graphgpt_dataset/HiVerilog_Eval/graph_as_prefix/with_module_head/availiable_for_graphcoder/conversations.json'"
   ]
  },
  {
   "cell_type": "code",
   "execution_count": 21,
   "metadata": {},
   "outputs": [],
   "source": [
    "with open(conv_path, 'w') as f:\n",
    "    json.dump(convs, f)"
   ]
  },
  {
   "cell_type": "code",
   "execution_count": 22,
   "metadata": {},
   "outputs": [],
   "source": [
    "with open(conv_path, 'r') as f:\n",
    "    convs = json.load(f)\n",
    "    "
   ]
  },
  {
   "cell_type": "code",
   "execution_count": 23,
   "metadata": {},
   "outputs": [
    {
     "data": {
      "text/plain": [
       "{'conversations': [{'from': 'human',\n",
       "   'value': \"Given a submodules interconnection graph: \\n<graph>\\n, \\nnodes: [{'id': 0, 'content': 'clk', 'type': 'input port'}, {'id': 1, 'content': 'rst', 'type': 'input port'}, {'id': 2, 'content': 'fetch', 'type': 'input port'}, {'id': 3, 'content': 'data', 'type': 'input port'}, {'id': 4, 'content': 'ins', 'type': 'output port'}, {'id': 5, 'content': 'ad1', 'type': 'output port'}, {'id': 6, 'content': 'ad2', 'type': 'output port'}, {'id': 7, 'content': 'ins1', 'type': 'submodule'}, {'id': 8, 'content': 'ins2', 'type': 'submodule'}], \\nedge_attrs: [], \\nconnectivity: [[0, 3, 2, 1, 0, 3, 2, 1, 7, 7, 8], [7, 7, 7, 7, 8, 8, 8, 8, 4, 5, 6]]\\n, An instruction register module designed to hold and process CPU instructions in a modular way. It captures incoming instructions from various sources and separates them into distinct fields for further processing using submodules.\\n\\nModule name:\\n    instr_reg\\n\\nInput ports:\\n    clk: Clock signal for synchronization.\\n    rst: Active low reset signal to initialize the register.\\n    fetch [1:0]: Control signal indicating the source of the instruction (1 for register, 2 for RAM/ROM).\\n    data [7:0]: 8-bit data input representing the instruction to be fetched.\\n\\nOutput ports:\\n    ins [2:0]: High 3 bits of the instruction, indicating the opcode or operation.\\n    ad1 [4:0]: Low 5 bits of the instruction, representing the register address.\\n    ad2 [7:0]: The full 8-bit data from the second source.\\n\\nImplementation:\\n    The instruction register is implemented using two submodules, each responsible for storing instructions from different sources.\\n    On the rising edge of the clock (clk), if the reset (rst) signal is low, both instruction outputs are initialized to zero.\\n    Based on the fetch signal:\\n    If fetch is 2'b01, the instruction is fetched from the data input into the first submodule (ins_p1).\\n    If fetch is 2'b10, the instruction is fetched from the data input into the second submodule (ins_p2).\\n    If neither condition is met, the previous values in both submodules are retained.\\n    The outputs ins, ad1, and ad2 are derived from the stored instructions in the respective submodules.\\n\\nGive me the complete code.\\nmodule instr_reg (\\n    input clk,\\n    input rst,\\n    input [1:0] fetch,\\n    input [7:0] data,\\n    output [2:0] ins,\\n    output [4:0] ad1,\\n    output [7:0] ad2\\n);\"}],\n",
       " 'task_id': 'instr_reg'}"
      ]
     },
     "execution_count": 23,
     "metadata": {},
     "output_type": "execute_result"
    }
   ],
   "source": [
    "convs[10]"
   ]
  },
  {
   "cell_type": "code",
   "execution_count": 24,
   "metadata": {},
   "outputs": [],
   "source": [
    "graph_path = '/data/LPJ/ICML25/GraphCoder/graphgpt_dataset/HiVerilog_Eval/graph_as_prefix/with_module_head/availiable_for_graphcoder/graph.jsonl'\n",
    "graph = pd.read_json(graph_path, lines=True)"
   ]
  },
  {
   "cell_type": "code",
   "execution_count": 25,
   "metadata": {},
   "outputs": [
    {
     "data": {
      "text/plain": [
       "nodes           [{'id': 0, 'content': 'clk', 'type': 'input po...\n",
       "edge_attrs                                                     []\n",
       "connectivity    [[0, 3, 2, 1, 0, 3, 2, 1, 7, 7, 8], [7, 7, 7, ...\n",
       "Name: 10, dtype: object"
      ]
     },
     "execution_count": 25,
     "metadata": {},
     "output_type": "execute_result"
    }
   ],
   "source": [
    "graph.iloc[10]"
   ]
  }
 ],
 "metadata": {
  "kernelspec": {
   "display_name": "graphgpt",
   "language": "python",
   "name": "python3"
  },
  "language_info": {
   "codemirror_mode": {
    "name": "ipython",
    "version": 3
   },
   "file_extension": ".py",
   "mimetype": "text/x-python",
   "name": "python",
   "nbconvert_exporter": "python",
   "pygments_lexer": "ipython3",
   "version": "3.9.21"
  }
 },
 "nbformat": 4,
 "nbformat_minor": 2
}
