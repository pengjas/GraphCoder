{
 "cells": [
  {
   "cell_type": "code",
   "execution_count": 1,
   "metadata": {},
   "outputs": [],
   "source": [
    "import pandas as pd\n",
    "import json\n",
    "\n",
    "# 读取 JSONL 文件\n",
    "# df_text = pd.read_json('/data/LPJ/ICML25/GraphCoder/graphgpt_dataset/gpt_dataset_construction/acl25_gpt4/shuffled_acl_conversations_v2.jsonl', lines=True)\n",
    "# df_mm = pd.read_json('/data/LPJ/ICML25/GraphCoder/graphgpt_dataset/gpt_dataset_construction/acl25_gpt4/shuffled_acl_graph_v2.jsonl', lines=True)\n",
    "conv_path = '/data/LPJ/ICML25/GraphCoder/graphgpt_dataset/HiVerilog_Eval/graph_as_prefix/with_module_head/availiable_for_graphcoder/conversations.json'\n",
    "graph_path = '/data/LPJ/ICML25/GraphCoder/graphgpt_dataset/HiVerilog_Eval/graph_as_prefix/with_module_head/availiable_for_graphcoder/graph.jsonl'\n",
    "with open(conv_path, 'r') as f:\n",
    "    conv = json.load(f)\n",
    "graph = pd.read_json(graph_path, lines=True)\n",
    "# # 显示 DataFrame\n",
    "# print(df)"
   ]
  },
  {
   "cell_type": "code",
   "execution_count": 2,
   "metadata": {},
   "outputs": [
    {
     "data": {
      "text/plain": [
       "34"
      ]
     },
     "execution_count": 2,
     "metadata": {},
     "output_type": "execute_result"
    }
   ],
   "source": [
    "num_lines = len(conv)\n",
    "num_lines"
   ]
  },
  {
   "cell_type": "code",
   "execution_count": 3,
   "metadata": {},
   "outputs": [
    {
     "data": {
      "text/plain": [
       "\"Given a submodules interconnection graph: \\n<graph>\\n, \\nnodes: [{'id': 0, 'content': 'clk', 'type': 'input port'}, {'id': 1, 'content': 'reset', 'type': 'input port'}, {'id': 2, 'content': 'up_down', 'type': 'input port'}, {'id': 3, 'content': 'count', 'type': 'output port'}, {'id': 4, 'content': 'u_counter_logic', 'type': 'submodule'}, {'id': 5, 'content': 'u_counter_register', 'type': 'submodule'}], \\nedge_attrs: [], \\nconnectivity: [[1, 2, 0, 5, 1, 0, 4, 5], [4, 4, 4, 4, 5, 5, 5, 3]]\\n, Module name:\\n    up_down_counter\\n\\nFunction:\\nA 16-bit counter that can increment or decrement based on control signals, implemented in a modular fashion.\\n\\nInput ports:\\n    - clk: Clock signal (1-bit), used to synchronize the counting process.\\n    - reset: Reset signal (1-bit), used to reset the counter to zero.\\n    - up_down: Control signal (1-bit), determines the counting direction.\\n    If up_down = 1, the counter increments; if up_down = 0, it decrements.\\n\\nOutput ports:\\n    - count [15:0]: 16-bit output representing the current counter value.\\n\\nImplementation:\\nThe module consists of two submodules: counter_logic and counter_register.\\n- The counter_logic module calculates the next count value based on the current count and control signals.\\n- The counter_register module updates the current count value on the rising edge of the clock signal or resets it based on the reset condition.\\nThe count output reflects the current value of the counter, which can range from 0 to 65535.\\n\\nGive me the complete code.\\nmodule up_down_counter (\\n    input wire clk,\\n    input wire reset,\\n    input wire up_down,\\n    output wire [15:0] count\\n);\""
      ]
     },
     "execution_count": 3,
     "metadata": {},
     "output_type": "execute_result"
    }
   ],
   "source": [
    "conv[0]['conversations'][0]['value']"
   ]
  },
  {
   "cell_type": "code",
   "execution_count": 8,
   "metadata": {},
   "outputs": [],
   "source": [
    "for i in range(num_lines):\n",
    "# for i in range(3):\n",
    "    t_graph = \"nodes: {}, \\nedge_attrs: {}, \\nconnectivity: {}\".format(graph['nodes'][i], graph['edge_attrs'][i], graph['connectivity'][i])\n",
    "    text_graph = \"\\n{}\\n, \".format(t_graph)\n",
    "    conv[i]['conversations'][0]['value'] = conv[i]['conversations'][0]['value'].replace(text_graph, \"\")\n",
    "    # print(json.dumps(new_line))\n"
   ]
  },
  {
   "cell_type": "code",
   "execution_count": 9,
   "metadata": {},
   "outputs": [
    {
     "data": {
      "text/plain": [
       "'Given a submodules interconnection graph: \\n<graph>\\n, Module name:\\n    up_down_counter\\n\\nFunction:\\nA 16-bit counter that can increment or decrement based on control signals, implemented in a modular fashion.\\n\\nInput ports:\\n    - clk: Clock signal (1-bit), used to synchronize the counting process.\\n    - reset: Reset signal (1-bit), used to reset the counter to zero.\\n    - up_down: Control signal (1-bit), determines the counting direction.\\n    If up_down = 1, the counter increments; if up_down = 0, it decrements.\\n\\nOutput ports:\\n    - count [15:0]: 16-bit output representing the current counter value.\\n\\nImplementation:\\nThe module consists of two submodules: counter_logic and counter_register.\\n- The counter_logic module calculates the next count value based on the current count and control signals.\\n- The counter_register module updates the current count value on the rising edge of the clock signal or resets it based on the reset condition.\\nThe count output reflects the current value of the counter, which can range from 0 to 65535.\\n\\nGive me the complete code.\\nmodule up_down_counter (\\n    input wire clk,\\n    input wire reset,\\n    input wire up_down,\\n    output wire [15:0] count\\n);'"
      ]
     },
     "execution_count": 9,
     "metadata": {},
     "output_type": "execute_result"
    }
   ],
   "source": [
    "conv[0]['conversations'][0]['value']\n"
   ]
  },
  {
   "cell_type": "code",
   "execution_count": 10,
   "metadata": {},
   "outputs": [],
   "source": [
    "with open('/data/LPJ/ICML25/GraphCoder/graphgpt_dataset/HiVerilog_Eval/graph_as_prefix/with_module_head/availiable_for_graphcoder/without_textualized_graph/conversations.json', 'w') as f:\n",
    "    # for line in new_text:\n",
    "    #     f.write(json.dumps(line) + '\\n')\n",
    "    json.dump(conv, f)"
   ]
  }
 ],
 "metadata": {
  "kernelspec": {
   "display_name": "graphgpt",
   "language": "python",
   "name": "python3"
  },
  "language_info": {
   "codemirror_mode": {
    "name": "ipython",
    "version": 3
   },
   "file_extension": ".py",
   "mimetype": "text/x-python",
   "name": "python",
   "nbconvert_exporter": "python",
   "pygments_lexer": "ipython3",
   "version": "3.9.21"
  }
 },
 "nbformat": 4,
 "nbformat_minor": 2
}
