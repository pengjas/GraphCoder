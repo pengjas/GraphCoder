{
 "cells": [
  {
   "cell_type": "code",
   "execution_count": 1,
   "metadata": {},
   "outputs": [],
   "source": [
    "import json\n",
    "import pandas as pd\n"
   ]
  },
  {
   "cell_type": "code",
   "execution_count": 2,
   "metadata": {},
   "outputs": [],
   "source": [
    "conv_path = '/data/LPJ/ICML25/GraphCoder/graphgpt_dataset/HiVerilog_Eval/graph_as_prefix/with_module_head/availiable_for_graphcoder/conversations.json'\n",
    "with open(conv_path, 'r') as f:\n",
    "    conv = json.load(f)"
   ]
  },
  {
   "cell_type": "code",
   "execution_count": 3,
   "metadata": {},
   "outputs": [
    {
     "data": {
      "text/plain": [
       "{'conversations': [{'from': 'human',\n",
       "   'value': \"Given a submodules interconnection graph: \\n<graph>\\n, \\nnodes: [{'id': 0, 'content': 'clk', 'type': 'input port'}, {'id': 1, 'content': 'reset', 'type': 'input port'}, {'id': 2, 'content': 'out', 'type': 'output port'}, {'id': 3, 'content': 'init', 'type': 'submodule'}, {'id': 4, 'content': 'transition', 'type': 'submodule'}], \\nedge_attrs: [], \\nconnectivity: [[1, 0, 1, 0, 3, 4], [3, 3, 4, 4, 4, 2]]\\n, Implement a modular version of an 8-bit ring counter for cyclic state sequences.\\n\\nModule name:\\n    ring_counter\\n\\nInput ports:\\n    clk: Clock signal that drives the state transitions of the ring counter.\\n    reset: Reset signal to initialize the counter to its starting state.\\nOutput ports:\\n    out [7:0]: 8-bit output representing the current state of the ring counter. Only one bit is set high at any time, and the set bit cycles through the 8-bit output.\\n\\nInternal logic:\\nState Initialization: A submodule initializes the counter to its starting state when the reset signal is high, typically with the least significant bit (LSB) of out set to 1 (i.e., out = 8'b0000_0001).\\nState Transition: Another submodule handles the cyclic behavior of the ring counter, where the 1 shifts to the next bit in the sequence on each rising edge of the clock signal. After reaching the most significant bit (MSB), it wraps around to the LSB.\\nModularity: The design consists of separate submodules for initialization and state transition, promoting better organization and reusability of the code.\\nReset Behavior: When reset is high, the ring counter is reset to its initial state (out = 8'b0000_0001).\\n\\nGive me the complete code.\\nmodule ring_counter (\\n    input wire clk,\\n    input wire reset,\\n    output wire [7:0] out\\n);\"}],\n",
       " 'task_id': 'ring_counter'}"
      ]
     },
     "execution_count": 3,
     "metadata": {},
     "output_type": "execute_result"
    }
   ],
   "source": [
    "conv[1]"
   ]
  },
  {
   "cell_type": "code",
   "execution_count": 4,
   "metadata": {},
   "outputs": [],
   "source": [
    "new_code_path = '/data/LPJ/ICML25/GraphCoder/graphgpt_dataset/HiVerilog_Eval/for_text_llm/graph_as_prefix/with_module_head/conversations.jsonl'"
   ]
  },
  {
   "cell_type": "code",
   "execution_count": 5,
   "metadata": {},
   "outputs": [],
   "source": [
    "system_prompt = 'Please act as a professional Verilog designer. '\n",
    "for i in range(len(conv)):\n",
    "    new_task = {}\n",
    "    new_task['task_id'] = conv[i]['task_id']\n",
    "    new_instruction = system_prompt + conv[i]['conversations'][0]['value'].replace('\\n<graph>\\n, ', '')\n",
    "    new_task['Instruction'] = new_instruction\n",
    "    with open(new_code_path, 'a') as f:\n",
    "        f.write(json.dumps(new_task) + '\\n')\n"
   ]
  },
  {
   "cell_type": "code",
   "execution_count": 6,
   "metadata": {},
   "outputs": [],
   "source": [
    "new_conv = pd.read_json(new_code_path, lines=True)"
   ]
  },
  {
   "cell_type": "code",
   "execution_count": 10,
   "metadata": {},
   "outputs": [
    {
     "name": "stdout",
     "output_type": "stream",
     "text": [
      "Please act as a professional Verilog designer. Given a submodules interconnection graph: \n",
      "nodes: [{'id': 0, 'content': 'clk', 'type': 'input port'}, {'id': 1, 'content': 'rst', 'type': 'input port'}, {'id': 2, 'content': 'fetch', 'type': 'input port'}, {'id': 3, 'content': 'data', 'type': 'input port'}, {'id': 4, 'content': 'ins', 'type': 'output port'}, {'id': 5, 'content': 'ad1', 'type': 'output port'}, {'id': 6, 'content': 'ad2', 'type': 'output port'}, {'id': 7, 'content': 'ins1', 'type': 'submodule'}, {'id': 8, 'content': 'ins2', 'type': 'submodule'}], \n",
      "edge_attrs: [], \n",
      "connectivity: [[0, 3, 2, 1, 0, 3, 2, 1, 7, 7, 8], [7, 7, 7, 7, 8, 8, 8, 8, 4, 5, 6]]\n",
      ", An instruction register module designed to hold and process CPU instructions in a modular way. It captures incoming instructions from various sources and separates them into distinct fields for further processing using submodules.\n",
      "\n",
      "Module name:\n",
      "    instr_reg\n",
      "\n",
      "Input ports:\n",
      "    clk: Clock signal for synchronization.\n",
      "    rst: Active low reset signal to initialize the register.\n",
      "    fetch [1:0]: Control signal indicating the source of the instruction (1 for register, 2 for RAM/ROM).\n",
      "    data [7:0]: 8-bit data input representing the instruction to be fetched.\n",
      "\n",
      "Output ports:\n",
      "    ins [2:0]: High 3 bits of the instruction, indicating the opcode or operation.\n",
      "    ad1 [4:0]: Low 5 bits of the instruction, representing the register address.\n",
      "    ad2 [7:0]: The full 8-bit data from the second source.\n",
      "\n",
      "Implementation:\n",
      "    The instruction register is implemented using two submodules, each responsible for storing instructions from different sources.\n",
      "    On the rising edge of the clock (clk), if the reset (rst) signal is low, both instruction outputs are initialized to zero.\n",
      "    Based on the fetch signal:\n",
      "    If fetch is 2'b01, the instruction is fetched from the data input into the first submodule (ins_p1).\n",
      "    If fetch is 2'b10, the instruction is fetched from the data input into the second submodule (ins_p2).\n",
      "    If neither condition is met, the previous values in both submodules are retained.\n",
      "    The outputs ins, ad1, and ad2 are derived from the stored instructions in the respective submodules.\n",
      "\n",
      "Give me the complete code.\n",
      "module instr_reg (\n",
      "    input clk,\n",
      "    input rst,\n",
      "    input [1:0] fetch,\n",
      "    input [7:0] data,\n",
      "    output [2:0] ins,\n",
      "    output [4:0] ad1,\n",
      "    output [7:0] ad2\n",
      ");\n"
     ]
    }
   ],
   "source": [
    "print(new_conv.iloc[10]['Instruction'])"
   ]
  }
 ],
 "metadata": {
  "kernelspec": {
   "display_name": "graphgpt",
   "language": "python",
   "name": "python3"
  },
  "language_info": {
   "codemirror_mode": {
    "name": "ipython",
    "version": 3
   },
   "file_extension": ".py",
   "mimetype": "text/x-python",
   "name": "python",
   "nbconvert_exporter": "python",
   "pygments_lexer": "ipython3",
   "version": "3.9.21"
  }
 },
 "nbformat": 4,
 "nbformat_minor": 2
}
