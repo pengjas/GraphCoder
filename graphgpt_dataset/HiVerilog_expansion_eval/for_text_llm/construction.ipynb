{
 "cells": [
  {
   "cell_type": "code",
   "execution_count": 1,
   "metadata": {},
   "outputs": [],
   "source": [
    "import json\n",
    "import pandas as pd\n"
   ]
  },
  {
   "cell_type": "code",
   "execution_count": 2,
   "metadata": {},
   "outputs": [],
   "source": [
    "conv_path = '/data/LPJ/ICML25/GraphCoder/graphgpt_dataset/HiVerilog_expansion_eval/with_head/conversations.json'\n",
    "with open(conv_path, 'r') as f:\n",
    "    conv = json.load(f)"
   ]
  },
  {
   "cell_type": "code",
   "execution_count": 3,
   "metadata": {},
   "outputs": [
    {
     "data": {
      "text/plain": [
       "91"
      ]
     },
     "execution_count": 3,
     "metadata": {},
     "output_type": "execute_result"
    }
   ],
   "source": [
    "conv[1]\n",
    "len(conv)"
   ]
  },
  {
   "cell_type": "code",
   "execution_count": 4,
   "metadata": {},
   "outputs": [],
   "source": [
    "new_code_path = '/data/LPJ/ICML25/GraphCoder/graphgpt_dataset/HiVerilog_expansion_eval/for_text_llm/conversations.jsonl'"
   ]
  },
  {
   "cell_type": "code",
   "execution_count": 5,
   "metadata": {},
   "outputs": [],
   "source": [
    "system_prompt = 'Please act as a professional Verilog designer. '\n",
    "for i in range(len(conv)):\n",
    "    new_task = {}\n",
    "    new_task['task_id'] = conv[i]['task_id']\n",
    "    new_instruction = system_prompt + conv[i]['conversations'][0]['value'].replace('\\n<graph>\\n, ', '')\n",
    "    new_task['Instruction'] = new_instruction\n",
    "    with open(new_code_path, 'a') as f:\n",
    "        f.write(json.dumps(new_task) + '\\n')\n"
   ]
  },
  {
   "cell_type": "code",
   "execution_count": 6,
   "metadata": {},
   "outputs": [],
   "source": [
    "new_conv = pd.read_json(new_code_path, lines=True)"
   ]
  },
  {
   "cell_type": "code",
   "execution_count": 7,
   "metadata": {},
   "outputs": [
    {
     "name": "stdout",
     "output_type": "stream",
     "text": [
      "Please act as a professional Verilog designer. Given a submodules interconnection graph: \n",
      "nodes: [{'id': 0, 'content': 'clk', 'type': 'input port'}, {'id': 1, 'content': 'control_signal', 'type': 'input port'}, {'id': 2, 'content': 'count', 'type': 'output port'}, {'id': 3, 'content': 'u_toggle_logic', 'type': 'submodule'}, {'id': 4, 'content': 'u_counter_logic', 'type': 'submodule'}, {'id': 5, 'content': 'u_counter_register', 'type': 'submodule'}], \n",
      "edge_attrs: [], \n",
      "connectivity: [[1, 3, 5, 1, 4, 0, 5], [3, 4, 4, 5, 5, 5, 2]]\n",
      ", Design a 32-bit binary ripple counter that operates on an active-high signal and provides a toggle output every clock cycle. The counter should increase when the signal is high and reset when low.\n",
      "\n",
      "Module name: binary_ripple_counter\n",
      "\n",
      "Function:\n",
      "A 32-bit binary ripple counter that toggles its count based on an external control signal. The counter increases with each clock pulse if the control signal is high; it resets to zero when the signal is low.\n",
      "\n",
      "Input ports:\n",
      "- clk: Clock signal (1-bit), used to synchronize the counting process.\n",
      "- control_signal: External control signal (1-bit), determines if the counter should count or reset.\n",
      "\n",
      "Output ports:\n",
      "- count [31:0]: 32-bit output representing the current counter value.\n",
      "\n",
      "Implementation:\n",
      "The module consists of three submodules: toggle_logic, counter_logic, and counter_register.\n",
      "- The toggle_logic module determines whether to toggle the count based on the control signal.\n",
      "- The counter_logic module calculates the next count value based on the current count and toggle conditions.\n",
      "- The counter_register module updates the current count value on the rising edge of the clock signal or resets it based on the control_signal condition.\n",
      "Give me the complete code.\n",
      "module binary_ripple_counter (\n",
      "    input wire clk,\n",
      "    input wire control_signal,\n",
      "    output wire [31:0] count\n",
      ");\n"
     ]
    }
   ],
   "source": [
    "print(new_conv.iloc[10]['Instruction'])"
   ]
  }
 ],
 "metadata": {
  "kernelspec": {
   "display_name": "graphgpt",
   "language": "python",
   "name": "python3"
  },
  "language_info": {
   "codemirror_mode": {
    "name": "ipython",
    "version": 3
   },
   "file_extension": ".py",
   "mimetype": "text/x-python",
   "name": "python",
   "nbconvert_exporter": "python",
   "pygments_lexer": "ipython3",
   "version": "3.9.21"
  }
 },
 "nbformat": 4,
 "nbformat_minor": 2
}
