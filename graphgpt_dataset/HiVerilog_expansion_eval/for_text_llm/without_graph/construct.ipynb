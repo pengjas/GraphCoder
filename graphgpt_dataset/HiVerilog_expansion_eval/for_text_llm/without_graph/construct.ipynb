{
 "cells": [
  {
   "cell_type": "code",
   "execution_count": 1,
   "metadata": {},
   "outputs": [],
   "source": [
    "import json\n",
    "import pandas as pd"
   ]
  },
  {
   "cell_type": "code",
   "execution_count": 2,
   "metadata": {},
   "outputs": [],
   "source": [
    "graph_path = \"/data/LPJ/ICML25/GraphCoder/graphgpt_dataset/HiVerilog_expansion_eval/with_head/clean_graph/graph.jsonl\"\n",
    "graph = pd.read_json(graph_path, lines=True)"
   ]
  },
  {
   "cell_type": "code",
   "execution_count": 9,
   "metadata": {},
   "outputs": [
    {
     "data": {
      "text/plain": [
       "'[[4, 3, 4, 3, 2, 6, 7], [6, 6, 7, 7, 5, 5, 5]]'"
      ]
     },
     "execution_count": 9,
     "metadata": {},
     "output_type": "execute_result"
    }
   ],
   "source": [
    "str(graph.iloc[0]['connectivity'])"
   ]
  },
  {
   "cell_type": "code",
   "execution_count": 4,
   "metadata": {},
   "outputs": [],
   "source": [
    "conv_path = \"/data/LPJ/ICML25/GraphCoder/graphgpt_dataset/HiVerilog_expansion_eval/for_text_llm/clean_graph/conversations.jsonl\"\n",
    "conv = pd.read_json(conv_path, lines=True)"
   ]
  },
  {
   "cell_type": "code",
   "execution_count": 6,
   "metadata": {},
   "outputs": [
    {
     "data": {
      "text/plain": [
       "'Please act as a professional Verilog designer. USER: \\nGiven a submodules interconnection graph: \\nnodes: [clk input, rst input, mode input, op1 input, op2 input, result output, u_adder submodule, u_subtractor submodule], \\nconnectivity: [[4, 3, 4, 3, 2, 6, 7], [6, 6, 7, 7, 5, 5, 5]]\\n, Implement a modular 32-bit Adder-Subtractor using Verilog. In the top module named `as_module`, instantiate submodules for addition and subtraction. The `as_module` orchestrates these submodules to perform either addition or subtraction based on a mode input.\\n\\nModule name:\\n    as_module\\n\\nInput ports:\\n    clk: Clock signal for synchronous operations.\\n    rst: Reset signal, high to reset, low otherwise.\\n    mode: Operation mode, 0 for addition and 1 for subtraction.\\n    op1: 32-bit input operand 1.\\n    op2: 32-bit input operand 2.\\n\\nOutput ports:\\n    result: 32-bit output, result of addition or subtraction.\\n\\nImplementation:\\nThe module includes:\\nAdder Submodule:\\nThis submodule takes two 32-bit inputs (op1 and op2) and produces a 32-bit result of their addition.\\nSubtractor Submodule:\\nThis submodule subtracts the second 32-bit input (op2) from the first (op1) and outputs the 32-bit result.\\nThe main as_module module uses the mode input to select and output the result from either the Adder or Subtractor submodule based on the operation mode.\\nGive me the complete code.\\nmodule as_module(\\n    input clk,\\n    input rst,\\n    input mode,\\n    input [31:0] op1,\\n    input [31:0] op2,\\n    output [31:0] result\\n); ASSISTANT: '"
      ]
     },
     "execution_count": 6,
     "metadata": {},
     "output_type": "execute_result"
    }
   ],
   "source": [
    "conv.iloc[0]['Instruction']"
   ]
  },
  {
   "cell_type": "code",
   "execution_count": 23,
   "metadata": {},
   "outputs": [],
   "source": [
    "for i in range(len(graph)):\n",
    "    node_list = [item for item in graph.iloc[i]['nodes']]\n",
    "    \n",
    "    replace_str = \"Given a submodules interconnection graph: \\n\" + \"nodes: \" + str(node_list).replace(\"'\", \"\") + \", \\nconnectivity: \" + str(graph.iloc[i]['connectivity']) + \"\\n, \"\n",
    "    # replace_str = \"Given a submodules interconnection graph: \\n\" + \"nodes: \" + str(graph.iloc[i]['nodes']) + \"\\nconnectivity: \" + str(graph.iloc[i]['connectivity']) + \"\\n, \"\n",
    "    conv.iloc[i]['Instruction'] = conv.iloc[i]['Instruction'].replace(replace_str, \"\")"
   ]
  },
  {
   "cell_type": "code",
   "execution_count": 25,
   "metadata": {},
   "outputs": [
    {
     "name": "stdout",
     "output_type": "stream",
     "text": [
      "Please act as a professional Verilog designer. USER: \n",
      "Design a 32-bit binary ripple counter that operates on an active-high signal and provides a toggle output every clock cycle. The counter should increase when the signal is high and reset when low.\n",
      "\n",
      "Module name: binary_ripple_counter\n",
      "\n",
      "Function:\n",
      "A 32-bit binary ripple counter that toggles its count based on an external control signal. The counter increases with each clock pulse if the control signal is high; it resets to zero when the signal is low.\n",
      "\n",
      "Input ports:\n",
      "- clk: Clock signal (1-bit), used to synchronize the counting process.\n",
      "- control_signal: External control signal (1-bit), determines if the counter should count or reset.\n",
      "\n",
      "Output ports:\n",
      "- count [31:0]: 32-bit output representing the current counter value.\n",
      "\n",
      "Implementation:\n",
      "The module consists of three submodules: toggle_logic, counter_logic, and counter_register.\n",
      "- The toggle_logic module determines whether to toggle the count based on the control signal.\n",
      "- The counter_logic module calculates the next count value based on the current count and toggle conditions.\n",
      "- The counter_register module updates the current count value on the rising edge of the clock signal or resets it based on the control_signal condition.\n",
      "Give me the complete code.\n",
      "module binary_ripple_counter (\n",
      "    input wire clk,\n",
      "    input wire control_signal,\n",
      "    output wire [31:0] count\n",
      "); ASSISTANT: \n"
     ]
    }
   ],
   "source": [
    "print(conv.iloc[10]['Instruction'])"
   ]
  },
  {
   "cell_type": "code",
   "execution_count": 26,
   "metadata": {},
   "outputs": [],
   "source": [
    "new_conv_path = \"/data/LPJ/ICML25/GraphCoder/graphgpt_dataset/HiVerilog_expansion_eval/for_text_llm/without_graph/conversations.jsonl\"\n",
    "conv.to_json(new_conv_path, orient='records', lines=True)"
   ]
  }
 ],
 "metadata": {
  "kernelspec": {
   "display_name": "graphgpt",
   "language": "python",
   "name": "python3"
  },
  "language_info": {
   "codemirror_mode": {
    "name": "ipython",
    "version": 3
   },
   "file_extension": ".py",
   "mimetype": "text/x-python",
   "name": "python",
   "nbconvert_exporter": "python",
   "pygments_lexer": "ipython3",
   "version": "3.9.21"
  }
 },
 "nbformat": 4,
 "nbformat_minor": 2
}
