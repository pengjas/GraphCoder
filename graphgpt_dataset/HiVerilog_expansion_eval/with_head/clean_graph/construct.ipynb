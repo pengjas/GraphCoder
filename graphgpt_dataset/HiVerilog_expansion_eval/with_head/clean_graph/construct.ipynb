{
 "cells": [
  {
   "cell_type": "code",
   "execution_count": 1,
   "metadata": {},
   "outputs": [],
   "source": [
    "import json\n",
    "import pandas as pd"
   ]
  },
  {
   "cell_type": "code",
   "execution_count": 2,
   "metadata": {},
   "outputs": [],
   "source": [
    "conv_path = \"/data/LPJ/ICML25/GraphCoder/graphgpt_dataset/HiVerilog_expansion_eval/with_head/conversations.json\"\n",
    "graph_path = \"/data/LPJ/ICML25/GraphCoder/graphgpt_dataset/HiVerilog_expansion_eval/with_head/graph.jsonl\"\n",
    "with open(conv_path, \"r\") as f:\n",
    "    conversations = json.load(f)\n",
    "\n",
    "graph = pd.read_json(graph_path, lines=True)"
   ]
  },
  {
   "cell_type": "code",
   "execution_count": 3,
   "metadata": {},
   "outputs": [],
   "source": [
    "new_conv_path = \"/data/LPJ/ICML25/GraphCoder/graphgpt_dataset/HiVerilog_expansion_eval/with_head/clean_graph/conversations.json\"\n",
    "new_graph_path = \"/data/LPJ/ICML25/GraphCoder/graphgpt_dataset/HiVerilog_expansion_eval/with_head/clean_graph/graph.jsonl\""
   ]
  },
  {
   "cell_type": "code",
   "execution_count": null,
   "metadata": {},
   "outputs": [
    {
     "data": {
      "text/plain": [
       "\"Given a submodules interconnection graph: \\n<graph>\\n, \\nnodes: [{'id': 0, 'content': 'clk', 'type': 'input port'}, {'id': 1, 'content': 'rst', 'type': 'input port'}, {'id': 2, 'content': 'mode', 'type': 'input port'}, {'id': 3, 'content': 'op1', 'type': 'input port'}, {'id': 4, 'content': 'op2', 'type': 'input port'}, {'id': 5, 'content': 'result', 'type': 'output port'}, {'id': 6, 'content': 'u_adder', 'type': 'submodule'}, {'id': 7, 'content': 'u_subtractor', 'type': 'submodule'}], \\nedge_attrs: [], \\nconnectivity: [[4, 3, 4, 3, 2, 6, 7], [6, 6, 7, 7, 5, 5, 5]]\\n, Implement a modular 32-bit Adder-Subtractor using Verilog. In the top module named `as_module`, instantiate submodules for addition and subtraction. The `as_module` orchestrates these submodules to perform either addition or subtraction based on a mode input.\\n\\nModule name:\\n    as_module\\n\\nInput ports:\\n    clk: Clock signal for synchronous operations.\\n    rst: Reset signal, high to reset, low otherwise.\\n    mode: Operation mode, 0 for addition and 1 for subtraction.\\n    op1: 32-bit input operand 1.\\n    op2: 32-bit input operand 2.\\n\\nOutput ports:\\n    result: 32-bit output, result of addition or subtraction.\\n\\nImplementation:\\nThe module includes:\\nAdder Submodule:\\nThis submodule takes two 32-bit inputs (op1 and op2) and produces a 32-bit result of their addition.\\nSubtractor Submodule:\\nThis submodule subtracts the second 32-bit input (op2) from the first (op1) and outputs the 32-bit result.\\nThe main as_module module uses the mode input to select and output the result from either the Adder or Subtractor submodule based on the operation mode.\\nGive me the complete code.\\nmodule as_module(\\n    input clk,\\n    input rst,\\n    input mode,\\n    input [31:0] op1,\\n    input [31:0] op2,\\n    output [31:0] result\\n);\""
      ]
     },
     "execution_count": 9,
     "metadata": {},
     "output_type": "execute_result"
    }
   ],
   "source": [
    "conversations[0]['conversations'][0]['value']\n"
   ]
  },
  {
   "cell_type": "code",
   "execution_count": 10,
   "metadata": {},
   "outputs": [
    {
     "data": {
      "text/plain": [
       "nodes           [{'id': 0, 'content': 'clk', 'type': 'input po...\n",
       "edge_attrs                                                     []\n",
       "connectivity       [[4, 3, 4, 3, 2, 6, 7], [6, 6, 7, 7, 5, 5, 5]]\n",
       "Name: 0, dtype: object"
      ]
     },
     "execution_count": 10,
     "metadata": {},
     "output_type": "execute_result"
    }
   ],
   "source": [
    "graph.iloc[0]"
   ]
  },
  {
   "cell_type": "code",
   "execution_count": 11,
   "metadata": {},
   "outputs": [
    {
     "data": {
      "text/plain": [
       "{'id': 0, 'content': 'clk', 'type': 'input port'}"
      ]
     },
     "execution_count": 11,
     "metadata": {},
     "output_type": "execute_result"
    }
   ],
   "source": [
    "graph.iloc[0]['nodes'][0]"
   ]
  },
  {
   "cell_type": "code",
   "execution_count": null,
   "metadata": {},
   "outputs": [],
   "source": [
    "for i in range(len(conversations)):\n",
    "    for j in range(len(graph.iloc[i]['nodes'])):\n",
    "        new_node = graph.iloc[i]['nodes'][j]['content'] + \" \" + graph.iloc[i]['nodes'][j]['type']\n",
    "        if \" port\" in new_node:\n",
    "            new_node = new_node.replace(\" port\", \"\")\n",
    "        conversations[i]['conversations'][0]['value'] = conversations[i]['conversations'][0]['value'].replace(\n",
    "            str(graph.iloc[i]['nodes'][j]), new_node \n",
    "        )\n"
   ]
  },
  {
   "cell_type": "code",
   "execution_count": 18,
   "metadata": {},
   "outputs": [],
   "source": [
    "for i in range(len(conversations)):\n",
    "    conversations[i]['conversations'][0]['value'] = conversations[i]['conversations'][0]['value'].replace(\n",
    "        \"\\nedge_attrs: [], \", \"\"\n",
    "    )"
   ]
  },
  {
   "cell_type": "code",
   "execution_count": 22,
   "metadata": {},
   "outputs": [],
   "source": [
    "for i in range(len(graph)):\n",
    "    for j in range(len(graph.iloc[i]['nodes'])):\n",
    "        if \"port\" in graph.iloc[i]['nodes'][j]['type']:\n",
    "            graph.iloc[i]['nodes'][j]['type'] = graph.iloc[i]['nodes'][j]['type'].replace(\" port\", \"\")\n",
    "        graph.iloc[i]['nodes'][j] = graph.iloc[i]['nodes'][j]['content'] + \" \" + graph.iloc[i]['nodes'][j]['type']\n",
    "    "
   ]
  },
  {
   "cell_type": "code",
   "execution_count": 23,
   "metadata": {},
   "outputs": [
    {
     "data": {
      "text/plain": [
       "nodes           [clk input, rst input, mode input, op1 input, ...\n",
       "edge_attrs                                                     []\n",
       "connectivity       [[4, 3, 4, 3, 2, 6, 7], [6, 6, 7, 7, 5, 5, 5]]\n",
       "Name: 0, dtype: object"
      ]
     },
     "execution_count": 23,
     "metadata": {},
     "output_type": "execute_result"
    }
   ],
   "source": [
    "graph.iloc[0]"
   ]
  },
  {
   "cell_type": "code",
   "execution_count": 24,
   "metadata": {},
   "outputs": [],
   "source": [
    "with open(new_conv_path, \"w\") as f:\n",
    "    json.dump(conversations, f)\n",
    "\n",
    "graph.to_json(new_graph_path, orient=\"records\", lines=True)"
   ]
  }
 ],
 "metadata": {
  "kernelspec": {
   "display_name": "graphgpt",
   "language": "python",
   "name": "python3"
  },
  "language_info": {
   "codemirror_mode": {
    "name": "ipython",
    "version": 3
   },
   "file_extension": ".py",
   "mimetype": "text/x-python",
   "name": "python",
   "nbconvert_exporter": "python",
   "pygments_lexer": "ipython3",
   "version": "3.9.21"
  }
 },
 "nbformat": 4,
 "nbformat_minor": 2
}
