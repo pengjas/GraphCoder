{
 "cells": [
  {
   "cell_type": "code",
   "execution_count": 1,
   "metadata": {},
   "outputs": [],
   "source": [
    "import json\n",
    "import pandas as pd"
   ]
  },
  {
   "cell_type": "code",
   "execution_count": 2,
   "metadata": {},
   "outputs": [],
   "source": [
    "clean_conv_path = \"/data/LPJ/ICML25/GraphCoder/graphgpt_dataset/HiVerilog_expansion_eval/with_head/clean_graph/conversations.json\"\n",
    "clean_graph_path = \"/data/LPJ/ICML25/GraphCoder/graphgpt_dataset/HiVerilog_expansion_eval/with_head/clean_graph/graph.jsonl\"\n",
    "original_conv_path = \"/data/LPJ/ICML25/GraphCoder/graphgpt_dataset/HiVerilog_expansion_eval/with_head/conversations.json\"\n",
    "original_graph_path = \"/data/LPJ/ICML25/GraphCoder/graphgpt_dataset/HiVerilog_expansion_eval/with_head/graph.jsonl\"\n",
    "with open(clean_conv_path, 'r') as f:\n",
    "    clean_conversations = json.load(f)\n",
    "with open(original_conv_path, 'r') as f:\n",
    "    original_conversations = json.load(f)\n",
    "\n",
    "clean_graph = pd.read_json(clean_graph_path, lines=True)\n",
    "original_graph = pd.read_json(original_graph_path, lines=True)"
   ]
  },
  {
   "cell_type": "code",
   "execution_count": 8,
   "metadata": {},
   "outputs": [
    {
     "data": {
      "text/plain": [
       "'Given a submodules interconnection graph: \\n<graph>\\n, \\nnodes: [clk input, rst input, a input, b input, c output, u_multiplier submodule, u_accumulator submodule], \\nconnectivity: [[2, 3, 5, 0, 1, 6], [5, 5, 6, 6, 6, 4]]\\n, Implement a modular Multiplying Accumulator for 32-bit integers. In the pe module, there are submodules for multiplication and accumulation. The pe module connects these submodules to perform the operations.\\n\\nModule name:\\n    pe\\n\\nInput ports:\\n    clk: Clock signal used for synchronous operations.\\n    rst: Reset signal. Defined as 1 for reset and 0 for reset signal inactive.\\n    a: 32-bit input operand A.\\n    b: 32-bit input operand B.\\n\\nOutput ports:\\n    c: 32-bit output representing the accumulated result.\\n\\nImplementation:\\nThe module includes:\\nMultiplier Submodule:\\nThis submodule takes two 32-bit inputs (a and b) and produces a 64-bit result of their multiplication.\\nAccumulator Submodule:\\nThis submodule accumulates the lower 32 bits of the multiplication result into a register, current_value. It resets the value to 0 when rst is high and adds the new multiplication result during each clock cycle when rst is low.\\nThe main pe module connects these submodules and drives the output c with the accumulated result.\\n\\nGive me the complete code.\\nmodule pe(\\n    input clk,\\n    input rst,\\n    input [31:0] a,\\n    input [31:0] b,\\n    output [31:0] c\\n);'"
      ]
     },
     "execution_count": 8,
     "metadata": {},
     "output_type": "execute_result"
    }
   ],
   "source": [
    "clean_conversations[66]['conversations'][0]['value']"
   ]
  },
  {
   "cell_type": "code",
   "execution_count": 9,
   "metadata": {},
   "outputs": [
    {
     "data": {
      "text/plain": [
       "\"Given a submodules interconnection graph: \\n<graph>\\n, \\nnodes: [{'id': 0, 'content': 'clk', 'type': 'input port'}, {'id': 1, 'content': 'rst', 'type': 'input port'}, {'id': 2, 'content': 'a', 'type': 'input port'}, {'id': 3, 'content': 'b', 'type': 'input port'}, {'id': 4, 'content': 'c', 'type': 'output port'}, {'id': 5, 'content': 'u_multiplier', 'type': 'submodule'}, {'id': 6, 'content': 'u_accumulator', 'type': 'submodule'}], \\nedge_attrs: [], \\nconnectivity: [[2, 3, 5, 0, 1, 6], [5, 5, 6, 6, 6, 4]]\\n, Implement a modular Multiplying Accumulator for 32-bit integers. In the pe module, there are submodules for multiplication and accumulation. The pe module connects these submodules to perform the operations.\\n\\nModule name:\\n    pe\\n\\nInput ports:\\n    clk: Clock signal used for synchronous operations.\\n    rst: Reset signal. Defined as 1 for reset and 0 for reset signal inactive.\\n    a: 32-bit input operand A.\\n    b: 32-bit input operand B.\\n\\nOutput ports:\\n    c: 32-bit output representing the accumulated result.\\n\\nImplementation:\\nThe module includes:\\nMultiplier Submodule:\\nThis submodule takes two 32-bit inputs (a and b) and produces a 64-bit result of their multiplication.\\nAccumulator Submodule:\\nThis submodule accumulates the lower 32 bits of the multiplication result into a register, current_value. It resets the value to 0 when rst is high and adds the new multiplication result during each clock cycle when rst is low.\\nThe main pe module connects these submodules and drives the output c with the accumulated result.\\n\\nGive me the complete code.\\nmodule pe(\\n    input clk,\\n    input rst,\\n    input [31:0] a,\\n    input [31:0] b,\\n    output [31:0] c\\n);\""
      ]
     },
     "execution_count": 9,
     "metadata": {},
     "output_type": "execute_result"
    }
   ],
   "source": [
    "original_conversations[66]['conversations'][0]['value']"
   ]
  },
  {
   "cell_type": "code",
   "execution_count": 10,
   "metadata": {},
   "outputs": [
    {
     "data": {
      "text/plain": [
       "nodes           [clk input, rst input, a input, b input, c out...\n",
       "edge_attrs                                                     []\n",
       "connectivity             [[2, 3, 5, 0, 1, 6], [5, 5, 6, 6, 6, 4]]\n",
       "Name: 66, dtype: object"
      ]
     },
     "execution_count": 10,
     "metadata": {},
     "output_type": "execute_result"
    }
   ],
   "source": [
    "clean_graph.iloc[66]"
   ]
  },
  {
   "cell_type": "code",
   "execution_count": 11,
   "metadata": {},
   "outputs": [
    {
     "data": {
      "text/plain": [
       "nodes           [{'id': 0, 'content': 'clk', 'type': 'input po...\n",
       "edge_attrs                                                     []\n",
       "connectivity             [[2, 3, 5, 0, 1, 6], [5, 5, 6, 6, 6, 4]]\n",
       "Name: 66, dtype: object"
      ]
     },
     "execution_count": 11,
     "metadata": {},
     "output_type": "execute_result"
    }
   ],
   "source": [
    "original_graph.iloc[66]"
   ]
  },
  {
   "cell_type": "code",
   "execution_count": 12,
   "metadata": {},
   "outputs": [
    {
     "name": "stdout",
     "output_type": "stream",
     "text": [
      "91 91 91 91\n"
     ]
    }
   ],
   "source": [
    "print(len(clean_conversations), len(original_conversations), len(clean_graph), len(original_graph))"
   ]
  }
 ],
 "metadata": {
  "kernelspec": {
   "display_name": "graphgpt",
   "language": "python",
   "name": "python3"
  },
  "language_info": {
   "codemirror_mode": {
    "name": "ipython",
    "version": 3
   },
   "file_extension": ".py",
   "mimetype": "text/x-python",
   "name": "python",
   "nbconvert_exporter": "python",
   "pygments_lexer": "ipython3",
   "version": "3.9.21"
  }
 },
 "nbformat": 4,
 "nbformat_minor": 2
}
