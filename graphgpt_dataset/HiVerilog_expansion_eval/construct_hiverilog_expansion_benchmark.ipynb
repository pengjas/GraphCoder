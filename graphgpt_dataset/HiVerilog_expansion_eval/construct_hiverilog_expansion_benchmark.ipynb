{
 "cells": [
  {
   "cell_type": "code",
   "execution_count": null,
   "metadata": {},
   "outputs": [],
   "source": [
    "import json\n",
    "import pandas as pd\n"
   ]
  },
  {
   "cell_type": "code",
   "execution_count": 1,
   "metadata": {},
   "outputs": [],
   "source": [
    "import os\n",
    "import pandas as pd\n",
    "import json\n",
    "\n",
    "# Define paths\n",
    "conv_path = '/data/LPJ/ICML25/GraphCoder/graphgpt_dataset/HiVerilog_expansion_eval/conversations.jsonl'\n",
    "graph_path = '/data/LPJ/ICML25/GraphCoder/graphgpt_dataset/HiVerilog_expansion_eval/graphs.jsonl'\n",
    "tb_path = '/data/LPJ/ICML25/GraphCoder/graphgpt_dataset/HiVerilog_expansion_eval/testbenches.jsonl'\n",
    "target_dir = '/data/LPJ/ICML25/GraphCoder/graphgpt_dataset/HiVerilog_expansion_eval/HiVerilog_benchmark_expansion'\n",
    "\n",
    "# Load data\n",
    "conv = pd.read_json(conv_path, lines=True)\n",
    "graph = pd.read_json(graph_path, lines=True)\n",
    "tb = pd.read_json(tb_path, lines=True)\n"
   ]
  },
  {
   "cell_type": "code",
   "execution_count": 5,
   "metadata": {},
   "outputs": [
    {
     "data": {
      "text/plain": [
       "str"
      ]
     },
     "execution_count": 5,
     "metadata": {},
     "output_type": "execute_result"
    }
   ],
   "source": [
    "type(tb.iloc[0]['testbench'][0])"
   ]
  },
  {
   "cell_type": "code",
   "execution_count": 2,
   "metadata": {},
   "outputs": [
    {
     "name": "stdout",
     "output_type": "stream",
     "text": [
      "Processing complete!\n"
     ]
    }
   ],
   "source": [
    "\n",
    "# Ensure target directory exists\n",
    "os.makedirs(target_dir, exist_ok=True)\n",
    "\n",
    "# Iterate through conversations\n",
    "for i in range(len(conv)):\n",
    "    # Create subdirectory\n",
    "    task_id = conv.iloc[i][\"task_id\"]\n",
    "    sub_dir = os.path.join(target_dir, task_id)\n",
    "    os.makedirs(sub_dir, exist_ok=True)\n",
    "\n",
    "    # Create design_description.txt\n",
    "    with open(os.path.join(sub_dir, \"design_description.txt\"), \"w\") as f:\n",
    "        f.write(\"Please act as a professional Verilog designer.\\n\" + conv.iloc[i][\"Instruction\"])\n",
    "\n",
    "    # Create graph.jsonl\n",
    "    with open(os.path.join(sub_dir, \"graph.jsonl\"), \"w\") as f:\n",
    "        json.dump(graph.iloc[i].to_dict(), f)\n",
    "\n",
    "    # Create makefile\n",
    "    makefile_content = f\"\"\".PHONY: vcs sim clean\n",
    "\n",
    "TEST_DESIGN = {task_id}\n",
    "\n",
    "vcs:\n",
    "    vcs -sverilog +v2k -timescale=1ns/1ns       \\\\\n",
    "    -debug_all         \t\t\t\t\t\t\t\\\\\n",
    "    -l compile.log \t\t\t\t\t\t\t\t\\\\\n",
    "    ${{TEST_DESIGN}}.v testbench.v\n",
    "\n",
    "sim:\n",
    "    ./simv -l run.log\n",
    "\n",
    "clean:\n",
    "    rm -rf *.log  csrc  simv*  *.key *.vpd  DVEfiles coverage *.vdb output.txt\"\"\"\n",
    "    with open(os.path.join(sub_dir, \"makefile\"), \"w\") as f:\n",
    "        f.write(makefile_content)\n",
    "\n",
    "    # Create testbench.v\n",
    "    with open(os.path.join(sub_dir, \"testbench.v\"), \"w\") as f:\n",
    "        f.write(tb.iloc[i][\"testbench\"][0])\n",
    "\n",
    "    # Create verified_{task_id}.v\n",
    "    with open(os.path.join(sub_dir, f\"verified_{task_id}.v\"), \"w\") as f:\n",
    "        f.write(conv.iloc[i][\"Response\"])\n",
    "\n",
    "print(\"Processing complete!\")"
   ]
  },
  {
   "cell_type": "code",
   "execution_count": null,
   "metadata": {},
   "outputs": [],
   "source": []
  }
 ],
 "metadata": {
  "kernelspec": {
   "display_name": "graphgpt",
   "language": "python",
   "name": "python3"
  },
  "language_info": {
   "codemirror_mode": {
    "name": "ipython",
    "version": 3
   },
   "file_extension": ".py",
   "mimetype": "text/x-python",
   "name": "python",
   "nbconvert_exporter": "python",
   "pygments_lexer": "ipython3",
   "version": "3.9.21"
  }
 },
 "nbformat": 4,
 "nbformat_minor": 2
}
