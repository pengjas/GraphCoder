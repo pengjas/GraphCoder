{
 "cells": [
  {
   "cell_type": "code",
   "execution_count": 1,
   "metadata": {},
   "outputs": [],
   "source": [
    "import pandas as pd\n",
    "import json"
   ]
  },
  {
   "cell_type": "code",
   "execution_count": 2,
   "metadata": {},
   "outputs": [],
   "source": [
    "new_conv_path = '/data/LPJ/ICML25/GraphCoder/graphgpt_dataset/training_dataset_eval/specific_tasks/similar_logic/instr_reg/v0/conversations_30.json'\n",
    "new_graph_path = '/data/LPJ/ICML25/GraphCoder/graphgpt_dataset/training_dataset_eval/specific_tasks/similar_logic/instr_reg/v0/graph_30.jsonl'"
   ]
  },
  {
   "cell_type": "code",
   "execution_count": 3,
   "metadata": {},
   "outputs": [],
   "source": [
    "with open(new_conv_path, 'r') as f:\n",
    "    new_conversation = json.load(f)\n",
    "graph = pd.read_json(new_graph_path, lines=True)\n"
   ]
  },
  {
   "cell_type": "code",
   "execution_count": 14,
   "metadata": {},
   "outputs": [
    {
     "name": "stdout",
     "output_type": "stream",
     "text": [
      "module clock_divider (\n",
      "    input clk,\n",
      "    input rst,\n",
      "    input [1:0] div_select,\n",
      "    output clk_out\n",
      ");\n",
      "\n",
      "    // Submodule outputs\n",
      "    wire clk_div2, clk_div4, clk_div8;\n",
      "\n",
      "    // Instantiate dividers\n",
      "    divide_by_2 div2 (\n",
      "        .clk(clk),\n",
      "        .rst(rst),\n",
      "        .clk_out(clk_div2)\n",
      "    );\n",
      "\n",
      "    divide_by_4 div4 (\n",
      "        .clk(clk),\n",
      "        .rst(rst),\n",
      "        .clk_out(clk_div4)\n",
      "    );\n",
      "\n",
      "    divide_by_8 div8 (\n",
      "        .clk(clk),\n",
      "        .rst(rst),\n",
      "        .clk_out(clk_div8)\n",
      "    );\n",
      "\n",
      "    // Output MUX\n",
      "    assign clk_out = (div_select == 2'b00) ? clk_div2 :\n",
      "                     (div_select == 2'b01) ? clk_div4 :\n",
      "                     clk_div8;\n",
      "\n",
      "endmodule\n",
      "\n",
      "// Submodule for divide by 2\n",
      "module divide_by_2 (\n",
      "    input clk,\n",
      "    input rst,\n",
      "    output reg clk_out\n",
      ");\n",
      "    always @(posedge clk or negedge rst) begin\n",
      "        if (!rst) begin\n",
      "            clk_out <= 0;\n",
      "        end else begin\n",
      "            clk_out <= ~clk_out;\n",
      "        end\n",
      "    end\n",
      "endmodule\n",
      "\n",
      "// Submodule for divide by 4\n",
      "module divide_by_4 (\n",
      "    input clk,\n",
      "    input rst,\n",
      "    output reg clk_out\n",
      ");\n",
      "    reg [1:0] count;\n",
      "    always @(posedge clk or negedge rst) begin\n",
      "        if (!rst) begin\n",
      "            count <= 2'd0;\n",
      "            clk_out <= 0;\n",
      "        end else begin\n",
      "            count <= count + 1;\n",
      "            if (count == 2'd3) begin\n",
      "                clk_out <= ~clk_out;\n",
      "                count <= 2'd0;\n",
      "            end\n",
      "        end\n",
      "    end\n",
      "endmodule\n",
      "\n",
      "// Submodule for divide by 8\n",
      "module divide_by_8 (\n",
      "    input clk,\n",
      "    input rst,\n",
      "    output reg clk_out\n",
      ");\n",
      "    reg [2:0] count;\n",
      "    always @(posedge clk or negedge rst) begin\n",
      "        if (!rst) begin\n",
      "            count <= 3'd0;\n",
      "            clk_out <= 0;\n",
      "        end else begin\n",
      "            count <= count + 1;\n",
      "            if (count == 3'd7) begin\n",
      "                clk_out <= ~clk_out;\n",
      "                count <= 3'd0;\n",
      "            end\n",
      "        end\n",
      "    end\n",
      "endmodule\n"
     ]
    }
   ],
   "source": [
    "for i in range(len(new_conversation)):\n",
    "    if new_conversation[i]['task_id'] ==23:\n",
    "        print(new_conversation[i]['conversations'][1]['value'])\n",
    "        break"
   ]
  },
  {
   "cell_type": "code",
   "execution_count": 10,
   "metadata": {},
   "outputs": [
    {
     "name": "stdout",
     "output_type": "stream",
     "text": [
      "0\n"
     ]
    }
   ],
   "source": [
    "print(new_conversation[0]['task_id'])\n"
   ]
  },
  {
   "cell_type": "code",
   "execution_count": null,
   "metadata": {},
   "outputs": [],
   "source": [
    "print(new_conversation[0]['conversations'][1]['value'])"
   ]
  }
 ],
 "metadata": {
  "kernelspec": {
   "display_name": "graphgpt",
   "language": "python",
   "name": "python3"
  },
  "language_info": {
   "codemirror_mode": {
    "name": "ipython",
    "version": 3
   },
   "file_extension": ".py",
   "mimetype": "text/x-python",
   "name": "python",
   "nbconvert_exporter": "python",
   "pygments_lexer": "ipython3",
   "version": "3.9.21"
  }
 },
 "nbformat": 4,
 "nbformat_minor": 2
}
