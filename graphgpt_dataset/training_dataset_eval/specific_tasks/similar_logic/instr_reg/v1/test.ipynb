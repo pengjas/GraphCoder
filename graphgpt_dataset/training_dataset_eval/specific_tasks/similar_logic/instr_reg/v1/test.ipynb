{
 "cells": [
  {
   "cell_type": "code",
   "execution_count": 1,
   "metadata": {},
   "outputs": [],
   "source": [
    "import pandas as pd\n",
    "import json"
   ]
  },
  {
   "cell_type": "code",
   "execution_count": 2,
   "metadata": {},
   "outputs": [],
   "source": [
    "new_conv_path = '/data/LPJ/ICML25/GraphCoder/graphgpt_dataset/training_dataset_eval/specific_tasks/similar_logic/instr_reg/v1/conversations_30.json'\n",
    "new_graph_path = '/data/LPJ/ICML25/GraphCoder/graphgpt_dataset/training_dataset_eval/specific_tasks/similar_logic/instr_reg/v1/graph_30.jsonl'"
   ]
  },
  {
   "cell_type": "code",
   "execution_count": 3,
   "metadata": {},
   "outputs": [],
   "source": [
    "with open(new_conv_path, 'r') as f:\n",
    "    new_conversation = json.load(f)\n",
    "graph = pd.read_json(new_graph_path, lines=True)\n"
   ]
  },
  {
   "cell_type": "code",
   "execution_count": 9,
   "metadata": {},
   "outputs": [
    {
     "name": "stdout",
     "output_type": "stream",
     "text": [
      "module data_capture_unit (\n",
      "    input clk,\n",
      "    input rst,\n",
      "    input [2:0] select,\n",
      "    input [15:0] data_in,\n",
      "    output [7:0] field1,\n",
      "    output [3:0] field2,\n",
      "    output [1:0] status\n",
      ");\n",
      "\n",
      "    // Submodule for data processing\n",
      "    wire [15:0] dp1_out, dp2_out;\n",
      "\n",
      "    data_processor dp1 (\n",
      "        .clk(clk),\n",
      "        .rst(rst),\n",
      "        .select(select),\n",
      "        .data_in(data_in),\n",
      "        .data_out(dp1_out),\n",
      "        .select_code(3'b001) // Priority peripherals\n",
      "    );\n",
      "\n",
      "    data_processor dp2 (\n",
      "        .clk(clk),\n",
      "        .rst(rst),\n",
      "        .select(select),\n",
      "        .data_in(data_in),\n",
      "        .data_out(dp2_out),\n",
      "        .select_code(3'b100) // Secondary peripherals\n",
      "    );\n",
      "\n",
      "    // Output assignments\n",
      "    assign field1 = dp1_out[15:8]; // High byte, priority data\n",
      "    assign field2 = dp1_out[3:0];  // Low nibble, minor data\n",
      "    assign status = dp2_out[1:0];  // Status from secondary data source\n",
      "\n",
      "endmodule\n",
      "\n",
      "// Submodule for data processing\n",
      "module data_processor (\n",
      "    input clk,\n",
      "    input rst,\n",
      "    input [2:0] select,\n",
      "    input [15:0] data_in,\n",
      "    output reg [15:0] data_out,\n",
      "    input [2:0] select_code // Code to distinguish data sources\n",
      ");\n",
      "\n",
      "    always @(posedge clk or negedge rst) begin\n",
      "        if (!rst) begin\n",
      "            data_out <= 16'd0; // Reset output\n",
      "        end else begin\n",
      "            if (select == select_code) begin\n",
      "                data_out <= data_in; // Capture data if select code matches\n",
      "            end else begin\n",
      "                data_out <= data_out; // Retain previous value\n",
      "            end\n",
      "        end\n",
      "    end\n",
      "\n",
      "endmodule\n"
     ]
    }
   ],
   "source": [
    "for i in range(len(new_conversation)):\n",
    "    if new_conversation[i]['task_id'] == 7:\n",
    "        print(new_conversation[i]['conversations'][1]['value'])\n",
    "        break"
   ]
  },
  {
   "cell_type": "code",
   "execution_count": 10,
   "metadata": {},
   "outputs": [
    {
     "name": "stdout",
     "output_type": "stream",
     "text": [
      "0\n"
     ]
    }
   ],
   "source": [
    "print(new_conversation[0]['task_id'])\n"
   ]
  },
  {
   "cell_type": "code",
   "execution_count": null,
   "metadata": {},
   "outputs": [],
   "source": [
    "print(new_conversation[0]['conversations'][1]['value'])"
   ]
  }
 ],
 "metadata": {
  "kernelspec": {
   "display_name": "graphgpt",
   "language": "python",
   "name": "python3"
  },
  "language_info": {
   "codemirror_mode": {
    "name": "ipython",
    "version": 3
   },
   "file_extension": ".py",
   "mimetype": "text/x-python",
   "name": "python",
   "nbconvert_exporter": "python",
   "pygments_lexer": "ipython3",
   "version": "3.9.21"
  }
 },
 "nbformat": 4,
 "nbformat_minor": 2
}
