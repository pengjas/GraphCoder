{
 "cells": [
  {
   "cell_type": "code",
   "execution_count": 1,
   "metadata": {},
   "outputs": [],
   "source": [
    "import json\n",
    "import pandas as pd"
   ]
  },
  {
   "cell_type": "code",
   "execution_count": 2,
   "metadata": {},
   "outputs": [],
   "source": [
    "conv_path = '/data/LPJ/ICML25/GraphCoder/graphgpt_dataset/gpt_dataset_construction/similar_logic/instr_reg/v0/without_head/conversations.json'\n",
    "graph_path = '/data/LPJ/ICML25/GraphCoder/graphgpt_dataset/gpt_dataset_construction/similar_logic/instr_reg/v0/without_head/graph.jsonl'"
   ]
  },
  {
   "cell_type": "code",
   "execution_count": 3,
   "metadata": {},
   "outputs": [
    {
     "name": "stdout",
     "output_type": "stream",
     "text": [
      "Found substring: module name=\"example1\" \n",
      "   attribu\n",
      "te=\"   value\";\n",
      "All found substrings: ['module name=\"example1\" \\n   attribu\\nte=\"   value\";', 'module name=\"example2\" attribute=\"another value\";']\n"
     ]
    }
   ],
   "source": [
    "import re\n",
    "\n",
    "def find_module_string(text):\n",
    "    # Regex pattern to find the string starting with \"module\" and ending with \";\"\n",
    "    # It uses non-greedy matching to find the shortest match\n",
    "    pattern = r\"module.*?;\"\n",
    "    \n",
    "    # Using re.DOTALL to make the dot match all characters including newline\n",
    "    match = re.search(pattern, text, re.DOTALL)\n",
    "    \n",
    "    if match:\n",
    "        return match.group()  # Returns the matched string\n",
    "    else:\n",
    "        return None  # No match found\n",
    "\n",
    "# Example usage\n",
    "input_text = \"\"\"\n",
    "some initial text\n",
    "module name=\"example1\" \\n   attribu\\nte=\"   value\";\n",
    "some other text\n",
    "module name=\"example2\" attribute=\"another value\";\n",
    "\"\"\"\n",
    "\n",
    "# Find the first occurrence\n",
    "result = find_module_string(input_text)\n",
    "print(\"Found substring:\", result)\n",
    "\n",
    "# If you need to find all occurrences instead of just the first one, you can use re.findall\n",
    "all_matches = re.findall(r\"module.*?;\", input_text, re.DOTALL)\n",
    "print(\"All found substrings:\", all_matches)"
   ]
  },
  {
   "cell_type": "code",
   "execution_count": 4,
   "metadata": {},
   "outputs": [],
   "source": [
    "graph = pd.read_json(graph_path, lines=True)\n",
    "with open(conv_path, 'r') as f:\n",
    "    conv = json.load(f)\n"
   ]
  },
  {
   "cell_type": "code",
   "execution_count": 5,
   "metadata": {},
   "outputs": [
    {
     "data": {
      "text/plain": [
       "\"Given a submodules interconnection graph: \\n<graph>\\n, \\nnodes: [{'id': 0, 'content': 'clk_high', 'type': 'input port'}, {'id': 1, 'content': 'rst', 'type': 'input port'}, {'id': 2, 'content': 'clk_out1', 'type': 'output port'}, {'id': 3, 'content': 'clk_out2', 'type': 'output port'}, {'id': 4, 'content': 'clk_out3', 'type': 'output port'}, {'id': 5, 'content': 'div1', 'type': 'submodule'}, {'id': 6, 'content': 'div2', 'type': 'submodule'}, {'id': 7, 'content': 'div3', 'type': 'submodule'}], \\nedge_attrs: [], \\nconnectivity: [[1, 0, 1, 0, 1, 0, 5, 6, 7], [5, 5, 6, 6, 7, 7, 2, 3, 4]]\\n, A digital clock divider module designed to generate multiple lower frequency clocks from a single high-frequency input clock. It features various output clocks derived from input frequencies using independent submodules for frequency division.\\n\\nModule name:\\n    clock_divider\\n\\nInput ports:\\n    clk_high: High-frequency clock input for the divider.\\n    rst: Active low reset signal to initialize all outputs.\\n\\nOutput ports:\\n    clk_out1: Output clock divided by 2.\\n    clk_out2: Output clock divided by 4.\\n    clk_out3: Output clock divided by 8.\\n\\nImplementation:\\n    The clock divider module is implemented using three submodules, each responsible for dividing the input clock frequency by different factors.\\n    On the negative edge of the rst, all output clocks are set to zero.\\n    The clk_out1 is derived by dividing the input clock by 2, clk_out2 by dividing the input clock by 4, and clk_out3 by dividing the input clock by 8.\\n    Each submodule handles its respective division independently, ensuring that the output clocks are correctly synchronized to the input.\\nGive me the complete code.\""
      ]
     },
     "execution_count": 5,
     "metadata": {},
     "output_type": "execute_result"
    }
   ],
   "source": [
    "conv[0]['conversations'][0]['value']"
   ]
  },
  {
   "cell_type": "code",
   "execution_count": 6,
   "metadata": {},
   "outputs": [
    {
     "data": {
      "text/plain": [
       "'module clock_divider (\\n    input clk_high,\\n    input rst,\\n    output clk_out1,\\n    output clk_out2,\\n    output clk_out3\\n);\\n\\n    // Submodule for dividing clock by 2\\n    wire clk_div2;\\n    clock_div_2 div1 (\\n        .clk_high(clk_high),\\n        .rst(rst),\\n        .clk_out(clk_div2)\\n    );\\n\\n    // Submodule for dividing clock by 4\\n    wire clk_div4;\\n    clock_div_4 div2 (\\n        .clk_high(clk_high),\\n        .rst(rst),\\n        .clk_out(clk_div4)\\n    );\\n\\n    // Submodule for dividing clock by 8\\n    wire clk_div8;\\n    clock_div_8 div3 (\\n        .clk_high(clk_high),\\n        .rst(rst),\\n        .clk_out(clk_div8)\\n    );\\n\\n    // Output assignments\\n    assign clk_out1 = clk_div2;\\n    assign clk_out2 = clk_div4;\\n    assign clk_out3 = clk_div8;\\n\\nendmodule\\n\\n// Submodule for dividing the clock by 2\\nmodule clock_div_2 (\\n    input clk_high,\\n    input rst,\\n    output reg clk_out\\n);\\n\\n    always @(posedge clk_high or negedge rst) begin\\n        if (!rst) begin\\n            clk_out <= 0;\\n        end else begin\\n            clk_out <= ~clk_out;\\n        end\\n    end\\n\\nendmodule\\n\\n// Submodule for dividing the clock by 4\\nmodule clock_div_4 (\\n    input clk_high,\\n    input rst,\\n    output reg clk_out\\n);\\n\\n    reg [1:0] count;\\n    always @(posedge clk_high or negedge rst) begin\\n        if (!rst) begin\\n            count <= 0;\\n            clk_out <= 0;\\n        end else begin\\n            count <= count + 1;\\n            if (count == 3)\\n                clk_out <= ~clk_out;\\n        end\\n    end\\n\\nendmodule\\n\\n// Submodule for dividing the clock by 8\\nmodule clock_div_8 (\\n    input clk_high,\\n    input rst,\\n    output reg clk_out\\n);\\n\\n    reg [2:0] count;\\n    always @(posedge clk_high or negedge rst) begin\\n        if (!rst) begin\\n            count <= 0;\\n            clk_out <= 0;\\n        end else begin\\n            count <= count + 1;\\n            if (count == 7)\\n                clk_out <= ~clk_out;\\n        end\\n    end\\n\\nendmodule'"
      ]
     },
     "execution_count": 6,
     "metadata": {},
     "output_type": "execute_result"
    }
   ],
   "source": [
    "conv[0]['conversations'][1]['value']"
   ]
  },
  {
   "cell_type": "code",
   "execution_count": 7,
   "metadata": {},
   "outputs": [
    {
     "data": {
      "text/plain": [
       "\"Given a submodules interconnection graph: \\n<graph>\\n, \\nnodes: [{'id': 0, 'content': 'clk_high', 'type': 'input port'}, {'id': 1, 'content': 'rst', 'type': 'input port'}, {'id': 2, 'content': 'clk_out1', 'type': 'output port'}, {'id': 3, 'content': 'clk_out2', 'type': 'output port'}, {'id': 4, 'content': 'clk_out3', 'type': 'output port'}, {'id': 5, 'content': 'div1', 'type': 'submodule'}, {'id': 6, 'content': 'div2', 'type': 'submodule'}, {'id': 7, 'content': 'div3', 'type': 'submodule'}], \\nedge_attrs: [], \\nconnectivity: [[1, 0, 1, 0, 1, 0, 5, 6, 7], [5, 5, 6, 6, 7, 7, 2, 3, 4]]\\n, A digital clock divider module designed to generate multiple lower frequency clocks from a single high-frequency input clock. It features various output clocks derived from input frequencies using independent submodules for frequency division.\\n\\nModule name:\\n    clock_divider\\n\\nInput ports:\\n    clk_high: High-frequency clock input for the divider.\\n    rst: Active low reset signal to initialize all outputs.\\n\\nOutput ports:\\n    clk_out1: Output clock divided by 2.\\n    clk_out2: Output clock divided by 4.\\n    clk_out3: Output clock divided by 8.\\n\\nImplementation:\\n    The clock divider module is implemented using three submodules, each responsible for dividing the input clock frequency by different factors.\\n    On the negative edge of the rst, all output clocks are set to zero.\\n    The clk_out1 is derived by dividing the input clock by 2, clk_out2 by dividing the input clock by 4, and clk_out3 by dividing the input clock by 8.\\n    Each submodule handles its respective division independently, ensuring that the output clocks are correctly synchronized to the input.\\nGive me the complete code.module clock_divider (\\n    input clk_high,\\n    input rst,\\n    output clk_out1,\\n    output clk_out2,\\n    output clk_out3\\n);\""
      ]
     },
     "execution_count": 7,
     "metadata": {},
     "output_type": "execute_result"
    }
   ],
   "source": [
    "head = find_module_string(conv[0]['conversations'][1]['value'])\n",
    "conv[0]['conversations'][0]['value'] + head"
   ]
  },
  {
   "cell_type": "code",
   "execution_count": 8,
   "metadata": {},
   "outputs": [],
   "source": [
    "for i in range(len(conv)):\n",
    "    module_head = find_module_string(conv[i]['conversations'][1]['value'])\n",
    "    conv[i]['conversations'][0]['value'] = conv[i]['conversations'][0]['value'] + '\\n' + module_head"
   ]
  },
  {
   "cell_type": "code",
   "execution_count": 9,
   "metadata": {},
   "outputs": [],
   "source": [
    "# conv[100]['conversations'][0]['value']"
   ]
  },
  {
   "cell_type": "code",
   "execution_count": 10,
   "metadata": {},
   "outputs": [],
   "source": [
    "new_conv_path = '/data/LPJ/ICML25/GraphCoder/graphgpt_dataset/gpt_dataset_construction/similar_logic/instr_reg/v0/with_head/conversations.json'\n",
    "\n"
   ]
  },
  {
   "cell_type": "code",
   "execution_count": 11,
   "metadata": {},
   "outputs": [],
   "source": [
    "with open(new_conv_path, 'w') as f:\n",
    "    json.dump(conv, f)"
   ]
  },
  {
   "cell_type": "code",
   "execution_count": 12,
   "metadata": {},
   "outputs": [],
   "source": [
    "import json\n",
    "with open(new_conv_path, 'r') as f:\n",
    "    new_conv = json.load(f)\n",
    "    \n"
   ]
  },
  {
   "cell_type": "code",
   "execution_count": 13,
   "metadata": {},
   "outputs": [
    {
     "data": {
      "text/plain": [
       "480"
      ]
     },
     "execution_count": 13,
     "metadata": {},
     "output_type": "execute_result"
    }
   ],
   "source": [
    "len(new_conv)"
   ]
  },
  {
   "cell_type": "code",
   "execution_count": null,
   "metadata": {},
   "outputs": [],
   "source": [
    "new_conv[100]['conversations'][0]['value']"
   ]
  },
  {
   "cell_type": "code",
   "execution_count": 32,
   "metadata": {},
   "outputs": [
    {
     "data": {
      "text/plain": [
       "2148"
      ]
     },
     "execution_count": 32,
     "metadata": {},
     "output_type": "execute_result"
    }
   ],
   "source": [
    "len(graph)"
   ]
  }
 ],
 "metadata": {
  "kernelspec": {
   "display_name": "graphgpt",
   "language": "python",
   "name": "python3"
  },
  "language_info": {
   "codemirror_mode": {
    "name": "ipython",
    "version": 3
   },
   "file_extension": ".py",
   "mimetype": "text/x-python",
   "name": "python",
   "nbconvert_exporter": "python",
   "pygments_lexer": "ipython3",
   "version": "3.9.21"
  }
 },
 "nbformat": 4,
 "nbformat_minor": 2
}
