{
 "cells": [
  {
   "cell_type": "code",
   "execution_count": 1,
   "metadata": {},
   "outputs": [],
   "source": [
    "import json\n",
    "import pandas as pd"
   ]
  },
  {
   "cell_type": "code",
   "execution_count": 2,
   "metadata": {},
   "outputs": [],
   "source": [
    "conv_path = '/data/LPJ/ICML25/GraphCoder/graphgpt_dataset/gpt_dataset_construction/similar_logic/instr_reg/v1/without_head/conversations.json'\n",
    "graph_path = '/data/LPJ/ICML25/GraphCoder/graphgpt_dataset/gpt_dataset_construction/similar_logic/instr_reg/v1/without_head/graph.jsonl'"
   ]
  },
  {
   "cell_type": "code",
   "execution_count": 3,
   "metadata": {},
   "outputs": [
    {
     "name": "stdout",
     "output_type": "stream",
     "text": [
      "Found substring: module name=\"example1\" \n",
      "   attribu\n",
      "te=\"   value\";\n",
      "All found substrings: ['module name=\"example1\" \\n   attribu\\nte=\"   value\";', 'module name=\"example2\" attribute=\"another value\";']\n"
     ]
    }
   ],
   "source": [
    "import re\n",
    "\n",
    "def find_module_string(text):\n",
    "    # Regex pattern to find the string starting with \"module\" and ending with \";\"\n",
    "    # It uses non-greedy matching to find the shortest match\n",
    "    pattern = r\"module.*?;\"\n",
    "    \n",
    "    # Using re.DOTALL to make the dot match all characters including newline\n",
    "    match = re.search(pattern, text, re.DOTALL)\n",
    "    \n",
    "    if match:\n",
    "        return match.group()  # Returns the matched string\n",
    "    else:\n",
    "        return None  # No match found\n",
    "\n",
    "# Example usage\n",
    "input_text = \"\"\"\n",
    "some initial text\n",
    "module name=\"example1\" \\n   attribu\\nte=\"   value\";\n",
    "some other text\n",
    "module name=\"example2\" attribute=\"another value\";\n",
    "\"\"\"\n",
    "\n",
    "# Find the first occurrence\n",
    "result = find_module_string(input_text)\n",
    "print(\"Found substring:\", result)\n",
    "\n",
    "# If you need to find all occurrences instead of just the first one, you can use re.findall\n",
    "all_matches = re.findall(r\"module.*?;\", input_text, re.DOTALL)\n",
    "print(\"All found substrings:\", all_matches)"
   ]
  },
  {
   "cell_type": "code",
   "execution_count": 4,
   "metadata": {},
   "outputs": [],
   "source": [
    "graph = pd.read_json(graph_path, lines=True)\n",
    "with open(conv_path, 'r') as f:\n",
    "    conv = json.load(f)\n"
   ]
  },
  {
   "cell_type": "code",
   "execution_count": 5,
   "metadata": {},
   "outputs": [
    {
     "data": {
      "text/plain": [
       "\"Given a submodules interconnection graph: \\n<graph>\\n, \\nnodes: [{'id': 0, 'content': 'clk', 'type': 'input port'}, {'id': 1, 'content': 'rst', 'type': 'input port'}, {'id': 2, 'content': 'ctrl_flag', 'type': 'input port'}, {'id': 3, 'content': 'bus_data', 'type': 'input port'}, {'id': 4, 'content': 'reg1_out', 'type': 'output port'}, {'id': 5, 'content': 'reg2_out', 'type': 'output port'}, {'id': 6, 'content': 'reg1', 'type': 'submodule'}, {'id': 7, 'content': 'reg2', 'type': 'submodule'}], \\nedge_attrs: [], \\nconnectivity: [[3, 2, 0, 1, 3, 2, 0, 1, 6, 7], [6, 6, 6, 6, 7, 7, 7, 7, 4, 5]]\\n, A data bus control module that processes and directs input signals across multiple registers based on control flags. The module captures data from a bus, storing it into appropriate registers, and extracts specific fields from the registers to be sent to output interfaces.\\n\\nModule name:\\n    data_bus_control\\n\\nInput ports:\\n    clk: Clock signal for synchronization.\\n    rst: Active low reset signal to initialize all registers.\\n    ctrl_flag [1:0]: Control flag determining the destination register for incoming data.\\n    bus_data [15:0]: 16-bit data input from the data bus.\\n\\nOutput ports:\\n    reg1_out [7:0]: Output from the first register representing the lower 8 bits of the bus data.\\n    reg2_out [7:0]: Output from the second register representing the upper 8 bits of the bus data.\\n\\nImplementation:\\n    The data bus control module utilizes two submodules, each responsible for storing parts of the bus data into different registers.\\n    On the rising edge of the clock (clk), if the reset (rst) is active, all outputs are set to zero.\\n    Based on the control flag (ctrl_flag):\\n    If ctrl_flag is 2'b01, the bus data is split and stored into the first register (reg1).\\n    If ctrl_flag is 2'b10, the bus data is split and stored into the second register (reg2).\\n    The outputs reg1_out and reg2_out are derived from the bus data stored in reg1 and reg2 respectively, with reg1_out receiving the lower 8 bits and reg2_out the upper 8 bits.\\nGive me the complete code.\""
      ]
     },
     "execution_count": 5,
     "metadata": {},
     "output_type": "execute_result"
    }
   ],
   "source": [
    "conv[0]['conversations'][0]['value']"
   ]
  },
  {
   "cell_type": "code",
   "execution_count": 6,
   "metadata": {},
   "outputs": [
    {
     "data": {
      "text/plain": [
       "\"module data_bus_control (\\n    input clk,\\n    input rst,\\n    input [1:0] ctrl_flag,\\n    input [15:0] bus_data,\\n    output [7:0] reg1_out,\\n    output [7:0] reg2_out\\n);\\n\\n    // Submodule for register storage\\n    wire [7:0] reg1_data, reg2_data;\\n\\n    register_storage reg1 (\\n        .clk(clk),\\n        .rst(rst),\\n        .ctrl_flag(ctrl_flag),\\n        .data_in(bus_data[7:0]), // Lower 8 bits of bus data\\n        .data_out(reg1_data),\\n        .ctrl_code(2'b01) // Control for first register\\n    );\\n\\n    register_storage reg2 (\\n        .clk(clk),\\n        .rst(rst),\\n        .ctrl_flag(ctrl_flag),\\n        .data_in(bus_data[15:8]), // Upper 8 bits of bus data\\n        .data_out(reg2_data),\\n        .ctrl_code(2'b10) // Control for second register\\n    );\\n\\n    // Output assignments\\n    assign reg1_out = reg1_data;\\n    assign reg2_out = reg2_data;\\n\\nendmodule\\n\\n// Submodule for register storage\\nmodule register_storage (\\n    input clk,\\n    input rst,\\n    input [1:0] ctrl_flag,\\n    input [7:0] data_in,\\n    output reg [7:0] data_out,\\n    input [1:0] ctrl_code // Code to distinguish control flags\\n);\\n\\n    always @(posedge clk or negedge rst) begin\\n        if (!rst) begin\\n            data_out <= 8'd0; // Reset output\\n        end else begin\\n            if (ctrl_flag == ctrl_code) begin\\n                data_out <= data_in; // Capture incoming data if control code matches\\n            end else begin\\n                data_out <= data_out; // Retain previous value\\n            end\\n        end\\n    end\\n\\nendmodule\""
      ]
     },
     "execution_count": 6,
     "metadata": {},
     "output_type": "execute_result"
    }
   ],
   "source": [
    "conv[0]['conversations'][1]['value']"
   ]
  },
  {
   "cell_type": "code",
   "execution_count": 7,
   "metadata": {},
   "outputs": [
    {
     "data": {
      "text/plain": [
       "\"Given a submodules interconnection graph: \\n<graph>\\n, \\nnodes: [{'id': 0, 'content': 'clk', 'type': 'input port'}, {'id': 1, 'content': 'rst', 'type': 'input port'}, {'id': 2, 'content': 'ctrl_flag', 'type': 'input port'}, {'id': 3, 'content': 'bus_data', 'type': 'input port'}, {'id': 4, 'content': 'reg1_out', 'type': 'output port'}, {'id': 5, 'content': 'reg2_out', 'type': 'output port'}, {'id': 6, 'content': 'reg1', 'type': 'submodule'}, {'id': 7, 'content': 'reg2', 'type': 'submodule'}], \\nedge_attrs: [], \\nconnectivity: [[3, 2, 0, 1, 3, 2, 0, 1, 6, 7], [6, 6, 6, 6, 7, 7, 7, 7, 4, 5]]\\n, A data bus control module that processes and directs input signals across multiple registers based on control flags. The module captures data from a bus, storing it into appropriate registers, and extracts specific fields from the registers to be sent to output interfaces.\\n\\nModule name:\\n    data_bus_control\\n\\nInput ports:\\n    clk: Clock signal for synchronization.\\n    rst: Active low reset signal to initialize all registers.\\n    ctrl_flag [1:0]: Control flag determining the destination register for incoming data.\\n    bus_data [15:0]: 16-bit data input from the data bus.\\n\\nOutput ports:\\n    reg1_out [7:0]: Output from the first register representing the lower 8 bits of the bus data.\\n    reg2_out [7:0]: Output from the second register representing the upper 8 bits of the bus data.\\n\\nImplementation:\\n    The data bus control module utilizes two submodules, each responsible for storing parts of the bus data into different registers.\\n    On the rising edge of the clock (clk), if the reset (rst) is active, all outputs are set to zero.\\n    Based on the control flag (ctrl_flag):\\n    If ctrl_flag is 2'b01, the bus data is split and stored into the first register (reg1).\\n    If ctrl_flag is 2'b10, the bus data is split and stored into the second register (reg2).\\n    The outputs reg1_out and reg2_out are derived from the bus data stored in reg1 and reg2 respectively, with reg1_out receiving the lower 8 bits and reg2_out the upper 8 bits.\\nGive me the complete code.module data_bus_control (\\n    input clk,\\n    input rst,\\n    input [1:0] ctrl_flag,\\n    input [15:0] bus_data,\\n    output [7:0] reg1_out,\\n    output [7:0] reg2_out\\n);\""
      ]
     },
     "execution_count": 7,
     "metadata": {},
     "output_type": "execute_result"
    }
   ],
   "source": [
    "head = find_module_string(conv[0]['conversations'][1]['value'])\n",
    "conv[0]['conversations'][0]['value'] + head"
   ]
  },
  {
   "cell_type": "code",
   "execution_count": 8,
   "metadata": {},
   "outputs": [],
   "source": [
    "for i in range(len(conv)):\n",
    "    module_head = find_module_string(conv[i]['conversations'][1]['value'])\n",
    "    conv[i]['conversations'][0]['value'] = conv[i]['conversations'][0]['value'] + '\\n' + module_head"
   ]
  },
  {
   "cell_type": "code",
   "execution_count": 9,
   "metadata": {},
   "outputs": [],
   "source": [
    "# conv[100]['conversations'][0]['value']"
   ]
  },
  {
   "cell_type": "code",
   "execution_count": 10,
   "metadata": {},
   "outputs": [],
   "source": [
    "new_conv_path = '/data/LPJ/ICML25/GraphCoder/graphgpt_dataset/gpt_dataset_construction/similar_logic/instr_reg/v1/with_head/conversations.json'\n",
    "\n"
   ]
  },
  {
   "cell_type": "code",
   "execution_count": 11,
   "metadata": {},
   "outputs": [],
   "source": [
    "with open(new_conv_path, 'w') as f:\n",
    "    json.dump(conv, f)"
   ]
  },
  {
   "cell_type": "code",
   "execution_count": 12,
   "metadata": {},
   "outputs": [],
   "source": [
    "import json\n",
    "with open(new_conv_path, 'r') as f:\n",
    "    new_conv = json.load(f)\n",
    "    \n"
   ]
  },
  {
   "cell_type": "code",
   "execution_count": 13,
   "metadata": {},
   "outputs": [
    {
     "data": {
      "text/plain": [
       "480"
      ]
     },
     "execution_count": 13,
     "metadata": {},
     "output_type": "execute_result"
    }
   ],
   "source": [
    "len(new_conv)"
   ]
  },
  {
   "cell_type": "code",
   "execution_count": null,
   "metadata": {},
   "outputs": [],
   "source": [
    "new_conv[100]['conversations'][0]['value']"
   ]
  },
  {
   "cell_type": "code",
   "execution_count": 32,
   "metadata": {},
   "outputs": [
    {
     "data": {
      "text/plain": [
       "2148"
      ]
     },
     "execution_count": 32,
     "metadata": {},
     "output_type": "execute_result"
    }
   ],
   "source": [
    "len(graph)"
   ]
  }
 ],
 "metadata": {
  "kernelspec": {
   "display_name": "graphgpt",
   "language": "python",
   "name": "python3"
  },
  "language_info": {
   "codemirror_mode": {
    "name": "ipython",
    "version": 3
   },
   "file_extension": ".py",
   "mimetype": "text/x-python",
   "name": "python",
   "nbconvert_exporter": "python",
   "pygments_lexer": "ipython3",
   "version": "3.9.21"
  }
 },
 "nbformat": 4,
 "nbformat_minor": 2
}
