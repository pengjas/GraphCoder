{
 "cells": [
  {
   "cell_type": "code",
   "execution_count": 1,
   "metadata": {},
   "outputs": [],
   "source": [
    "import json\n",
    "import pandas as pd"
   ]
  },
  {
   "cell_type": "code",
   "execution_count": 2,
   "metadata": {},
   "outputs": [],
   "source": [
    "conv_path = '/data/LPJ/ICML25/GraphCoder/graphgpt_dataset/gpt_dataset_construction/v0_customized_440/without_module_head/conversations.json'\n",
    "graph_path = '/data/LPJ/ICML25/GraphCoder/graphgpt_dataset/gpt_dataset_construction/v0_customized_440/without_module_head/graph.jsonl'"
   ]
  },
  {
   "cell_type": "code",
   "execution_count": 3,
   "metadata": {},
   "outputs": [
    {
     "name": "stdout",
     "output_type": "stream",
     "text": [
      "Found substring: module name=\"example1\" \n",
      "   attribu\n",
      "te=\"   value\";\n",
      "All found substrings: ['module name=\"example1\" \\n   attribu\\nte=\"   value\";', 'module name=\"example2\" attribute=\"another value\";']\n"
     ]
    }
   ],
   "source": [
    "import re\n",
    "\n",
    "def find_module_string(text):\n",
    "    # Regex pattern to find the string starting with \"module\" and ending with \";\"\n",
    "    # It uses non-greedy matching to find the shortest match\n",
    "    pattern = r\"module.*?;\"\n",
    "    \n",
    "    # Using re.DOTALL to make the dot match all characters including newline\n",
    "    match = re.search(pattern, text, re.DOTALL)\n",
    "    \n",
    "    if match:\n",
    "        return match.group()  # Returns the matched string\n",
    "    else:\n",
    "        return None  # No match found\n",
    "\n",
    "# Example usage\n",
    "input_text = \"\"\"\n",
    "some initial text\n",
    "module name=\"example1\" \\n   attribu\\nte=\"   value\";\n",
    "some other text\n",
    "module name=\"example2\" attribute=\"another value\";\n",
    "\"\"\"\n",
    "\n",
    "# Find the first occurrence\n",
    "result = find_module_string(input_text)\n",
    "print(\"Found substring:\", result)\n",
    "\n",
    "# If you need to find all occurrences instead of just the first one, you can use re.findall\n",
    "all_matches = re.findall(r\"module.*?;\", input_text, re.DOTALL)\n",
    "print(\"All found substrings:\", all_matches)"
   ]
  },
  {
   "cell_type": "code",
   "execution_count": 4,
   "metadata": {},
   "outputs": [],
   "source": [
    "graph = pd.read_json(graph_path, lines=True)\n",
    "with open(conv_path, 'r') as f:\n",
    "    conv = json.load(f)\n"
   ]
  },
  {
   "cell_type": "code",
   "execution_count": 5,
   "metadata": {},
   "outputs": [
    {
     "data": {
      "text/plain": [
       "\"Given a submodules interconnection graph: \\n<graph>\\n, \\nnodes: [{'id': 0, 'content': 'clk', 'type': 'input port'}, {'id': 1, 'content': 'rst', 'type': 'input port'}, {'id': 2, 'content': 'instruction', 'type': 'input port'}, {'id': 3, 'content': 'op_type', 'type': 'output port'}, {'id': 4, 'content': 'reg1_id', 'type': 'output port'}, {'id': 5, 'content': 'reg2_id', 'type': 'output port'}, {'id': 6, 'content': 'immediate', 'type': 'output port'}, {'id': 7, 'content': 'decode_opcode', 'type': 'submodule'}, {'id': 8, 'content': 'decode_regs', 'type': 'submodule'}, {'id': 9, 'content': 'decode_immediate', 'type': 'submodule'}], \\nedge_attrs: [], \\nconnectivity: [[2, 2, 2, 7, 8, 8, 9], [7, 8, 9, 3, 4, 5, 6]]\\n, An instruction decoder module designed for a RISC-V based CPU architecture. It takes an encoded instruction and decodes it into control signals for various CPU operations. The module utilizes separate decoder submodules for different parts of the instruction, such as operation type, register IDs, and immediate values.\\n\\nModule name:\\n    instr_decoder\\n\\nInput ports:\\n    clk: Clock signal for synchronization.\\n    rst: Active low reset signal.\\n    instruction [31:0]: 32-bit encoded instruction.\\n\\nOutput ports:\\n    op_type [6:0]: Operation type extracted from the instruction.\\n    reg1_id [4:0]: ID of the first register involved.\\n    reg2_id [4:0]: ID of the second register involved.\\n    immediate [11:0]: Immediate value extracted for certain instruction types.\\n\\nImplementation:\\n    The instruction decoder is composed of three submodules, each handling a specific part of the instruction decoding.\\n    On the rising edge of the clock (clk), if the reset (rst) signal is low, all outputs are initialized to zero.\\n    The operation type, register IDs, and immediate value are derived from the instruction input using distinct decoder submodules.\\nGive me the complete code.\""
      ]
     },
     "execution_count": 5,
     "metadata": {},
     "output_type": "execute_result"
    }
   ],
   "source": [
    "conv[0]['conversations'][0]['value']"
   ]
  },
  {
   "cell_type": "code",
   "execution_count": 6,
   "metadata": {},
   "outputs": [
    {
     "data": {
      "text/plain": [
       "'module instr_decoder (\\n    input clk,\\n    input rst,\\n    input [31:0] instruction,\\n    output [6:0] op_type,\\n    output [4:0] reg1_id,\\n    output [4:0] reg2_id,\\n    output [11:0] immediate\\n);\\n\\n    // Submodules for decoding parts of the instruction\\n    wire [6:0] op_type_decoded;\\n    wire [4:0] reg1_decoded, reg2_decoded;\\n    wire [11:0] immediate_decoded;\\n\\n    opcode_decoder decode_opcode (\\n        .instruction(instruction),\\n        .op_type(op_type_decoded)\\n    );\\n\\n    regs_decoder decode_regs (\\n        .instruction(instruction),\\n        .reg1_id(reg1_decoded),\\n        .reg2_id(reg2_decoded)\\n    );\\n\\n    immediate_decoder decode_immediate (\\n        .instruction(instruction),\\n        .immediate(immediate_decoded)\\n    );\\n\\n    // Output assignments\\n    assign op_type = op_type_decoded;\\n    assign reg1_id = reg1_decoded;\\n    assign reg2_id = reg2_decoded;\\n    assign immediate = immediate_decoded;\\n\\nendmodule\\n\\n// Submodule for opcode decoding\\nmodule opcode_decoder (\\n    input [31:0] instruction,\\n    output [6:0] op_type\\n);\\n\\n    assign op_type = instruction[6:0]; // Extract opcode\\n\\nendmodule\\n\\n// Submodule for register ID decoding\\nmodule regs_decoder (\\n    input [31:0] instruction,\\n    output [4:0] reg1_id,\\n    output [4:0] reg2_id\\n);\\n\\n    assign reg1_id = instruction[19:15]; // Extract first register ID\\n    assign reg2_id = instruction[24:20]; // Extract second register ID\\n\\nendmodule\\n\\n// Submodule for immediate value decoding\\nmodule immediate_decoder (\\n    input [31:0] instruction,\\n    output [11:0] immediate\\n);\\n\\n    assign immediate = instruction[31:20]; // Extract immediate value\\n\\nendmodule'"
      ]
     },
     "execution_count": 6,
     "metadata": {},
     "output_type": "execute_result"
    }
   ],
   "source": [
    "conv[0]['conversations'][1]['value']"
   ]
  },
  {
   "cell_type": "code",
   "execution_count": 7,
   "metadata": {},
   "outputs": [
    {
     "data": {
      "text/plain": [
       "\"Given a submodules interconnection graph: \\n<graph>\\n, \\nnodes: [{'id': 0, 'content': 'clk', 'type': 'input port'}, {'id': 1, 'content': 'rst', 'type': 'input port'}, {'id': 2, 'content': 'instruction', 'type': 'input port'}, {'id': 3, 'content': 'op_type', 'type': 'output port'}, {'id': 4, 'content': 'reg1_id', 'type': 'output port'}, {'id': 5, 'content': 'reg2_id', 'type': 'output port'}, {'id': 6, 'content': 'immediate', 'type': 'output port'}, {'id': 7, 'content': 'decode_opcode', 'type': 'submodule'}, {'id': 8, 'content': 'decode_regs', 'type': 'submodule'}, {'id': 9, 'content': 'decode_immediate', 'type': 'submodule'}], \\nedge_attrs: [], \\nconnectivity: [[2, 2, 2, 7, 8, 8, 9], [7, 8, 9, 3, 4, 5, 6]]\\n, An instruction decoder module designed for a RISC-V based CPU architecture. It takes an encoded instruction and decodes it into control signals for various CPU operations. The module utilizes separate decoder submodules for different parts of the instruction, such as operation type, register IDs, and immediate values.\\n\\nModule name:\\n    instr_decoder\\n\\nInput ports:\\n    clk: Clock signal for synchronization.\\n    rst: Active low reset signal.\\n    instruction [31:0]: 32-bit encoded instruction.\\n\\nOutput ports:\\n    op_type [6:0]: Operation type extracted from the instruction.\\n    reg1_id [4:0]: ID of the first register involved.\\n    reg2_id [4:0]: ID of the second register involved.\\n    immediate [11:0]: Immediate value extracted for certain instruction types.\\n\\nImplementation:\\n    The instruction decoder is composed of three submodules, each handling a specific part of the instruction decoding.\\n    On the rising edge of the clock (clk), if the reset (rst) signal is low, all outputs are initialized to zero.\\n    The operation type, register IDs, and immediate value are derived from the instruction input using distinct decoder submodules.\\nGive me the complete code.module instr_decoder (\\n    input clk,\\n    input rst,\\n    input [31:0] instruction,\\n    output [6:0] op_type,\\n    output [4:0] reg1_id,\\n    output [4:0] reg2_id,\\n    output [11:0] immediate\\n);\""
      ]
     },
     "execution_count": 7,
     "metadata": {},
     "output_type": "execute_result"
    }
   ],
   "source": [
    "head = find_module_string(conv[0]['conversations'][1]['value'])\n",
    "conv[0]['conversations'][0]['value'] + head"
   ]
  },
  {
   "cell_type": "code",
   "execution_count": 8,
   "metadata": {},
   "outputs": [],
   "source": [
    "for i in range(len(conv)):\n",
    "    module_head = find_module_string(conv[i]['conversations'][1]['value'])\n",
    "    conv[i]['conversations'][0]['value'] = conv[i]['conversations'][0]['value'] + '\\n' + module_head"
   ]
  },
  {
   "cell_type": "code",
   "execution_count": 9,
   "metadata": {},
   "outputs": [
    {
     "data": {
      "text/plain": [
       "'Given a submodules interconnection graph: \\n<graph>\\n, \\nnodes: [{\\'id\\': 0, \\'content\\': \\'clk\\', \\'type\\': \\'input port\\'}, {\\'id\\': 1, \\'content\\': \\'rst\\', \\'type\\': \\'input port\\'}, {\\'id\\': 2, \\'content\\': \\'enable\\', \\'type\\': \\'input port\\'}, {\\'id\\': 3, \\'content\\': \\'data_a\\', \\'type\\': \\'input port\\'}, {\\'id\\': 4, \\'content\\': \\'data_b\\', \\'type\\': \\'input port\\'}, {\\'id\\': 5, \\'content\\': \\'busy\\', \\'type\\': \\'output port\\'}, {\\'id\\': 6, \\'content\\': \\'acc_result\\', \\'type\\': \\'output port\\'}, {\\'id\\': 7, \\'content\\': \\'u_multiplier\\', \\'type\\': \\'submodule\\'}, {\\'id\\': 8, \\'content\\': \\'u_accumulator\\', \\'type\\': \\'submodule\\'}, {\\'id\\': 9, \\'content\\': \\'u_busy_signal\\', \\'type\\': \\'submodule\\'}], \\nedge_attrs: [], \\nconnectivity: [[3, 4, 2, 0, 1, 7, 2, 9, 8], [7, 7, 8, 8, 8, 8, 9, 5, 6]]\\n, Design a modular Verilog system for a 16-bit multiplier-accumulator (MAC). The circuit should sequentially multiply two 8-bit inputs and accumulate the result into a 16-bit register. The module should accept new pairs of inputs when an \"enable\" signal is high, and \"reset\" should clear the accumulator. Outputs include the 16-bit accumulated result and a \"busy\" signal that indicates when the module is processing.\\n\\nModule name:\\n    mac_accumulator\\nInput ports:\\n    clk: Clock input for synchronization.\\n    rst: Active-high reset signal.\\n    enable: Active-high signal to initiate processing of inputs.\\n    data_a[7:0]: First 8-bit input data for multiplication.\\n    data_b[7:0]: Second 8-bit input data for multiplication.\\nOutput ports:\\n    busy: Output signal indicating when the module is processing a pair of data.\\n    acc_result[15:0]: 16-bit output data representing the accumulated product.\\n\\nImplementation:\\nThe design consists of the following submodules:\\nMultiplier Module: Multiplies the input data_a and data_b, producing a 16-bit result.\\nAccumulator Module: Accumulates the results of the multipliers and holds the accumulated result.\\nBusy Signal Generator: Generates the busy signal based on the enable signal and internal processing state.\\nGive me the complete code.\\nmodule mac_accumulator (\\n    input               clk,\\n    input               rst,\\n    input               enable,\\n    input       [7:0]   data_a,\\n    input       [7:0]   data_b,\\n\\n    output              busy,\\n    output      [15:0]  acc_result\\n);'"
      ]
     },
     "execution_count": 9,
     "metadata": {},
     "output_type": "execute_result"
    }
   ],
   "source": [
    "conv[100]['conversations'][0]['value']"
   ]
  },
  {
   "cell_type": "code",
   "execution_count": 10,
   "metadata": {},
   "outputs": [],
   "source": [
    "new_conv_path = '/data/LPJ/ICML25/GraphCoder/graphgpt_dataset/gpt_dataset_construction/v0_customized_440/with_module_head/conversations.json'\n",
    "\n"
   ]
  },
  {
   "cell_type": "code",
   "execution_count": 11,
   "metadata": {},
   "outputs": [],
   "source": [
    "with open(new_conv_path, 'w') as f:\n",
    "    json.dump(conv, f)"
   ]
  },
  {
   "cell_type": "code",
   "execution_count": 12,
   "metadata": {},
   "outputs": [],
   "source": [
    "import json\n",
    "with open(new_conv_path, 'r') as f:\n",
    "    new_conv = json.load(f)\n",
    "    \n"
   ]
  },
  {
   "cell_type": "code",
   "execution_count": 13,
   "metadata": {},
   "outputs": [
    {
     "data": {
      "text/plain": [
       "480"
      ]
     },
     "execution_count": 13,
     "metadata": {},
     "output_type": "execute_result"
    }
   ],
   "source": [
    "len(new_conv)"
   ]
  },
  {
   "cell_type": "code",
   "execution_count": null,
   "metadata": {},
   "outputs": [],
   "source": [
    "new_conv[100]['conversations'][0]['value']"
   ]
  },
  {
   "cell_type": "code",
   "execution_count": 32,
   "metadata": {},
   "outputs": [
    {
     "data": {
      "text/plain": [
       "2148"
      ]
     },
     "execution_count": 32,
     "metadata": {},
     "output_type": "execute_result"
    }
   ],
   "source": [
    "len(graph)"
   ]
  }
 ],
 "metadata": {
  "kernelspec": {
   "display_name": "graphgpt",
   "language": "python",
   "name": "python3"
  },
  "language_info": {
   "codemirror_mode": {
    "name": "ipython",
    "version": 3
   },
   "file_extension": ".py",
   "mimetype": "text/x-python",
   "name": "python",
   "nbconvert_exporter": "python",
   "pygments_lexer": "ipython3",
   "version": "3.9.21"
  }
 },
 "nbformat": 4,
 "nbformat_minor": 2
}
