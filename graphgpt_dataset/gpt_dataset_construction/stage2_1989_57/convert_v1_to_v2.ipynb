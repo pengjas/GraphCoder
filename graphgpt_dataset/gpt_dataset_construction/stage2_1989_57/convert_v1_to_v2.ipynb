{
 "cells": [
  {
   "cell_type": "code",
   "execution_count": 1,
   "metadata": {},
   "outputs": [],
   "source": [
    "import json\n",
    "import pandas as pd"
   ]
  },
  {
   "cell_type": "code",
   "execution_count": 2,
   "metadata": {},
   "outputs": [],
   "source": [
    "conv_path = '/data/LPJ/ICML25/GraphCoder/graphgpt_dataset/gpt_dataset_construction/stage2_1989_57/without_head/conversations.json'\n",
    "graph_path = '/data/LPJ/ICML25/GraphCoder/graphgpt_dataset/gpt_dataset_construction/stage2_1989_57/without_head/graph.jsonl'"
   ]
  },
  {
   "cell_type": "code",
   "execution_count": 3,
   "metadata": {},
   "outputs": [
    {
     "name": "stdout",
     "output_type": "stream",
     "text": [
      "Found substring: module name=\"example1\" \n",
      "   attribu\n",
      "te=\"   value\";\n",
      "All found substrings: ['module name=\"example1\" \\n   attribu\\nte=\"   value\";', 'module name=\"example2\" attribute=\"another value\";']\n"
     ]
    }
   ],
   "source": [
    "import re\n",
    "\n",
    "def find_module_string(text):\n",
    "    # Regex pattern to find the string starting with \"module\" and ending with \";\"\n",
    "    # It uses non-greedy matching to find the shortest match\n",
    "    pattern = r\"module.*?;\"\n",
    "    \n",
    "    # Using re.DOTALL to make the dot match all characters including newline\n",
    "    match = re.search(pattern, text, re.DOTALL)\n",
    "    \n",
    "    if match:\n",
    "        return match.group()  # Returns the matched string\n",
    "    else:\n",
    "        return None  # No match found\n",
    "\n",
    "# Example usage\n",
    "input_text = \"\"\"\n",
    "some initial text\n",
    "module name=\"example1\" \\n   attribu\\nte=\"   value\";\n",
    "some other text\n",
    "module name=\"example2\" attribute=\"another value\";\n",
    "\"\"\"\n",
    "\n",
    "# Find the first occurrence\n",
    "result = find_module_string(input_text)\n",
    "print(\"Found substring:\", result)\n",
    "\n",
    "# If you need to find all occurrences instead of just the first one, you can use re.findall\n",
    "all_matches = re.findall(r\"module.*?;\", input_text, re.DOTALL)\n",
    "print(\"All found substrings:\", all_matches)"
   ]
  },
  {
   "cell_type": "code",
   "execution_count": 4,
   "metadata": {},
   "outputs": [],
   "source": [
    "graph = pd.read_json(graph_path, lines=True)\n",
    "with open(conv_path, 'r') as f:\n",
    "    conv = json.load(f)\n"
   ]
  },
  {
   "cell_type": "code",
   "execution_count": 5,
   "metadata": {},
   "outputs": [
    {
     "data": {
      "text/plain": [
       "\"Given a submodules interconnection graph: \\n<graph>\\n, \\nnodes: [{'id': 0, 'content': 'clk', 'type': 'input port'}, {'id': 1, 'content': 'rst', 'type': 'input port'}, {'id': 2, 'content': 'a', 'type': 'input port'}, {'id': 3, 'content': 'b', 'type': 'input port'}, {'id': 4, 'content': 'opcode', 'type': 'input port'}, {'id': 5, 'content': 'result', 'type': 'output port'}, {'id': 6, 'content': 'error', 'type': 'output port'}, {'id': 7, 'content': 'u_adder', 'type': 'submodule'}, {'id': 8, 'content': 'u_subtractor', 'type': 'submodule'}, {'id': 9, 'content': 'u_and', 'type': 'submodule'}, {'id': 10, 'content': 'u_or', 'type': 'submodule'}], \\nedge_attrs: [], \\nconnectivity: [[2, 3, 2, 3, 2, 3, 2, 3, 7, 9, 8, 10], [7, 7, 8, 8, 9, 9, 10, 10, 5, 5, 5, 5]]\\n, Implement a modular Arithmetic Logic Unit (ALU) for 32-bit integers in Verilog. The top-level alu module should instantiate submodules for addition, subtraction, bitwise AND, and bitwise OR operations. The alu module uses these submodules to compute results based on an opcode.\\n\\nModule name:\\n    alu\\n\\nInput ports:\\n    clk: Clock signal for synchronous operations.\\n    rst: Reset signal, active high.\\n    a: 32-bit input operand A.\\n    b: 32-bit input operand B.\\n    opcode: 4-bit operation code (00 for ADD, 01 for SUB, 10 for AND, 11 for OR).\\n\\nOutput ports:\\n    result: 32-bit output resulting from the specified operation.\\n    error: Error flag, high if an undefined opcode is provided.\\n\\nImplementation:\\nThe module includes:\\nAdder Submodule:\\nThis submodule adds two 32-bit inputs.\\nSubtractor Submodule:\\nThis submodule subtracts the second 32-bit input from the first.\\nAND Submodule:\\nThis submodule performs a bitwise AND operation on two 32-bit inputs.\\nOR Submodule:\\nThis submodule performs a bitwise OR operation on two 32-bit inputs.\\nThe main alu module uses the opcode to select the appropriate operation and set the outputs accordingly.\\nGive me the complete code.\""
      ]
     },
     "execution_count": 5,
     "metadata": {},
     "output_type": "execute_result"
    }
   ],
   "source": [
    "conv[0]['conversations'][0]['value']"
   ]
  },
  {
   "cell_type": "code",
   "execution_count": 6,
   "metadata": {},
   "outputs": [
    {
     "data": {
      "text/plain": [
       "\"module alu(\\n    input clk,\\n    input rst,\\n    input [31:0] a,\\n    input [31:0] b,\\n    input [3:0] opcode,\\n    output reg [31:0] result,\\n    output reg error\\n);\\n\\nwire [31:0] sum, difference, and_result, or_result;\\n\\n// Instantiating the adder module\\nadder u_adder (\\n    .a(a),\\n    .b(b),\\n    .sum(sum)\\n);\\n\\n// Instantiating the subtractor module\\nsubtractor u_subtractor (\\n    .a(a),\\n    .b(b),\\n    .difference(difference)\\n);\\n\\n// Instantiating the and module\\nand_module u_and (\\n    .a(a),\\n    .b(b),\\n    .and_result(and_result)\\n);\\n\\n// Instantiating the or module\\nor_module u_or (\\n    .a(a),\\n    .b(b),\\n    .or_result(or_result)\\n);\\n\\nalways @(posedge clk or posedge rst) begin\\n    if (rst) begin\\n        result <= 0;\\n        error <= 0;\\n    end else begin\\n        case(opcode)\\n            4'b0000: result <= sum;\\n            4'b0001: result <= difference;\\n            4'b0010: result <= and_result;\\n            4'b0011: result <= or_result;\\n            default: begin\\n                result <= 0;\\n                error <= 1;\\n            end\\n        endcase\\n    end\\nend\\n\\nendmodule\\n\\nmodule adder(\\n    input [31:0] a,\\n    input [31:0] b,\\n    output [31:0] sum\\n);\\n    assign sum = a + b;\\nendmodule\\n\\nmodule subtractor(\\n    input [31:0] a,\\n    input [31:0] b,\\n    output [31:0] difference\\n);\\n    assign difference = a - b;\\nendmodule\\n\\nmodule and_module(\\n    input [31:0] a,\\n    input [31:0] b,\\n    output [31:0] and_result\\n);\\n    assign and_result = a & b;\\nendmodule\\n\\nmodule or_module(\\n    input [31:0] a,\\n    input [31:0] b,\\n    output [31:0] or_result\\n);\\n    assign or_result = a | b;\\nendmodule\\n\""
      ]
     },
     "execution_count": 6,
     "metadata": {},
     "output_type": "execute_result"
    }
   ],
   "source": [
    "conv[0]['conversations'][1]['value']"
   ]
  },
  {
   "cell_type": "code",
   "execution_count": 7,
   "metadata": {},
   "outputs": [
    {
     "data": {
      "text/plain": [
       "\"Given a submodules interconnection graph: \\n<graph>\\n, \\nnodes: [{'id': 0, 'content': 'clk', 'type': 'input port'}, {'id': 1, 'content': 'rst', 'type': 'input port'}, {'id': 2, 'content': 'a', 'type': 'input port'}, {'id': 3, 'content': 'b', 'type': 'input port'}, {'id': 4, 'content': 'opcode', 'type': 'input port'}, {'id': 5, 'content': 'result', 'type': 'output port'}, {'id': 6, 'content': 'error', 'type': 'output port'}, {'id': 7, 'content': 'u_adder', 'type': 'submodule'}, {'id': 8, 'content': 'u_subtractor', 'type': 'submodule'}, {'id': 9, 'content': 'u_and', 'type': 'submodule'}, {'id': 10, 'content': 'u_or', 'type': 'submodule'}], \\nedge_attrs: [], \\nconnectivity: [[2, 3, 2, 3, 2, 3, 2, 3, 7, 9, 8, 10], [7, 7, 8, 8, 9, 9, 10, 10, 5, 5, 5, 5]]\\n, Implement a modular Arithmetic Logic Unit (ALU) for 32-bit integers in Verilog. The top-level alu module should instantiate submodules for addition, subtraction, bitwise AND, and bitwise OR operations. The alu module uses these submodules to compute results based on an opcode.\\n\\nModule name:\\n    alu\\n\\nInput ports:\\n    clk: Clock signal for synchronous operations.\\n    rst: Reset signal, active high.\\n    a: 32-bit input operand A.\\n    b: 32-bit input operand B.\\n    opcode: 4-bit operation code (00 for ADD, 01 for SUB, 10 for AND, 11 for OR).\\n\\nOutput ports:\\n    result: 32-bit output resulting from the specified operation.\\n    error: Error flag, high if an undefined opcode is provided.\\n\\nImplementation:\\nThe module includes:\\nAdder Submodule:\\nThis submodule adds two 32-bit inputs.\\nSubtractor Submodule:\\nThis submodule subtracts the second 32-bit input from the first.\\nAND Submodule:\\nThis submodule performs a bitwise AND operation on two 32-bit inputs.\\nOR Submodule:\\nThis submodule performs a bitwise OR operation on two 32-bit inputs.\\nThe main alu module uses the opcode to select the appropriate operation and set the outputs accordingly.\\nGive me the complete code.module alu(\\n    input clk,\\n    input rst,\\n    input [31:0] a,\\n    input [31:0] b,\\n    input [3:0] opcode,\\n    output reg [31:0] result,\\n    output reg error\\n);\""
      ]
     },
     "execution_count": 7,
     "metadata": {},
     "output_type": "execute_result"
    }
   ],
   "source": [
    "head = find_module_string(conv[0]['conversations'][1]['value'])\n",
    "conv[0]['conversations'][0]['value'] + head"
   ]
  },
  {
   "cell_type": "code",
   "execution_count": 8,
   "metadata": {},
   "outputs": [],
   "source": [
    "for i in range(len(conv)):\n",
    "    module_head = find_module_string(conv[i]['conversations'][1]['value'])\n",
    "    conv[i]['conversations'][0]['value'] = conv[i]['conversations'][0]['value'] + '\\n' + module_head"
   ]
  },
  {
   "cell_type": "code",
   "execution_count": 9,
   "metadata": {},
   "outputs": [],
   "source": [
    "# conv[100]['conversations'][0]['value']"
   ]
  },
  {
   "cell_type": "code",
   "execution_count": 10,
   "metadata": {},
   "outputs": [],
   "source": [
    "new_conv_path = '/data/LPJ/ICML25/GraphCoder/graphgpt_dataset/gpt_dataset_construction/stage2_1989_57/with_head/conversations.json'\n",
    "\n"
   ]
  },
  {
   "cell_type": "code",
   "execution_count": 11,
   "metadata": {},
   "outputs": [],
   "source": [
    "with open(new_conv_path, 'w') as f:\n",
    "    json.dump(conv, f)"
   ]
  },
  {
   "cell_type": "code",
   "execution_count": 12,
   "metadata": {},
   "outputs": [],
   "source": [
    "import json\n",
    "with open(new_conv_path, 'r') as f:\n",
    "    new_conv = json.load(f)\n",
    "    \n"
   ]
  },
  {
   "cell_type": "code",
   "execution_count": 13,
   "metadata": {},
   "outputs": [
    {
     "data": {
      "text/plain": [
       "480"
      ]
     },
     "execution_count": 13,
     "metadata": {},
     "output_type": "execute_result"
    }
   ],
   "source": [
    "len(new_conv)"
   ]
  },
  {
   "cell_type": "code",
   "execution_count": null,
   "metadata": {},
   "outputs": [],
   "source": [
    "new_conv[100]['conversations'][0]['value']"
   ]
  },
  {
   "cell_type": "code",
   "execution_count": 32,
   "metadata": {},
   "outputs": [
    {
     "data": {
      "text/plain": [
       "2148"
      ]
     },
     "execution_count": 32,
     "metadata": {},
     "output_type": "execute_result"
    }
   ],
   "source": [
    "len(graph)"
   ]
  }
 ],
 "metadata": {
  "kernelspec": {
   "display_name": "graphgpt",
   "language": "python",
   "name": "python3"
  },
  "language_info": {
   "codemirror_mode": {
    "name": "ipython",
    "version": 3
   },
   "file_extension": ".py",
   "mimetype": "text/x-python",
   "name": "python",
   "nbconvert_exporter": "python",
   "pygments_lexer": "ipython3",
   "version": "3.9.21"
  }
 },
 "nbformat": 4,
 "nbformat_minor": 2
}
