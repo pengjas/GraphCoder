{
 "cells": [
  {
   "cell_type": "code",
   "execution_count": 1,
   "metadata": {},
   "outputs": [],
   "source": [
    "import pandas as pd\n",
    "import json\n",
    "\n",
    "# 读取 JSONL 文件\n",
    "df_text = pd.read_json('/data/LPJ/ICML25/GraphCoder/graphgpt_dataset/gpt_dataset_construction/stage2_1989_57/conversations.jsonl', lines=True)\n",
    "df_mm = pd.read_json('/data/LPJ/ICML25/GraphCoder/graphgpt_dataset/gpt_dataset_construction/stage2_1989_57/graphs.jsonl', lines=True)\n",
    "\n",
    "# # 显示 DataFrame\n",
    "# print(df)"
   ]
  },
  {
   "cell_type": "code",
   "execution_count": 2,
   "metadata": {},
   "outputs": [
    {
     "data": {
      "text/plain": [
       "1932"
      ]
     },
     "execution_count": 2,
     "metadata": {},
     "output_type": "execute_result"
    }
   ],
   "source": [
    "num_lines = len(df_text)\n",
    "num_lines"
   ]
  },
  {
   "cell_type": "code",
   "execution_count": 4,
   "metadata": {},
   "outputs": [
    {
     "data": {
      "text/plain": [
       "[{'id': 0, 'content': 'clk', 'type': 'input port'},\n",
       " {'id': 1, 'content': 'rst', 'type': 'input port'},\n",
       " {'id': 2, 'content': 'a', 'type': 'input port'},\n",
       " {'id': 3, 'content': 'b', 'type': 'input port'},\n",
       " {'id': 4, 'content': 'opcode', 'type': 'input port'},\n",
       " {'id': 5, 'content': 'result', 'type': 'output port'},\n",
       " {'id': 6, 'content': 'error', 'type': 'output port'},\n",
       " {'id': 7, 'content': 'u_adder', 'type': 'submodule'},\n",
       " {'id': 8, 'content': 'u_subtractor', 'type': 'submodule'},\n",
       " {'id': 9, 'content': 'u_and', 'type': 'submodule'},\n",
       " {'id': 10, 'content': 'u_or', 'type': 'submodule'}]"
      ]
     },
     "execution_count": 4,
     "metadata": {},
     "output_type": "execute_result"
    }
   ],
   "source": [
    "df_mm.iloc[0]['nodes']"
   ]
  },
  {
   "cell_type": "code",
   "execution_count": 5,
   "metadata": {},
   "outputs": [],
   "source": [
    "for i in range(num_lines):\n",
    "    for j in range(len(df_mm.iloc[i]['nodes'])):\n",
    "        if \"port\" in df_mm.iloc[i]['nodes'][j]['type']:\n",
    "            df_mm.iloc[i]['nodes'][j]['type'] = df_mm.iloc[i]['nodes'][j]['type'].replace(\" port\", \"\")\n",
    "        df_mm.iloc[i]['nodes'][j] = df_mm.iloc[i]['nodes'][j]['content'] + \" \" + df_mm.iloc[i]['nodes'][j]['type']\n"
   ]
  },
  {
   "cell_type": "code",
   "execution_count": 11,
   "metadata": {},
   "outputs": [
    {
     "data": {
      "text/plain": [
       "['a input',\n",
       " 'b input',\n",
       " 'Bin input',\n",
       " 'd output',\n",
       " 'Bout output',\n",
       " 'sub16_inst1 submodule',\n",
       " 'sub16_inst2 submodule']"
      ]
     },
     "execution_count": 11,
     "metadata": {},
     "output_type": "execute_result"
    }
   ],
   "source": [
    "df_mm.iloc[999]['nodes']"
   ]
  },
  {
   "cell_type": "code",
   "execution_count": 12,
   "metadata": {},
   "outputs": [
    {
     "data": {
      "text/plain": [
       "['clk input',\n",
       " 'reset input',\n",
       " 'write_en input',\n",
       " 'read_reg1_sel input',\n",
       " 'read_reg2_sel input',\n",
       " 'write_reg_sel input',\n",
       " 'write_data input',\n",
       " 'read_data1 output',\n",
       " 'read_data2 output',\n",
       " 'u_register_array submodule',\n",
       " 'u_control_unit submodule']"
      ]
     },
     "execution_count": 12,
     "metadata": {},
     "output_type": "execute_result"
    }
   ],
   "source": [
    "df_mm['nodes'][100]"
   ]
  },
  {
   "cell_type": "code",
   "execution_count": 13,
   "metadata": {},
   "outputs": [],
   "source": [
    "template = \"Given a submodules interconnection graph: \\n<graph>\\n, \"\n",
    "# text_graph = '\\n{}\\n,'.format(graph)"
   ]
  },
  {
   "cell_type": "code",
   "execution_count": 14,
   "metadata": {},
   "outputs": [],
   "source": [
    "new_text = []\n",
    "for i in range(num_lines):\n",
    "# for i in range(3):\n",
    "    new_line = []\n",
    "    graph = \"nodes: {}, \\nconnectivity: {}\".format(df_mm['nodes'][i], df_mm['connectivity'][i])\n",
    "    text_graph = \"\\n{}\\n, \".format(graph)\n",
    "    human_instruction = template + text_graph + df_text['Instruction'][i]\n",
    "    human_instruction = {\"from\": \"human\", \"value\": human_instruction}\n",
    "    gpt_response = df_text['Response'][i]\n",
    "    gpt_response = {\"from\": \"gpt\", \"value\": gpt_response}\n",
    "    new_line.append(human_instruction)\n",
    "    new_line.append(gpt_response)\n",
    "    new_line = {\"conversations\": new_line}\n",
    "    new_line['task_id'] = df_text['task_id'][i]\n",
    "    new_text.append(new_line)\n",
    "    # print(json.dumps(new_line))\n"
   ]
  },
  {
   "cell_type": "code",
   "execution_count": 15,
   "metadata": {},
   "outputs": [],
   "source": [
    "with open('/data/LPJ/ICML25/GraphCoder/graphgpt_dataset/gpt_dataset_construction/stage2_1989_57/without_head/cleaned_graph/conversations.json', 'w') as f:\n",
    "    # for line in new_text:\n",
    "    #     f.write(json.dumps(line) + '\\n')\n",
    "    json.dump(new_text, f)"
   ]
  },
  {
   "cell_type": "code",
   "execution_count": 16,
   "metadata": {},
   "outputs": [],
   "source": [
    "new_graph_df = df_mm[['nodes', 'connectivity']]\n",
    "new_graph_df\n",
    "new_graph_df.to_json('/data/LPJ/ICML25/GraphCoder/graphgpt_dataset/gpt_dataset_construction/stage2_1989_57/without_head/cleaned_graph/graph.jsonl', orient='records', lines=True)"
   ]
  }
 ],
 "metadata": {
  "kernelspec": {
   "display_name": "graphgpt",
   "language": "python",
   "name": "python3"
  },
  "language_info": {
   "codemirror_mode": {
    "name": "ipython",
    "version": 3
   },
   "file_extension": ".py",
   "mimetype": "text/x-python",
   "name": "python",
   "nbconvert_exporter": "python",
   "pygments_lexer": "ipython3",
   "version": "3.9.21"
  }
 },
 "nbformat": 4,
 "nbformat_minor": 2
}
