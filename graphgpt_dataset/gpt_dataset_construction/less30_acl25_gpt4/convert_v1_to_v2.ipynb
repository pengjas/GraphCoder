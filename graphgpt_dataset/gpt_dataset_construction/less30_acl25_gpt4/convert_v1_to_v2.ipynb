{
 "cells": [
  {
   "cell_type": "code",
   "execution_count": 1,
   "metadata": {},
   "outputs": [],
   "source": [
    "import json\n",
    "import pandas as pd"
   ]
  },
  {
   "cell_type": "code",
   "execution_count": 2,
   "metadata": {},
   "outputs": [],
   "source": [
    "conv_path = '/data/LPJ/ICML25/GraphCoder/graphgpt_dataset/gpt_dataset_construction/less30_acl25_gpt4/without_module_head/conversations.json'\n",
    "graph_path = '/data/LPJ/ICML25/GraphCoder/graphgpt_dataset/gpt_dataset_construction/less30_acl25_gpt4/without_module_head/graph.jsonl'"
   ]
  },
  {
   "cell_type": "code",
   "execution_count": 3,
   "metadata": {},
   "outputs": [
    {
     "name": "stdout",
     "output_type": "stream",
     "text": [
      "Found substring: module name=\"example1\" \n",
      "   attribu\n",
      "te=\"   value\";\n",
      "All found substrings: ['module name=\"example1\" \\n   attribu\\nte=\"   value\";', 'module name=\"example2\" attribute=\"another value\";']\n"
     ]
    }
   ],
   "source": [
    "import re\n",
    "\n",
    "def find_module_string(text):\n",
    "    # Regex pattern to find the string starting with \"module\" and ending with \";\"\n",
    "    # It uses non-greedy matching to find the shortest match\n",
    "    pattern = r\"module.*?;\"\n",
    "    \n",
    "    # Using re.DOTALL to make the dot match all characters including newline\n",
    "    match = re.search(pattern, text, re.DOTALL)\n",
    "    \n",
    "    if match:\n",
    "        return match.group()  # Returns the matched string\n",
    "    else:\n",
    "        return None  # No match found\n",
    "\n",
    "# Example usage\n",
    "input_text = \"\"\"\n",
    "some initial text\n",
    "module name=\"example1\" \\n   attribu\\nte=\"   value\";\n",
    "some other text\n",
    "module name=\"example2\" attribute=\"another value\";\n",
    "\"\"\"\n",
    "\n",
    "# Find the first occurrence\n",
    "result = find_module_string(input_text)\n",
    "print(\"Found substring:\", result)\n",
    "\n",
    "# If you need to find all occurrences instead of just the first one, you can use re.findall\n",
    "all_matches = re.findall(r\"module.*?;\", input_text, re.DOTALL)\n",
    "print(\"All found substrings:\", all_matches)"
   ]
  },
  {
   "cell_type": "code",
   "execution_count": 4,
   "metadata": {},
   "outputs": [],
   "source": [
    "graph = pd.read_json(graph_path, lines=True)\n",
    "with open(conv_path, 'r') as f:\n",
    "    conv = json.load(f)\n"
   ]
  },
  {
   "cell_type": "code",
   "execution_count": 5,
   "metadata": {},
   "outputs": [
    {
     "data": {
      "text/plain": [
       "\"Given a submodules interconnection graph: \\n<graph>\\n, \\nnodes: [{'id': 0, 'content': 'CLK_in', 'type': 'input port'}, {'id': 1, 'content': 'RST', 'type': 'input port'}, {'id': 2, 'content': 'CLK_15', 'type': 'output port'}, {'id': 3, 'content': 'CLK_3', 'type': 'output port'}, {'id': 4, 'content': 'div_15', 'type': 'submodule'}, {'id': 5, 'content': 'div_3', 'type': 'submodule'}], \\nedge_attrs: [], \\nconnectivity: [[0, 1, 0, 1, 4, 5], [4, 4, 5, 5, 2, 3]]\\n, Design a hierarchical Verilog module for a frequency divider that accepts a 60MHz input clock and outputs two different clock signals: 15MHz and 3MHz.\\n\\nModule name:\\n    multi_freq_div\\n\\nInput ports:\\n    CLK_in: Input clock signal\\n    RST: Reset signal\\n\\nOutput ports:\\n    CLK_15: Output clock signal with a frequency of CLK_in divided by 4.\\n    CLK_3: Output clock signal with a frequency of CLK_in divided by 20.\\n\\nImplementation:\\nThe module uses two submodules:\\n- clk_div_4 to generate the 15MHz clock by counting to 1 and toggling the output.\\n- clk_div_20 to generate the 3MHz clock by counting to 9 and toggling the output.\\nThe system resets all outputs to 0 when the RST is asserted. Otherwise, each submodule operates independently to produce the required output frequency based on the input clock signal.\\nGive me the complete code.\""
      ]
     },
     "execution_count": 5,
     "metadata": {},
     "output_type": "execute_result"
    }
   ],
   "source": [
    "conv[0]['conversations'][0]['value']"
   ]
  },
  {
   "cell_type": "code",
   "execution_count": 6,
   "metadata": {},
   "outputs": [
    {
     "data": {
      "text/plain": [
       "'module multi_freq_div (\\n    input CLK_in,\\n    input RST,\\n    output CLK_15,\\n    output CLK_3\\n);\\n\\n    wire clk_15_out;\\n    wire clk_3_out;\\n\\n    clk_div_4 div_15 (\\n        .CLK_in(CLK_in),\\n        .RST(RST),\\n        .CLK_out(clk_15_out)\\n    );\\n\\n    clk_div_20 div_3 (\\n        .CLK_in(CLK_in),\\n        .RST(RST),\\n        .CLK_out(clk_3_out)\\n    );\\n\\n    assign CLK_15 = clk_15_out;\\n    assign CLK_3 = clk_3_out;\\n\\nendmodule\\n\\nmodule clk_div_4 (\\n    input CLK_in,\\n    input RST,\\n    output reg CLK_out\\n);\\n    reg cnt;\\n\\n    always @(posedge CLK_in or posedge RST) begin\\n        if (RST) begin\\n            CLK_out <= 0;\\n            cnt <= 0;\\n        end else if (cnt == 1) begin\\n            CLK_out <= ~CLK_out;\\n            cnt <= 0;\\n        end else begin\\n            cnt <= cnt + 1;\\n        end\\n    end\\nendmodule\\n\\nmodule clk_div_20 (\\n    input CLK_in,\\n    input RST,\\n    output reg CLK_out\\n);\\n    reg [4:0] cnt;\\n\\n    always @(posedge CLK_in or posedge RST) begin\\n        if (RST) begin\\n            CLK_out <= 0;\\n            cnt <= 0;\\n        end else if (cnt == 9) begin\\n            CLK_out <= ~CLK_out;\\n            cnt <= 0;\\n        end else begin\\n            cnt <= cnt + 1;\\n        end\\n    end\\nendmodule'"
      ]
     },
     "execution_count": 6,
     "metadata": {},
     "output_type": "execute_result"
    }
   ],
   "source": [
    "conv[0]['conversations'][1]['value']"
   ]
  },
  {
   "cell_type": "code",
   "execution_count": 7,
   "metadata": {},
   "outputs": [
    {
     "data": {
      "text/plain": [
       "\"Given a submodules interconnection graph: \\n<graph>\\n, \\nnodes: [{'id': 0, 'content': 'CLK_in', 'type': 'input port'}, {'id': 1, 'content': 'RST', 'type': 'input port'}, {'id': 2, 'content': 'CLK_15', 'type': 'output port'}, {'id': 3, 'content': 'CLK_3', 'type': 'output port'}, {'id': 4, 'content': 'div_15', 'type': 'submodule'}, {'id': 5, 'content': 'div_3', 'type': 'submodule'}], \\nedge_attrs: [], \\nconnectivity: [[0, 1, 0, 1, 4, 5], [4, 4, 5, 5, 2, 3]]\\n, Design a hierarchical Verilog module for a frequency divider that accepts a 60MHz input clock and outputs two different clock signals: 15MHz and 3MHz.\\n\\nModule name:\\n    multi_freq_div\\n\\nInput ports:\\n    CLK_in: Input clock signal\\n    RST: Reset signal\\n\\nOutput ports:\\n    CLK_15: Output clock signal with a frequency of CLK_in divided by 4.\\n    CLK_3: Output clock signal with a frequency of CLK_in divided by 20.\\n\\nImplementation:\\nThe module uses two submodules:\\n- clk_div_4 to generate the 15MHz clock by counting to 1 and toggling the output.\\n- clk_div_20 to generate the 3MHz clock by counting to 9 and toggling the output.\\nThe system resets all outputs to 0 when the RST is asserted. Otherwise, each submodule operates independently to produce the required output frequency based on the input clock signal.\\nGive me the complete code.module multi_freq_div (\\n    input CLK_in,\\n    input RST,\\n    output CLK_15,\\n    output CLK_3\\n);\""
      ]
     },
     "execution_count": 7,
     "metadata": {},
     "output_type": "execute_result"
    }
   ],
   "source": [
    "head = find_module_string(conv[0]['conversations'][1]['value'])\n",
    "conv[0]['conversations'][0]['value'] + head"
   ]
  },
  {
   "cell_type": "code",
   "execution_count": 8,
   "metadata": {},
   "outputs": [],
   "source": [
    "for i in range(len(conv)):\n",
    "    module_head = find_module_string(conv[i]['conversations'][1]['value'])\n",
    "    conv[i]['conversations'][0]['value'] = conv[i]['conversations'][0]['value'] + '\\n' + module_head"
   ]
  },
  {
   "cell_type": "code",
   "execution_count": 9,
   "metadata": {},
   "outputs": [
    {
     "data": {
      "text/plain": [
       "\"Given a submodules interconnection graph: \\n<graph>\\n, \\nnodes: [{'id': 0, 'content': 'clk', 'type': 'input port'}, {'id': 1, 'content': 'rst_n', 'type': 'input port'}, {'id': 2, 'content': 'enable', 'type': 'input port'}, {'id': 3, 'content': 'data_in', 'type': 'input port'}, {'id': 4, 'content': 'data_out', 'type': 'output port'}, {'id': 5, 'content': 'saturation_flag', 'type': 'output port'}, {'id': 6, 'content': 'u_accumulator', 'type': 'submodule'}, {'id': 7, 'content': 'u_control', 'type': 'submodule'}], \\nedge_attrs: [], \\nconnectivity: [[0, 3, 2, 1, 0, 6, 1, 7, 7], [6, 6, 6, 6, 7, 7, 7, 4, 5]]\\n, Design a modular Verilog implementation for a 16-bit wide arithmetic accumulator with a saturating feature. The accumulator should accept 16-bit signed integers, sum them continuously, and saturate the output to the maximum or minimum 16-bit signed value on overflow or underflow respectively. Include a signal to indicate when saturation occurs. The accumulator should reset to zero on a provided reset signal.\\n\\nModule name:\\n    saturating_accu\\nInput ports:\\n    clk: Clock input for synchronization.\\n    rst_n: Active-low reset signal.\\n    data_in[15:0]: 16-bit input data for accumulation.\\n    enable: Input signal that enables data accumulation when high.\\nOutput ports:\\n    data_out[15:0]: 16-bit output data, saturated if necessary.\\n    saturation_flag: Output signal that indicates if saturation has occurred.\\n\\nImplementation:\\nThe design consists of the following submodules:\\nAccumulator Module: Manages data accumulation and checks for overflows and underflows to handle saturation.\\nControl Module: Handles the enable signal and active-low reset functionality.\\nGive me the complete code.\\nmodule saturating_accu (\\n    input               clk,\\n    input               rst_n,\\n    input               enable,\\n    input       [15:0]  data_in,\\n    output      [15:0]  data_out,\\n    output              saturation_flag\\n);\""
      ]
     },
     "execution_count": 9,
     "metadata": {},
     "output_type": "execute_result"
    }
   ],
   "source": [
    "conv[100]['conversations'][0]['value']"
   ]
  },
  {
   "cell_type": "code",
   "execution_count": 10,
   "metadata": {},
   "outputs": [],
   "source": [
    "new_conv_path = '/data/LPJ/ICML25/GraphCoder/graphgpt_dataset/gpt_dataset_construction/less30_acl25_gpt4/with_module_head/conversations.json'\n",
    "\n"
   ]
  },
  {
   "cell_type": "code",
   "execution_count": 11,
   "metadata": {},
   "outputs": [],
   "source": [
    "with open(new_conv_path, 'w') as f:\n",
    "    json.dump(conv, f)"
   ]
  },
  {
   "cell_type": "code",
   "execution_count": 12,
   "metadata": {},
   "outputs": [],
   "source": [
    "import json\n",
    "with open(new_conv_path, 'r') as f:\n",
    "    new_conv = json.load(f)\n",
    "    \n"
   ]
  },
  {
   "cell_type": "code",
   "execution_count": 13,
   "metadata": {},
   "outputs": [
    {
     "data": {
      "text/plain": [
       "480"
      ]
     },
     "execution_count": 13,
     "metadata": {},
     "output_type": "execute_result"
    }
   ],
   "source": [
    "len(new_conv)"
   ]
  },
  {
   "cell_type": "code",
   "execution_count": null,
   "metadata": {},
   "outputs": [],
   "source": [
    "new_conv[100]['conversations'][0]['value']"
   ]
  },
  {
   "cell_type": "code",
   "execution_count": 32,
   "metadata": {},
   "outputs": [
    {
     "data": {
      "text/plain": [
       "2148"
      ]
     },
     "execution_count": 32,
     "metadata": {},
     "output_type": "execute_result"
    }
   ],
   "source": [
    "len(graph)"
   ]
  }
 ],
 "metadata": {
  "kernelspec": {
   "display_name": "graphgpt",
   "language": "python",
   "name": "python3"
  },
  "language_info": {
   "codemirror_mode": {
    "name": "ipython",
    "version": 3
   },
   "file_extension": ".py",
   "mimetype": "text/x-python",
   "name": "python",
   "nbconvert_exporter": "python",
   "pygments_lexer": "ipython3",
   "version": "3.9.21"
  }
 },
 "nbformat": 4,
 "nbformat_minor": 2
}
