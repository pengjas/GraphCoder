{
 "cells": [
  {
   "cell_type": "code",
   "execution_count": 1,
   "metadata": {},
   "outputs": [],
   "source": [
    "import pandas as pd\n",
    "import json"
   ]
  },
  {
   "cell_type": "code",
   "execution_count": 2,
   "metadata": {},
   "outputs": [],
   "source": [
    "conv_path = '/data/LPJ/ICML25/GraphCoder/graphgpt_dataset/gpt_dataset_construction/less30_acl25_gpt4/with_module_head/conversations.json'\n",
    "graph_path = '/data/LPJ/ICML25/GraphCoder/graphgpt_dataset/gpt_dataset_construction/less30_acl25_gpt4/with_module_head/graph.jsonl'\n"
   ]
  },
  {
   "cell_type": "code",
   "execution_count": 3,
   "metadata": {},
   "outputs": [],
   "source": [
    "with open(conv_path, 'r') as f:\n",
    "    conv = json.load(f)\n",
    "\n",
    "graph = pd.read_json(graph_path, lines=True)\n"
   ]
  },
  {
   "cell_type": "code",
   "execution_count": 4,
   "metadata": {},
   "outputs": [
    {
     "data": {
      "text/plain": [
       "{'conversations': [{'from': 'human',\n",
       "   'value': \"Given a submodules interconnection graph: \\n<graph>\\n, \\nnodes: [{'id': 0, 'content': 'CLK_in', 'type': 'input port'}, {'id': 1, 'content': 'RST', 'type': 'input port'}, {'id': 2, 'content': 'CLK_15', 'type': 'output port'}, {'id': 3, 'content': 'CLK_3', 'type': 'output port'}, {'id': 4, 'content': 'div_15', 'type': 'submodule'}, {'id': 5, 'content': 'div_3', 'type': 'submodule'}], \\nedge_attrs: [], \\nconnectivity: [[0, 1, 0, 1, 4, 5], [4, 4, 5, 5, 2, 3]]\\n, Design a hierarchical Verilog module for a frequency divider that accepts a 60MHz input clock and outputs two different clock signals: 15MHz and 3MHz.\\n\\nModule name:\\n    multi_freq_div\\n\\nInput ports:\\n    CLK_in: Input clock signal\\n    RST: Reset signal\\n\\nOutput ports:\\n    CLK_15: Output clock signal with a frequency of CLK_in divided by 4.\\n    CLK_3: Output clock signal with a frequency of CLK_in divided by 20.\\n\\nImplementation:\\nThe module uses two submodules:\\n- clk_div_4 to generate the 15MHz clock by counting to 1 and toggling the output.\\n- clk_div_20 to generate the 3MHz clock by counting to 9 and toggling the output.\\nThe system resets all outputs to 0 when the RST is asserted. Otherwise, each submodule operates independently to produce the required output frequency based on the input clock signal.\\nGive me the complete code.\\nmodule multi_freq_div (\\n    input CLK_in,\\n    input RST,\\n    output CLK_15,\\n    output CLK_3\\n);\"},\n",
       "  {'from': 'gpt',\n",
       "   'value': 'module multi_freq_div (\\n    input CLK_in,\\n    input RST,\\n    output CLK_15,\\n    output CLK_3\\n);\\n\\n    wire clk_15_out;\\n    wire clk_3_out;\\n\\n    clk_div_4 div_15 (\\n        .CLK_in(CLK_in),\\n        .RST(RST),\\n        .CLK_out(clk_15_out)\\n    );\\n\\n    clk_div_20 div_3 (\\n        .CLK_in(CLK_in),\\n        .RST(RST),\\n        .CLK_out(clk_3_out)\\n    );\\n\\n    assign CLK_15 = clk_15_out;\\n    assign CLK_3 = clk_3_out;\\n\\nendmodule\\n\\nmodule clk_div_4 (\\n    input CLK_in,\\n    input RST,\\n    output reg CLK_out\\n);\\n    reg cnt;\\n\\n    always @(posedge CLK_in or posedge RST) begin\\n        if (RST) begin\\n            CLK_out <= 0;\\n            cnt <= 0;\\n        end else if (cnt == 1) begin\\n            CLK_out <= ~CLK_out;\\n            cnt <= 0;\\n        end else begin\\n            cnt <= cnt + 1;\\n        end\\n    end\\nendmodule\\n\\nmodule clk_div_20 (\\n    input CLK_in,\\n    input RST,\\n    output reg CLK_out\\n);\\n    reg [4:0] cnt;\\n\\n    always @(posedge CLK_in or posedge RST) begin\\n        if (RST) begin\\n            CLK_out <= 0;\\n            cnt <= 0;\\n        end else if (cnt == 9) begin\\n            CLK_out <= ~CLK_out;\\n            cnt <= 0;\\n        end else begin\\n            cnt <= cnt + 1;\\n        end\\n    end\\nendmodule'}]}"
      ]
     },
     "execution_count": 4,
     "metadata": {},
     "output_type": "execute_result"
    }
   ],
   "source": [
    "conv[0]"
   ]
  },
  {
   "cell_type": "code",
   "execution_count": 5,
   "metadata": {},
   "outputs": [
    {
     "data": {
      "text/plain": [
       "'module multi_freq_div (\\n    input CLK_in,\\n    input RST,\\n    output CLK_15,\\n    output CLK_3\\n);\\n\\n    wire clk_15_out;\\n    wire clk_3_out;\\n\\n    clk_div_4 div_15 (\\n        .CLK_in(CLK_in),\\n        .RST(RST),\\n        .CLK_out(clk_15_out)\\n    );\\n\\n    clk_div_20 div_3 (\\n        .CLK_in(CLK_in),\\n        .RST(RST),\\n        .CLK_out(clk_3_out)\\n    );\\n\\n    assign CLK_15 = clk_15_out;\\n    assign CLK_3 = clk_3_out;\\n\\nendmodule\\n\\nmodule clk_div_4 (\\n    input CLK_in,\\n    input RST,\\n    output reg CLK_out\\n);\\n    reg cnt;\\n\\n    always @(posedge CLK_in or posedge RST) begin\\n        if (RST) begin\\n            CLK_out <= 0;\\n            cnt <= 0;\\n        end else if (cnt == 1) begin\\n            CLK_out <= ~CLK_out;\\n            cnt <= 0;\\n        end else begin\\n            cnt <= cnt + 1;\\n        end\\n    end\\nendmodule\\n\\nmodule clk_div_20 (\\n    input CLK_in,\\n    input RST,\\n    output reg CLK_out\\n);\\n    reg [4:0] cnt;\\n\\n    always @(posedge CLK_in or posedge RST) begin\\n        if (RST) begin\\n            CLK_out <= 0;\\n            cnt <= 0;\\n        end else if (cnt == 9) begin\\n            CLK_out <= ~CLK_out;\\n            cnt <= 0;\\n        end else begin\\n            cnt <= cnt + 1;\\n        end\\n    end\\nendmodule'"
      ]
     },
     "execution_count": 5,
     "metadata": {},
     "output_type": "execute_result"
    }
   ],
   "source": [
    "conv[0]['conversations'][1]['value']"
   ]
  },
  {
   "cell_type": "code",
   "execution_count": 6,
   "metadata": {},
   "outputs": [],
   "source": [
    "new_conv = conv[:30]\n",
    "new_graph = graph[:30]"
   ]
  },
  {
   "cell_type": "code",
   "execution_count": 7,
   "metadata": {},
   "outputs": [],
   "source": [
    "for i in range(30):\n",
    "    new_conv[i]['task_id'] = i"
   ]
  },
  {
   "cell_type": "code",
   "execution_count": 8,
   "metadata": {},
   "outputs": [],
   "source": [
    "new_conv_path = '/data/LPJ/ICML25/GraphCoder/graphgpt_dataset/gpt_dataset_construction/less30_acl25_gpt4/with_module_head/eval/conversations_30.json'\n",
    "new_graph_path = '/data/LPJ/ICML25/GraphCoder/graphgpt_dataset/gpt_dataset_construction/less30_acl25_gpt4/with_module_head/eval/graph_30.jsonl'"
   ]
  },
  {
   "cell_type": "code",
   "execution_count": 9,
   "metadata": {},
   "outputs": [],
   "source": [
    "with open(new_conv_path, 'w') as f:\n",
    "    json.dump(new_conv, f)\n",
    "\n",
    "new_graph.to_json(new_graph_path, orient='records', lines=True)"
   ]
  },
  {
   "cell_type": "code",
   "execution_count": 10,
   "metadata": {},
   "outputs": [],
   "source": [
    "with open(new_conv_path, 'r') as f:\n",
    "    conv = json.load(f)\n",
    "\n"
   ]
  },
  {
   "cell_type": "code",
   "execution_count": 11,
   "metadata": {},
   "outputs": [
    {
     "data": {
      "text/plain": [
       "{'conversations': [{'from': 'human',\n",
       "   'value': \"Given a submodules interconnection graph: \\n<graph>\\n, \\nnodes: [{'id': 0, 'content': 'CLK_in', 'type': 'input port'}, {'id': 1, 'content': 'RST', 'type': 'input port'}, {'id': 2, 'content': 'CLK_15', 'type': 'output port'}, {'id': 3, 'content': 'CLK_3', 'type': 'output port'}, {'id': 4, 'content': 'div_15', 'type': 'submodule'}, {'id': 5, 'content': 'div_3', 'type': 'submodule'}], \\nedge_attrs: [], \\nconnectivity: [[0, 1, 0, 1, 4, 5], [4, 4, 5, 5, 2, 3]]\\n, Design a hierarchical Verilog module for a frequency divider that accepts a 60MHz input clock and outputs two different clock signals: 15MHz and 3MHz.\\n\\nModule name:\\n    multi_freq_div\\n\\nInput ports:\\n    CLK_in: Input clock signal\\n    RST: Reset signal\\n\\nOutput ports:\\n    CLK_15: Output clock signal with a frequency of CLK_in divided by 4.\\n    CLK_3: Output clock signal with a frequency of CLK_in divided by 20.\\n\\nImplementation:\\nThe module uses two submodules:\\n- clk_div_4 to generate the 15MHz clock by counting to 1 and toggling the output.\\n- clk_div_20 to generate the 3MHz clock by counting to 9 and toggling the output.\\nThe system resets all outputs to 0 when the RST is asserted. Otherwise, each submodule operates independently to produce the required output frequency based on the input clock signal.\\nGive me the complete code.\\nmodule multi_freq_div (\\n    input CLK_in,\\n    input RST,\\n    output CLK_15,\\n    output CLK_3\\n);\"},\n",
       "  {'from': 'gpt',\n",
       "   'value': 'module multi_freq_div (\\n    input CLK_in,\\n    input RST,\\n    output CLK_15,\\n    output CLK_3\\n);\\n\\n    wire clk_15_out;\\n    wire clk_3_out;\\n\\n    clk_div_4 div_15 (\\n        .CLK_in(CLK_in),\\n        .RST(RST),\\n        .CLK_out(clk_15_out)\\n    );\\n\\n    clk_div_20 div_3 (\\n        .CLK_in(CLK_in),\\n        .RST(RST),\\n        .CLK_out(clk_3_out)\\n    );\\n\\n    assign CLK_15 = clk_15_out;\\n    assign CLK_3 = clk_3_out;\\n\\nendmodule\\n\\nmodule clk_div_4 (\\n    input CLK_in,\\n    input RST,\\n    output reg CLK_out\\n);\\n    reg cnt;\\n\\n    always @(posedge CLK_in or posedge RST) begin\\n        if (RST) begin\\n            CLK_out <= 0;\\n            cnt <= 0;\\n        end else if (cnt == 1) begin\\n            CLK_out <= ~CLK_out;\\n            cnt <= 0;\\n        end else begin\\n            cnt <= cnt + 1;\\n        end\\n    end\\nendmodule\\n\\nmodule clk_div_20 (\\n    input CLK_in,\\n    input RST,\\n    output reg CLK_out\\n);\\n    reg [4:0] cnt;\\n\\n    always @(posedge CLK_in or posedge RST) begin\\n        if (RST) begin\\n            CLK_out <= 0;\\n            cnt <= 0;\\n        end else if (cnt == 9) begin\\n            CLK_out <= ~CLK_out;\\n            cnt <= 0;\\n        end else begin\\n            cnt <= cnt + 1;\\n        end\\n    end\\nendmodule'}],\n",
       " 'task_id': 0}"
      ]
     },
     "execution_count": 11,
     "metadata": {},
     "output_type": "execute_result"
    }
   ],
   "source": [
    "conv[0]"
   ]
  }
 ],
 "metadata": {
  "kernelspec": {
   "display_name": "graphgpt",
   "language": "python",
   "name": "python3"
  },
  "language_info": {
   "codemirror_mode": {
    "name": "ipython",
    "version": 3
   },
   "file_extension": ".py",
   "mimetype": "text/x-python",
   "name": "python",
   "nbconvert_exporter": "python",
   "pygments_lexer": "ipython3",
   "version": "3.9.21"
  }
 },
 "nbformat": 4,
 "nbformat_minor": 2
}
