{
 "cells": [
  {
   "cell_type": "code",
   "execution_count": 2,
   "metadata": {},
   "outputs": [],
   "source": [
    "import json\n",
    "import pandas as pd"
   ]
  },
  {
   "cell_type": "code",
   "execution_count": 12,
   "metadata": {},
   "outputs": [],
   "source": [
    "conv_path = '/data/LPJ/ICML25/GraphCoder/graphgpt_dataset/gpt_dataset_construction/rtlcoder_gpt4_v1/import_for_graphgpt/conversations.json'\n",
    "graph_path = '/data/LPJ/ICML25/GraphCoder/graphgpt_dataset/gpt_dataset_construction/rtlcoder_gpt4_v1/import_for_graphgpt/graph.jsonl'"
   ]
  },
  {
   "cell_type": "code",
   "execution_count": 14,
   "metadata": {},
   "outputs": [
    {
     "name": "stdout",
     "output_type": "stream",
     "text": [
      "Found substring: module name=\"example1\" \n",
      "   attribu\n",
      "te=\"   value\";\n",
      "All found substrings: ['module name=\"example1\" \\n   attribu\\nte=\"   value\";', 'module name=\"example2\" attribute=\"another value\";']\n"
     ]
    }
   ],
   "source": [
    "import re\n",
    "\n",
    "def find_module_string(text):\n",
    "    # Regex pattern to find the string starting with \"module\" and ending with \";\"\n",
    "    # It uses non-greedy matching to find the shortest match\n",
    "    pattern = r\"module.*?;\"\n",
    "    \n",
    "    # Using re.DOTALL to make the dot match all characters including newline\n",
    "    match = re.search(pattern, text, re.DOTALL)\n",
    "    \n",
    "    if match:\n",
    "        return match.group()  # Returns the matched string\n",
    "    else:\n",
    "        return None  # No match found\n",
    "\n",
    "# Example usage\n",
    "input_text = \"\"\"\n",
    "some initial text\n",
    "module name=\"example1\" \\n   attribu\\nte=\"   value\";\n",
    "some other text\n",
    "module name=\"example2\" attribute=\"another value\";\n",
    "\"\"\"\n",
    "\n",
    "# Find the first occurrence\n",
    "result = find_module_string(input_text)\n",
    "print(\"Found substring:\", result)\n",
    "\n",
    "# If you need to find all occurrences instead of just the first one, you can use re.findall\n",
    "all_matches = re.findall(r\"module.*?;\", input_text, re.DOTALL)\n",
    "print(\"All found substrings:\", all_matches)"
   ]
  },
  {
   "cell_type": "code",
   "execution_count": 15,
   "metadata": {},
   "outputs": [],
   "source": [
    "graph = pd.read_json(graph_path, lines=True)\n",
    "with open(conv_path, 'r') as f:\n",
    "    conv = json.load(f)\n"
   ]
  },
  {
   "cell_type": "code",
   "execution_count": 21,
   "metadata": {},
   "outputs": [
    {
     "data": {
      "text/plain": [
       "\"Given a submodules interconnection graph: \\n<graph>\\n, \\nnodes: [{'id': 0, 'content': 'a', 'type': 'input port'}, {'id': 1, 'content': 'b', 'type': 'input port'}, {'id': 2, 'content': 'c', 'type': 'input port'}, {'id': 3, 'content': 'd', 'type': 'input port'}, {'id': 4, 'content': 'e', 'type': 'input port'}, {'id': 5, 'content': 'f', 'type': 'input port'}, {'id': 6, 'content': 'out', 'type': 'output port'}], \\nedge_attrs: [], \\nconnectivity: [[5, 0, 4, 1, 3, 2], [6, 6, 6, 6, 6, 6]]\\n, \\n\\nYou are tasked with designing a Verilog module that takes in six inputs and produces three outputs. The inputs are `i_0r0`, `i_0r1`, `i_0a`, `i_1r`, `i_1a`, and `reset`. The outputs are `o_0r0`, `o_0r1`, and `i_1a`. The module should be named `tkj1m1_0`.\\n\\nThe module should have the following behavior:\\n- When `reset` is high, all outputs should be set to 0.\\n- `o_0r0` should be the output of a buffer that takes in `i_0r0`.\\n- `o_0r1` should be the output of a buffer that takes in `i_0r1`.\\n- `i_0a` should be the output of a buffer that takes in `o_0a`.\\n- `i_1a` should be the output of a buffer that takes in `o_0a`.\\n- `i_1r` should be the input of a buffer that takes in `i_1r`.\\n- `o_0r0` should also be the output of an AO222EHD gate that takes in `joinf_0`, `icomplete_0`, and `o_0r0`.\\n- `o_0r1` should also be the output of an AO222EHD gate that takes in `joint_0`, `icomplete_0`, and `o_0r1`.\\n- `joinf_0` should be the output of a buffer that takes in `i_0r0`.\\n- `joint_0` should be the output of a buffer that takes in `i_0r1`.\\n- `icomplete_0` should be the output of a buffer that takes in `i_1r`.\\n\\nYour module should be designed to be as efficient as possible, using the fewest number of gates and buffers while still satisfying the above requirements. Your module should also be designed to be as modular as possible, with each functional block (buffer, AO222EHD gate, etc.) being a separate module.\\n\\n\""
      ]
     },
     "execution_count": 21,
     "metadata": {},
     "output_type": "execute_result"
    }
   ],
   "source": [
    "conv[0]['conversations'][0]['value']"
   ]
  },
  {
   "cell_type": "code",
   "execution_count": 19,
   "metadata": {},
   "outputs": [
    {
     "data": {
      "text/plain": [
       "'module buffer (input in, output out);\\n  assign out = in;\\nendmodule\\n\\nmodule AO222EHD (output out, input a, input b, input c, input d, input e, input f);\\n  assign out = (a & b) | (c & d) | (e & f);\\nendmodule'"
      ]
     },
     "execution_count": 19,
     "metadata": {},
     "output_type": "execute_result"
    }
   ],
   "source": [
    "conv[0]['conversations'][1]['value']"
   ]
  },
  {
   "cell_type": "code",
   "execution_count": 25,
   "metadata": {},
   "outputs": [
    {
     "data": {
      "text/plain": [
       "\"Given a submodules interconnection graph: \\n<graph>\\n, \\nnodes: [{'id': 0, 'content': 'a', 'type': 'input port'}, {'id': 1, 'content': 'b', 'type': 'input port'}, {'id': 2, 'content': 'c', 'type': 'input port'}, {'id': 3, 'content': 'd', 'type': 'input port'}, {'id': 4, 'content': 'e', 'type': 'input port'}, {'id': 5, 'content': 'f', 'type': 'input port'}, {'id': 6, 'content': 'out', 'type': 'output port'}], \\nedge_attrs: [], \\nconnectivity: [[5, 0, 4, 1, 3, 2], [6, 6, 6, 6, 6, 6]]\\n, \\n\\nYou are tasked with designing a Verilog module that takes in six inputs and produces three outputs. The inputs are `i_0r0`, `i_0r1`, `i_0a`, `i_1r`, `i_1a`, and `reset`. The outputs are `o_0r0`, `o_0r1`, and `i_1a`. The module should be named `tkj1m1_0`.\\n\\nThe module should have the following behavior:\\n- When `reset` is high, all outputs should be set to 0.\\n- `o_0r0` should be the output of a buffer that takes in `i_0r0`.\\n- `o_0r1` should be the output of a buffer that takes in `i_0r1`.\\n- `i_0a` should be the output of a buffer that takes in `o_0a`.\\n- `i_1a` should be the output of a buffer that takes in `o_0a`.\\n- `i_1r` should be the input of a buffer that takes in `i_1r`.\\n- `o_0r0` should also be the output of an AO222EHD gate that takes in `joinf_0`, `icomplete_0`, and `o_0r0`.\\n- `o_0r1` should also be the output of an AO222EHD gate that takes in `joint_0`, `icomplete_0`, and `o_0r1`.\\n- `joinf_0` should be the output of a buffer that takes in `i_0r0`.\\n- `joint_0` should be the output of a buffer that takes in `i_0r1`.\\n- `icomplete_0` should be the output of a buffer that takes in `i_1r`.\\n\\nYour module should be designed to be as efficient as possible, using the fewest number of gates and buffers while still satisfying the above requirements. Your module should also be designed to be as modular as possible, with each functional block (buffer, AO222EHD gate, etc.) being a separate module.\\n\\nmodule buffer (input in, output out);\""
      ]
     },
     "execution_count": 25,
     "metadata": {},
     "output_type": "execute_result"
    }
   ],
   "source": [
    "head = find_module_string(conv[0]['conversations'][1]['value'])\n",
    "conv[0]['conversations'][0]['value'] + head"
   ]
  },
  {
   "cell_type": "code",
   "execution_count": 26,
   "metadata": {},
   "outputs": [],
   "source": [
    "for i in range(len(conv)):\n",
    "    module_head = find_module_string(conv[i]['conversations'][1]['value'])\n",
    "    conv[i]['conversations'][0]['value'] = conv[i]['conversations'][0]['value'] + module_head"
   ]
  },
  {
   "cell_type": "code",
   "execution_count": 28,
   "metadata": {},
   "outputs": [
    {
     "data": {
      "text/plain": [
       "\"Given a submodules interconnection graph: \\n<graph>\\n, \\nnodes: [{'id': 0, 'content': 'a', 'type': 'input port'}, {'id': 1, 'content': 'b', 'type': 'input port'}, {'id': 2, 'content': 'sum', 'type': 'output port'}, {'id': 3, 'content': 'adder_low', 'type': 'submodule'}, {'id': 4, 'content': 'adder_high', 'type': 'submodule'}], \\nedge_attrs: [], \\nconnectivity: [[1, 0, 1, 0, 4, 0, 1, 3], [3, 3, 4, 4, 2, 2, 2, 2]]\\n, Design a module that performs 32-bit addition using a 16-bit adder and a carry look-ahead adder. The module must be capable of taking two 32-bit inputs and providing a 32-bit output, which is the sum of the two input values.module top_module(\\n    input [31:0] a,\\n    input [31:0] b,\\n    output [31:0] sum\\n);\""
      ]
     },
     "execution_count": 28,
     "metadata": {},
     "output_type": "execute_result"
    }
   ],
   "source": [
    "conv[100]['conversations'][0]['value']"
   ]
  },
  {
   "cell_type": "code",
   "execution_count": 29,
   "metadata": {},
   "outputs": [],
   "source": [
    "new_conv_path = '/data/LPJ/ICML25/GraphCoder/graphgpt_dataset/gpt_dataset_construction/rtlcoder_gpt4_v2_with_module_head/import_for_graphgpt/conversations.json'\n",
    "with open(new_conv_path, 'w') as f:\n",
    "    json.dump(conv, f)"
   ]
  }
 ],
 "metadata": {
  "kernelspec": {
   "display_name": "graphgpt",
   "language": "python",
   "name": "python3"
  },
  "language_info": {
   "codemirror_mode": {
    "name": "ipython",
    "version": 3
   },
   "file_extension": ".py",
   "mimetype": "text/x-python",
   "name": "python",
   "nbconvert_exporter": "python",
   "pygments_lexer": "ipython3",
   "version": "3.9.21"
  }
 },
 "nbformat": 4,
 "nbformat_minor": 2
}
