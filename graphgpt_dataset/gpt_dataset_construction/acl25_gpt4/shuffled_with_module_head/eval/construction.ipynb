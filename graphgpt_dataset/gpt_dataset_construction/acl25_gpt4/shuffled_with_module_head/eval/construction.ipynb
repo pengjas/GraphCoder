{
 "cells": [
  {
   "cell_type": "code",
   "execution_count": 9,
   "metadata": {},
   "outputs": [],
   "source": [
    "import pandas as pd\n",
    "import json"
   ]
  },
  {
   "cell_type": "code",
   "execution_count": 10,
   "metadata": {},
   "outputs": [],
   "source": [
    "conv_path = '/data/LPJ/ICML25/GraphCoder/graphgpt_dataset/gpt_dataset_construction/acl25_gpt4/shuffled_with_module_head/conversations.json'\n",
    "graph_path = '/data/LPJ/ICML25/GraphCoder/graphgpt_dataset/gpt_dataset_construction/acl25_gpt4/shuffled_with_module_head/graph.jsonl'\n"
   ]
  },
  {
   "cell_type": "code",
   "execution_count": 11,
   "metadata": {},
   "outputs": [],
   "source": [
    "with open(conv_path, 'r') as f:\n",
    "    conv = json.load(f)\n",
    "\n",
    "graph = pd.read_json(graph_path, lines=True)\n"
   ]
  },
  {
   "cell_type": "code",
   "execution_count": 12,
   "metadata": {},
   "outputs": [],
   "source": [
    "new_conv = conv[:30]\n",
    "new_graph = graph[:30]"
   ]
  },
  {
   "cell_type": "code",
   "execution_count": 13,
   "metadata": {},
   "outputs": [],
   "source": [
    "for i in range(30):\n",
    "    new_conv[i]['task_id'] = i"
   ]
  },
  {
   "cell_type": "code",
   "execution_count": 14,
   "metadata": {},
   "outputs": [],
   "source": [
    "new_conv_path = '/data/LPJ/ICML25/GraphCoder/graphgpt_dataset/gpt_dataset_construction/acl25_gpt4/shuffled_with_module_head/eval/conversations_30.json'\n",
    "new_graph_path = '/data/LPJ/ICML25/GraphCoder/graphgpt_dataset/gpt_dataset_construction/acl25_gpt4/shuffled_with_module_head/eval/graph_30.jsonl'"
   ]
  },
  {
   "cell_type": "code",
   "execution_count": 15,
   "metadata": {},
   "outputs": [],
   "source": [
    "with open(new_conv_path, 'w') as f:\n",
    "    json.dump(new_conv, f)\n",
    "\n",
    "new_graph.to_json(new_graph_path, orient='records', lines=True)"
   ]
  },
  {
   "cell_type": "code",
   "execution_count": 16,
   "metadata": {},
   "outputs": [],
   "source": [
    "with open(new_conv_path, 'r') as f:\n",
    "    conv = json.load(f)\n",
    "\n"
   ]
  },
  {
   "cell_type": "code",
   "execution_count": 17,
   "metadata": {},
   "outputs": [
    {
     "data": {
      "text/plain": [
       "{'conversations': [{'from': 'human',\n",
       "   'value': \"Given a submodules interconnection graph: \\n<graph>\\n, \\nnodes: [{'id': 0, 'content': 'A', 'type': 'input port'}, {'id': 1, 'content': 'B', 'type': 'input port'}, {'id': 2, 'content': 'A_greater', 'type': 'output port'}, {'id': 3, 'content': 'A_equal', 'type': 'output port'}, {'id': 4, 'content': 'A_less', 'type': 'output port'}, {'id': 5, 'content': 'higher_cmp', 'type': 'submodule'}, {'id': 6, 'content': 'lower_cmp', 'type': 'submodule'}], \\nedge_attrs: [], \\nconnectivity: [[1, 0, 1, 0, 6, 6, 6], [5, 5, 6, 6, 2, 3, 4]]\\n, Design a 16-bit magnitude comparator that evaluates two input numbers, A and B, and outputs three status signals indicating their relative magnitude using smaller 8-bit comparison units.\\n\\nModule name:\\n    magnitude_comparator_16bit\\n\\nInput ports:\\n    A [15:0]: First 16-bit input operand to compare.\\n    B [15:0]: Second 16-bit input operand to compare.\\nOutput ports:\\n    A_greater: 1-bit output indicating if A is greater than B.\\n    A_equal: 1-bit output indicating if A is equal to B.\\n    A_less: 1-bit output indicating if A is less than B.\\n\\nImplementation:\\nComparison Logic: The module internally divides the 16-bit inputs A and B into two 8-bit segments each, compares each segment from higher to lower significance, and finally determines the overall relation (greater, equal, less) between A and B.\\nLogic Utilization: If the higher 8-bit segments (higher significance) of A and B are equal, then comparison moves to the lower 8-bit segments.\\nOutput Signals: Outputs are mutually exclusive with clear conditions setting only one signal active at a time depending on the comparison results.\\n\\nModular Design:\\nThe main module (magnitude_comparator_16bit) instantiates two smaller comparison submodules (magnitude_comparator_8bit) for each 8-bit segment. The results from these submodules are used to decide the final output status of the 16-bit numbers.\\nGive me the complete code.\\nmodule magnitude_comparator_16bit(\\n    input [15:0] A,\\n    input [15:0] B,\\n    output reg A_greater,\\n    output reg A_equal,\\n    output reg A_less\\n);\"},\n",
       "  {'from': 'gpt',\n",
       "   'value': 'module magnitude_comparator_16bit(\\n    input [15:0] A,\\n    input [15:0] B,\\n    output reg A_greater,\\n    output reg A_equal,\\n    output reg A_less\\n);\\n\\n    wire A_higher_greater, A_higher_equal, A_higher_less;\\n    wire A_lower_greater, A_lower_equal, A_lower_less;\\n\\n    // Instantiate the higher 8-bit comparator\\n    magnitude_comparator_8bit higher_cmp (\\n        .A(A[15:8]),\\n        .B(B[15:8]),\\n        .A_greater(A_higher_greater),\\n        .A_equal(A_higher_equal),\\n        .A_less(A_higher_less)\\n    );\\n\\n    // Instantiate the lower 8-bit comparator\\n    magnitude_comparator_8bit lower_cmp (\\n        .A(A[7:0]),\\n        .B(B[7:0]),\\n        .A_greater(A_lower_greater),\\n        .A_equal(A_lower_equal),\\n        .A_less(A_lower_less)\\n    );\\n\\n    // Determine the final comparison outputs\\n    always @ (*) begin\\n        if (A_higher_greater) begin\\n            A_greater = 1;\\n            A_equal = 0;\\n            A_less = 0;\\n        end else if (A_higher_less) begin\\n            A_greater = 0;\\n            A_equal = 0;\\n            A_less = 1;\\n        end else if (A_higher_equal) begin\\n            A_greater = A_lower_greater;\\n            A_equal = A_lower_equal;\\n            A_less = A_lower_less;\\n        end\\n    end\\n\\nendmodule\\n\\nmodule magnitude_comparator_8bit(\\n    input [7:0] A,\\n    input [7:0] B,\\n    output A_greater,\\n    output A_equal,\\n    output A_less\\n);\\n\\n    assign A_greater = (A > B);\\n    assign A_equal = (A == B);\\n    assign A_less = (A < B);\\n\\nendmodule'}],\n",
       " 'task_id': 0}"
      ]
     },
     "execution_count": 17,
     "metadata": {},
     "output_type": "execute_result"
    }
   ],
   "source": [
    "conv[0]"
   ]
  }
 ],
 "metadata": {
  "kernelspec": {
   "display_name": "graphgpt",
   "language": "python",
   "name": "python3"
  },
  "language_info": {
   "codemirror_mode": {
    "name": "ipython",
    "version": 3
   },
   "file_extension": ".py",
   "mimetype": "text/x-python",
   "name": "python",
   "nbconvert_exporter": "python",
   "pygments_lexer": "ipython3",
   "version": "3.9.21"
  }
 },
 "nbformat": 4,
 "nbformat_minor": 2
}
