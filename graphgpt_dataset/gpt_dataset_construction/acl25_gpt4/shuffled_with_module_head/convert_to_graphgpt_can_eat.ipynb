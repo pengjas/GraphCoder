{
 "cells": [
  {
   "cell_type": "code",
   "execution_count": 1,
   "metadata": {},
   "outputs": [],
   "source": [
    "import pandas as pd\n",
    "import json\n",
    "\n",
    "# 读取 JSONL 文件\n",
    "# df_text = pd.read_json('/data/LPJ/ICML25/GraphCoder/graphgpt_dataset/gpt_dataset_construction/acl25_gpt4/shuffled_acl_conversations_v2.jsonl', lines=True)\n",
    "# df_mm = pd.read_json('/data/LPJ/ICML25/GraphCoder/graphgpt_dataset/gpt_dataset_construction/acl25_gpt4/shuffled_acl_graph_v2.jsonl', lines=True)\n",
    "conv_path = '/data/LPJ/ICML25/GraphCoder/graphgpt_dataset/gpt_dataset_construction/acl25_gpt4/shuffled_with_module_head/conversations.json'\n",
    "graph_path = '/data/LPJ/ICML25/GraphCoder/graphgpt_dataset/gpt_dataset_construction/acl25_gpt4/shuffled_with_module_head/graph.jsonl'\n",
    "with open(conv_path, 'r') as f:\n",
    "    conv = json.load(f)\n",
    "graph = pd.read_json(graph_path, lines=True)\n",
    "# # 显示 DataFrame\n",
    "# print(df)"
   ]
  },
  {
   "cell_type": "code",
   "execution_count": 2,
   "metadata": {},
   "outputs": [
    {
     "data": {
      "text/plain": [
       "1326"
      ]
     },
     "execution_count": 2,
     "metadata": {},
     "output_type": "execute_result"
    }
   ],
   "source": [
    "num_lines = len(conv)\n",
    "num_lines"
   ]
  },
  {
   "cell_type": "code",
   "execution_count": 3,
   "metadata": {},
   "outputs": [
    {
     "data": {
      "text/plain": [
       "\"Given a submodules interconnection graph: \\n<graph>\\n, \\nnodes: [{'id': 0, 'content': 'A', 'type': 'input port'}, {'id': 1, 'content': 'B', 'type': 'input port'}, {'id': 2, 'content': 'A_greater', 'type': 'output port'}, {'id': 3, 'content': 'A_equal', 'type': 'output port'}, {'id': 4, 'content': 'A_less', 'type': 'output port'}, {'id': 5, 'content': 'higher_cmp', 'type': 'submodule'}, {'id': 6, 'content': 'lower_cmp', 'type': 'submodule'}], \\nedge_attrs: [], \\nconnectivity: [[1, 0, 1, 0, 6, 6, 6], [5, 5, 6, 6, 2, 3, 4]]\\n, Design a 16-bit magnitude comparator that evaluates two input numbers, A and B, and outputs three status signals indicating their relative magnitude using smaller 8-bit comparison units.\\n\\nModule name:\\n    magnitude_comparator_16bit\\n\\nInput ports:\\n    A [15:0]: First 16-bit input operand to compare.\\n    B [15:0]: Second 16-bit input operand to compare.\\nOutput ports:\\n    A_greater: 1-bit output indicating if A is greater than B.\\n    A_equal: 1-bit output indicating if A is equal to B.\\n    A_less: 1-bit output indicating if A is less than B.\\n\\nImplementation:\\nComparison Logic: The module internally divides the 16-bit inputs A and B into two 8-bit segments each, compares each segment from higher to lower significance, and finally determines the overall relation (greater, equal, less) between A and B.\\nLogic Utilization: If the higher 8-bit segments (higher significance) of A and B are equal, then comparison moves to the lower 8-bit segments.\\nOutput Signals: Outputs are mutually exclusive with clear conditions setting only one signal active at a time depending on the comparison results.\\n\\nModular Design:\\nThe main module (magnitude_comparator_16bit) instantiates two smaller comparison submodules (magnitude_comparator_8bit) for each 8-bit segment. The results from these submodules are used to decide the final output status of the 16-bit numbers.\\nGive me the complete code.\\nmodule magnitude_comparator_16bit(\\n    input [15:0] A,\\n    input [15:0] B,\\n    output reg A_greater,\\n    output reg A_equal,\\n    output reg A_less\\n);\""
      ]
     },
     "execution_count": 3,
     "metadata": {},
     "output_type": "execute_result"
    }
   ],
   "source": [
    "conv[0]['conversations'][0]['value']"
   ]
  },
  {
   "cell_type": "code",
   "execution_count": 5,
   "metadata": {},
   "outputs": [],
   "source": [
    "for i in range(num_lines):\n",
    "# for i in range(3):\n",
    "    t_graph = \"nodes: {}, \\nedge_attrs: {}, \\nconnectivity: {}\".format(graph['nodes'][i], graph['edge_attrs'][i], graph['connectivity'][i])\n",
    "    text_graph = \"\\n{}\\n, \".format(t_graph)\n",
    "    conv[i]['conversations'][0]['value'] = conv[i]['conversations'][0]['value'].replace(text_graph, \"\")\n",
    "    # print(json.dumps(new_line))\n"
   ]
  },
  {
   "cell_type": "code",
   "execution_count": 6,
   "metadata": {},
   "outputs": [
    {
     "data": {
      "text/plain": [
       "'Given a submodules interconnection graph: \\n<graph>\\n, Design a 16-bit magnitude comparator that evaluates two input numbers, A and B, and outputs three status signals indicating their relative magnitude using smaller 8-bit comparison units.\\n\\nModule name:\\n    magnitude_comparator_16bit\\n\\nInput ports:\\n    A [15:0]: First 16-bit input operand to compare.\\n    B [15:0]: Second 16-bit input operand to compare.\\nOutput ports:\\n    A_greater: 1-bit output indicating if A is greater than B.\\n    A_equal: 1-bit output indicating if A is equal to B.\\n    A_less: 1-bit output indicating if A is less than B.\\n\\nImplementation:\\nComparison Logic: The module internally divides the 16-bit inputs A and B into two 8-bit segments each, compares each segment from higher to lower significance, and finally determines the overall relation (greater, equal, less) between A and B.\\nLogic Utilization: If the higher 8-bit segments (higher significance) of A and B are equal, then comparison moves to the lower 8-bit segments.\\nOutput Signals: Outputs are mutually exclusive with clear conditions setting only one signal active at a time depending on the comparison results.\\n\\nModular Design:\\nThe main module (magnitude_comparator_16bit) instantiates two smaller comparison submodules (magnitude_comparator_8bit) for each 8-bit segment. The results from these submodules are used to decide the final output status of the 16-bit numbers.\\nGive me the complete code.\\nmodule magnitude_comparator_16bit(\\n    input [15:0] A,\\n    input [15:0] B,\\n    output reg A_greater,\\n    output reg A_equal,\\n    output reg A_less\\n);'"
      ]
     },
     "execution_count": 6,
     "metadata": {},
     "output_type": "execute_result"
    }
   ],
   "source": [
    "conv[0]['conversations'][0]['value']\n"
   ]
  },
  {
   "cell_type": "code",
   "execution_count": 7,
   "metadata": {},
   "outputs": [],
   "source": [
    "with open('/data/LPJ/ICML25/GraphCoder/graphgpt_dataset/gpt_dataset_construction/acl25_gpt4/shuffled_with_module_head/without_textualized_graph/conversations.json', 'w') as f:\n",
    "    # for line in new_text:\n",
    "    #     f.write(json.dumps(line) + '\\n')\n",
    "    json.dump(conv, f)"
   ]
  },
  {
   "cell_type": "code",
   "execution_count": 6,
   "metadata": {},
   "outputs": [],
   "source": [
    "new_graph_df = df_mm[['nodes', 'edge_attrs', 'connectivity']]\n",
    "new_graph_df\n",
    "new_graph_df.to_json('/data/LPJ/ICML25/GraphCoder/graphgpt_dataset/gpt_dataset_construction/acl25_gpt4/shuffled_without_module_head/graph.jsonl', orient='records', lines=True)"
   ]
  }
 ],
 "metadata": {
  "kernelspec": {
   "display_name": "graphgpt",
   "language": "python",
   "name": "python3"
  },
  "language_info": {
   "codemirror_mode": {
    "name": "ipython",
    "version": 3
   },
   "file_extension": ".py",
   "mimetype": "text/x-python",
   "name": "python",
   "nbconvert_exporter": "python",
   "pygments_lexer": "ipython3",
   "version": "3.9.21"
  }
 },
 "nbformat": 4,
 "nbformat_minor": 2
}
