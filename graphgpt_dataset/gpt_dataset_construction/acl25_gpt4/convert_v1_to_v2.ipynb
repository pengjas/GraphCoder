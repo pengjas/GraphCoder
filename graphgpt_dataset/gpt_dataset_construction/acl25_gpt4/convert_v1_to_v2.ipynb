{
 "cells": [
  {
   "cell_type": "code",
   "execution_count": 1,
   "metadata": {},
   "outputs": [],
   "source": [
    "import json\n",
    "import pandas as pd"
   ]
  },
  {
   "cell_type": "code",
   "execution_count": 2,
   "metadata": {},
   "outputs": [],
   "source": [
    "conv_path = '/data/LPJ/ICML25/GraphCoder/graphgpt_dataset/gpt_dataset_construction/acl25_gpt4/shuffled_without_module_head/conversations.json'\n",
    "graph_path = '/data/LPJ/ICML25/GraphCoder/graphgpt_dataset/gpt_dataset_construction/acl25_gpt4/shuffled_without_module_head/graph.jsonl'"
   ]
  },
  {
   "cell_type": "code",
   "execution_count": 3,
   "metadata": {},
   "outputs": [
    {
     "name": "stdout",
     "output_type": "stream",
     "text": [
      "Found substring: module name=\"example1\" \n",
      "   attribu\n",
      "te=\"   value\";\n",
      "All found substrings: ['module name=\"example1\" \\n   attribu\\nte=\"   value\";', 'module name=\"example2\" attribute=\"another value\";']\n"
     ]
    }
   ],
   "source": [
    "import re\n",
    "\n",
    "def find_module_string(text):\n",
    "    # Regex pattern to find the string starting with \"module\" and ending with \";\"\n",
    "    # It uses non-greedy matching to find the shortest match\n",
    "    pattern = r\"module.*?;\"\n",
    "    \n",
    "    # Using re.DOTALL to make the dot match all characters including newline\n",
    "    match = re.search(pattern, text, re.DOTALL)\n",
    "    \n",
    "    if match:\n",
    "        return match.group()  # Returns the matched string\n",
    "    else:\n",
    "        return None  # No match found\n",
    "\n",
    "# Example usage\n",
    "input_text = \"\"\"\n",
    "some initial text\n",
    "module name=\"example1\" \\n   attribu\\nte=\"   value\";\n",
    "some other text\n",
    "module name=\"example2\" attribute=\"another value\";\n",
    "\"\"\"\n",
    "\n",
    "# Find the first occurrence\n",
    "result = find_module_string(input_text)\n",
    "print(\"Found substring:\", result)\n",
    "\n",
    "# If you need to find all occurrences instead of just the first one, you can use re.findall\n",
    "all_matches = re.findall(r\"module.*?;\", input_text, re.DOTALL)\n",
    "print(\"All found substrings:\", all_matches)"
   ]
  },
  {
   "cell_type": "code",
   "execution_count": 4,
   "metadata": {},
   "outputs": [],
   "source": [
    "graph = pd.read_json(graph_path, lines=True)\n",
    "with open(conv_path, 'r') as f:\n",
    "    conv = json.load(f)\n"
   ]
  },
  {
   "cell_type": "code",
   "execution_count": 5,
   "metadata": {},
   "outputs": [
    {
     "data": {
      "text/plain": [
       "\"Given a submodules interconnection graph: \\n<graph>\\n, \\nnodes: [{'id': 0, 'content': 'A', 'type': 'input port'}, {'id': 1, 'content': 'B', 'type': 'input port'}, {'id': 2, 'content': 'A_greater', 'type': 'output port'}, {'id': 3, 'content': 'A_equal', 'type': 'output port'}, {'id': 4, 'content': 'A_less', 'type': 'output port'}, {'id': 5, 'content': 'higher_cmp', 'type': 'submodule'}, {'id': 6, 'content': 'lower_cmp', 'type': 'submodule'}], \\nedge_attrs: [], \\nconnectivity: [[1, 0, 1, 0, 6, 6, 6], [5, 5, 6, 6, 2, 3, 4]]\\n, Design a 16-bit magnitude comparator that evaluates two input numbers, A and B, and outputs three status signals indicating their relative magnitude using smaller 8-bit comparison units.\\n\\nModule name:\\n    magnitude_comparator_16bit\\n\\nInput ports:\\n    A [15:0]: First 16-bit input operand to compare.\\n    B [15:0]: Second 16-bit input operand to compare.\\nOutput ports:\\n    A_greater: 1-bit output indicating if A is greater than B.\\n    A_equal: 1-bit output indicating if A is equal to B.\\n    A_less: 1-bit output indicating if A is less than B.\\n\\nImplementation:\\nComparison Logic: The module internally divides the 16-bit inputs A and B into two 8-bit segments each, compares each segment from higher to lower significance, and finally determines the overall relation (greater, equal, less) between A and B.\\nLogic Utilization: If the higher 8-bit segments (higher significance) of A and B are equal, then comparison moves to the lower 8-bit segments.\\nOutput Signals: Outputs are mutually exclusive with clear conditions setting only one signal active at a time depending on the comparison results.\\n\\nModular Design:\\nThe main module (magnitude_comparator_16bit) instantiates two smaller comparison submodules (magnitude_comparator_8bit) for each 8-bit segment. The results from these submodules are used to decide the final output status of the 16-bit numbers.\\nGive me the complete code.\""
      ]
     },
     "execution_count": 5,
     "metadata": {},
     "output_type": "execute_result"
    }
   ],
   "source": [
    "conv[0]['conversations'][0]['value']"
   ]
  },
  {
   "cell_type": "code",
   "execution_count": 6,
   "metadata": {},
   "outputs": [
    {
     "data": {
      "text/plain": [
       "'module magnitude_comparator_16bit(\\n    input [15:0] A,\\n    input [15:0] B,\\n    output reg A_greater,\\n    output reg A_equal,\\n    output reg A_less\\n);\\n\\n    wire A_higher_greater, A_higher_equal, A_higher_less;\\n    wire A_lower_greater, A_lower_equal, A_lower_less;\\n\\n    // Instantiate the higher 8-bit comparator\\n    magnitude_comparator_8bit higher_cmp (\\n        .A(A[15:8]),\\n        .B(B[15:8]),\\n        .A_greater(A_higher_greater),\\n        .A_equal(A_higher_equal),\\n        .A_less(A_higher_less)\\n    );\\n\\n    // Instantiate the lower 8-bit comparator\\n    magnitude_comparator_8bit lower_cmp (\\n        .A(A[7:0]),\\n        .B(B[7:0]),\\n        .A_greater(A_lower_greater),\\n        .A_equal(A_lower_equal),\\n        .A_less(A_lower_less)\\n    );\\n\\n    // Determine the final comparison outputs\\n    always @ (*) begin\\n        if (A_higher_greater) begin\\n            A_greater = 1;\\n            A_equal = 0;\\n            A_less = 0;\\n        end else if (A_higher_less) begin\\n            A_greater = 0;\\n            A_equal = 0;\\n            A_less = 1;\\n        end else if (A_higher_equal) begin\\n            A_greater = A_lower_greater;\\n            A_equal = A_lower_equal;\\n            A_less = A_lower_less;\\n        end\\n    end\\n\\nendmodule\\n\\nmodule magnitude_comparator_8bit(\\n    input [7:0] A,\\n    input [7:0] B,\\n    output A_greater,\\n    output A_equal,\\n    output A_less\\n);\\n\\n    assign A_greater = (A > B);\\n    assign A_equal = (A == B);\\n    assign A_less = (A < B);\\n\\nendmodule'"
      ]
     },
     "execution_count": 6,
     "metadata": {},
     "output_type": "execute_result"
    }
   ],
   "source": [
    "conv[0]['conversations'][1]['value']"
   ]
  },
  {
   "cell_type": "code",
   "execution_count": 7,
   "metadata": {},
   "outputs": [
    {
     "data": {
      "text/plain": [
       "\"Given a submodules interconnection graph: \\n<graph>\\n, \\nnodes: [{'id': 0, 'content': 'A', 'type': 'input port'}, {'id': 1, 'content': 'B', 'type': 'input port'}, {'id': 2, 'content': 'A_greater', 'type': 'output port'}, {'id': 3, 'content': 'A_equal', 'type': 'output port'}, {'id': 4, 'content': 'A_less', 'type': 'output port'}, {'id': 5, 'content': 'higher_cmp', 'type': 'submodule'}, {'id': 6, 'content': 'lower_cmp', 'type': 'submodule'}], \\nedge_attrs: [], \\nconnectivity: [[1, 0, 1, 0, 6, 6, 6], [5, 5, 6, 6, 2, 3, 4]]\\n, Design a 16-bit magnitude comparator that evaluates two input numbers, A and B, and outputs three status signals indicating their relative magnitude using smaller 8-bit comparison units.\\n\\nModule name:\\n    magnitude_comparator_16bit\\n\\nInput ports:\\n    A [15:0]: First 16-bit input operand to compare.\\n    B [15:0]: Second 16-bit input operand to compare.\\nOutput ports:\\n    A_greater: 1-bit output indicating if A is greater than B.\\n    A_equal: 1-bit output indicating if A is equal to B.\\n    A_less: 1-bit output indicating if A is less than B.\\n\\nImplementation:\\nComparison Logic: The module internally divides the 16-bit inputs A and B into two 8-bit segments each, compares each segment from higher to lower significance, and finally determines the overall relation (greater, equal, less) between A and B.\\nLogic Utilization: If the higher 8-bit segments (higher significance) of A and B are equal, then comparison moves to the lower 8-bit segments.\\nOutput Signals: Outputs are mutually exclusive with clear conditions setting only one signal active at a time depending on the comparison results.\\n\\nModular Design:\\nThe main module (magnitude_comparator_16bit) instantiates two smaller comparison submodules (magnitude_comparator_8bit) for each 8-bit segment. The results from these submodules are used to decide the final output status of the 16-bit numbers.\\nGive me the complete code.module magnitude_comparator_16bit(\\n    input [15:0] A,\\n    input [15:0] B,\\n    output reg A_greater,\\n    output reg A_equal,\\n    output reg A_less\\n);\""
      ]
     },
     "execution_count": 7,
     "metadata": {},
     "output_type": "execute_result"
    }
   ],
   "source": [
    "head = find_module_string(conv[0]['conversations'][1]['value'])\n",
    "conv[0]['conversations'][0]['value'] + head"
   ]
  },
  {
   "cell_type": "code",
   "execution_count": 8,
   "metadata": {},
   "outputs": [],
   "source": [
    "for i in range(len(conv)):\n",
    "    module_head = find_module_string(conv[i]['conversations'][1]['value'])\n",
    "    conv[i]['conversations'][0]['value'] = conv[i]['conversations'][0]['value'] + '\\n' + module_head"
   ]
  },
  {
   "cell_type": "code",
   "execution_count": 9,
   "metadata": {},
   "outputs": [
    {
     "data": {
      "text/plain": [
       "\"Given a submodules interconnection graph: \\n<graph>\\n, \\nnodes: [{'id': 0, 'content': 'a', 'type': 'input port'}, {'id': 1, 'content': 'b', 'type': 'input port'}, {'id': 2, 'content': 'Cin', 'type': 'input port'}, {'id': 3, 'content': 'sum', 'type': 'output port'}, {'id': 4, 'content': 'Cout', 'type': 'output port'}, {'id': 5, 'content': 'adder0', 'type': 'submodule'}, {'id': 6, 'content': 'adder1', 'type': 'submodule'}, {'id': 7, 'content': 'adder2', 'type': 'submodule'}, {'id': 8, 'content': 'adder3', 'type': 'submodule'}], \\nedge_attrs: [], \\nconnectivity: [[0, 1, 2, 0, 1, 5, 1, 0, 6, 0, 1, 7, 6, 7, 5, 8, 8], [5, 5, 5, 6, 6, 6, 7, 7, 7, 8, 8, 8, 3, 3, 3, 3, 4]]\\n, Design a 32-bit carry-lookahead adder named 'cla_adder_32bit'. This module should utilize smaller carry-lookahead adder blocks, specifically 8-bit blocks named 'cla_adder_8bit', to perform the addition. Each 'cla_adder_8bit' should further use a 'cla_logic_4bit' submodule for carry computation.\\n\\nModule name:  \\n    cla_adder_32bit               \\nInput ports:\\n    a[31:0]: 32-bit input operand A.\\n    b[31:0]: 32-bit input operand B.\\n    Cin: Carry-in input.\\nOutput ports:\\n    sum[31:0]: 32-bit output sum of A and B.\\n    Cout: Carry-out output.\\n\\nImplementation:\\nThe 'cla_adder_32bit' should instantiate four 'cla_adder_8bit' modules to perform the addition in a hierarchical manner. Each 'cla_adder_8bit' should instantiate two 'cla_logic_4bit' blocks for carry generation and propagation.\\nGive me the complete code.\\nmodule cla_adder_32bit (\\n    input wire [31:0] a,\\n    input wire [31:0] b,\\n    input wire Cin,\\n    output wire [31:0] sum,\\n    output wire Cout\\n);\""
      ]
     },
     "execution_count": 9,
     "metadata": {},
     "output_type": "execute_result"
    }
   ],
   "source": [
    "conv[100]['conversations'][0]['value']"
   ]
  },
  {
   "cell_type": "code",
   "execution_count": 10,
   "metadata": {},
   "outputs": [],
   "source": [
    "new_conv_path = '/data/LPJ/ICML25/GraphCoder/graphgpt_dataset/gpt_dataset_construction/acl25_gpt4/shuffled_with_module_head/conversations.json'\n",
    "\n"
   ]
  },
  {
   "cell_type": "code",
   "execution_count": 11,
   "metadata": {},
   "outputs": [],
   "source": [
    "with open(new_conv_path, 'w') as f:\n",
    "    json.dump(conv, f)"
   ]
  },
  {
   "cell_type": "code",
   "execution_count": 5,
   "metadata": {},
   "outputs": [],
   "source": [
    "import json\n",
    "with open(new_conv_path, 'r') as f:\n",
    "    new_conv = json.load(f)\n",
    "    \n"
   ]
  },
  {
   "cell_type": "code",
   "execution_count": 6,
   "metadata": {},
   "outputs": [
    {
     "data": {
      "text/plain": [
       "1326"
      ]
     },
     "execution_count": 6,
     "metadata": {},
     "output_type": "execute_result"
    }
   ],
   "source": [
    "len(new_conv)"
   ]
  },
  {
   "cell_type": "code",
   "execution_count": null,
   "metadata": {},
   "outputs": [],
   "source": [
    "new_conv[100]['conversations'][0]['value']"
   ]
  },
  {
   "cell_type": "code",
   "execution_count": 32,
   "metadata": {},
   "outputs": [
    {
     "data": {
      "text/plain": [
       "2148"
      ]
     },
     "execution_count": 32,
     "metadata": {},
     "output_type": "execute_result"
    }
   ],
   "source": [
    "len(graph)"
   ]
  }
 ],
 "metadata": {
  "kernelspec": {
   "display_name": "graphgpt",
   "language": "python",
   "name": "python3"
  },
  "language_info": {
   "codemirror_mode": {
    "name": "ipython",
    "version": 3
   },
   "file_extension": ".py",
   "mimetype": "text/x-python",
   "name": "python",
   "nbconvert_exporter": "python",
   "pygments_lexer": "ipython3",
   "version": "3.9.21"
  }
 },
 "nbformat": 4,
 "nbformat_minor": 2
}
