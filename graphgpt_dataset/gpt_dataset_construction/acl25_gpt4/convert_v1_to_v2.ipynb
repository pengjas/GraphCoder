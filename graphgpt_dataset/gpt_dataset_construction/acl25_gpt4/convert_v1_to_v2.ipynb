{
 "cells": [
  {
   "cell_type": "code",
   "execution_count": 1,
   "metadata": {},
   "outputs": [],
   "source": [
    "import json\n",
    "import pandas as pd"
   ]
  },
  {
   "cell_type": "code",
   "execution_count": 2,
   "metadata": {},
   "outputs": [],
   "source": [
    "conv_path = '/data/LPJ/ICML25/GraphCoder/graphgpt_dataset/gpt_dataset_construction/acl25_gpt4/without_module_head/conversations.json'\n",
    "graph_path = '/data/LPJ/ICML25/GraphCoder/graphgpt_dataset/gpt_dataset_construction/acl25_gpt4/without_module_head/graph.jsonl'"
   ]
  },
  {
   "cell_type": "code",
   "execution_count": 3,
   "metadata": {},
   "outputs": [
    {
     "name": "stdout",
     "output_type": "stream",
     "text": [
      "Found substring: module name=\"example1\" \n",
      "   attribu\n",
      "te=\"   value\";\n",
      "All found substrings: ['module name=\"example1\" \\n   attribu\\nte=\"   value\";', 'module name=\"example2\" attribute=\"another value\";']\n"
     ]
    }
   ],
   "source": [
    "import re\n",
    "\n",
    "def find_module_string(text):\n",
    "    # Regex pattern to find the string starting with \"module\" and ending with \";\"\n",
    "    # It uses non-greedy matching to find the shortest match\n",
    "    pattern = r\"module.*?;\"\n",
    "    \n",
    "    # Using re.DOTALL to make the dot match all characters including newline\n",
    "    match = re.search(pattern, text, re.DOTALL)\n",
    "    \n",
    "    if match:\n",
    "        return match.group()  # Returns the matched string\n",
    "    else:\n",
    "        return None  # No match found\n",
    "\n",
    "# Example usage\n",
    "input_text = \"\"\"\n",
    "some initial text\n",
    "module name=\"example1\" \\n   attribu\\nte=\"   value\";\n",
    "some other text\n",
    "module name=\"example2\" attribute=\"another value\";\n",
    "\"\"\"\n",
    "\n",
    "# Find the first occurrence\n",
    "result = find_module_string(input_text)\n",
    "print(\"Found substring:\", result)\n",
    "\n",
    "# If you need to find all occurrences instead of just the first one, you can use re.findall\n",
    "all_matches = re.findall(r\"module.*?;\", input_text, re.DOTALL)\n",
    "print(\"All found substrings:\", all_matches)"
   ]
  },
  {
   "cell_type": "code",
   "execution_count": 4,
   "metadata": {},
   "outputs": [],
   "source": [
    "graph = pd.read_json(graph_path, lines=True)\n",
    "with open(conv_path, 'r') as f:\n",
    "    conv = json.load(f)\n"
   ]
  },
  {
   "cell_type": "code",
   "execution_count": 5,
   "metadata": {},
   "outputs": [
    {
     "data": {
      "text/plain": [
       "\"Given a submodules interconnection graph: \\n<graph>\\n, \\nnodes: [{'id': 0, 'content': 'clk', 'type': 'input port'}, {'id': 1, 'content': 'rst', 'type': 'input port'}, {'id': 2, 'content': 'data_a', 'type': 'input port'}, {'id': 3, 'content': 'data_b', 'type': 'input port'}, {'id': 4, 'content': 'op_code', 'type': 'input port'}, {'id': 5, 'content': 'result', 'type': 'output port'}, {'id': 6, 'content': 'in_latch', 'type': 'submodule'}, {'id': 7, 'content': 'arith_stage', 'type': 'submodule'}, {'id': 8, 'content': 'res_latch', 'type': 'submodule'}, {'id': 9, 'content': 'out_format', 'type': 'submodule'}], \\nedge_attrs: [], \\nconnectivity: [[1, 2, 3, 0, 4, 6, 0, 7, 0, 0, 8, 9], [6, 6, 6, 6, 7, 7, 7, 8, 8, 9, 9, 5]]\\n, Design and implement a 5-stage pipeline for a basic arithmetic unit in Verilog.\\n\\nModule name:  \\n    arithmetic_pipeline5               \\nInput ports:\\n    clk: Clock signal.\\n    rst: Reset signal, active high.\\n    data_a[31:0]: 32-bit input operand A.\\n    data_b[31:0]: 32-bit input operand B.\\n    op_code[1:0]: Operation code where 00 is ADD, 01 is SUBTRACT, 10 is MULTIPLY, and 11 is DIVIDE.\\nOutput ports:\\n    result[31:0]: 32-bit output representing the result of the arithmetic operation.\\n\\nImplementation:\\nThe arithmetic_pipeline5 module includes five stages: input latch, arithmetic operation, result latch, output formatting, and output latch. The input latch stage captures the inputs. The arithmetic stage computes the operation based on the op_code. The result latch stores the computation result temporarily. The output formatting stage adjusts the result if necessary, e.g., rounding. Finally, the output latch stage holds the result ready for output. Each stage is clocked by the rising edge of the clk signal.\\nGive me the complete code.\""
      ]
     },
     "execution_count": 5,
     "metadata": {},
     "output_type": "execute_result"
    }
   ],
   "source": [
    "conv[0]['conversations'][0]['value']"
   ]
  },
  {
   "cell_type": "code",
   "execution_count": 6,
   "metadata": {},
   "outputs": [
    {
     "data": {
      "text/plain": [
       "\"`define ADD 2'b00\\n`define SUB 2'b01\\n`define MUL 2'b10\\n`define DIV 2'b11\\nmodule arithmetic_pipeline5(\\n    input clk,\\n    input rst,\\n    input [31:0] data_a,\\n    input [31:0] data_b,\\n    input [1:0] op_code,\\n    output [31:0] result\\n);\\nwire [31:0] data_a_latched, data_b_latched, op_result, formatted_result;\\n\\ninput_latch in_latch (\\n    .clk(clk),\\n    .rst(rst),\\n    .data_a(data_a),\\n    .data_b(data_b),\\n    .data_a_latched(data_a_latched),\\n    .data_b_latched(data_b_latched)\\n);\\narithmetic_stage arith_stage (\\n    .clk(clk),\\n    .data_a(data_a_latched),\\n    .data_b(data_b_latched),\\n    .op_code(op_code),\\n    .result(op_result)\\n);\\nresult_latch res_latch (\\n    .clk(clk),\\n    .input_result(op_result),\\n    .latched_result(formatted_result)\\n);\\noutput_format out_format (\\n    .clk(clk),\\n    .input_result(formatted_result),\\n    .formatted_result(result)\\n);\\nendmodule\\n\\nmodule input_latch(input clk, input rst, input [31:0] data_a, input [31:0] data_b, output reg [31:0] data_a_latched, output reg [31:0] data_b_latched);\\n    always @(posedge clk or posedge rst) begin\\n        if (rst) begin\\n            data_a_latched <= 0;\\n            data_b_latched <= 0;\\n        end else begin\\n            data_a_latched <= data_a;\\n            data_b_latched <= data_b;\\n        end\\n    end\\nendmodule\\n\\nmodule arithmetic_stage(input clk, input [31:0] data_a, input [31:0] data_b, input [1:0] op_code, output reg [31:0] result);\\n    always @(posedge clk) begin\\n        case (op_code)\\n            `ADD: result <= data_a + data_b;\\n            `SUB: result <= data_a - data_b;\\n            `MUL: result <= data_a * data_b;\\n            `DIV: result <= data_a / data_b;\\n            default: result <= 0;\\n        endcase\\n    end\\nendmodule\\n\\nmodule result_latch(input clk, input [31:0] input_result, output reg [31:0] latched_result);\\n    always @(posedge clk) begin\\n        latched_result <= input_result;\\n    end\\nendmodule\\n\\nmodule output_format(input clk, input [31:0] input_result, output reg [31:0] formatted_result);\\n    always @(posedge clk) begin\\n        formatted_result <= input_result; // Simple pass-through in this example\\n    end\\nendmodule\""
      ]
     },
     "execution_count": 6,
     "metadata": {},
     "output_type": "execute_result"
    }
   ],
   "source": [
    "conv[0]['conversations'][1]['value']"
   ]
  },
  {
   "cell_type": "code",
   "execution_count": 7,
   "metadata": {},
   "outputs": [
    {
     "data": {
      "text/plain": [
       "\"Given a submodules interconnection graph: \\n<graph>\\n, \\nnodes: [{'id': 0, 'content': 'clk', 'type': 'input port'}, {'id': 1, 'content': 'rst', 'type': 'input port'}, {'id': 2, 'content': 'data_a', 'type': 'input port'}, {'id': 3, 'content': 'data_b', 'type': 'input port'}, {'id': 4, 'content': 'op_code', 'type': 'input port'}, {'id': 5, 'content': 'result', 'type': 'output port'}, {'id': 6, 'content': 'in_latch', 'type': 'submodule'}, {'id': 7, 'content': 'arith_stage', 'type': 'submodule'}, {'id': 8, 'content': 'res_latch', 'type': 'submodule'}, {'id': 9, 'content': 'out_format', 'type': 'submodule'}], \\nedge_attrs: [], \\nconnectivity: [[1, 2, 3, 0, 4, 6, 0, 7, 0, 0, 8, 9], [6, 6, 6, 6, 7, 7, 7, 8, 8, 9, 9, 5]]\\n, Design and implement a 5-stage pipeline for a basic arithmetic unit in Verilog.\\n\\nModule name:  \\n    arithmetic_pipeline5               \\nInput ports:\\n    clk: Clock signal.\\n    rst: Reset signal, active high.\\n    data_a[31:0]: 32-bit input operand A.\\n    data_b[31:0]: 32-bit input operand B.\\n    op_code[1:0]: Operation code where 00 is ADD, 01 is SUBTRACT, 10 is MULTIPLY, and 11 is DIVIDE.\\nOutput ports:\\n    result[31:0]: 32-bit output representing the result of the arithmetic operation.\\n\\nImplementation:\\nThe arithmetic_pipeline5 module includes five stages: input latch, arithmetic operation, result latch, output formatting, and output latch. The input latch stage captures the inputs. The arithmetic stage computes the operation based on the op_code. The result latch stores the computation result temporarily. The output formatting stage adjusts the result if necessary, e.g., rounding. Finally, the output latch stage holds the result ready for output. Each stage is clocked by the rising edge of the clk signal.\\nGive me the complete code.module arithmetic_pipeline5(\\n    input clk,\\n    input rst,\\n    input [31:0] data_a,\\n    input [31:0] data_b,\\n    input [1:0] op_code,\\n    output [31:0] result\\n);\""
      ]
     },
     "execution_count": 7,
     "metadata": {},
     "output_type": "execute_result"
    }
   ],
   "source": [
    "head = find_module_string(conv[0]['conversations'][1]['value'])\n",
    "conv[0]['conversations'][0]['value'] + head"
   ]
  },
  {
   "cell_type": "code",
   "execution_count": 8,
   "metadata": {},
   "outputs": [],
   "source": [
    "for i in range(len(conv)):\n",
    "    module_head = find_module_string(conv[i]['conversations'][1]['value'])\n",
    "    conv[i]['conversations'][0]['value'] = conv[i]['conversations'][0]['value'] + '\\n' + module_head"
   ]
  },
  {
   "cell_type": "code",
   "execution_count": 9,
   "metadata": {},
   "outputs": [
    {
     "data": {
      "text/plain": [
       "\"Given a submodules interconnection graph: \\n<graph>\\n, \\nnodes: [{'id': 0, 'content': 'clk', 'type': 'input port'}, {'id': 1, 'content': 'rst', 'type': 'input port'}, {'id': 2, 'content': 'instr', 'type': 'input port'}, {'id': 3, 'content': 'opcode', 'type': 'output port'}, {'id': 4, 'content': 'rs1', 'type': 'output port'}, {'id': 5, 'content': 'rs2', 'type': 'output port'}, {'id': 6, 'content': 'rd', 'type': 'output port'}, {'id': 7, 'content': 'imm', 'type': 'output port'}, {'id': 8, 'content': 'func3', 'type': 'output port'}, {'id': 9, 'content': 'func7', 'type': 'output port'}, {'id': 10, 'content': 'decoders', 'type': 'submodule'}], \\nedge_attrs: [], \\nconnectivity: [[2, 2, 10, 10, 10, 10, 10, 10], [10, 3, 4, 5, 6, 7, 8, 9]]\\n, Design a modular RISC-V instruction decoder that decodes a 32-bit instruction into its component fields: opcode, register source addresses, destination address, immediate value, and function codes. It uses hierarchical design with submodules for decoding various parts based on the opcode.\\n\\nModule name:\\n    instruction_decoder\\n\\nInput ports:\\n    clk: Clock signal for synchronization.\\n    rst: Active low reset signal to reset the decoder.\\n    instr [31:0]: 32-bit input instruction to be decoded.\\n\\nOutput ports:\\n    opcode [6:0]: Decoded opcode.\\n    rs1 [4:0]: Source register address 1.\\n    rs2 [4:0]: Source register address 2.\\n    rd [4:0]: Destination register address.\\n    imm [31:0]: Immediate value.\\n    func3 [2:0]: Function code 3.\\n    func7 [6:0]: Function code 7.\\n\\nImplementation:\\n    Based on the opcode, the instruction decoder uses specific submodules to extract the appropriate fields.\\n    The submodules (decode_rtype, decode_itype, decode_stype, decode_btype, decode_utype, decode_jtype) process different instruction formats (R, I, S, B, U, J types).\\nGive me the complete code.\\nmodule instruction_decoder (\\n    input clk,\\n    input rst,\\n    input [31:0] instr,\\n    output [6:0] opcode,\\n    output [4:0] rs1,\\n    output [4:0] rs2,\\n    output [4:0] rd,\\n    output [31:0] imm,\\n    output [2:0] func3,\\n    output [6:0] func7\\n);\""
      ]
     },
     "execution_count": 9,
     "metadata": {},
     "output_type": "execute_result"
    }
   ],
   "source": [
    "conv[100]['conversations'][0]['value']"
   ]
  },
  {
   "cell_type": "code",
   "execution_count": 3,
   "metadata": {},
   "outputs": [],
   "source": [
    "new_conv_path = '/data/LPJ/ICML25/GraphCoder/graphgpt_dataset/gpt_dataset_construction/acl25_gpt4/with_module_head/conversations.json'\n",
    "\n"
   ]
  },
  {
   "cell_type": "code",
   "execution_count": null,
   "metadata": {},
   "outputs": [],
   "source": [
    "with open(new_conv_path, 'w') as f:\n",
    "    json.dump(conv, f)"
   ]
  },
  {
   "cell_type": "code",
   "execution_count": 5,
   "metadata": {},
   "outputs": [],
   "source": [
    "import json\n",
    "with open(new_conv_path, 'r') as f:\n",
    "    new_conv = json.load(f)\n",
    "    \n"
   ]
  },
  {
   "cell_type": "code",
   "execution_count": 6,
   "metadata": {},
   "outputs": [
    {
     "data": {
      "text/plain": [
       "1326"
      ]
     },
     "execution_count": 6,
     "metadata": {},
     "output_type": "execute_result"
    }
   ],
   "source": [
    "len(new_conv)"
   ]
  },
  {
   "cell_type": "code",
   "execution_count": null,
   "metadata": {},
   "outputs": [],
   "source": [
    "new_conv[100]['conversations'][0]['value']"
   ]
  },
  {
   "cell_type": "code",
   "execution_count": 32,
   "metadata": {},
   "outputs": [
    {
     "data": {
      "text/plain": [
       "2148"
      ]
     },
     "execution_count": 32,
     "metadata": {},
     "output_type": "execute_result"
    }
   ],
   "source": [
    "len(graph)"
   ]
  }
 ],
 "metadata": {
  "kernelspec": {
   "display_name": "graphgpt",
   "language": "python",
   "name": "python3"
  },
  "language_info": {
   "codemirror_mode": {
    "name": "ipython",
    "version": 3
   },
   "file_extension": ".py",
   "mimetype": "text/x-python",
   "name": "python",
   "nbconvert_exporter": "python",
   "pygments_lexer": "ipython3",
   "version": "3.9.21"
  }
 },
 "nbformat": 4,
 "nbformat_minor": 2
}
