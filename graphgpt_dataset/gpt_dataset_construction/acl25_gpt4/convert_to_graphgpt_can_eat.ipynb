{
 "cells": [
  {
   "cell_type": "code",
   "execution_count": 1,
   "metadata": {},
   "outputs": [],
   "source": [
    "import pandas as pd\n",
    "import json\n",
    "\n",
    "# 读取 JSONL 文件\n",
    "df_text = pd.read_json('/data/LPJ/ICML25/GraphCoder/graphgpt_dataset/gpt_dataset_construction/acl25_gpt4/acl_conversations.jsonl', lines=True)\n",
    "df_mm = pd.read_json('/data/LPJ/ICML25/GraphCoder/graphgpt_dataset/gpt_dataset_construction/acl25_gpt4/acl_graph.jsonl', lines=True)\n",
    "\n",
    "# # 显示 DataFrame\n",
    "# print(df)"
   ]
  },
  {
   "cell_type": "code",
   "execution_count": 2,
   "metadata": {},
   "outputs": [
    {
     "data": {
      "text/plain": [
       "1326"
      ]
     },
     "execution_count": 2,
     "metadata": {},
     "output_type": "execute_result"
    }
   ],
   "source": [
    "num_lines = len(df_text)\n",
    "num_lines"
   ]
  },
  {
   "cell_type": "code",
   "execution_count": 3,
   "metadata": {},
   "outputs": [],
   "source": [
    "template = \"Given a submodules interconnection graph: \\n<graph>\\n, \"\n",
    "# text_graph = '\\n{}\\n,'.format(graph)"
   ]
  },
  {
   "cell_type": "code",
   "execution_count": 4,
   "metadata": {},
   "outputs": [],
   "source": [
    "new_text = []\n",
    "for i in range(num_lines):\n",
    "# for i in range(3):\n",
    "    new_line = []\n",
    "    graph = \"nodes: {}, \\nedge_attrs: {}, \\nconnectivity: {}\".format(df_mm['nodes'][i], df_mm['edge_attrs'][i], df_mm['connectivity'][i])\n",
    "    text_graph = \"\\n{}\\n, \".format(graph)\n",
    "    human_instruction = template + text_graph + df_text['Instruction'][i]\n",
    "    human_instruction = {\"from\": \"human\", \"value\": human_instruction}\n",
    "    gpt_response = df_text['Response'][i]\n",
    "    gpt_response = {\"from\": \"gpt\", \"value\": gpt_response}\n",
    "    new_line.append(human_instruction)\n",
    "    new_line.append(gpt_response)\n",
    "    new_line = {\"conversations\": new_line}\n",
    "    new_text.append(new_line)\n",
    "    # print(json.dumps(new_line))\n"
   ]
  },
  {
   "cell_type": "code",
   "execution_count": 5,
   "metadata": {},
   "outputs": [],
   "source": [
    "with open('/data/LPJ/ICML25/GraphCoder/graphgpt_dataset/gpt_dataset_construction/acl25_gpt4/without_module_head/conversations.json', 'w') as f:\n",
    "    # for line in new_text:\n",
    "    #     f.write(json.dumps(line) + '\\n')\n",
    "    json.dump(new_text, f)"
   ]
  },
  {
   "cell_type": "code",
   "execution_count": 6,
   "metadata": {},
   "outputs": [],
   "source": [
    "new_graph_df = df_mm[['nodes', 'edge_attrs', 'connectivity']]\n",
    "new_graph_df\n",
    "new_graph_df.to_json('/data/LPJ/ICML25/GraphCoder/graphgpt_dataset/gpt_dataset_construction/acl25_gpt4/without_module_head/graph.jsonl', orient='records', lines=True)"
   ]
  }
 ],
 "metadata": {
  "kernelspec": {
   "display_name": "graphgpt",
   "language": "python",
   "name": "python3"
  },
  "language_info": {
   "codemirror_mode": {
    "name": "ipython",
    "version": 3
   },
   "file_extension": ".py",
   "mimetype": "text/x-python",
   "name": "python",
   "nbconvert_exporter": "python",
   "pygments_lexer": "ipython3",
   "version": "3.9.21"
  }
 },
 "nbformat": 4,
 "nbformat_minor": 2
}
