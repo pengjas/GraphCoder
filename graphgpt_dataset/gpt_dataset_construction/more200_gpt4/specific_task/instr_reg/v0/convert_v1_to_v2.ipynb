{
 "cells": [
  {
   "cell_type": "code",
   "execution_count": 1,
   "metadata": {},
   "outputs": [],
   "source": [
    "import json\n",
    "import pandas as pd"
   ]
  },
  {
   "cell_type": "code",
   "execution_count": 2,
   "metadata": {},
   "outputs": [],
   "source": [
    "conv_path = '/data/LPJ/ICML25/GraphCoder/graphgpt_dataset/gpt_dataset_construction/more200_gpt4/specific_task/instr_reg/v0/without_head/conversations.json'\n",
    "graph_path = '/data/LPJ/ICML25/GraphCoder/graphgpt_dataset/gpt_dataset_construction/more200_gpt4/specific_task/instr_reg/v0/without_head/graph.jsonl'"
   ]
  },
  {
   "cell_type": "code",
   "execution_count": 3,
   "metadata": {},
   "outputs": [
    {
     "name": "stdout",
     "output_type": "stream",
     "text": [
      "Found substring: module name=\"example1\" \n",
      "   attribu\n",
      "te=\"   value\";\n",
      "All found substrings: ['module name=\"example1\" \\n   attribu\\nte=\"   value\";', 'module name=\"example2\" attribute=\"another value\";']\n"
     ]
    }
   ],
   "source": [
    "import re\n",
    "\n",
    "def find_module_string(text):\n",
    "    # Regex pattern to find the string starting with \"module\" and ending with \";\"\n",
    "    # It uses non-greedy matching to find the shortest match\n",
    "    pattern = r\"module.*?;\"\n",
    "    \n",
    "    # Using re.DOTALL to make the dot match all characters including newline\n",
    "    match = re.search(pattern, text, re.DOTALL)\n",
    "    \n",
    "    if match:\n",
    "        return match.group()  # Returns the matched string\n",
    "    else:\n",
    "        return None  # No match found\n",
    "\n",
    "# Example usage\n",
    "input_text = \"\"\"\n",
    "some initial text\n",
    "module name=\"example1\" \\n   attribu\\nte=\"   value\";\n",
    "some other text\n",
    "module name=\"example2\" attribute=\"another value\";\n",
    "\"\"\"\n",
    "\n",
    "# Find the first occurrence\n",
    "result = find_module_string(input_text)\n",
    "print(\"Found substring:\", result)\n",
    "\n",
    "# If you need to find all occurrences instead of just the first one, you can use re.findall\n",
    "all_matches = re.findall(r\"module.*?;\", input_text, re.DOTALL)\n",
    "print(\"All found substrings:\", all_matches)"
   ]
  },
  {
   "cell_type": "code",
   "execution_count": 4,
   "metadata": {},
   "outputs": [],
   "source": [
    "graph = pd.read_json(graph_path, lines=True)\n",
    "with open(conv_path, 'r') as f:\n",
    "    conv = json.load(f)\n"
   ]
  },
  {
   "cell_type": "code",
   "execution_count": 5,
   "metadata": {},
   "outputs": [
    {
     "data": {
      "text/plain": [
       "\"Given a submodules interconnection graph: \\n<graph>\\n, \\nnodes: [{'id': 0, 'content': 'instr', 'type': 'input port'}, {'id': 1, 'content': 'op_type', 'type': 'output port'}, {'id': 2, 'content': 'alu_op', 'type': 'output port'}, {'id': 3, 'content': 'mem_control', 'type': 'output port'}, {'id': 4, 'content': 'branch_taken', 'type': 'output port'}, {'id': 5, 'content': 'arith_dec', 'type': 'submodule'}, {'id': 6, 'content': 'mem_dec', 'type': 'submodule'}, {'id': 7, 'content': 'branch_dec', 'type': 'submodule'}], \\nedge_attrs: [], \\nconnectivity: [[0, 0, 0, 5, 5, 6, 7], [5, 6, 7, 1, 2, 3, 4]]\\n, Design a RISC-V instruction decoder module that decodes 32-bit instructions into multiple control signals for further execution stages. The module identifies the type of operation (arithmetic, memory, branch) and specific control flags (e.g., ALU operation, memory read/write, branch taken).\\n\\nModule name:\\n    instr_decoder\\n\\nInput ports:\\n    instr [31:0]: Full 32-bit instruction input.\\n\\nOutput ports:\\n    op_type [2:0]: Type of operation (e.g., arithmetic, memory, branch).\\n    alu_op [3:0]: Specific ALU operation code.\\n    mem_control [1:0]: Memory control signals (00: none, 01: read, 10: write).\\n    branch_taken: Branch taken signal.\\n\\nImplementation:\\n    The instruction decoder consists of several submodules, each responsible for decoding different parts of the instruction. The module parses the opcode, function codes, and other necessary fields to determine the output signals. Outputs vary based on instruction type. For simplicity in routing signals, separate submodules are instantiated for handling arithmetic, memory, and branching decisions. Outputs from these submodules are combined in the top module to produce the final control signals.\\nGive me the complete code.\""
      ]
     },
     "execution_count": 5,
     "metadata": {},
     "output_type": "execute_result"
    }
   ],
   "source": [
    "conv[0]['conversations'][0]['value']"
   ]
  },
  {
   "cell_type": "code",
   "execution_count": 6,
   "metadata": {},
   "outputs": [
    {
     "data": {
      "text/plain": [
       "\"module instr_decoder (\\n    input [31:0] instr,\\n    output [2:0] op_type,\\n    output [3:0] alu_op,\\n    output [1:0] mem_control,\\n    output branch_taken\\n);\\n\\n    wire [6:0] opcode;\\n    wire [2:0] funct3;\\n    wire [6:0] funct7;\\n\\n    assign opcode = instr[6:0];\\n    assign funct3 = instr[14:12];\\n    assign funct7 = instr[31:25];\\n\\n    // Submodules for decoding different instruction fields\\n    arithmetic_decoder arith_dec (\\n        .opcode(opcode),\\n        .funct3(funct3),\\n        .funct7(funct7),\\n        .op_type(op_type),\\n        .alu_op(alu_op)\\n    );\\n\\n    memory_decoder mem_dec (\\n        .opcode(opcode),\\n        .funct3(funct3),\\n        .mem_control(mem_control)\\n    );\\n\\n    branch_decoder branch_dec (\\n        .opcode(opcode),\\n        .branch_taken(branch_taken)\\n    );\\n\\nendmodule\\n\\nmodule arithmetic_decoder (\\n    input [6:0] opcode,\\n    input [2:0] funct3,\\n    input [6:0] funct7,\\n    output reg [2:0] op_type,\\n    output reg [3:0] alu_op\\n);\\n\\n    always @(*) begin\\n        case(opcode)\\n            7'b0110011: begin // R-type\\n                op_type = 3'b001;\\n                alu_op = {1'b0, funct7[5], funct3};\\n            end\\n            default: begin\\n                op_type = 3'b000;\\n                alu_op = 4'b0000;\\n            end\\n        endcase\\n    end\\nendmodule\\n\\nmodule memory_decoder (\\n    input [6:0] opcode,\\n    input [2:0] funct3,\\n    output reg [1:0] mem_control\\n);\\n\\n    always @(*) begin\\n        case(opcode)\\n            7'b0000011: mem_control = 2'b01; // Load\\n            7'b0100011: mem_control = 2'b10; // Store\\n            default: mem_control = 2'b00;\\n        endcase\\n    end\\nendmodule\\n\\nmodule branch_decoder (\\n    input [6:0] opcode,\\n    output reg branch_taken\\n);\\n\\n    always @(*) begin\\n        case(opcode)\\n            7'b1100011: branch_taken = 1'b1; // Branch\\n            default: branch_taken = 1'b0;\\n        endcase\\n    end\\nendmodule\""
      ]
     },
     "execution_count": 6,
     "metadata": {},
     "output_type": "execute_result"
    }
   ],
   "source": [
    "conv[0]['conversations'][1]['value']"
   ]
  },
  {
   "cell_type": "code",
   "execution_count": 7,
   "metadata": {},
   "outputs": [
    {
     "data": {
      "text/plain": [
       "\"Given a submodules interconnection graph: \\n<graph>\\n, \\nnodes: [{'id': 0, 'content': 'instr', 'type': 'input port'}, {'id': 1, 'content': 'op_type', 'type': 'output port'}, {'id': 2, 'content': 'alu_op', 'type': 'output port'}, {'id': 3, 'content': 'mem_control', 'type': 'output port'}, {'id': 4, 'content': 'branch_taken', 'type': 'output port'}, {'id': 5, 'content': 'arith_dec', 'type': 'submodule'}, {'id': 6, 'content': 'mem_dec', 'type': 'submodule'}, {'id': 7, 'content': 'branch_dec', 'type': 'submodule'}], \\nedge_attrs: [], \\nconnectivity: [[0, 0, 0, 5, 5, 6, 7], [5, 6, 7, 1, 2, 3, 4]]\\n, Design a RISC-V instruction decoder module that decodes 32-bit instructions into multiple control signals for further execution stages. The module identifies the type of operation (arithmetic, memory, branch) and specific control flags (e.g., ALU operation, memory read/write, branch taken).\\n\\nModule name:\\n    instr_decoder\\n\\nInput ports:\\n    instr [31:0]: Full 32-bit instruction input.\\n\\nOutput ports:\\n    op_type [2:0]: Type of operation (e.g., arithmetic, memory, branch).\\n    alu_op [3:0]: Specific ALU operation code.\\n    mem_control [1:0]: Memory control signals (00: none, 01: read, 10: write).\\n    branch_taken: Branch taken signal.\\n\\nImplementation:\\n    The instruction decoder consists of several submodules, each responsible for decoding different parts of the instruction. The module parses the opcode, function codes, and other necessary fields to determine the output signals. Outputs vary based on instruction type. For simplicity in routing signals, separate submodules are instantiated for handling arithmetic, memory, and branching decisions. Outputs from these submodules are combined in the top module to produce the final control signals.\\nGive me the complete code.module instr_decoder (\\n    input [31:0] instr,\\n    output [2:0] op_type,\\n    output [3:0] alu_op,\\n    output [1:0] mem_control,\\n    output branch_taken\\n);\""
      ]
     },
     "execution_count": 7,
     "metadata": {},
     "output_type": "execute_result"
    }
   ],
   "source": [
    "head = find_module_string(conv[0]['conversations'][1]['value'])\n",
    "conv[0]['conversations'][0]['value'] + head"
   ]
  },
  {
   "cell_type": "code",
   "execution_count": 8,
   "metadata": {},
   "outputs": [],
   "source": [
    "for i in range(len(conv)):\n",
    "    module_head = find_module_string(conv[i]['conversations'][1]['value'])\n",
    "    conv[i]['conversations'][0]['value'] = conv[i]['conversations'][0]['value'] + '\\n' + module_head"
   ]
  },
  {
   "cell_type": "code",
   "execution_count": null,
   "metadata": {},
   "outputs": [
    {
     "ename": "IndexError",
     "evalue": "list index out of range",
     "output_type": "error",
     "traceback": [
      "\u001b[0;31m---------------------------------------------------------------------------\u001b[0m",
      "\u001b[0;31mIndexError\u001b[0m                                Traceback (most recent call last)",
      "Cell \u001b[0;32mIn[9], line 1\u001b[0m\n\u001b[0;32m----> 1\u001b[0m \u001b[43mconv\u001b[49m\u001b[43m[\u001b[49m\u001b[38;5;241;43m100\u001b[39;49m\u001b[43m]\u001b[49m[\u001b[38;5;124m'\u001b[39m\u001b[38;5;124mconversations\u001b[39m\u001b[38;5;124m'\u001b[39m][\u001b[38;5;241m0\u001b[39m][\u001b[38;5;124m'\u001b[39m\u001b[38;5;124mvalue\u001b[39m\u001b[38;5;124m'\u001b[39m]\n",
      "\u001b[0;31mIndexError\u001b[0m: list index out of range"
     ]
    }
   ],
   "source": [
    "# conv[100]['conversations'][0]['value']"
   ]
  },
  {
   "cell_type": "code",
   "execution_count": 10,
   "metadata": {},
   "outputs": [],
   "source": [
    "new_conv_path = '/data/LPJ/ICML25/GraphCoder/graphgpt_dataset/gpt_dataset_construction/more200_gpt4/specific_task/instr_reg/v0/with_head/conversations.json'\n",
    "\n"
   ]
  },
  {
   "cell_type": "code",
   "execution_count": 11,
   "metadata": {},
   "outputs": [],
   "source": [
    "with open(new_conv_path, 'w') as f:\n",
    "    json.dump(conv, f)"
   ]
  },
  {
   "cell_type": "code",
   "execution_count": 12,
   "metadata": {},
   "outputs": [],
   "source": [
    "import json\n",
    "with open(new_conv_path, 'r') as f:\n",
    "    new_conv = json.load(f)\n",
    "    \n"
   ]
  },
  {
   "cell_type": "code",
   "execution_count": 13,
   "metadata": {},
   "outputs": [
    {
     "data": {
      "text/plain": [
       "480"
      ]
     },
     "execution_count": 13,
     "metadata": {},
     "output_type": "execute_result"
    }
   ],
   "source": [
    "len(new_conv)"
   ]
  },
  {
   "cell_type": "code",
   "execution_count": null,
   "metadata": {},
   "outputs": [],
   "source": [
    "new_conv[100]['conversations'][0]['value']"
   ]
  },
  {
   "cell_type": "code",
   "execution_count": 32,
   "metadata": {},
   "outputs": [
    {
     "data": {
      "text/plain": [
       "2148"
      ]
     },
     "execution_count": 32,
     "metadata": {},
     "output_type": "execute_result"
    }
   ],
   "source": [
    "len(graph)"
   ]
  }
 ],
 "metadata": {
  "kernelspec": {
   "display_name": "graphgpt",
   "language": "python",
   "name": "python3"
  },
  "language_info": {
   "codemirror_mode": {
    "name": "ipython",
    "version": 3
   },
   "file_extension": ".py",
   "mimetype": "text/x-python",
   "name": "python",
   "nbconvert_exporter": "python",
   "pygments_lexer": "ipython3",
   "version": "3.9.21"
  }
 },
 "nbformat": 4,
 "nbformat_minor": 2
}
