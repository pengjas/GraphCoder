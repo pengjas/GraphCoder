{
 "cells": [
  {
   "cell_type": "code",
   "execution_count": 1,
   "metadata": {},
   "outputs": [],
   "source": [
    "import json\n",
    "import pandas as pd"
   ]
  },
  {
   "cell_type": "code",
   "execution_count": 2,
   "metadata": {},
   "outputs": [],
   "source": [
    "conv_path = '/data/LPJ/ICML25/GraphCoder/graphgpt_dataset/gpt_dataset_construction/more200_gpt4/specific_task/instr_reg/v1/without_head/conversations.json'\n",
    "graph_path = '/data/LPJ/ICML25/GraphCoder/graphgpt_dataset/gpt_dataset_construction/more200_gpt4/specific_task/instr_reg/v1/without_head/graph.jsonl'"
   ]
  },
  {
   "cell_type": "code",
   "execution_count": 3,
   "metadata": {},
   "outputs": [
    {
     "name": "stdout",
     "output_type": "stream",
     "text": [
      "Found substring: module name=\"example1\" \n",
      "   attribu\n",
      "te=\"   value\";\n",
      "All found substrings: ['module name=\"example1\" \\n   attribu\\nte=\"   value\";', 'module name=\"example2\" attribute=\"another value\";']\n"
     ]
    }
   ],
   "source": [
    "import re\n",
    "\n",
    "def find_module_string(text):\n",
    "    # Regex pattern to find the string starting with \"module\" and ending with \";\"\n",
    "    # It uses non-greedy matching to find the shortest match\n",
    "    pattern = r\"module.*?;\"\n",
    "    \n",
    "    # Using re.DOTALL to make the dot match all characters including newline\n",
    "    match = re.search(pattern, text, re.DOTALL)\n",
    "    \n",
    "    if match:\n",
    "        return match.group()  # Returns the matched string\n",
    "    else:\n",
    "        return None  # No match found\n",
    "\n",
    "# Example usage\n",
    "input_text = \"\"\"\n",
    "some initial text\n",
    "module name=\"example1\" \\n   attribu\\nte=\"   value\";\n",
    "some other text\n",
    "module name=\"example2\" attribute=\"another value\";\n",
    "\"\"\"\n",
    "\n",
    "# Find the first occurrence\n",
    "result = find_module_string(input_text)\n",
    "print(\"Found substring:\", result)\n",
    "\n",
    "# If you need to find all occurrences instead of just the first one, you can use re.findall\n",
    "all_matches = re.findall(r\"module.*?;\", input_text, re.DOTALL)\n",
    "print(\"All found substrings:\", all_matches)"
   ]
  },
  {
   "cell_type": "code",
   "execution_count": 4,
   "metadata": {},
   "outputs": [],
   "source": [
    "graph = pd.read_json(graph_path, lines=True)\n",
    "with open(conv_path, 'r') as f:\n",
    "    conv = json.load(f)\n"
   ]
  },
  {
   "cell_type": "code",
   "execution_count": 5,
   "metadata": {},
   "outputs": [
    {
     "data": {
      "text/plain": [
       "'Given a submodules interconnection graph: \\n<graph>\\n, \\nnodes: [{\\'id\\': 0, \\'content\\': \\'clk\\', \\'type\\': \\'input port\\'}, {\\'id\\': 1, \\'content\\': \\'op_code\\', \\'type\\': \\'input port\\'}, {\\'id\\': 2, \\'content\\': \\'func3\\', \\'type\\': \\'input port\\'}, {\\'id\\': 3, \\'content\\': \\'func7\\', \\'type\\': \\'input port\\'}, {\\'id\\': 4, \\'content\\': \\'alu_op\\', \\'type\\': \\'output port\\'}, {\\'id\\': 5, \\'content\\': \\'logic_unit\\', \\'type\\': \\'submodule\\'}], \\nedge_attrs: [], \\nconnectivity: [[1, 2, 3, 5], [5, 5, 5, 4]]\\n, Design a Verilog module named \"alu_control_unit\" for a RISC-V ALU that takes an instruction and decodes it to generate control signals for an Arithmetic Logic Unit (ALU). The module should handle a subset of RISC-V instructions that includes add, subtract, and bitwise AND.\\n\\nModule name:\\n    alu_control_unit\\n\\nInput ports:\\n    clk: Clock input for synchronization.\\n    op_code [6:0]: 7-bit operation code from the instruction.\\n    func3 [2:0]: 3-bit function field from the instruction.\\n    func7 [6:0]: 7-bit function field for extended instruction decoding.\\n\\nOutput ports:\\n    alu_op [3:0]: Control signals for the ALU operation.\\n\\nImplementation:\\n    The alu_control_unit module decodes the instruction based on the op_code, func3, and func7 values.\\n    This decoding process involves a sub-module \"decode_logic\" which takes the instruction fields as inputs and produces the appropriate ALU operation signal.\\n    The output \"alu_op\" is set by the decode_logic submodule based on the input instruction fields.\\n    The module should support a reset condition that sets the ALU operation to a default state.\\nGive me the complete code.'"
      ]
     },
     "execution_count": 5,
     "metadata": {},
     "output_type": "execute_result"
    }
   ],
   "source": [
    "conv[0]['conversations'][0]['value']"
   ]
  },
  {
   "cell_type": "code",
   "execution_count": 6,
   "metadata": {},
   "outputs": [
    {
     "data": {
      "text/plain": [
       "\"module alu_control_unit (\\n    input clk,\\n    input [6:0] op_code,\\n    input [2:0] func3,\\n    input [6:0] func7,\\n    output [3:0] alu_op\\n);\\n\\n    wire [3:0] decoded_op;\\n\\n    decode_logic logic_unit (\\n        .op_code(op_code),\\n        .func3(func3),\\n        .func7(func7),\\n        .alu_op(decoded_op)\\n    );\\n\\n    assign alu_op = decoded_op;\\n\\nendmodule\\n\\nmodule decode_logic (\\n    input [6:0] op_code,\\n    input [2:0] func3,\\n    input [6:0] func7,\\n    output reg [3:0] alu_op\\n);\\n\\n    always @(*) begin\\n        case (op_code)\\n            7'b0110011: begin // R-type\\n                case (func3)\\n                    3'b000: alu_op <= (func7 == 7'b0000000) ? 4'b0000 : // ADD\\n                                       (func7 == 7'b0100000) ? 4'b0001 : // SUB\\n                                       4'b1111; // Undefined\\n                    3'b111: alu_op <= 4'b0010; // AND\\n                    default: alu_op <= 4'b1111; // Undefined\\n                endcase\\n            end\\n            default: alu_op <= 4'b1111; // Undefined\\n        endcase\\n    end\\n\\nendmodule\""
      ]
     },
     "execution_count": 6,
     "metadata": {},
     "output_type": "execute_result"
    }
   ],
   "source": [
    "conv[0]['conversations'][1]['value']"
   ]
  },
  {
   "cell_type": "code",
   "execution_count": 7,
   "metadata": {},
   "outputs": [
    {
     "data": {
      "text/plain": [
       "'Given a submodules interconnection graph: \\n<graph>\\n, \\nnodes: [{\\'id\\': 0, \\'content\\': \\'clk\\', \\'type\\': \\'input port\\'}, {\\'id\\': 1, \\'content\\': \\'op_code\\', \\'type\\': \\'input port\\'}, {\\'id\\': 2, \\'content\\': \\'func3\\', \\'type\\': \\'input port\\'}, {\\'id\\': 3, \\'content\\': \\'func7\\', \\'type\\': \\'input port\\'}, {\\'id\\': 4, \\'content\\': \\'alu_op\\', \\'type\\': \\'output port\\'}, {\\'id\\': 5, \\'content\\': \\'logic_unit\\', \\'type\\': \\'submodule\\'}], \\nedge_attrs: [], \\nconnectivity: [[1, 2, 3, 5], [5, 5, 5, 4]]\\n, Design a Verilog module named \"alu_control_unit\" for a RISC-V ALU that takes an instruction and decodes it to generate control signals for an Arithmetic Logic Unit (ALU). The module should handle a subset of RISC-V instructions that includes add, subtract, and bitwise AND.\\n\\nModule name:\\n    alu_control_unit\\n\\nInput ports:\\n    clk: Clock input for synchronization.\\n    op_code [6:0]: 7-bit operation code from the instruction.\\n    func3 [2:0]: 3-bit function field from the instruction.\\n    func7 [6:0]: 7-bit function field for extended instruction decoding.\\n\\nOutput ports:\\n    alu_op [3:0]: Control signals for the ALU operation.\\n\\nImplementation:\\n    The alu_control_unit module decodes the instruction based on the op_code, func3, and func7 values.\\n    This decoding process involves a sub-module \"decode_logic\" which takes the instruction fields as inputs and produces the appropriate ALU operation signal.\\n    The output \"alu_op\" is set by the decode_logic submodule based on the input instruction fields.\\n    The module should support a reset condition that sets the ALU operation to a default state.\\nGive me the complete code.module alu_control_unit (\\n    input clk,\\n    input [6:0] op_code,\\n    input [2:0] func3,\\n    input [6:0] func7,\\n    output [3:0] alu_op\\n);'"
      ]
     },
     "execution_count": 7,
     "metadata": {},
     "output_type": "execute_result"
    }
   ],
   "source": [
    "head = find_module_string(conv[0]['conversations'][1]['value'])\n",
    "conv[0]['conversations'][0]['value'] + head"
   ]
  },
  {
   "cell_type": "code",
   "execution_count": 8,
   "metadata": {},
   "outputs": [],
   "source": [
    "for i in range(len(conv)):\n",
    "    module_head = find_module_string(conv[i]['conversations'][1]['value'])\n",
    "    conv[i]['conversations'][0]['value'] = conv[i]['conversations'][0]['value'] + '\\n' + module_head"
   ]
  },
  {
   "cell_type": "code",
   "execution_count": 9,
   "metadata": {},
   "outputs": [],
   "source": [
    "# conv[100]['conversations'][0]['value']"
   ]
  },
  {
   "cell_type": "code",
   "execution_count": 10,
   "metadata": {},
   "outputs": [],
   "source": [
    "new_conv_path = '/data/LPJ/ICML25/GraphCoder/graphgpt_dataset/gpt_dataset_construction/more200_gpt4/specific_task/instr_reg/v1/with_head/conversations.json'\n",
    "\n"
   ]
  },
  {
   "cell_type": "code",
   "execution_count": 11,
   "metadata": {},
   "outputs": [],
   "source": [
    "with open(new_conv_path, 'w') as f:\n",
    "    json.dump(conv, f)"
   ]
  },
  {
   "cell_type": "code",
   "execution_count": 12,
   "metadata": {},
   "outputs": [],
   "source": [
    "import json\n",
    "with open(new_conv_path, 'r') as f:\n",
    "    new_conv = json.load(f)\n",
    "    \n"
   ]
  },
  {
   "cell_type": "code",
   "execution_count": 13,
   "metadata": {},
   "outputs": [
    {
     "data": {
      "text/plain": [
       "480"
      ]
     },
     "execution_count": 13,
     "metadata": {},
     "output_type": "execute_result"
    }
   ],
   "source": [
    "len(new_conv)"
   ]
  },
  {
   "cell_type": "code",
   "execution_count": null,
   "metadata": {},
   "outputs": [],
   "source": [
    "new_conv[100]['conversations'][0]['value']"
   ]
  },
  {
   "cell_type": "code",
   "execution_count": 32,
   "metadata": {},
   "outputs": [
    {
     "data": {
      "text/plain": [
       "2148"
      ]
     },
     "execution_count": 32,
     "metadata": {},
     "output_type": "execute_result"
    }
   ],
   "source": [
    "len(graph)"
   ]
  }
 ],
 "metadata": {
  "kernelspec": {
   "display_name": "graphgpt",
   "language": "python",
   "name": "python3"
  },
  "language_info": {
   "codemirror_mode": {
    "name": "ipython",
    "version": 3
   },
   "file_extension": ".py",
   "mimetype": "text/x-python",
   "name": "python",
   "nbconvert_exporter": "python",
   "pygments_lexer": "ipython3",
   "version": "3.9.21"
  }
 },
 "nbformat": 4,
 "nbformat_minor": 2
}
