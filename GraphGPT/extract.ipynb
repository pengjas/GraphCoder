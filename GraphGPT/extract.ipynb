{
 "cells": [
  {
   "cell_type": "code",
   "execution_count": 1,
   "id": "d07e9c3e",
   "metadata": {},
   "outputs": [],
   "source": [
    "import pickle\n",
    "import torch\n",
    "import os\n",
    "\n",
    "pretrain_model_path = '/data/LPJ/ICML25/all_checkpoints/pretrain_4layers_havenllama_using_1989_57_without_lora/v1_cleaned_graph_20epoch_separate_lr_gnn2e3_proj5e4/pretrain_4layers_havenllama_using_1989_57_without_lora_v1_cleaned_graph_20epoch_separate_lr_gnn2e3_proj5e4.ckpt'\n",
    "pretrain_model = torch.load(pretrain_model_path, map_location='cpu')\n",
    "new_gnn_path = '/data/LPJ/ICML25/all_checkpoints/graph_tower/pretrain_gnn_4layers_havenqwen_using_1989_57_without_lora/v1_cleaned_graph_20epoch_separate_lr_gnn2e3_proj5e4'\n",
    "new_gnn_path = os.path.join(new_gnn_path, 'clip_gt_arxiv')\n",
    "os.makedirs(new_gnn_path, exist_ok=True)\n",
    "new_projector_path = '/data/LPJ/ICML25/all_checkpoints/projector/pretrain_gnn_4layers_havenqwen_using_1989_57_without_lora/v1_cleaned_graph_20epoch_separate_lr_gnn2e3_proj5e4'\n",
    "os.makedirs(new_projector_path, exist_ok=True)\n",
    "\n",
    "new_gnn_weights_path = os.path.join(new_gnn_path, 'model_weights.pkl')"
   ]
  },
  {
   "cell_type": "code",
   "execution_count": 2,
   "id": "002b03ab",
   "metadata": {},
   "outputs": [
    {
     "data": {
      "text/plain": [
       "'/data/LPJ/ICML25/all_checkpoints/graph_tower/pretrain_gnn_4layers_havenqwen_using_1989_57_without_lora/v1_cleaned_graph_20epoch_separate_lr_gnn2e3_proj5e4/clip_gt_arxiv/config.json'"
      ]
     },
     "execution_count": 2,
     "metadata": {},
     "output_type": "execute_result"
    }
   ],
   "source": [
    "orig_gnn_path = '/data/LPJ/GraphGPT/clip_gt_arxiv/clip_gt_arxiv_pub.pkl'\n",
    "orig_path = '/data/LPJ/GraphGPT/clip_gt_arxiv'\n",
    "orig_gnn = torch.load(orig_gnn_path, map_location='cpu')\n",
    "##copy config.json from orig_gnn_path to new_gnn_path\n",
    "import shutil\n",
    "shutil.copyfile(os.path.join(orig_path, 'config.json'), os.path.join(new_gnn_path, 'config.json'))\n"
   ]
  },
  {
   "cell_type": "code",
   "execution_count": 3,
   "id": "c6bd7fbf",
   "metadata": {},
   "outputs": [],
   "source": [
    "new_graph = {}\n",
    "for key in pretrain_model['state_dict']:\n",
    "    if 'graph_tower' in key:\n",
    "        index = key.find('graph_tower')\n",
    "        new_key = \"gnn\" + key[index + len('graph_tower'):]\n",
    "        new_graph[new_key] = pretrain_model['state_dict'][key]"
   ]
  },
  {
   "cell_type": "code",
   "execution_count": 4,
   "id": "98457869",
   "metadata": {},
   "outputs": [],
   "source": [
    "for key in orig_gnn:\n",
    "    if key not in new_graph:\n",
    "        new_graph[key] = orig_gnn[key]"
   ]
  },
  {
   "cell_type": "code",
   "execution_count": 5,
   "id": "7972982c",
   "metadata": {},
   "outputs": [],
   "source": [
    "torch.save(new_graph, new_gnn_weights_path)"
   ]
  },
  {
   "cell_type": "code",
   "execution_count": 6,
   "id": "522b2acd",
   "metadata": {},
   "outputs": [],
   "source": [
    "new_projector = {}\n",
    "for key in pretrain_model['state_dict']:\n",
    "    if 'graph_projector' in key:\n",
    "        index = key.find('graph_projector')\n",
    "        new_key = key[index + len('graph_projector') + 1:]\n",
    "        new_projector[new_key] = pretrain_model['state_dict'][key]"
   ]
  },
  {
   "cell_type": "code",
   "execution_count": 7,
   "id": "2bca5282",
   "metadata": {},
   "outputs": [],
   "source": [
    "torch.save(new_projector, os.path.join(new_projector_path, 'projector.bin'))"
   ]
  }
 ],
 "metadata": {
  "kernelspec": {
   "display_name": "graphgpt",
   "language": "python",
   "name": "python3"
  },
  "language_info": {
   "codemirror_mode": {
    "name": "ipython",
    "version": 3
   },
   "file_extension": ".py",
   "mimetype": "text/x-python",
   "name": "python",
   "nbconvert_exporter": "python",
   "pygments_lexer": "ipython3",
   "version": "3.9.21"
  }
 },
 "nbformat": 4,
 "nbformat_minor": 5
}
