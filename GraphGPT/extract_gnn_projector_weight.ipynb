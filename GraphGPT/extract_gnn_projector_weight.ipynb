{
 "cells": [
  {
   "cell_type": "code",
   "execution_count": null,
   "metadata": {},
   "outputs": [],
   "source": [
    "import pickle\n",
    "import torch\n",
    "import os\n",
    "\n",
    "pretrain_model_path = '/data/LPJ/ICML25/all_checkpoints/pretrain_gnn_qformer_havenllama_using_1989_57_without_lora/v0_50epoch_separate_lr_gnn1e3_qformer_5e4/haven_llama_qformer_1989_57_pretrain_without_lora_50epoch_separate_lr_gnn1e3_qformer_5e4.ckpt'\n",
    "pretrain_model = torch.load(pretrain_model_path, map_location='cpu')\n",
    "new_gnn_path = '/data/LPJ/ICML25/all_checkpoints/graph_tower/pretrain_gnn_qformer_havenllama_using_1989_57_without_lora/v0_50epoch_separate_lr_gnn1e3_qformer_5e4'\n",
    "new_gnn_path = os.path.join(new_gnn_path, 'clip_gt_arxiv')\n",
    "os.makedirs(new_gnn_path, exist_ok=True)\n",
    "new_projector_path = '/data/LPJ/ICML25/all_checkpoints/projector/pretrain_gnn_qformer_havenllama_using_1989_57_without_lora/v0_50epoch_separate_lr_gnn1e3_qformer_5e4'\n",
    "os.makedirs(new_projector_path, exist_ok=True)\n",
    "\n",
    "new_gnn_weights_path = os.path.join(new_gnn_path, 'model_weights.pkl')"
   ]
  },
  {
   "cell_type": "code",
   "execution_count": 4,
   "metadata": {},
   "outputs": [
    {
     "data": {
      "text/plain": [
       "'/data/LPJ/ICML25/all_checkpoints/graph_tower/pretrain_gnn_qformer_havenllama_using_1989_57_without_lora/v0_50epoch_separate_lr_gnn1e3_qformer_5e4/clip_gt_arxiv/config.json'"
      ]
     },
     "execution_count": 4,
     "metadata": {},
     "output_type": "execute_result"
    }
   ],
   "source": [
    "orig_gnn_path = '/data/LPJ/ICML25/GraphGPT/clip_gt_arxiv/clip_gt_arxiv_pub.pkl'\n",
    "orig_path = '/data/LPJ/ICML25/GraphGPT/clip_gt_arxiv'\n",
    "orig_gnn = torch.load(orig_gnn_path, map_location='cpu')\n",
    "##copy config.json from orig_gnn_path to new_gnn_path\n",
    "import shutil\n",
    "shutil.copyfile(os.path.join(orig_path, 'config.json'), os.path.join(new_gnn_path, 'config.json'))\n"
   ]
  },
  {
   "cell_type": "code",
   "execution_count": 5,
   "metadata": {},
   "outputs": [],
   "source": [
    "new_graph = {}\n",
    "for key in pretrain_model['state_dict']:\n",
    "    if 'graph_tower' in key:\n",
    "        index = key.find('graph_tower')\n",
    "        new_key = \"gnn\" + key[index + len('graph_tower'):]\n",
    "        new_graph[new_key] = pretrain_model['state_dict'][key]"
   ]
  },
  {
   "cell_type": "code",
   "execution_count": 6,
   "metadata": {},
   "outputs": [],
   "source": [
    "for key in orig_gnn:\n",
    "    if key not in new_graph:\n",
    "        new_graph[key] = orig_gnn[key]"
   ]
  },
  {
   "cell_type": "code",
   "execution_count": 7,
   "metadata": {},
   "outputs": [],
   "source": [
    "torch.save(new_graph, new_gnn_weights_path)"
   ]
  },
  {
   "cell_type": "code",
   "execution_count": null,
   "metadata": {},
   "outputs": [
    {
     "name": "stderr",
     "output_type": "stream",
     "text": [
      "/home/yiyao_yang/anaconda3/envs/graphgpt/lib/python3.9/site-packages/torch/_utils.py:831: UserWarning: TypedStorage is deprecated. It will be removed in the future and UntypedStorage will be the only storage class. This should only matter to you if you are using storages directly.  To access UntypedStorage directly, use tensor.untyped_storage() instead of tensor.storage()\n",
      "  return self.fget.__get__(instance, owner)()\n"
     ]
    }
   ],
   "source": [
    "# from graphgpt.model.GraphLlama import Qformer_proj\n",
    "# qfomer = Qformer_proj(graph_hidden_size=128, num_query_token=24, bert_name=\"/data/LPJ/bert/bert-L12-H128-uncased\", cross_attention_freq=2, llm_hidden_size=4096)\n"
   ]
  },
  {
   "cell_type": "code",
   "execution_count": 8,
   "metadata": {},
   "outputs": [],
   "source": [
    "new_projector = {}\n",
    "for key in pretrain_model['state_dict']:\n",
    "    if 'graph_projector' in key:\n",
    "        index = key.find('graph_projector')\n",
    "        new_key = key[index + len('graph_projector') + 1:]\n",
    "        new_projector[new_key] = pretrain_model['state_dict'][key]"
   ]
  },
  {
   "cell_type": "code",
   "execution_count": 9,
   "metadata": {},
   "outputs": [],
   "source": [
    "torch.save(new_projector, os.path.join(new_projector_path, 'projector.bin'))"
   ]
  },
  {
   "cell_type": "code",
   "execution_count": 4,
   "metadata": {},
   "outputs": [],
   "source": [
    "import torch\n",
    "new_projector_path = '/data/LPJ/ICML25/all_checkpoints/projector/pretrain_separate_lr_gnn8e3_projector3e4_without_lora/projector.bin'\n",
    "new_projector = torch.load(new_projector_path, map_location='cpu')"
   ]
  },
  {
   "cell_type": "code",
   "execution_count": 5,
   "metadata": {},
   "outputs": [
    {
     "data": {
      "text/plain": [
       "OrderedDict([('weight',\n",
       "              tensor([[ 0.0713, -0.0452, -0.0811,  ...,  0.0364,  0.0145,  0.0156],\n",
       "                      [-0.0698,  0.0664, -0.0576,  ...,  0.0488,  0.0039, -0.0408],\n",
       "                      [ 0.0525, -0.0732, -0.0625,  ...,  0.0659, -0.0260,  0.0251],\n",
       "                      ...,\n",
       "                      [-0.0752,  0.0537,  0.0253,  ...,  0.0175, -0.0579,  0.0396],\n",
       "                      [ 0.0767,  0.0312, -0.0542,  ...,  0.0610, -0.0366,  0.0566],\n",
       "                      [ 0.0452,  0.0815, -0.0205,  ...,  0.0403, -0.0043, -0.0193]])),\n",
       "             ('bias',\n",
       "              tensor([-0.0688,  0.0850,  0.0771,  ...,  0.0864,  0.0801, -0.0762]))])"
      ]
     },
     "execution_count": 5,
     "metadata": {},
     "output_type": "execute_result"
    }
   ],
   "source": [
    "new_projector"
   ]
  },
  {
   "cell_type": "code",
   "execution_count": 6,
   "metadata": {},
   "outputs": [
    {
     "ename": "KeyError",
     "evalue": "'model.embed_tokens.weight'",
     "output_type": "error",
     "traceback": [
      "\u001b[0;31m---------------------------------------------------------------------------\u001b[0m",
      "\u001b[0;31mKeyError\u001b[0m                                  Traceback (most recent call last)",
      "Cell \u001b[0;32mIn[6], line 1\u001b[0m\n\u001b[0;32m----> 1\u001b[0m \u001b[43mnew_projector\u001b[49m\u001b[43m[\u001b[49m\u001b[38;5;124;43m'\u001b[39;49m\u001b[38;5;124;43mmodel.embed_tokens.weight\u001b[39;49m\u001b[38;5;124;43m'\u001b[39;49m\u001b[43m]\u001b[49m\n",
      "\u001b[0;31mKeyError\u001b[0m: 'model.embed_tokens.weight'"
     ]
    }
   ],
   "source": [
    "new_projector['model.embed_tokens.weight']"
   ]
  }
 ],
 "metadata": {
  "kernelspec": {
   "display_name": "graphgpt",
   "language": "python",
   "name": "python3"
  },
  "language_info": {
   "codemirror_mode": {
    "name": "ipython",
    "version": 3
   },
   "file_extension": ".py",
   "mimetype": "text/x-python",
   "name": "python",
   "nbconvert_exporter": "python",
   "pygments_lexer": "ipython3",
   "version": "3.9.21"
  }
 },
 "nbformat": 4,
 "nbformat_minor": 2
}
