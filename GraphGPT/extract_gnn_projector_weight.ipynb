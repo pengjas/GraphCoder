{
 "cells": [
  {
   "cell_type": "code",
   "execution_count": 1,
   "metadata": {},
   "outputs": [],
   "source": [
    "import pickle\n",
    "import torch\n",
    "import os\n",
    "\n",
    "pretrain_model_path = '/data/LPJ/ICML25/all_checkpoints/pretrain_qformer_havenqwen_using_1989_57_without_lora/v2_cleaned_graph_20epoch_separate_lr_gnn2e3_qformer5e4/pretrain_qformer_havenqwen_using_1989_57_without_lora_v2_cleaned_graph_20epoch_separate_lr_gnn2e3_qformer5e4.ckpt'\n",
    "pretrain_model = torch.load(pretrain_model_path, map_location='cpu')\n",
    "new_gnn_path = '/data/LPJ/ICML25/all_checkpoints/graph_tower/pretrain_gnn_qformer_havenqwen_using_1989_57_without_lora/v2_clean_graph_20epoch_separate_lr_gnn2e3_qformer5e4'\n",
    "new_gnn_path = os.path.join(new_gnn_path, 'clip_gt_arxiv')\n",
    "os.makedirs(new_gnn_path, exist_ok=True)\n",
    "new_projector_path = '/data/LPJ/ICML25/all_checkpoints/projector/pretrain_gnn_qformer_havenqwen_using_1989_57_without_lora/v2_clean_graph_20epoch_separate_lr_gnn2e3_qformer5e4'\n",
    "os.makedirs(new_projector_path, exist_ok=True)\n",
    "\n",
    "new_gnn_weights_path = os.path.join(new_gnn_path, 'model_weights.pkl')"
   ]
  },
  {
   "cell_type": "code",
   "execution_count": 2,
   "metadata": {},
   "outputs": [
    {
     "data": {
      "text/plain": [
       "'/data/LPJ/ICML25/all_checkpoints/graph_tower/pretrain_gnn_qformer_havenqwen_using_1989_57_without_lora/v2_clean_graph_20epoch_separate_lr_gnn2e3_qformer5e4/clip_gt_arxiv/config.json'"
      ]
     },
     "execution_count": 2,
     "metadata": {},
     "output_type": "execute_result"
    }
   ],
   "source": [
    "orig_gnn_path = '/data/LPJ/GraphGPT/clip_gt_arxiv/clip_gt_arxiv_pub.pkl'\n",
    "orig_path = '/data/LPJ/GraphGPT/clip_gt_arxiv'\n",
    "orig_gnn = torch.load(orig_gnn_path, map_location='cpu')\n",
    "##copy config.json from orig_gnn_path to new_gnn_path\n",
    "import shutil\n",
    "shutil.copyfile(os.path.join(orig_path, 'config.json'), os.path.join(new_gnn_path, 'config.json'))\n"
   ]
  },
  {
   "cell_type": "code",
   "execution_count": 3,
   "metadata": {},
   "outputs": [],
   "source": [
    "new_graph = {}\n",
    "for key in pretrain_model['state_dict']:\n",
    "    if 'graph_tower' in key:\n",
    "        index = key.find('graph_tower')\n",
    "        new_key = \"gnn\" + key[index + len('graph_tower'):]\n",
    "        new_graph[new_key] = pretrain_model['state_dict'][key]"
   ]
  },
  {
   "cell_type": "code",
   "execution_count": 4,
   "metadata": {},
   "outputs": [],
   "source": [
    "for key in orig_gnn:\n",
    "    if key not in new_graph:\n",
    "        new_graph[key] = orig_gnn[key]"
   ]
  },
  {
   "cell_type": "code",
   "execution_count": 5,
   "metadata": {},
   "outputs": [],
   "source": [
    "torch.save(new_graph, new_gnn_weights_path)"
   ]
  },
  {
   "cell_type": "code",
   "execution_count": 6,
   "metadata": {},
   "outputs": [],
   "source": [
    "# from graphgpt.model.GraphLlama import Qformer_proj\n",
    "# qfomer = Qformer_proj(graph_hidden_size=128, num_query_token=24, bert_name=\"/data/LPJ/bert/bert-L12-H128-uncased\", cross_attention_freq=2, llm_hidden_size=4096)\n"
   ]
  },
  {
   "cell_type": "code",
   "execution_count": 7,
   "metadata": {},
   "outputs": [],
   "source": [
    "new_projector = {}\n",
    "for key in pretrain_model['state_dict']:\n",
    "    if 'graph_projector' in key:\n",
    "        index = key.find('graph_projector')\n",
    "        new_key = key[index + len('graph_projector') + 1:]\n",
    "        new_projector[new_key] = pretrain_model['state_dict'][key]"
   ]
  },
  {
   "cell_type": "code",
   "execution_count": 8,
   "metadata": {},
   "outputs": [],
   "source": [
    "torch.save(new_projector, os.path.join(new_projector_path, 'projector.bin'))"
   ]
  },
  {
   "cell_type": "code",
   "execution_count": 9,
   "metadata": {},
   "outputs": [],
   "source": [
    "# import torch\n",
    "# new_projector_path = '/data/LPJ/ICML25/all_checkpoints/projector/pretrain_separate_lr_gnn8e3_projector3e4_without_lora/projector.bin'\n",
    "# new_projector = torch.load(new_projector_path, map_location='cpu')"
   ]
  },
  {
   "cell_type": "code",
   "execution_count": 10,
   "metadata": {},
   "outputs": [],
   "source": [
    "# new_projector"
   ]
  },
  {
   "cell_type": "code",
   "execution_count": 11,
   "metadata": {},
   "outputs": [],
   "source": [
    "# pretrain_model['state_dict']"
   ]
  }
 ],
 "metadata": {
  "kernelspec": {
   "display_name": "graphgpt",
   "language": "python",
   "name": "python3"
  },
  "language_info": {
   "codemirror_mode": {
    "name": "ipython",
    "version": 3
   },
   "file_extension": ".py",
   "mimetype": "text/x-python",
   "name": "python",
   "nbconvert_exporter": "python",
   "pygments_lexer": "ipython3",
   "version": "3.9.21"
  }
 },
 "nbformat": 4,
 "nbformat_minor": 2
}
