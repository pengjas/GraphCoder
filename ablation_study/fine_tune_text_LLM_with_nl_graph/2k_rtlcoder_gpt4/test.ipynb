{
 "cells": [
  {
   "cell_type": "code",
   "execution_count": 1,
   "metadata": {},
   "outputs": [],
   "source": [
    "import json\n",
    "import pandas as pd"
   ]
  },
  {
   "cell_type": "code",
   "execution_count": 2,
   "metadata": {},
   "outputs": [],
   "source": [
    "conv_path = '/data/LPJ/ICML25/GraphCoder/ablation_study/fine_tune_text_LLM_with_nl_graph/2k_rtlcoder_gpt4/conversations.jsonl'\n",
    "conv = pd.read_json(conv_path, lines=True)"
   ]
  },
  {
   "cell_type": "code",
   "execution_count": 3,
   "metadata": {},
   "outputs": [
    {
     "data": {
      "text/plain": [
       "Instruction    Please act as a professional Verilog designer....\n",
       "Response       module buffer (input in, output out);\\n  assig...\n",
       "Name: 0, dtype: object"
      ]
     },
     "execution_count": 3,
     "metadata": {},
     "output_type": "execute_result"
    }
   ],
   "source": [
    "conv.iloc[0]"
   ]
  },
  {
   "cell_type": "code",
   "execution_count": 4,
   "metadata": {},
   "outputs": [],
   "source": [
    "for i in range(len(conv)):\n",
    "    conv.iloc[i]['Instruction'] = conv.iloc[i]['Instruction'][47:]"
   ]
  },
  {
   "cell_type": "code",
   "execution_count": 5,
   "metadata": {},
   "outputs": [],
   "source": [
    "new_conv_path = '/data/LPJ/ICML25/GraphCoder/ablation_study/fine_tune_text_LLM_with_nl_graph/2k_rtlcoder_gpt4/filter_system_prompt_conversations.jsonl'\n",
    "# conv.to_json(new_conv_path, orient='records', lines=True)"
   ]
  },
  {
   "cell_type": "code",
   "execution_count": 6,
   "metadata": {},
   "outputs": [],
   "source": [
    "graph_path = '/data/LPJ/ICML25/GraphCoder/ablation_study/fine_tune_text_LLM_with_nl_graph/2k_rtlcoder_gpt4/nl_graph.jsonl'\n",
    "graph = pd.read_json(graph_path, lines=True)"
   ]
  },
  {
   "cell_type": "code",
   "execution_count": 7,
   "metadata": {},
   "outputs": [],
   "source": [
    "template = \"Please act as a professional Verilog designer. Given a submodules interconnection graph: \\n\""
   ]
  },
  {
   "cell_type": "code",
   "execution_count": 8,
   "metadata": {},
   "outputs": [],
   "source": [
    "for i in range(len(graph)):\n",
    "    conv.iloc[i]['Instruction'] = template + graph.iloc[i]['nl_graph'] + '\\n' + conv.iloc[i]['Instruction']"
   ]
  },
  {
   "cell_type": "code",
   "execution_count": 9,
   "metadata": {},
   "outputs": [],
   "source": [
    "new_conv_path = '/data/LPJ/ICML25/GraphCoder/ablation_study/fine_tune_text_LLM_with_nl_graph/2k_rtlcoder_gpt4/graph_as_prefix/without_module_head/conversations.jsonl'"
   ]
  },
  {
   "cell_type": "code",
   "execution_count": 10,
   "metadata": {},
   "outputs": [],
   "source": [
    "conv.to_json(new_conv_path, orient='records', lines=True)"
   ]
  },
  {
   "cell_type": "code",
   "execution_count": 11,
   "metadata": {},
   "outputs": [],
   "source": [
    "import re\n",
    "\n",
    "def find_module_string(text):\n",
    "    # Regex pattern to find the string starting with \"module\" and ending with \";\"\n",
    "    # It uses non-greedy matching to find the shortest match\n",
    "    pattern = r\"module.*?;\"\n",
    "    \n",
    "    # Using re.DOTALL to make the dot match all characters including newline\n",
    "    match = re.search(pattern, text, re.DOTALL)\n",
    "    \n",
    "    if match:\n",
    "        return match.group()  # Returns the matched string\n",
    "    else:\n",
    "        return None  # No match found\n",
    "\n",
    "# # Example usage\n",
    "# input_text = \"\"\"\n",
    "# some initial text\n",
    "# module name=\"example1\" \\n   attribu\\nte=\"   value\";\n",
    "# some other text\n",
    "# module name=\"example2\" attribute=\"another value\";\n",
    "# \"\"\"\n",
    "\n",
    "# # Find the first occurrence\n",
    "# result = find_module_string(input_text)\n",
    "# print(\"Found substring:\", result)\n",
    "\n",
    "# # If you need to find all occurrences instead of just the first one, you can use re.findall\n",
    "# all_matches = re.findall(r\"module.*?;\", input_text, re.DOTALL)\n",
    "# print(\"All found substrings:\", all_matches)"
   ]
  },
  {
   "cell_type": "code",
   "execution_count": 12,
   "metadata": {},
   "outputs": [],
   "source": [
    "conv = pd.read_json(new_conv_path, lines=True)"
   ]
  },
  {
   "cell_type": "code",
   "execution_count": 13,
   "metadata": {},
   "outputs": [],
   "source": [
    "for i in range(len(conv)):\n",
    "    module_head = find_module_string(conv.iloc[i]['Response'])\n",
    "    conv.iloc[i]['Instruction'] = conv.iloc[i]['Instruction'] + '\\n' + module_head"
   ]
  },
  {
   "cell_type": "code",
   "execution_count": 14,
   "metadata": {},
   "outputs": [],
   "source": [
    "new_conv_path = '/data/LPJ/ICML25/GraphCoder/ablation_study/fine_tune_text_LLM_with_nl_graph/2k_rtlcoder_gpt4/graph_as_prefix/with_module_head/conversations.jsonl'\n",
    "conv.to_json(new_conv_path, orient='records', lines=True)"
   ]
  },
  {
   "cell_type": "code",
   "execution_count": 18,
   "metadata": {},
   "outputs": [
    {
     "data": {
      "text/plain": [
       "\"Please act as a professional Verilog designer. Given a submodules interconnection graph: \\nThe graph consists of several nodes and edges with specific attributes and connectivity:\\n\\n- Nodes:\\n  - Node 0: Content is 'clk', type is 'input port'.\\n  - Node 1: Content is 'rst', type is 'input port'.\\n  - Node 2: Content is 'data_in', type is 'input port'.\\n  - Node 3: Content is 'data_out', type is 'output port'.\\n  - Node 4: Content is 'valid_in', type is 'input port'.\\n  - Node 5: Content is 'valid_out', type is 'output port'.\\n  - Node 6: Content is 'module1', type is 'submodule'.\\n  - Node 7: Content is 'module2', type is 'submodule'.\\n  - Node 8: Content is 'module3', type is 'submodule'.\\n\\n- Edge Attributes:\\n  - There are no specific attributes provided for the edges in the graph.\\n\\n- Connectivity:\\n  - Node 2 ('data_in') is connected to Node 6 ('module1').\\n  - Node 0 ('clk') is connected to Node 7 ('module2').\\n  - Node 6 ('module1') is connected to Node 7 ('module2').\\n  - Node 3 ('data_out') is connected to Node 7 ('module2').\\n  - Node 1 ('rst') is connected to Node 7 ('module2').\\n  - Node 7 ('module2') is connected to Node 8 ('module3').\\n  - Node 7 ('module2') is connected to Node 8 ('module3').\\n  - Node 8 ('module3') is connected to Node 8 ('module3').\\nDesign a system that combines the 4-to-16 decoder module and the 16-bit shift register module. The system should have four inputs (in3 to in0) for the decoder module and a parallel load input for the shift register module. The decoder module should output a high signal on the output corresponding to the binary number represented by the input. The shift register should have a synchronous reset input and a clock enable input. When the parallel load input is high, the shift register should be loaded with the value on the output of the decoder module. When the clock enable input is high, the shift register should shift the data one bit to the left on each clock cycle. The output of the shift register should be available on the data_out output. The system should include an additional functional module that takes in the output of the shift register and outputs the number of high signals in the 16-bit output.\\nmodule top_module (\\n    input clk,\\n    input rst,\\n    input [3:0] in,\\n    input load,\\n    output reg [15:0] data_out,\\n    output reg [3:0] count\\n);\""
      ]
     },
     "execution_count": 18,
     "metadata": {},
     "output_type": "execute_result"
    }
   ],
   "source": [
    "conv.iloc[11]['Instruction']"
   ]
  },
  {
   "cell_type": "code",
   "execution_count": 17,
   "metadata": {},
   "outputs": [
    {
     "data": {
      "text/plain": [
       "\"module top_module (\\n    input clk,\\n    input rst,\\n    input [3:0] in,\\n    input load,\\n    output reg [15:0] data_out,\\n    output reg [3:0] count\\n);\\n\\nwire [15:0] decoder_out;\\nreg [15:0] shift_reg;\\n\\n// 4-to-16 decoder module\\ndecoder_4to16 decoder (\\n    .in(in),\\n    .out(decoder_out)\\n);\\n\\n// 16-bit shift register module\\nshift_register_16bit shift_reg_inst (\\n    .clk(clk),\\n    .rst(rst),\\n    .load(load),\\n    .data_in(decoder_out),\\n    .data_out(shift_reg)\\n);\\n\\n// Counter module\\ncounter_16bit counter_inst (\\n    .data_in(shift_reg),\\n    .count(count)\\n);\\n\\nassign data_out = shift_reg;\\n\\nendmodule\\n\\n// 4-to-16 decoder module\\nmodule decoder_4to16 (\\n    input [3:0] in,\\n    output [15:0] out\\n);\\n\\nassign out = 1 << in;\\n\\nendmodule\\n\\n// 16-bit shift register module\\nmodule shift_register_16bit (\\n    input clk,\\n    input rst,\\n    input load,\\n    input [15:0] data_in,\\n    output reg [15:0] data_out\\n);\\n\\nalways @(posedge clk or posedge rst) begin\\n    if (rst) begin\\n        data_out <= 16'b0;\\n    end else if (load) begin\\n        data_out <= data_in;\\n    end else begin\\n        data_out <= {data_out[14:0], 1'b0};\\n    end\\nend\\n\\nendmodule\\n\\n// Counter module\\nmodule counter_16bit (\\n    input [15:0] data_in,\\n    output reg [3:0] count\\n);\\n\\ninteger i;\\n\\nalways @(*) begin\\n    count = 0;\\n    for (i = 0; i < 16; i = i + 1) begin\\n        if (data_in[i]) begin\\n            count = count + 1;\\n        end\\n    end\\nend\\n\\nendmodule\""
      ]
     },
     "execution_count": 17,
     "metadata": {},
     "output_type": "execute_result"
    }
   ],
   "source": [
    "conv.iloc[11]['Response']"
   ]
  },
  {
   "cell_type": "code",
   "execution_count": 19,
   "metadata": {},
   "outputs": [
    {
     "data": {
      "text/plain": [
       "2149"
      ]
     },
     "execution_count": 19,
     "metadata": {},
     "output_type": "execute_result"
    }
   ],
   "source": [
    "len(conv)"
   ]
  }
 ],
 "metadata": {
  "kernelspec": {
   "display_name": "graphgpt",
   "language": "python",
   "name": "python3"
  },
  "language_info": {
   "codemirror_mode": {
    "name": "ipython",
    "version": 3
   },
   "file_extension": ".py",
   "mimetype": "text/x-python",
   "name": "python",
   "nbconvert_exporter": "python",
   "pygments_lexer": "ipython3",
   "version": "3.9.21"
  }
 },
 "nbformat": 4,
 "nbformat_minor": 2
}
