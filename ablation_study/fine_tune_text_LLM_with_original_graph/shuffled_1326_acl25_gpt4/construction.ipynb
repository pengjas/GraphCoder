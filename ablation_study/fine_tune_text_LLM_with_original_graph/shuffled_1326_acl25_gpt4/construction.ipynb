{
 "cells": [
  {
   "cell_type": "code",
   "execution_count": 9,
   "metadata": {},
   "outputs": [],
   "source": [
    "import json\n",
    "\n",
    "import pandas\n",
    "from tqdm import tqdm"
   ]
  },
  {
   "cell_type": "code",
   "execution_count": 10,
   "metadata": {},
   "outputs": [],
   "source": [
    "path = '/data/LPJ/ICML25/GraphCoder/graphgpt_dataset/gpt_dataset_construction/acl25_gpt4/shuffled_with_module_head/conversations.json'\n",
    "with open(path, 'r') as f:\n",
    "    data = json.load(f)\n",
    "    "
   ]
  },
  {
   "cell_type": "code",
   "execution_count": 11,
   "metadata": {},
   "outputs": [],
   "source": [
    "new_jsonl_path = '/data/LPJ/ICML25/GraphCoder/ablation_study/fine_tune_text_LLM_with_original_graph/shuffled_1326_acl25_gpt4/conversations.jsonl'"
   ]
  },
  {
   "cell_type": "code",
   "execution_count": 12,
   "metadata": {},
   "outputs": [
    {
     "data": {
      "text/plain": [
       "[{'from': 'human',\n",
       "  'value': \"Given a submodules interconnection graph: \\n<graph>\\n, \\nnodes: [{'id': 0, 'content': 'a', 'type': 'input port'}, {'id': 1, 'content': 'b', 'type': 'input port'}, {'id': 2, 'content': 'cin', 'type': 'input port'}, {'id': 3, 'content': 'sum', 'type': 'output port'}, {'id': 4, 'content': 'cout', 'type': 'output port'}, {'id': 5, 'content': 'cla1', 'type': 'submodule'}, {'id': 6, 'content': 'cla2', 'type': 'submodule'}, {'id': 7, 'content': 'cla3', 'type': 'submodule'}, {'id': 8, 'content': 'cla4', 'type': 'submodule'}], \\nedge_attrs: [], \\nconnectivity: [[2, 0, 1, 0, 1, 5, 6, 1, 0, 0, 7, 1, 6, 7, 5, 8, 8], [5, 5, 5, 6, 6, 6, 7, 7, 7, 8, 8, 8, 3, 3, 3, 3, 4]]\\n, Design a 32-bit hierarchical carry-lookahead adder using Verilog. \\n\\nModule name:  \\n    carry_lookahead_32bit               \\nInput ports:\\n    a[31:0]: 32-bit input operand A.\\n    b[31:0]: 32-bit input operand B.\\n    cin: Carry-in input.\\nOutput ports:\\n    sum[31:0]: 32-bit output representing the sum of A and B.\\n    cout: Carry-out output.\\n\\nImplementation:\\nIn the carry_lookahead_32bit module, you need to design a smaller bit-width carry-lookahead adder (8-bit adder), which will be instantiated four times to achieve the 32-bit functionality. Each submodule should handle the carry-out and carry-in efficiently to ensure correct summation.\\nGive me the complete code.\\nmodule carry_lookahead_32bit (\\n    input wire [31:0] a,\\n    input wire [31:0] b,\\n    input wire cin,\\n    output wire [31:0] sum,\\n    output wire cout\\n);\"},\n",
       " {'from': 'gpt',\n",
       "  'value': 'module carry_lookahead_32bit (\\n    input wire [31:0] a,\\n    input wire [31:0] b,\\n    input wire cin,\\n    output wire [31:0] sum,\\n    output wire cout\\n);\\n\\n    wire [2:0] carry;\\n\\n    carry_lookahead_8bit cla1 (\\n        .a(a[7:0]),\\n        .b(b[7:0]),\\n        .cin(cin),\\n        .sum(sum[7:0]),\\n        .cout(carry[0])\\n    );\\n\\n    carry_lookahead_8bit cla2 (\\n        .a(a[15:8]),\\n        .b(b[15:8]),\\n        .cin(carry[0]),\\n        .sum(sum[15:8]),\\n        .cout(carry[1])\\n    );\\n\\n    carry_lookahead_8bit cla3 (\\n        .a(a[23:16]),\\n        .b(b[23:16]),\\n        .cin(carry[1]),\\n        .sum(sum[23:16]),\\n        .cout(carry[2])\\n    );\\n\\n    carry_lookahead_8bit cla4 (\\n        .a(a[31:24]),\\n        .b(b[31:24]),\\n        .cin(carry[2]),\\n        .sum(sum[31:24]),\\n        .cout(cout)\\n    );\\n\\nendmodule\\n\\nmodule carry_lookahead_8bit (\\n    input wire [7:0] a,\\n    input wire [7:0] b,\\n    input wire cin,\\n    output wire [7:0] sum,\\n    output wire cout\\n);\\n\\n    wire [1:0] carry;\\n    wire [7:0] g, p, x;\\n\\n    assign x = a ^ b;\\n    assign g = a & b;\\n    assign p = x & {7{cin}};\\n\\n    carry_lookahead_4bit cla1 (\\n        .a(a[3:0]),\\n        .b(b[3:0]),\\n        .cin(cin),\\n        .sum(sum[3:0]),\\n        .cout(carry[0])\\n    );\\n\\n    carry_lookahead_4bit cla2 (\\n        .a(a[7:4]),\\n        .b(b[7:4]),\\n        .cin(carry[0]),\\n        .sum(sum[7:4]),\\n        .cout(cout)\\n    );\\n\\nendmodule\\n\\nmodule carry_lookahead_4bit (\\n    input wire [3:0] a,\\n    input wire [3:0] b,\\n    input wire cin,\\n    output wire [3:0] sum,\\n    output wire cout\\n);\\n\\n    wire [3:0] g, p, c;\\n    wire [2:0] c_internal;\\n\\n    assign g = a & b;\\n    assign p = a ^ b;\\n    assign c[0] = cin;\\n    assign c[1] = g[0] | (p[0] & c[0]);\\n    assign c[2] = g[1] | (p[1] & c[1]);\\n    assign c[3] = g[2] | (p[2] & c[2]);\\n    assign cout = g[3] | (p[3] & c[3]);\\n\\n    assign sum = p ^ c;\\n\\nendmodule'}]"
      ]
     },
     "execution_count": 12,
     "metadata": {},
     "output_type": "execute_result"
    }
   ],
   "source": [
    "data[10]['conversations']"
   ]
  },
  {
   "cell_type": "code",
   "execution_count": 13,
   "metadata": {},
   "outputs": [
    {
     "name": "stderr",
     "output_type": "stream",
     "text": [
      "100%|██████████| 1326/1326 [00:00<00:00, 10699.34it/s]\n"
     ]
    }
   ],
   "source": [
    "system_prompt = 'Please act as a professional Verilog designer. '\n",
    "for i in tqdm(range(len(data))):\n",
    "    new_conversations = {}\n",
    "    new_instructions = data[i]['conversations'][0]['value'].replace('\\n<graph>\\n,', \"\")\n",
    "    new_conversations['Instruction'] = system_prompt + new_instructions\n",
    "    new_conversations['Response'] = data[i]['conversations'][1]['value']\n",
    "    with open(new_jsonl_path, 'a') as f:\n",
    "        json.dump(new_conversations, f)\n",
    "        f.write('\\n')\n",
    "\n"
   ]
  }
 ],
 "metadata": {
  "kernelspec": {
   "display_name": "graphgpt",
   "language": "python",
   "name": "python3"
  },
  "language_info": {
   "codemirror_mode": {
    "name": "ipython",
    "version": 3
   },
   "file_extension": ".py",
   "mimetype": "text/x-python",
   "name": "python",
   "nbconvert_exporter": "python",
   "pygments_lexer": "ipython3",
   "version": "3.9.21"
  }
 },
 "nbformat": 4,
 "nbformat_minor": 2
}
