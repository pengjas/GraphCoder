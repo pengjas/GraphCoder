{
 "cells": [
  {
   "cell_type": "code",
   "execution_count": 1,
   "metadata": {},
   "outputs": [],
   "source": [
    "import json\n",
    "import pandas as pd"
   ]
  },
  {
   "cell_type": "code",
   "execution_count": 2,
   "metadata": {},
   "outputs": [],
   "source": [
    "conv_path = '/data/LPJ/ICML25/GraphCoder/ablation_study/fine_tune_text_LLM_with_original_graph/2k_rtlcoder_gpt4/without_module_head/conversations.jsonl'\n",
    "graph_path = '/data/LPJ/ICML25/GraphCoder/ablation_study/fine_tune_text_LLM_with_original_graph/2k_rtlcoder_gpt4/without_module_head/graph.jsonl'"
   ]
  },
  {
   "cell_type": "code",
   "execution_count": 3,
   "metadata": {},
   "outputs": [],
   "source": [
    "conv = pd.read_json(conv_path, lines=True)\n",
    "graph = pd.read_json(graph_path, lines=True)\n"
   ]
  },
  {
   "cell_type": "code",
   "execution_count": 4,
   "metadata": {},
   "outputs": [],
   "source": [
    "def contains_phrase(input_string):\n",
    "    phrase = \"Please act as\"\n",
    "    return phrase in input_string\n",
    "\n",
    "# # 示例使用\n",
    "# input_string = \"Can you Please act as a guide?\"\n",
    "# if contains_phrase(input_string):\n",
    "#     print(\"字符串包含 'Please act as'\")\n",
    "# else:\n",
    "#     print(\"字符串不包含 'Please act as'\")"
   ]
  },
  {
   "cell_type": "code",
   "execution_count": 5,
   "metadata": {},
   "outputs": [],
   "source": [
    "conv['Instruction'] = conv['Instruction'].apply(\n",
    "    lambda x: x if contains_phrase(x) else \"Please act as a professional Verilog designer. \" + x\n",
    ")"
   ]
  },
  {
   "cell_type": "code",
   "execution_count": 6,
   "metadata": {},
   "outputs": [],
   "source": [
    "template = \"Given a submodules interconnection graph: \\n\""
   ]
  },
  {
   "cell_type": "code",
   "execution_count": 7,
   "metadata": {},
   "outputs": [],
   "source": [
    "suffix_conv = conv.copy()\n",
    "prefix_conv = conv.copy()"
   ]
  },
  {
   "cell_type": "code",
   "execution_count": 8,
   "metadata": {},
   "outputs": [
    {
     "data": {
      "text/plain": [
       "(2149, 2149, 2149, 2149)"
      ]
     },
     "execution_count": 8,
     "metadata": {},
     "output_type": "execute_result"
    }
   ],
   "source": [
    "len(conv), len(suffix_conv), len(prefix_conv), len(graph) "
   ]
  },
  {
   "cell_type": "code",
   "execution_count": 9,
   "metadata": {},
   "outputs": [],
   "source": [
    "for i in range(len(conv)):\n",
    "    suffix_conv.iloc[i]['Instruction'] = conv.iloc[i]['Instruction'] + template + \"nodes: {}, \\nedge_attrs: {}, \\nconnectivity: {}\".format(graph['nodes'][i], graph['edge_attrs'][i], graph['connectivity'][i])\n",
    "    prefix_conv.iloc[i]['Instruction'] = template + \"nodes: {}, \\nedge_attrs: {}, \\nconnectivity: {}\".format(graph['nodes'][i], graph['edge_attrs'][i], graph['connectivity'][i]) + conv.iloc[i]['Instruction']"
   ]
  },
  {
   "cell_type": "code",
   "execution_count": 10,
   "metadata": {},
   "outputs": [],
   "source": [
    "suffix_conv.to_json('/data/LPJ/ICML25/GraphCoder/ablation_study/fine_tune_text_LLM_with_original_graph/2k_rtlcoder_gpt4/without_module_head/graph_as_suffix/conversations.jsonl', orient='records', lines=True)\n",
    "prefix_conv.to_json('/data/LPJ/ICML25/GraphCoder/ablation_study/fine_tune_text_LLM_with_original_graph/2k_rtlcoder_gpt4/without_module_head/graph_as_prefix/conversations.jsonl', orient='records', lines=True)"
   ]
  },
  {
   "cell_type": "code",
   "execution_count": null,
   "metadata": {},
   "outputs": [],
   "source": []
  }
 ],
 "metadata": {
  "kernelspec": {
   "display_name": "graphgpt",
   "language": "python",
   "name": "python3"
  },
  "language_info": {
   "codemirror_mode": {
    "name": "ipython",
    "version": 3
   },
   "file_extension": ".py",
   "mimetype": "text/x-python",
   "name": "python",
   "nbconvert_exporter": "python",
   "pygments_lexer": "ipython3",
   "version": "3.9.21"
  }
 },
 "nbformat": 4,
 "nbformat_minor": 2
}
