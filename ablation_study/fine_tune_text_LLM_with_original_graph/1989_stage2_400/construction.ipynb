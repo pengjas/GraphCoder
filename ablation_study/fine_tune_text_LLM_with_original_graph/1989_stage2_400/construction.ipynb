{
 "cells": [
  {
   "cell_type": "code",
   "execution_count": 1,
   "metadata": {},
   "outputs": [],
   "source": [
    "import json\n",
    " \n",
    "import pandas as pd\n",
    "from tqdm import tqdm"
   ]
  },
  {
   "cell_type": "code",
   "execution_count": 2,
   "metadata": {},
   "outputs": [],
   "source": [
    "conv_path = '/data/LPJ/ICML25/GraphCoder/ablation_study/fine_tune_text_LLM_with_original_graph/1989_stage2_400/verified_conversations.jsonl'\n",
    "graph_path = '/data/LPJ/ICML25/GraphCoder/ablation_study/fine_tune_text_LLM_with_original_graph/1989_stage2_400/verified_graphs.jsonl'    \n",
    "conv = pd.read_json(conv_path, lines=True)\n",
    "graph = pd.read_json(graph_path, lines=True)"
   ]
  },
  {
   "cell_type": "code",
   "execution_count": 3,
   "metadata": {},
   "outputs": [],
   "source": [
    "new_conv_path = '/data/LPJ/ICML25/GraphCoder/ablation_study/fine_tune_text_LLM_with_original_graph/1989_stage2_400/conversations.jsonl'"
   ]
  },
  {
   "cell_type": "code",
   "execution_count": 4,
   "metadata": {},
   "outputs": [],
   "source": [
    "sample_index = [782, 142, 631, 1223, 769, 847, 1943, 1322, 1021, 1794, 1749, 188, 1192, 1414, 585, 823, 340, 453, 949, 751, 390, 649, 763, 639, 280, 468, 421, 1743, 1175, 836, 1245, 122, 739, 1452, 50, 787, 686, 1438, 1317, 750, 3, 76, 1648, 876, 403, 1564, 1839, 14, 210, 12, 8, 18, 674, 1721, 1496, 90, 1681]"
   ]
  },
  {
   "cell_type": "code",
   "execution_count": 5,
   "metadata": {},
   "outputs": [],
   "source": [
    "conv.drop(sample_index, inplace=True)\n",
    "graph.drop(sample_index, inplace=True)\n",
    "    \n"
   ]
  },
  {
   "cell_type": "code",
   "execution_count": 7,
   "metadata": {},
   "outputs": [],
   "source": [
    "conv = conv.reset_index(drop=True)\n",
    "graph = graph.reset_index(drop=True)"
   ]
  },
  {
   "cell_type": "code",
   "execution_count": 6,
   "metadata": {},
   "outputs": [
    {
     "data": {
      "text/plain": [
       "(1932, 1932)"
      ]
     },
     "execution_count": 6,
     "metadata": {},
     "output_type": "execute_result"
    }
   ],
   "source": [
    "len(conv), len(graph)"
   ]
  },
  {
   "cell_type": "code",
   "execution_count": 7,
   "metadata": {},
   "outputs": [
    {
     "data": {
      "text/plain": [
       "Instruction    Implement a modular Arithmetic Logic Unit (ALU...\n",
       "Response       module alu(\\n    input clk,\\n    input rst,\\n ...\n",
       "task_id                                                       pe\n",
       "Name: 0, dtype: object"
      ]
     },
     "execution_count": 7,
     "metadata": {},
     "output_type": "execute_result"
    }
   ],
   "source": [
    "conv.iloc[0]"
   ]
  },
  {
   "cell_type": "code",
   "execution_count": 8,
   "metadata": {},
   "outputs": [
    {
     "data": {
      "text/plain": [
       "type                                                      module_graph\n",
       "edge_attrs                                                          []\n",
       "has_edge_features                                                False\n",
       "nodes                [{'id': 0, 'content': 'clk', 'type': 'input po...\n",
       "connectivity         [[2, 3, 2, 3, 2, 3, 2, 3, 7, 9, 8, 10], [7, 7,...\n",
       "Name: 0, dtype: object"
      ]
     },
     "execution_count": 8,
     "metadata": {},
     "output_type": "execute_result"
    }
   ],
   "source": [
    "graph.iloc[0]"
   ]
  },
  {
   "cell_type": "code",
   "execution_count": 9,
   "metadata": {},
   "outputs": [],
   "source": [
    "import re\n",
    "\n",
    "def find_module_string(text):\n",
    "    # Regex pattern to find the string starting with \"module\" and ending with \";\"\n",
    "    # It uses non-greedy matching to find the shortest match\n",
    "    pattern = r\"module.*?;\"\n",
    "    \n",
    "    # Using re.DOTALL to make the dot match all characters including newline\n",
    "    match = re.search(pattern, text, re.DOTALL)\n",
    "    \n",
    "    if match:\n",
    "        return match.group()  # Returns the matched string\n",
    "    else:\n",
    "        return None  # No match found"
   ]
  },
  {
   "cell_type": "code",
   "execution_count": 10,
   "metadata": {},
   "outputs": [
    {
     "name": "stderr",
     "output_type": "stream",
     "text": [
      "  0%|          | 0/1932 [00:00<?, ?it/s]"
     ]
    },
    {
     "name": "stderr",
     "output_type": "stream",
     "text": [
      "100%|██████████| 1932/1932 [00:00<00:00, 3202.42it/s]\n"
     ]
    }
   ],
   "source": [
    "system_prompt = 'Please act as a professional Verilog designer. Given a submodules interconnection graph:  \\n'\n",
    "for i in tqdm(range(len(conv))):\n",
    "    new_conversations = {}\n",
    "    new_graph = \"nodes: {}, \\nedge_attrs: {}, \\nconnectivity: {}\".format(graph['nodes'][i], graph['edge_attrs'][i], graph['connectivity'][i])\n",
    "    text_graph = \"\\n{}\\n\".format(new_graph)\n",
    "    new_instructions = system_prompt + text_graph + conv.iloc[i]['Instruction']\n",
    "    new_instructions = new_instructions + \"\\n\" + find_module_string(conv.iloc[i]['Response'])\n",
    "    new_conversations['Instruction'] = new_instructions\n",
    "    new_conversations['Response'] = conv.iloc[i]['Response']\n",
    "    new_conversations['task_id'] = conv.iloc[i]['task_id']\n",
    "    with open(new_conv_path, 'a') as f:\n",
    "        json.dump(new_conversations, f)\n",
    "        f.write('\\n')\n",
    "\n"
   ]
  },
  {
   "cell_type": "code",
   "execution_count": 11,
   "metadata": {},
   "outputs": [
    {
     "data": {
      "text/html": [
       "<div>\n",
       "<style scoped>\n",
       "    .dataframe tbody tr th:only-of-type {\n",
       "        vertical-align: middle;\n",
       "    }\n",
       "\n",
       "    .dataframe tbody tr th {\n",
       "        vertical-align: top;\n",
       "    }\n",
       "\n",
       "    .dataframe thead th {\n",
       "        text-align: right;\n",
       "    }\n",
       "</style>\n",
       "<table border=\"1\" class=\"dataframe\">\n",
       "  <thead>\n",
       "    <tr style=\"text-align: right;\">\n",
       "      <th></th>\n",
       "      <th>Instruction</th>\n",
       "      <th>Response</th>\n",
       "      <th>task_id</th>\n",
       "    </tr>\n",
       "  </thead>\n",
       "  <tbody>\n",
       "    <tr>\n",
       "      <th>0</th>\n",
       "      <td>Implement a modular Arithmetic Logic Unit (ALU...</td>\n",
       "      <td>module alu(\\n    input clk,\\n    input rst,\\n ...</td>\n",
       "      <td>pe</td>\n",
       "    </tr>\n",
       "    <tr>\n",
       "      <th>1</th>\n",
       "      <td>Design a Verilog module for a binary up/down c...</td>\n",
       "      <td>module binary_counter(\\n    input clk,\\n    in...</td>\n",
       "      <td>square_wave</td>\n",
       "    </tr>\n",
       "    <tr>\n",
       "      <th>2</th>\n",
       "      <td>Design a modular Verilog setup for a 32-bit Ba...</td>\n",
       "      <td>module shifter(\\n    input clk,\\n    input rst...</td>\n",
       "      <td>pe</td>\n",
       "    </tr>\n",
       "    <tr>\n",
       "      <th>3</th>\n",
       "      <td>Design a Verilog module to compute the bitwise...</td>\n",
       "      <td>module xor_8bit(\\n    input [7:0] a, b,\\n    o...</td>\n",
       "      <td>adder_8bit</td>\n",
       "    </tr>\n",
       "    <tr>\n",
       "      <th>4</th>\n",
       "      <td>Design a Verilog module for a dual-channel Pul...</td>\n",
       "      <td>module dual_pwm_generator(\\n    input clk,\\n  ...</td>\n",
       "      <td>systolic1x4</td>\n",
       "    </tr>\n",
       "    <tr>\n",
       "      <th>...</th>\n",
       "      <td>...</td>\n",
       "      <td>...</td>\n",
       "      <td>...</td>\n",
       "    </tr>\n",
       "    <tr>\n",
       "      <th>1927</th>\n",
       "      <td>Design a 32-bit arithmetic logic unit (ALU) th...</td>\n",
       "      <td>module modular_ALU (\\n    input wire clk,\\n   ...</td>\n",
       "      <td>up_down_counter</td>\n",
       "    </tr>\n",
       "    <tr>\n",
       "      <th>1928</th>\n",
       "      <td>Design a Verilog module named `binary_adder_su...</td>\n",
       "      <td>module binary_adder_subtractor (\\n    input wi...</td>\n",
       "      <td>up_down_counter</td>\n",
       "    </tr>\n",
       "    <tr>\n",
       "      <th>1929</th>\n",
       "      <td>Implement a module for a 4-bit arithmetic logi...</td>\n",
       "      <td>`define ADD_OP 2'b00\\n`define SUB_OP 2'b01\\n`d...</td>\n",
       "      <td>stagepipe3</td>\n",
       "    </tr>\n",
       "    <tr>\n",
       "      <th>1930</th>\n",
       "      <td>Design and implement a Verilog module for a 32...</td>\n",
       "      <td>module alu_32bit(\\n    input [1:0] op_code, //...</td>\n",
       "      <td>comparator_32bit</td>\n",
       "    </tr>\n",
       "    <tr>\n",
       "      <th>1931</th>\n",
       "      <td>Implement a module for a 4-bit multiplier usin...</td>\n",
       "      <td>module mult_4bit(X, Y, P);\\n    input [3:0] X;...</td>\n",
       "      <td>sub_8bit</td>\n",
       "    </tr>\n",
       "  </tbody>\n",
       "</table>\n",
       "<p>1932 rows × 3 columns</p>\n",
       "</div>"
      ],
      "text/plain": [
       "                                            Instruction  \\\n",
       "0     Implement a modular Arithmetic Logic Unit (ALU...   \n",
       "1     Design a Verilog module for a binary up/down c...   \n",
       "2     Design a modular Verilog setup for a 32-bit Ba...   \n",
       "3     Design a Verilog module to compute the bitwise...   \n",
       "4     Design a Verilog module for a dual-channel Pul...   \n",
       "...                                                 ...   \n",
       "1927  Design a 32-bit arithmetic logic unit (ALU) th...   \n",
       "1928  Design a Verilog module named `binary_adder_su...   \n",
       "1929  Implement a module for a 4-bit arithmetic logi...   \n",
       "1930  Design and implement a Verilog module for a 32...   \n",
       "1931  Implement a module for a 4-bit multiplier usin...   \n",
       "\n",
       "                                               Response           task_id  \n",
       "0     module alu(\\n    input clk,\\n    input rst,\\n ...                pe  \n",
       "1     module binary_counter(\\n    input clk,\\n    in...       square_wave  \n",
       "2     module shifter(\\n    input clk,\\n    input rst...                pe  \n",
       "3     module xor_8bit(\\n    input [7:0] a, b,\\n    o...        adder_8bit  \n",
       "4     module dual_pwm_generator(\\n    input clk,\\n  ...       systolic1x4  \n",
       "...                                                 ...               ...  \n",
       "1927  module modular_ALU (\\n    input wire clk,\\n   ...   up_down_counter  \n",
       "1928  module binary_adder_subtractor (\\n    input wi...   up_down_counter  \n",
       "1929  `define ADD_OP 2'b00\\n`define SUB_OP 2'b01\\n`d...        stagepipe3  \n",
       "1930  module alu_32bit(\\n    input [1:0] op_code, //...  comparator_32bit  \n",
       "1931  module mult_4bit(X, Y, P);\\n    input [3:0] X;...          sub_8bit  \n",
       "\n",
       "[1932 rows x 3 columns]"
      ]
     },
     "execution_count": 11,
     "metadata": {},
     "output_type": "execute_result"
    }
   ],
   "source": [
    "conv"
   ]
  }
 ],
 "metadata": {
  "kernelspec": {
   "display_name": "graphgpt",
   "language": "python",
   "name": "python3"
  },
  "language_info": {
   "codemirror_mode": {
    "name": "ipython",
    "version": 3
   },
   "file_extension": ".py",
   "mimetype": "text/x-python",
   "name": "python",
   "nbconvert_exporter": "python",
   "pygments_lexer": "ipython3",
   "version": "3.9.21"
  }
 },
 "nbformat": 4,
 "nbformat_minor": 2
}
