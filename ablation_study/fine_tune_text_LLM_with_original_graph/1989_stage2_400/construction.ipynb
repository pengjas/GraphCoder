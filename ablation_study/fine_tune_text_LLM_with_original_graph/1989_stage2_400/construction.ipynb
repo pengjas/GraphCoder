{
 "cells": [
  {
   "cell_type": "code",
   "execution_count": 1,
   "metadata": {},
   "outputs": [],
   "source": [
    "import json\n",
    " \n",
    "import pandas as pd\n",
    "from tqdm import tqdm"
   ]
  },
  {
   "cell_type": "code",
   "execution_count": 2,
   "metadata": {},
   "outputs": [],
   "source": [
    "conv_path = '/data/LPJ/ICML25/GraphCoder/ablation_study/fine_tune_text_LLM_with_original_graph/1989_stage2_400/verified_conversations.jsonl'\n",
    "graph_path = '/data/LPJ/ICML25/GraphCoder/ablation_study/fine_tune_text_LLM_with_original_graph/1989_stage2_400/verified_graphs.jsonl'    \n",
    "conv = pd.read_json(conv_path, lines=True)\n",
    "graph = pd.read_json(graph_path, lines=True)"
   ]
  },
  {
   "cell_type": "code",
   "execution_count": 3,
   "metadata": {},
   "outputs": [],
   "source": [
    "new_conv_path = '/data/LPJ/ICML25/GraphCoder/ablation_study/fine_tune_text_LLM_with_original_graph/1989_stage2_400/conversations.jsonl'"
   ]
  },
  {
   "cell_type": "code",
   "execution_count": 4,
   "metadata": {},
   "outputs": [
    {
     "data": {
      "text/plain": [
       "(1989, 1989)"
      ]
     },
     "execution_count": 4,
     "metadata": {},
     "output_type": "execute_result"
    }
   ],
   "source": [
    "len(conv), len(graph)"
   ]
  },
  {
   "cell_type": "code",
   "execution_count": 5,
   "metadata": {},
   "outputs": [
    {
     "data": {
      "text/plain": [
       "Instruction    Implement a modular Arithmetic Logic Unit (ALU...\n",
       "Response       module alu(\\n    input clk,\\n    input rst,\\n ...\n",
       "task_id                                                       pe\n",
       "Name: 0, dtype: object"
      ]
     },
     "execution_count": 5,
     "metadata": {},
     "output_type": "execute_result"
    }
   ],
   "source": [
    "conv.iloc[0]"
   ]
  },
  {
   "cell_type": "code",
   "execution_count": 6,
   "metadata": {},
   "outputs": [
    {
     "data": {
      "text/plain": [
       "type                                                      module_graph\n",
       "edge_attrs                                                          []\n",
       "has_edge_features                                                False\n",
       "nodes                [{'id': 0, 'content': 'clk', 'type': 'input po...\n",
       "connectivity         [[2, 3, 2, 3, 2, 3, 2, 3, 7, 9, 8, 10], [7, 7,...\n",
       "Name: 0, dtype: object"
      ]
     },
     "execution_count": 6,
     "metadata": {},
     "output_type": "execute_result"
    }
   ],
   "source": [
    "graph.iloc[0]"
   ]
  },
  {
   "cell_type": "code",
   "execution_count": 7,
   "metadata": {},
   "outputs": [],
   "source": [
    "import re\n",
    "\n",
    "def find_module_string(text):\n",
    "    # Regex pattern to find the string starting with \"module\" and ending with \";\"\n",
    "    # It uses non-greedy matching to find the shortest match\n",
    "    pattern = r\"module.*?;\"\n",
    "    \n",
    "    # Using re.DOTALL to make the dot match all characters including newline\n",
    "    match = re.search(pattern, text, re.DOTALL)\n",
    "    \n",
    "    if match:\n",
    "        return match.group()  # Returns the matched string\n",
    "    else:\n",
    "        return None  # No match found"
   ]
  },
  {
   "cell_type": "code",
   "execution_count": 8,
   "metadata": {},
   "outputs": [
    {
     "name": "stderr",
     "output_type": "stream",
     "text": [
      "100%|██████████| 1989/1989 [00:00<00:00, 3577.07it/s]\n"
     ]
    }
   ],
   "source": [
    "system_prompt = 'Please act as a professional Verilog designer. Given a submodules interconnection graph:  \\n'\n",
    "for i in tqdm(range(len(conv))):\n",
    "    new_conversations = {}\n",
    "    new_graph = \"nodes: {}, \\nedge_attrs: {}, \\nconnectivity: {}\".format(graph['nodes'][i], graph['edge_attrs'][i], graph['connectivity'][i])\n",
    "    text_graph = \"\\n{}\\n\".format(new_graph)\n",
    "    new_instructions = system_prompt + text_graph + conv.iloc[i]['Instruction']\n",
    "    new_instructions = new_instructions + \"\\n\" + find_module_string(conv.iloc[i]['Response'])\n",
    "    new_conversations['Instruction'] = new_instructions\n",
    "    new_conversations['Response'] = conv.iloc[i]['Response']\n",
    "    new_conversations['task_id'] = conv.iloc[i]['task_id']\n",
    "    with open(new_conv_path, 'a') as f:\n",
    "        json.dump(new_conversations, f)\n",
    "        f.write('\\n')\n",
    "\n"
   ]
  }
 ],
 "metadata": {
  "kernelspec": {
   "display_name": "graphgpt",
   "language": "python",
   "name": "python3"
  },
  "language_info": {
   "codemirror_mode": {
    "name": "ipython",
    "version": 3
   },
   "file_extension": ".py",
   "mimetype": "text/x-python",
   "name": "python",
   "nbconvert_exporter": "python",
   "pygments_lexer": "ipython3",
   "version": "3.9.21"
  }
 },
 "nbformat": 4,
 "nbformat_minor": 2
}
