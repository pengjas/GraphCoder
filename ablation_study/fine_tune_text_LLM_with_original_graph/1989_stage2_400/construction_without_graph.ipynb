{
 "cells": [
  {
   "cell_type": "code",
   "execution_count": 1,
   "metadata": {},
   "outputs": [],
   "source": [
    "import json\n",
    " \n",
    "import pandas as pd\n",
    "from tqdm import tqdm"
   ]
  },
  {
   "cell_type": "code",
   "execution_count": 2,
   "metadata": {},
   "outputs": [],
   "source": [
    "conv_path = '/data/LPJ/ICML25/GraphCoder/ablation_study/fine_tune_text_LLM_with_original_graph/1989_stage2_400/verified_conversations.jsonl'\n",
    "graph_path = '/data/LPJ/ICML25/GraphCoder/ablation_study/fine_tune_text_LLM_with_original_graph/1989_stage2_400/verified_graphs.jsonl'    \n",
    "conv = pd.read_json(conv_path, lines=True)\n",
    "graph = pd.read_json(graph_path, lines=True)"
   ]
  },
  {
   "cell_type": "code",
   "execution_count": 3,
   "metadata": {},
   "outputs": [],
   "source": [
    "new_conv_path = '/data/LPJ/ICML25/GraphCoder/ablation_study/fine_tune_text_LLM_with_original_graph/1989_stage2_400/conversations_without_graph.jsonl'"
   ]
  },
  {
   "cell_type": "code",
   "execution_count": 4,
   "metadata": {},
   "outputs": [],
   "source": [
    "sample_index = [782, 142, 631, 1223, 769, 847, 1943, 1322, 1021, 1794, 1749, 188, 1192, 1414, 585, 823, 340, 453, 949, 751, 390, 649, 763, 639, 280, 468, 421, 1743, 1175, 836, 1245, 122, 739, 1452, 50, 787, 686, 1438, 1317, 750, 3, 76, 1648, 876, 403, 1564, 1839, 14, 210, 12, 8, 18, 674, 1721, 1496, 90, 1681]"
   ]
  },
  {
   "cell_type": "code",
   "execution_count": 5,
   "metadata": {},
   "outputs": [],
   "source": [
    "conv.drop(sample_index, inplace=True)\n",
    "graph.drop(sample_index, inplace=True)\n",
    "    \n"
   ]
  },
  {
   "cell_type": "code",
   "execution_count": 6,
   "metadata": {},
   "outputs": [],
   "source": [
    "conv = conv.reset_index(drop=True)\n",
    "graph = graph.reset_index(drop=True)"
   ]
  },
  {
   "cell_type": "code",
   "execution_count": 7,
   "metadata": {},
   "outputs": [
    {
     "data": {
      "text/plain": [
       "(1932, 1932)"
      ]
     },
     "execution_count": 7,
     "metadata": {},
     "output_type": "execute_result"
    }
   ],
   "source": [
    "len(conv), len(graph)"
   ]
  },
  {
   "cell_type": "code",
   "execution_count": null,
   "metadata": {},
   "outputs": [],
   "source": [
    "# for i in range(len(graph)):\n",
    "#     for j in range(len(graph.iloc[i]['nodes'])):\n",
    "#         if \"port\" in graph.iloc[i]['nodes'][j]['type']:\n",
    "#             graph.iloc[i]['nodes'][j]['type'] = graph.iloc[i]['nodes'][j]['type'].replace(\" port\", \"\")\n",
    "#         graph.iloc[i]['nodes'][j] = graph.iloc[i]['nodes'][j]['content'] + \" \" + graph.iloc[i]['nodes'][j]['type']"
   ]
  },
  {
   "cell_type": "code",
   "execution_count": 8,
   "metadata": {},
   "outputs": [
    {
     "data": {
      "text/plain": [
       "[{'id': 0, 'content': 'clk', 'type': 'input port'},\n",
       " {'id': 1, 'content': 'reset', 'type': 'input port'},\n",
       " {'id': 2, 'content': 'write_en', 'type': 'input port'},\n",
       " {'id': 3, 'content': 'read_reg1_sel', 'type': 'input port'},\n",
       " {'id': 4, 'content': 'read_reg2_sel', 'type': 'input port'},\n",
       " {'id': 5, 'content': 'write_reg_sel', 'type': 'input port'},\n",
       " {'id': 6, 'content': 'write_data', 'type': 'input port'},\n",
       " {'id': 7, 'content': 'read_data1', 'type': 'output port'},\n",
       " {'id': 8, 'content': 'read_data2', 'type': 'output port'},\n",
       " {'id': 9, 'content': 'u_register_array', 'type': 'submodule'},\n",
       " {'id': 10, 'content': 'u_control_unit', 'type': 'submodule'}]"
      ]
     },
     "execution_count": 8,
     "metadata": {},
     "output_type": "execute_result"
    }
   ],
   "source": [
    "graph.iloc[100]['nodes']"
   ]
  },
  {
   "cell_type": "code",
   "execution_count": 9,
   "metadata": {},
   "outputs": [],
   "source": [
    "import re\n",
    "\n",
    "def find_module_string(text):\n",
    "    # Regex pattern to find the string starting with \"module\" and ending with \";\"\n",
    "    # It uses non-greedy matching to find the shortest match\n",
    "    pattern = r\"module.*?;\"\n",
    "    \n",
    "    # Using re.DOTALL to make the dot match all characters including newline\n",
    "    match = re.search(pattern, text, re.DOTALL)\n",
    "    \n",
    "    if match:\n",
    "        return match.group()  # Returns the matched string\n",
    "    else:\n",
    "        return None  # No match found"
   ]
  },
  {
   "cell_type": "code",
   "execution_count": 10,
   "metadata": {},
   "outputs": [
    {
     "name": "stderr",
     "output_type": "stream",
     "text": [
      "  0%|          | 0/1932 [00:00<?, ?it/s]"
     ]
    },
    {
     "name": "stderr",
     "output_type": "stream",
     "text": [
      "100%|██████████| 1932/1932 [00:00<00:00, 2632.01it/s]\n"
     ]
    }
   ],
   "source": [
    "system_prompt = 'Please act as a professional Verilog designer. USER:\\n'\n",
    "for i in tqdm(range(len(conv))):\n",
    "    new_conversations = {}\n",
    "    # new_graph = \"nodes: {}, \\nconnectivity: {}\".format(graph['nodes'][i], graph['connectivity'][i])\n",
    "    # text_graph = \"\\n{}\\n\".format(new_graph)\n",
    "    new_instructions = system_prompt + conv.iloc[i]['Instruction']\n",
    "    module_head = find_module_string(conv.iloc[i]['Response'])\n",
    "    new_instructions = new_instructions + \"\\n\" + module_head + \" ASSISTANT: \"\n",
    "    new_conversations['Instruction'] = new_instructions\n",
    "    new_conversations['Response'] = conv.iloc[i]['Response'].replace(module_head, \"\")\n",
    "    new_conversations['task_id'] = conv.iloc[i]['task_id']\n",
    "    with open(new_conv_path, 'a') as f:\n",
    "        json.dump(new_conversations, f)\n",
    "        f.write('\\n')\n",
    "\n"
   ]
  },
  {
   "cell_type": "code",
   "execution_count": 11,
   "metadata": {},
   "outputs": [],
   "source": [
    "new_conv = pd.read_json(new_conv_path, lines=True)"
   ]
  },
  {
   "cell_type": "code",
   "execution_count": 12,
   "metadata": {},
   "outputs": [
    {
     "name": "stdout",
     "output_type": "stream",
     "text": [
      "Please act as a professional Verilog designer. USER:\n",
      "Design a 32-bit register bank with read and write capabilities, facilitating parallel read and write operations. The register bank includes eight 32-bit registers that can be accessed individually based on control signals.\n",
      "\n",
      "Module name:\n",
      "    register_bank\n",
      "\n",
      "Function:\n",
      "A register bank consisting of eight 32-bit registers that supports independent read and write operations simultaneously.\n",
      "\n",
      "Input ports:\n",
      "    - clk: Clock signal (1-bit), synchronizes register operations.\n",
      "    - reset: Reset signal (1-bit), initializes all registers to zero.\n",
      "    - write_en: Write enable signal (1-bit), controls the writing to a register.\n",
      "    - read_reg1_sel [2:0]: Selector (3-bits) for choosing which register to read for output1.\n",
      "    - read_reg2_sel [2:0]: Selector (3-bits) for choosing which register to read for output2.\n",
      "    - write_reg_sel [2:0]: Selector (3-bits) for choosing which register to write.\n",
      "    - write_data [31:0]: Data (32-bit) to be written into the selected register.\n",
      "\n",
      "Output ports:\n",
      "    - read_data1 [31:0]: Output data (32-bit) from the register selected by read_reg1_sel.\n",
      "    - read_data2 [31:0]: Output data (32-bit) from the register selected by read_reg2_sel.\n",
      "\n",
      "Implementation:\n",
      "The module consists of two submodules: register_array and control_unit.\n",
      "- The register_array module contains the physical registers and provides mechanisms for reading and writing data based on control signals.\n",
      "- The control_unit manages the selection logic and enable signals to read or write operations into the register array.\n",
      "The parallel read and write capability ensures high-throughput operations necessary for efficient data handling in processing units.\n",
      "Give me the complete code.\n",
      "module register_bank (\n",
      "    input wire clk,\n",
      "    input wire reset,\n",
      "    input wire write_en,\n",
      "    input wire [2:0] read_reg1_sel,\n",
      "    input wire [2:0] read_reg2_sel,\n",
      "    input wire [2:0] write_reg_sel,\n",
      "    input wire [31:0] write_data,\n",
      "    output wire [31:0] read_data1,\n",
      "    output wire [31:0] read_data2\n",
      "); ASSISTANT: \n",
      "======================\n",
      "\n",
      "\n",
      "    wire [31:0] reg_outputs[7:0];\n",
      "\n",
      "    // Instantiate the register array\n",
      "    register_array u_register_array (\n",
      "        .clk(clk),\n",
      "        .reset(reset),\n",
      "        .write_en(write_en),\n",
      "        .write_reg_sel(write_reg_sel),\n",
      "        .write_data(write_data),\n",
      "        .reg_outputs(reg_outputs)\n",
      "    );\n",
      "\n",
      "    // Instantiate the control unit\n",
      "    control_unit u_control_unit (\n",
      "        .read_reg1_sel(read_reg1_sel),\n",
      "        .read_reg2_sel(read_reg2_sel),\n",
      "        .reg_outputs(reg_outputs),\n",
      "        .read_data1(read_data1),\n",
      "        .read_data2(read_data2)\n",
      "    );\n",
      "\n",
      "endmodule\n",
      "\n",
      "module register_array (\n",
      "    input wire clk,\n",
      "    input wire reset,\n",
      "    input wire write_en,\n",
      "    input wire [2:0] write_reg_sel,\n",
      "    input wire [31:0] write_data,\n",
      "    output reg [31:0] reg_outputs[7:0]\n",
      ");\n",
      "\n",
      "    integer i;\n",
      "    always @(posedge clk or posedge reset) begin\n",
      "        if (reset) begin\n",
      "            for (i = 0; i < 8; i++) begin\n",
      "                reg_outputs[i] <= 32'b0;\n",
      "            end\n",
      "        end else if (write_en) begin\n",
      "            reg_outputs[write_reg_sel] <= write_data;\n",
      "        end\n",
      "    end\n",
      "\n",
      "endmodule\n",
      "\n",
      "module control_unit (\n",
      "    input wire [2:0] read_reg1_sel,\n",
      "    input wire [2:0] read_reg2_sel,\n",
      "    input wire [31:0] reg_outputs[7:0],\n",
      "    output wire [31:0] read_data1,\n",
      "    output wire [31:0] read_data2\n",
      ");\n",
      "\n",
      "    assign read_data1 = reg_outputs[read_reg1_sel];\n",
      "    assign read_data2 = reg_outputs[read_reg2_sel];\n",
      "\n",
      "endmodule\n",
      "\n"
     ]
    }
   ],
   "source": [
    "print(new_conv.iloc[100]['Instruction'])\n",
    "print(\"======================\")\n",
    "print(new_conv.iloc[100]['Response'])"
   ]
  }
 ],
 "metadata": {
  "kernelspec": {
   "display_name": "graphgpt",
   "language": "python",
   "name": "python3"
  },
  "language_info": {
   "codemirror_mode": {
    "name": "ipython",
    "version": 3
   },
   "file_extension": ".py",
   "mimetype": "text/x-python",
   "name": "python",
   "nbconvert_exporter": "python",
   "pygments_lexer": "ipython3",
   "version": "3.9.21"
  }
 },
 "nbformat": 4,
 "nbformat_minor": 2
}
